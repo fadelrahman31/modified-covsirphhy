{
 "cells": [
  {
   "cell_type": "markdown",
   "metadata": {},
   "source": [
    "# Usage: scenario analysis\n",
    "\n",
    "[![Open In Colab](https://colab.research.google.com/assets/colab-badge.svg)](https://colab.research.google.com/github/lisphilar/covid19-sir/blob/master/example/usage_quick.ipynb)\n",
    "\n",
    "This is a quick tour of CovsirPhy. Details scenario analysis will be explained.\n",
    "\"Scenario analysis\" means that we calculate the number of cases in the future phases with some sets of ODE parameter values. With this analysis, we can estimate the impact of our activities against the outbreak on the number of cases."
   ]
  },
  {
   "cell_type": "markdown",
   "metadata": {},
   "source": [
    "### Preparation\n",
    "Prepare the packages."
   ]
  },
  {
   "cell_type": "code",
   "execution_count": null,
   "metadata": {
    "tags": []
   },
   "outputs": [],
   "source": [
    "# !pip install covsirphy --upgrade\n",
    "from pprint import pprint\n",
    "import covsirphy as cs\n",
    "cs.__version__"
   ]
  },
  {
   "cell_type": "markdown",
   "metadata": {},
   "source": [
    "### Dataset preparation\n",
    "Download the datasets to \"../input\" directory and load them.  \n",
    "Please refer to [Usage: datasets](https://lisphilar.github.io/covid19-sir/usage_dataset.html) for the details."
   ]
  },
  {
   "cell_type": "code",
   "execution_count": null,
   "metadata": {
    "tags": []
   },
   "outputs": [],
   "source": [
    "data_loader = cs.DataLoader(\"../input\")\n",
    "# The number of cases (JHU style)\n",
    "jhu_data = data_loader.jhu()\n",
    "# Population in each country\n",
    "population_data = data_loader.population()\n",
    "# Government Response Tracker (OxCGRT)\n",
    "oxcgrt_data = data_loader.oxcgrt()\n",
    "# The number of tests\n",
    "pcr_data = data_loader.pcr()\n",
    "# The number of vaccinations\n",
    "vaccine_data = data_loader.vaccine()"
   ]
  },
  {
   "source": [
    "### Start scenario analysis\n",
    "As an example, we will analysis the number of cases in Japan. `covsirphy.Scenario` is the interface for analysis. Please specify the area (country: required, province: optional) when creating the instance and register the datasets with `Scenario.register()`. As the extra datasets, we can select `OxCGRTData`, `PCRData`, `VaccineData` and `CountryData`."
   ],
   "cell_type": "markdown",
   "metadata": {}
  },
  {
   "cell_type": "code",
   "execution_count": null,
   "metadata": {},
   "outputs": [],
   "source": [
    "# Specify country and province (optinal) names\n",
    "snl = cs.Scenario(country=\"Japan\", province=None)\n",
    "# Register datasets\n",
    "snl.register(jhu_data, population_data, extras=[oxcgrt_data, pcr_data, vaccine_data])"
   ]
  },
  {
   "source": [
    "We call `JHUData` and `PopulationData` as \"the main datasets\" because they are required to calculate the number of susceptible/infected/recovered/fatal cases. These variables are used in SIR-F model.  \n",
    "The other datasets are called as \"the extra datasets\" and they will be used to predict the futute parameter values of SIR-F model for forecasting the number of cases with some scenarios.\n",
    "\n",
    "Additional information:  \n",
    "\n",
    "- Details of the datasets: [Usage: datasets](https://lisphilar.github.io/covid19-sir/usage_dataset.html)\n",
    "- Details of SIR-F model: [Usage: SIR-derived models](https://lisphilar.github.io/covid19-sir/usage_theoretical.html)"
   ],
   "cell_type": "markdown",
   "metadata": {}
  },
  {
   "source": [
    "#### Display/save figures\n",
    "We have intactive mode and script mode to display/save figures."
   ],
   "cell_type": "markdown",
   "metadata": {}
  },
  {
   "source": [
    "When use use interactive shells, including Jupyter Notebook, we can choose either \"interactive shell mode\" or \"script mode\" as follows."
   ],
   "cell_type": "markdown",
   "metadata": {}
  },
  {
   "source": [
    "Interactive mode:  \n",
    "Figures will be displayed as the output of code cells."
   ],
   "cell_type": "markdown",
   "metadata": {}
  },
  {
   "cell_type": "code",
   "execution_count": null,
   "metadata": {},
   "outputs": [],
   "source": [
    "# Choose interactive mode (default is True when we use interactive shells)\n",
    "snl.interactive = True"
   ]
  },
  {
   "source": [
    "When you want to turn-off interactive mode temporarlly, set `False` as `Scenario.interactive` or apply `show_figure=False` as an argument of methods, including `Scenario.records()`. Methods with figures will be shown later in this tutorial."
   ],
   "cell_type": "markdown",
   "metadata": {}
  },
  {
   "cell_type": "code",
   "execution_count": null,
   "metadata": {},
   "outputs": [],
   "source": [
    "# apply \"show_figures=False\" to turn-off intaractive mode temporally\n",
    "# snl.records(show_figure=False)"
   ]
  },
  {
   "source": [
    "Script mode:  \n",
    "In script mode, figures will not be displayed. When filenames were applied to the methods as `filename` argument, figures will be saved in your local environment."
   ],
   "cell_type": "markdown",
   "metadata": {}
  },
  {
   "cell_type": "code",
   "execution_count": null,
   "metadata": {},
   "outputs": [],
   "source": [
    "# Stop displaying figures\n",
    "# snl.interactive = False\n",
    "# With this mode we can save figures, specifying \"filename\" argument\n",
    "# snl.records(filename=\"records.jpg\")"
   ]
  },
  {
   "source": [
    "When we run codes as a script (eg. `python scenario_analysis.py`), only \"script mode\" is selectable and `Scenario.interactive` is always `False`. Figures will be saved when filenames are specified with `filename` argument."
   ],
   "cell_type": "markdown",
   "metadata": {}
  },
  {
   "source": [
    "Because some methods, including `Scenario.summary()`, return dataframes (`pandas.DataFrame`), we can save them as CSV files etc. using `.to_csv(filename, index=True)`."
   ],
   "cell_type": "markdown",
   "metadata": {}
  },
  {
   "source": [
    "We can produce filenames more easily with `Filer` class. Please refer to the scripts in [example directory of the repository](https://github.com/lisphilar/covid19-sir/tree/master/example)."
   ],
   "cell_type": "markdown",
   "metadata": {}
  },
  {
   "cell_type": "code",
   "execution_count": null,
   "metadata": {},
   "outputs": [],
   "source": [
    "filer = cs.Filer(directory=\"output\", prefix=\"jpn\", suffix=None, numbering=\"01\")\n",
    "# filer.png(\"records\")\n",
    "# -> {\"filename\": \"<absolute path>/output/jpn_01_records.png\"}\n",
    "# filer.jpg(\"records\")\n",
    "# -> {\"filename\": \"<absolute path>/output/jpn_01_records.jpg\"}\n",
    "# filer.csv(\"records\", index=True)\n",
    "# -> {\"path_or_buf\": \"<absolute path>/output/jpn_01_records.csv\", index: True}"
   ]
  },
  {
   "source": [
    "We can save files more easily with `Filer` as follows."
   ],
   "cell_type": "markdown",
   "metadata": {}
  },
  {
   "cell_type": "code",
   "execution_count": null,
   "metadata": {},
   "outputs": [],
   "source": [
    "# record_df = snl.records(**filer.png(\"records\"))\n",
    "# record_df.to_csv(**filer.csv(\"records\", index=False))"
   ]
  },
  {
   "cell_type": "markdown",
   "metadata": {},
   "source": [
    "### Check records\n",
    "Let's see the records at first. `Scenario.records()` method return the records as a pandas dataframe and show a line plot. Some kind of complement will be done for analysis, if necessary."
   ]
  },
  {
   "source": [
    "`Scenario.records()` shows the number of infected/recovered/fatal cases as default. Using `variables` argument, we can set the variables to show. Here, we chack the number of confirmed/fatal/recovered cases. They are cumurative values."
   ],
   "cell_type": "markdown",
   "metadata": {}
  },
  {
   "cell_type": "code",
   "execution_count": null,
   "metadata": {},
   "outputs": [],
   "source": [
    "snl.records(variables=\"CFR\").tail()\n",
    "# This is the same as\n",
    "# snl.records(variables=[\"Confirmed\", \"Fatal\", \"Recovered\"])"
   ]
  },
  {
   "source": [
    "The number of infected cases on date:"
   ],
   "cell_type": "markdown",
   "metadata": {}
  },
  {
   "cell_type": "code",
   "execution_count": null,
   "metadata": {},
   "outputs": [],
   "source": [
    "_ = snl.records(variables=\"I\")\n",
    "# This is the same as\n",
    "# snl.records(variables=[\"Infected\"])"
   ]
  },
  {
   "source": [
    "All available variables can be retrieved with `variables=\"all\"`."
   ],
   "cell_type": "markdown",
   "metadata": {}
  },
  {
   "cell_type": "code",
   "execution_count": null,
   "metadata": {},
   "outputs": [],
   "source": [
    "df = snl.records(variables=\"all\", show_figure=False)\n",
    "pprint(df.set_index(\"Date\").columns.tolist(), compact=True)"
   ]
  },
  {
   "source": [
    "We can specify the variables to show."
   ],
   "cell_type": "markdown",
   "metadata": {}
  },
  {
   "source": [
    "snl.records(variables=[\"Vaccinated_once\"]).tail()"
   ],
   "cell_type": "code",
   "metadata": {},
   "execution_count": null,
   "outputs": []
  },
  {
   "source": [
    "We can calculate the number of daily new cases with `Scenario.record_diff()` method."
   ],
   "cell_type": "markdown",
   "metadata": {}
  },
  {
   "cell_type": "code",
   "execution_count": null,
   "metadata": {},
   "outputs": [],
   "source": [
    "# Acceptable variables are the same as Scenario.records()\n",
    "_ = snl.records_diff(variables=\"C\", window=7)"
   ]
  },
  {
   "cell_type": "markdown",
   "metadata": {},
   "source": [
    "`Scenario.show_complement()` method is useful to show the kinds of complement. The details of complement are explained in [Usage: datasets](https://lisphilar.github.io/covid19-sir/usage_dataset.html#The-number-of-cases-(JHU-style)) section."
   ]
  },
  {
   "cell_type": "code",
   "execution_count": null,
   "metadata": {},
   "outputs": [],
   "source": [
    "# Show the details of complement\n",
    "snl.show_complement()"
   ]
  },
  {
   "cell_type": "markdown",
   "metadata": {},
   "source": [
    "### S-R trend analysis\n",
    "S-R trend analysis finds the change points of SIR-derived ODE parameters. Details will be explained in [Usage (details: phases)](https://lisphilar.github.io/covid19-sir/usage_phases.html). Phases will be separated with dotted lines. i.e. Dot lines indicate the start dates of phases."
   ]
  },
  {
   "cell_type": "code",
   "execution_count": null,
   "metadata": {},
   "outputs": [],
   "source": [
    "snl.trend().summary()"
   ]
  },
  {
   "cell_type": "markdown",
   "metadata": {},
   "source": [
    "### Hyperparameter estimation of ODE models\n",
    "Here, we will estimate the parameter values of SIR-derived models. As an example, we use SIR-F model. Details of models will be explained in [Usage (details: theoritical datasets)](https://lisphilar.github.io/covid19-sir/usage_theoretical.html).  \n",
    "\n",
    "**We can select the model from SIR, SIRD and SIR-F model for parameter estimation. SIR-FV model (completely deprecated) and SEWIR-F model cannot be used.**"
   ]
  },
  {
   "cell_type": "code",
   "execution_count": null,
   "metadata": {
    "tags": []
   },
   "outputs": [],
   "source": [
    "# Estimate the parameter values of SIR-F model\n",
    "# Default value of timeout in each phase is 180 sec\n",
    "snl.estimate(cs.SIRF, timeout=180)"
   ]
  },
  {
   "cell_type": "code",
   "execution_count": null,
   "metadata": {},
   "outputs": [],
   "source": [
    "# Show the summary of parameter estimation\n",
    "snl.summary()"
   ]
  },
  {
   "cell_type": "markdown",
   "metadata": {},
   "source": [
    "### Evaluation of estimation accuracy\n",
    "Accuracy of parameter estimation can be evaluated with RMSLE (Root Mean Squared Log Error) score.  \n",
    "\n",
    "\\begin{align*}\n",
    "\\mathrm{RMSLE} = \\sqrt{\\cfrac{1}{n}\\sum_{i=1}^{n}(log_{10}(A_{i} + 1) - log_{10}(P_{i} + 1))^2}\n",
    "\\end{align*}\n",
    "\n",
    "Where $A$ is the observed (actual) values, $P$ is estimated (predicted) values. Variables are $S (i=1), I (i=2), R (i=3)\\ \\mathrm{and}\\ F (i=n=4)$ for SIR-F model. When RMSLE score is low, hyperparameter estimation is highly accurate.\n",
    "Please refer to external sites, including [Medium: What’s the Difference Between RMSE and RMSLE?](https://medium.com/analytics-vidhya/root-mean-square-log-error-rmse-vs-rmlse-935c6cc1802a)"
   ]
  },
  {
   "cell_type": "code",
   "execution_count": null,
   "metadata": {},
   "outputs": [],
   "source": [
    "# Show RMSLE scores with the number of optimization trials and runtime for phases\n",
    "snl.summary(columns=[\"Start\", \"End\", \"RMSLE\", \"Trials\", \"Runtime\"])"
   ]
  },
  {
   "source": [
    "Additionally, we can visualize the accuracy with `Scenario.estimate_accuracy()`, specifing phase name."
   ],
   "cell_type": "markdown",
   "metadata": {}
  },
  {
   "cell_type": "code",
   "execution_count": null,
   "metadata": {},
   "outputs": [],
   "source": [
    "# Visualize the accuracy for the 2nd phase\n",
    "snl.estimate_accuracy(phase=\"2nd\")\n",
    "# phase=\"last\" means the last phases\n",
    "# snl.estimate_accuracy(phase=\"last\")"
   ]
  },
  {
   "source": [
    "We can calculate total score for all phases using `Scenario.score()` method. Metrics can be selected from MAE, MSE, MSLE, RMSE and RMSLE."
   ],
   "cell_type": "markdown",
   "metadata": {}
  },
  {
   "cell_type": "code",
   "execution_count": null,
   "metadata": {},
   "outputs": [],
   "source": [
    "# Get total score: metrics=\"MAE\", \"MSE\", \"MSLE\", \"RMSE\" or \"RMSLE\"\n",
    "# snl.score(metrics=\"RMSLE\")\n",
    "metrics_list = [\"MAE\", \"MSE\", \"MSLE\", \"RMSE\", \"RMSLE\"]\n",
    "for metrics in metrics_list:\n",
    "    metrics_name = metrics.rjust(len(max(metrics_list, key=len)))\n",
    "    print(f\"{metrics_name}: {snl.score(metrics=metrics):.3f}\")"
   ]
  },
  {
   "cell_type": "markdown",
   "metadata": {},
   "source": [
    "### Get parameter value\n",
    "We can get the parameter values of a phase using `Scenario.get()` method."
   ]
  },
  {
   "cell_type": "code",
   "execution_count": null,
   "metadata": {},
   "outputs": [],
   "source": [
    "# Get parameter values\n",
    "snl.get(\"Rt\", phase=\"4th\")"
   ]
  },
  {
   "cell_type": "code",
   "execution_count": null,
   "metadata": {},
   "outputs": [],
   "source": [
    "# phase=\"last\" means the last phases\n",
    "snl.get(\"Rt\", phase=\"last\")"
   ]
  },
  {
   "cell_type": "markdown",
   "metadata": {},
   "source": [
    "### Show parameter history\n",
    "We can get the history of parameter values with a dataframe and a figure."
   ]
  },
  {
   "cell_type": "code",
   "execution_count": null,
   "metadata": {},
   "outputs": [],
   "source": [
    "# Get the parameter values as a dataframe\n",
    "snl.summary(columns=[*cs.SIRF.PARAMETERS, \"Rt\"])"
   ]
  },
  {
   "source": [
    "`Scenario.history()` method shows the trajectories of parameters (and the number of cases)."
   ],
   "cell_type": "markdown",
   "metadata": {}
  },
  {
   "cell_type": "code",
   "execution_count": null,
   "metadata": {},
   "outputs": [],
   "source": [
    "_ = snl.history(target=\"theta\", show_legend=False)"
   ]
  },
  {
   "cell_type": "code",
   "execution_count": null,
   "metadata": {},
   "outputs": [],
   "source": [
    "_ = snl.history(target=\"kappa\", show_legend=False)"
   ]
  },
  {
   "cell_type": "code",
   "execution_count": null,
   "metadata": {},
   "outputs": [],
   "source": [
    "_ = snl.history(target=\"rho\", show_legend=False)"
   ]
  },
  {
   "cell_type": "code",
   "execution_count": null,
   "metadata": {},
   "outputs": [],
   "source": [
    "_ = snl.history(target=\"sigma\", show_legend=False)"
   ]
  },
  {
   "source": [
    "Notes on the history of $\\sigma$ value in japan (last updated: 28Dec2020):  \n",
    "In Japan, we experienced two waves and we are in third wave. In the first wave (Apr - May), recovery period was too long because collapse of the medical care system occurred and no medicines were found.\n",
    "\n",
    "Sigma values: the first wave < the second wave > the third wave\n",
    "\n",
    "However, in the second wave (Jul - Oct), recovery period appears short because we have some effective medicines (not approved, in clinical study), yonger people (people un-associated to sever diseases) were infected.\n",
    "\n",
    "In the third wave (Nov - ), older people tend to be infected and we are facing with medical collapse at this time..."
   ],
   "cell_type": "markdown",
   "metadata": {}
  },
  {
   "cell_type": "markdown",
   "metadata": {},
   "source": [
    "### Show the history of reproduction number\n",
    "$R_0$ (\"R naught\") means \"the average number of secondary infections caused by an infected host\" ([Infection Modeling — Part 1](https://towardsdatascience.com/infection-modeling-part-1-87e74645568a)). When this value is larger than 1, the infection disease is outbreaking."
   ]
  },
  {
   "cell_type": "code",
   "execution_count": null,
   "metadata": {},
   "outputs": [],
   "source": [
    "_ = snl.history(target=\"Rt\", show_legend=False)"
   ]
  },
  {
   "cell_type": "markdown",
   "metadata": {},
   "source": [
    "### Simulate the number of cases\n",
    "We can compare the actual and simulated (with estimated parameter values) number of confirmed/infected/recovered/fatal cases using `Scenario.history()` method."
   ]
  },
  {
   "cell_type": "code",
   "execution_count": null,
   "metadata": {},
   "outputs": [],
   "source": [
    "# Compare the actual values and the main scenario\n",
    "_ = snl.history(\"Infected\")"
   ]
  },
  {
   "source": [
    "When we want to show only one scenario with all variables, we use `Scenario.simulate()` method."
   ],
   "cell_type": "markdown",
   "metadata": {}
  },
  {
   "cell_type": "code",
   "execution_count": null,
   "metadata": {},
   "outputs": [],
   "source": [
    "_ =snl.simulate(name=\"Main\")"
   ]
  },
  {
   "source": [
    "We can select variables and phases with arguments."
   ],
   "cell_type": "markdown",
   "metadata": {}
  },
  {
   "cell_type": "code",
   "execution_count": null,
   "metadata": {},
   "outputs": [],
   "source": [
    "_ = snl.simulate(name=\"Main\", variables=[\"Confirmed\", \"Infected\"], phases=[\"9th\", \"10th\"])"
   ]
  },
  {
   "source": [
    "### Main scenario\n",
    "To investigate the effect of parameter changes, we will perform scenario analysis. In the main scenario, we will assume that the parameter values do not change after the last past phase.\n",
    "\n",
    "i.e. If the parameter velues will not be changed until 01Jun2021, how many cases will be? We call this scenario as \"Main\" scenario."
   ],
   "cell_type": "markdown",
   "metadata": {}
  },
  {
   "cell_type": "code",
   "execution_count": null,
   "metadata": {},
   "outputs": [],
   "source": [
    "# Clear future phases in Main scenario\n",
    "snl.clear(name=\"Main\")\n",
    "# Add one future phase 30 days with the parameter set of the last past phase\n",
    "snl.add(days=30, name=\"Main\")\n",
    "# Add one future phase until 01Apr2021 with the same parameter set\n",
    "snl.add(end_date=\"01Jun2021\", name=\"Main\")\n",
    "# Simulate the number of cases\n",
    "snl.simulate(name=\"Main\").tail()"
   ]
  },
  {
   "cell_type": "markdown",
   "metadata": {},
   "source": [
    "### Medicine scenario\n",
    "To investigate the effect of new medicines, we will assume that $\\sigma$ will be changed in the future phases.\n",
    "\n",
    "If $\\sigma$ will be 1.2 times in 30 days, how many cases will be? We will call this scenario as \"Medicine\" scenario."
   ]
  },
  {
   "cell_type": "code",
   "execution_count": null,
   "metadata": {},
   "outputs": [],
   "source": [
    "# Calcuate the current sigma value of the last phase\n",
    "sigma_current = snl.get(\"sigma\", name=\"Main\", phase=\"last\")\n",
    "sigma_current"
   ]
  },
  {
   "cell_type": "code",
   "execution_count": null,
   "metadata": {},
   "outputs": [],
   "source": [
    "# Sigma value will be double\n",
    "sigma_new = sigma_current * 1.2\n",
    "sigma_new"
   ]
  },
  {
   "cell_type": "code",
   "execution_count": null,
   "metadata": {},
   "outputs": [],
   "source": [
    "# Initialize \"Medicine\" scenario (with the same past phases as that of Main scenario)\n",
    "snl.clear(name=\"Medicine\")\n",
    "# Add 30 days as a new future phases with the same parameter set\n",
    "snl.add(name=\"Medicine\", days=30, sigma=sigma_current)\n",
    "# Add a phase until 01Jun2021 with doubled sigma value\n",
    "snl.add(name=\"Medicine\", end_date=\"01Jun2021\", sigma=sigma_new)\n",
    "snl.summary(name=\"Medicine\")"
   ]
  },
  {
   "cell_type": "code",
   "execution_count": null,
   "metadata": {},
   "outputs": [],
   "source": [
    "# Simulate the number of cases\n",
    "_ = snl.simulate(name=\"Medicine\").tail()"
   ]
  },
  {
   "cell_type": "code",
   "execution_count": null,
   "metadata": {},
   "outputs": [],
   "source": [
    "# Compare the number of cases with main scenario for the last two phases\n",
    "all_phases = snl.summary(name=\"Medicine\").index.tolist()\n",
    "# Should start with a past phase: the last phase, the first and the second future phase\n",
    "_ = snl.history(\"Infected\", phases=all_phases[-3:])"
   ]
  },
  {
   "source": [
    "### Short-term prediction of parameter values\n",
    "With extra datasets, we can predict the parameter values of the future phases because [OxCGRT indicators](https://github.com/OxCGRT/covid-policy-tracker) (policy measures), vaccinations and so on impact on parameter values with the delay period. Delay period will be calculated with `cenario.estimate_delay()` automatically.\n",
    "\n",
    "OxCGRT indicators are\n",
    "\n",
    "- school_closing,\n",
    "- workplace_closing,\n",
    "- cancel_events, \n",
    "- gatherings_restrictions,\n",
    "- transport_closing,\n",
    "- stay_home_restrictions,\n",
    "- internal_movement_restrictions,\n",
    "- international_movement_restrictions,\n",
    "- information_campaigns,\n",
    "- testing_policy, and\n",
    "- contact_tracing."
   ],
   "cell_type": "markdown",
   "metadata": {}
  },
  {
   "source": [
    "`Scenario.fit()` method learns the relationship of indicators (X) and the parameter values (y) with regresion model (Elastic Net regression). X was registered with `Scenario.register()` and y was calculated with `Scenario.estimate()` in advance respectively."
   ],
   "cell_type": "markdown",
   "metadata": {}
  },
  {
   "source": [
    "The indicator used to estimate delay period (\"Stringency_index\" as default) will be automatically from X dataset. If you have some indicators to be removed additionally, please use `removed_cols` argument (list of indicator names) of `Scenario.fit()`.  \n",
    "Here, we will remove \"Tests\" and \"Tests_diff\" as an example. (This is because we have \"Testing_policy\" indicator and they may be overlaped.)"
   ],
   "cell_type": "markdown",
   "metadata": {}
  },
  {
   "cell_type": "code",
   "execution_count": null,
   "metadata": {},
   "outputs": [],
   "source": [
    "# Create Forecast scenario (copy Main scenario and delete future phases)\n",
    "snl.clear(name=\"Forecast\", template=\"Main\")\n",
    "# Fitting with linear regression model (Elastic Net regression)\n",
    "fit_dict = snl.fit(name=\"Forecast\", removed_cols=[\"Tests\", \"Tests_diff\"])"
   ]
  },
  {
   "source": [
    "Show determination coeefients of training/test dataset."
   ],
   "cell_type": "markdown",
   "metadata": {}
  },
  {
   "cell_type": "code",
   "execution_count": null,
   "metadata": {},
   "outputs": [],
   "source": [
    "print(f\"Determination coefficient: {fit_dict['score_train']:.3f} (train)\")\n",
    "print(f\"Determination coefficient: {fit_dict['score_test']:.3f} (test)\")"
   ]
  },
  {
   "source": [
    "Show the intercept and coefficient values of the regression model."
   ],
   "cell_type": "markdown",
   "metadata": {}
  },
  {
   "cell_type": "code",
   "execution_count": null,
   "metadata": {},
   "outputs": [],
   "source": [
    "print(\"Intercept and coefficient:\")\n",
    "fit_dict[\"intercept\"].style.background_gradient(axis=None)"
   ]
  },
  {
   "source": [
    "`Scenario.predict()` predicts the parameter values of future phases."
   ],
   "cell_type": "markdown",
   "metadata": {}
  },
  {
   "cell_type": "code",
   "execution_count": null,
   "metadata": {},
   "outputs": [],
   "source": [
    "# Short-term prediction\n",
    "snl.predict(name=\"Forecast\").summary(name=\"Forecast\")\n",
    "# We can select list of days to predict optionally\n",
    "# snl.predict(days=[1, 4], name=\"Forecast\").summary(name=\"Forecast\")"
   ]
  },
  {
   "source": [
    "Or, short-cut `.fit()` and `.predict()` with `Scenario.fit_predict()`."
   ],
   "cell_type": "markdown",
   "metadata": {}
  },
  {
   "cell_type": "code",
   "execution_count": null,
   "metadata": {},
   "outputs": [],
   "source": [
    "# Or, when you do not need 'fit_dict',\n",
    "# snl.fit_predict(name=\"Forecast\").summary(name=\"Forecast\")"
   ]
  },
  {
   "source": [
    "To compare this scenario with the other scenarios, we should adjust the last end date with `Scenario.adjust_end()` because the last end date is differenct from the other scenarios at this time."
   ],
   "cell_type": "markdown",
   "metadata": {}
  },
  {
   "cell_type": "code",
   "execution_count": null,
   "metadata": {},
   "outputs": [],
   "source": [
    "# Adjust the last end dates\n",
    "snl.adjust_end()\n",
    "# Show the last phases of all scenarios\n",
    "all_df = snl.summary().reset_index()\n",
    "for name in all_df[\"Scenario\"].unique():\n",
    "    df = snl.summary(name=name)\n",
    "    last_end_date = df.loc[df.index[-1], \"End\"]\n",
    "    print(f\"{name} scenario: to {last_end_date}\")"
   ]
  },
  {
   "source": [
    "Simulate the number of cases of forecast scenario."
   ],
   "cell_type": "markdown",
   "metadata": {}
  },
  {
   "cell_type": "code",
   "execution_count": null,
   "metadata": {},
   "outputs": [],
   "source": [
    "_ = snl.simulate(variables=\"CFR\", name=\"Forecast\").tail()"
   ]
  },
  {
   "source": [
    "Compare the number of cases with main scenario for the last three phases."
   ],
   "cell_type": "markdown",
   "metadata": {}
  },
  {
   "cell_type": "code",
   "execution_count": null,
   "metadata": {},
   "outputs": [],
   "source": [
    "all_phases = snl.summary(name=\"Forecast\").index.tolist()\n",
    "# Should start with a past phase: the last phase, the first and the second future phase\n",
    "_ = snl.history(\"Infected\", phases=all_phases[-3:])"
   ]
  },
  {
   "cell_type": "markdown",
   "metadata": {},
   "source": [
    "### Compare the scenarios\n",
    "We will compare the scenarios with representative values, reproduction number and parameter values. Currently, we can compare the scenarios with the following indexes.\n",
    "\n",
    "- max(Infected): max value of Infected\n",
    "- argmax(Infected): the date when Infected shows max value\n",
    "- Infected on …: Infected on the end date of the last phase\n",
    "- Fatal on …: Fatal on the end date of the last phase"
   ]
  },
  {
   "cell_type": "code",
   "execution_count": null,
   "metadata": {},
   "outputs": [],
   "source": [
    "snl.describe()"
   ]
  },
  {
   "cell_type": "code",
   "execution_count": null,
   "metadata": {},
   "outputs": [],
   "source": [
    "_ = snl.history(target=\"Infected\")"
   ]
  },
  {
   "cell_type": "code",
   "execution_count": null,
   "metadata": {},
   "outputs": [],
   "source": [
    "_ = snl.history(target=\"Rt\")"
   ]
  },
  {
   "cell_type": "code",
   "execution_count": null,
   "metadata": {},
   "outputs": [],
   "source": [
    "_ = snl.history(target=\"rho\")"
   ]
  },
  {
   "cell_type": "code",
   "execution_count": null,
   "metadata": {},
   "outputs": [],
   "source": [
    "_ = snl.history(target=\"sigma\")"
   ]
  },
  {
   "cell_type": "code",
   "execution_count": null,
   "metadata": {},
   "outputs": [],
   "source": [
    "_ = snl.history(target=\"theta\")"
   ]
  },
  {
   "cell_type": "code",
   "execution_count": null,
   "metadata": {},
   "outputs": [],
   "source": [
    "_ = snl.history(target=\"kappa\")"
   ]
  },
  {
   "source": [
    "### Change rate of parameters in main scenario\n",
    "History of each parameter will be shown. Values will be divided by the values in 0th phase."
   ],
   "cell_type": "markdown",
   "metadata": {}
  },
  {
   "cell_type": "code",
   "execution_count": null,
   "metadata": {},
   "outputs": [],
   "source": [
    "_ = snl.history_rate(name=\"Main\")"
   ]
  },
  {
   "source": [
    "### Retrospective analysis\n",
    "We can evaluate the impact of measures using past records. How many people were infected if the parameter values have not changed sinse 01Sep2020?"
   ],
   "cell_type": "markdown",
   "metadata": {}
  },
  {
   "cell_type": "code",
   "execution_count": null,
   "metadata": {},
   "outputs": [],
   "source": [
    "# Perform retrospective analysis\n",
    "snl_retro = cs.Scenario(jhu_data, population_data, \"Japan\")\n",
    "snl_retro.retrospective(\n",
    "    \"01Jan2021\", model=cs.SIRF, control=\"Main\", target=\"Retrospective\", timeout=10)"
   ]
  },
  {
   "cell_type": "code",
   "execution_count": null,
   "metadata": {},
   "outputs": [],
   "source": [
    "# Show the summary of estimation\n",
    "cols = [\"Start\", \"End\", \"ODE\", \"Rt\", *cs.SIRF.PARAMETERS] + [\"RMSLE\", \"Trials\", \"Runtime\"]\n",
    "snl_retro.summary(columns=cols)"
   ]
  },
  {
   "cell_type": "code",
   "execution_count": null,
   "metadata": {},
   "outputs": [],
   "source": [
    "# History of reproduction number\n",
    "_ = snl_retro.history(\"Rt\")"
   ]
  },
  {
   "cell_type": "code",
   "execution_count": null,
   "metadata": {},
   "outputs": [],
   "source": [
    "# History of Infected\n",
    "_ = snl_retro.history(\"Infected\")"
   ]
  },
  {
   "cell_type": "code",
   "execution_count": null,
   "metadata": {},
   "outputs": [],
   "source": [
    "# Show the representative values\n",
    "snl_retro.describe()"
   ]
  }
 ],
 "metadata": {
  "language_info": {
   "codemirror_mode": {
    "name": "ipython",
    "version": 3
   },
   "file_extension": ".py",
   "mimetype": "text/x-python",
   "name": "python",
   "nbconvert_exporter": "python",
   "pygments_lexer": "ipython3",
   "version": "3.9.1-final"
  },
  "orig_nbformat": 2,
  "kernelspec": {
   "name": "python3",
   "display_name": "Python 3.9.1 64-bit ('.venv')",
   "metadata": {
    "interpreter": {
     "hash": "aa53c8c6e6798222a2084c11cc25017700a8d3ad495b587e3a634f357767115f"
    }
   }
  }
 },
 "nbformat": 4,
 "nbformat_minor": 2
}