{
 "cells": [
  {
   "cell_type": "markdown",
   "metadata": {},
   "source": [
    "# Experimental: Method to calculate the delay days (=recovery period) per country"
   ]
  },
  {
   "cell_type": "code",
   "execution_count": null,
   "metadata": {},
   "outputs": [],
   "source": [
    "import matplotlib.pylab as plt\n",
    "import numpy as np\n",
    "import plotly as py\n",
    "import plotly.graph_objs as go\n",
    "import pandas as pd\n",
    "import plotly.express as px\n",
    "import warnings\n",
    "warnings.filterwarnings('ignore')"
   ]
  },
  {
   "cell_type": "code",
   "execution_count": null,
   "metadata": {},
   "outputs": [],
   "source": [
    "# Developers (Note: this notebook is in example directory)\n",
    "import os\n",
    "os.chdir(\"../\")\n",
    "\n",
    "import covsirphy as cs\n",
    "cs.__version__"
   ]
  },
  {
   "cell_type": "markdown",
   "metadata": {},
   "source": [
    "## Load data"
   ]
  },
  {
   "cell_type": "code",
   "execution_count": null,
   "metadata": {
    "scrolled": false
   },
   "outputs": [],
   "source": [
    "data_loader = cs.DataLoader(directory=\"input\")\n",
    "jhu_data = data_loader.jhu()\n",
    "population_data = data_loader.population()\n",
    "oxcgrt_data = data_loader.oxcgrt()\n",
    "# Description/citation\n",
    "print(oxcgrt_data.citation)"
   ]
  },
  {
   "cell_type": "markdown",
   "metadata": {},
   "source": [
    "## Estimate number of days of delay for a given country"
   ]
  },
  {
   "cell_type": "code",
   "execution_count": null,
   "metadata": {},
   "outputs": [],
   "source": [
    "country = \"Japan\"\n",
    "scn = cs.Scenario(jhu_data, population_data, country)\n",
    "\n",
    "indicators = oxcgrt_data.cleaned().columns.values[1:]\n",
    "print(\"Indicators: \", indicators)\n",
    "\n",
    "records = scn.record_df\n",
    "print(\"Targets: \", records.columns.values[1:])"
   ]
  },
  {
   "cell_type": "code",
   "execution_count": null,
   "metadata": {},
   "outputs": [],
   "source": [
    "indicator, target = \"Stringency_index\", \"Confirmed\"\n",
    "days, df_periods = scn.estimate_delay(oxcgrt_data, indicator=indicator, target=target)"
   ]
  },
  {
   "cell_type": "code",
   "execution_count": null,
   "metadata": {
    "scrolled": true
   },
   "outputs": [],
   "source": [
    "print(\"Days of delay for\", country, \":\", round(days, 2))"
   ]
  },
  {
   "cell_type": "markdown",
   "metadata": {},
   "source": [
    "## View the calculated periods in a graph"
   ]
  },
  {
   "cell_type": "code",
   "execution_count": null,
   "metadata": {
    "scrolled": true
   },
   "outputs": [],
   "source": [
    "df_periods[\"Cumulative days\"] = df_periods[\"Period Length\"].cumsum()\n",
    "\n",
    "plt.plot(records[\"Date\"], records[target])\n",
    "plt.xlabel(\"Date\")\n",
    "plt.ylabel(target)\n",
    "plt.title(target + \"over time with change periods\")\n",
    "\n",
    "start_date = records[\"Date\"].values[0]\n",
    "for day in df_periods[\"Cumulative days\"].values[1:].astype(int):\n",
    "    plt.axvline(start_date + np.timedelta64(day, 'D'), linestyle=\":\", color=\"black\")"
   ]
  },
  {
   "cell_type": "markdown",
   "metadata": {},
   "source": [
    "## Calculate delay days for every country"
   ]
  },
  {
   "cell_type": "code",
   "execution_count": null,
   "metadata": {
    "tags": []
   },
   "outputs": [],
   "source": [
    "countries = jhu_data.countries()\n",
    "delay_days = {}\n",
    "warnings.simplefilter(\"error\", category=UserWarning)\n",
    "for country in countries:\n",
    "    scn = cs.Scenario(jhu_data, population_data, country)\n",
    "    days, df_periods = scn.estimate_delay(oxcgrt_data, indicator=indicator, target=target)\n",
    "    delay_days[country] = days"
   ]
  },
  {
   "cell_type": "code",
   "execution_count": null,
   "metadata": {},
   "outputs": [],
   "source": [
    "data = dict(\n",
    "    type = 'choropleth',\n",
    "    locations = list(delay_days.keys()),\n",
    "    locationmode='country names',\n",
    "    z=list(delay_days.values()),\n",
    "    colorscale=px.colors.named_colorscales()[9],\n",
    "    colorbar=dict(thickness=30, ticklen=7, tickfont=dict(size=20)),\n",
    ")\n",
    "\n",
    "map = go.Figure(\n",
    "    data=[data],\n",
    "    layout = go.Layout(\n",
    "        title=f\"Average number of delay days calculated with change in {target} and {indicator}\",\n",
    "        geo=dict(bgcolor= 'rgba(233,233,233,0.3)')))\n",
    "\n",
    "py.offline.iplot(map)"
   ]
  },
  {
   "cell_type": "code",
   "execution_count": null,
   "metadata": {},
   "outputs": [],
   "source": [
    "print(np.mean(list(delay_days.values())))"
   ]
  }
 ],
 "metadata": {
  "kernelspec": {
   "name": "python3",
   "display_name": "Python 3.9.1 64-bit ('.venv')",
   "metadata": {
    "interpreter": {
     "hash": "aa53c8c6e6798222a2084c11cc25017700a8d3ad495b587e3a634f357767115f"
    }
   }
  },
  "language_info": {
   "codemirror_mode": {
    "name": "ipython",
    "version": 3
   },
   "file_extension": ".py",
   "mimetype": "text/x-python",
   "name": "python",
   "nbconvert_exporter": "python",
   "pygments_lexer": "ipython3",
   "version": "3.9.1-final"
  }
 },
 "nbformat": 4,
 "nbformat_minor": 2
}