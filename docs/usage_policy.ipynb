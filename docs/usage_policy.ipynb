{
 "cells": [
  {
   "cell_type": "markdown",
   "metadata": {},
   "source": [
    "# Usage: policy measures\n",
    "Here, we will analyse the relationship of policy measures and parameter values of SIR-derived ODE models. Policy measures are tracked by [Oxford Covid-19 Government Response Tracker (OxCGRT)](https://github.com/OxCGRT/covid-policy-tracker)."
   ]
  },
  {
   "cell_type": "markdown",
   "metadata": {},
   "source": [
    "## Preparation"
   ]
  },
  {
   "cell_type": "code",
   "execution_count": 1,
   "metadata": {
    "execution": {
     "iopub.execute_input": "2021-02-02T15:03:45.479772Z",
     "iopub.status.busy": "2021-02-02T15:03:45.479335Z",
     "iopub.status.idle": "2021-02-02T15:03:45.481270Z",
     "shell.execute_reply": "2021-02-02T15:03:45.481828Z"
    }
   },
   "outputs": [],
   "source": [
    "# Standard users\n",
    "# !pip install covsirphy\n",
    "# Developers (Note: this notebook is in example directory)\n",
    "import os\n",
    "os.chdir(\"../\")"
   ]
  },
  {
   "cell_type": "code",
   "execution_count": 2,
   "metadata": {
    "execution": {
     "iopub.execute_input": "2021-02-02T15:03:45.485226Z",
     "iopub.status.busy": "2021-02-02T15:03:45.484800Z",
     "iopub.status.idle": "2021-02-02T15:03:45.486890Z",
     "shell.execute_reply": "2021-02-02T15:03:45.487259Z"
    }
   },
   "outputs": [],
   "source": [
    "from pprint import pprint"
   ]
  },
  {
   "cell_type": "code",
   "execution_count": 3,
   "metadata": {
    "execution": {
     "iopub.execute_input": "2021-02-02T15:03:45.490997Z",
     "iopub.status.busy": "2021-02-02T15:03:45.490172Z",
     "iopub.status.idle": "2021-02-02T15:03:47.447937Z",
     "shell.execute_reply": "2021-02-02T15:03:47.448311Z"
    }
   },
   "outputs": [
    {
     "data": {
      "text/plain": [
       "'2.15.0-kappa'"
      ]
     },
     "execution_count": 1,
     "metadata": {},
     "output_type": "execute_result"
    }
   ],
   "source": [
    "import covsirphy as cs\n",
    "cs.__version__"
   ]
  },
  {
   "cell_type": "code",
   "execution_count": 4,
   "metadata": {
    "execution": {
     "iopub.execute_input": "2021-02-02T15:03:47.452942Z",
     "iopub.status.busy": "2021-02-02T15:03:47.452043Z",
     "iopub.status.idle": "2021-02-02T15:03:52.331055Z",
     "shell.execute_reply": "2021-02-02T15:03:52.331422Z"
    },
    "tags": []
   },
   "outputs": [
    {
     "name": "stdout",
     "output_type": "stream",
     "text": [
      "(Secondary source) Guidotti, E., Ardia, D., (2020), \"COVID-19 Data Hub\", Journal of Open Source Software 5(51):2376, doi: 10.21105/joss.02376.\n"
     ]
    }
   ],
   "source": [
    "# Standard users and developers\n",
    "data_loader = cs.DataLoader(\"input\")\n",
    "# The number of cases (JHU style)\n",
    "jhu_data = data_loader.jhu(verbose=False)\n",
    "# Population in each country\n",
    "population_data = data_loader.population(verbose=False)\n",
    "# Government Response Tracker (OxCGRT)\n",
    "oxcgrt_data = data_loader.oxcgrt(verbose=False)\n",
    "# Description/citation\n",
    "print(oxcgrt_data.citation)"
   ]
  },
  {
   "cell_type": "markdown",
   "metadata": {},
   "source": [
    "## Class for policy measure analysis\n",
    "We will `PolicyMeasures` class to find relationship of policy measures and parameter values of SIR-derived ODE models."
   ]
  },
  {
   "cell_type": "code",
   "execution_count": 5,
   "metadata": {
    "execution": {
     "iopub.execute_input": "2021-02-02T15:03:52.338336Z",
     "iopub.status.busy": "2021-02-02T15:03:52.337691Z",
     "iopub.status.idle": "2021-02-02T15:04:08.205055Z",
     "shell.execute_reply": "2021-02-02T15:04:08.205410Z"
    },
    "tags": []
   },
   "outputs": [
    {
     "data": {
      "text/plain": [
       "197"
      ]
     },
     "execution_count": 1,
     "metadata": {},
     "output_type": "execute_result"
    }
   ],
   "source": [
    "# Create analyser with tau value 360 [min] (can be changed)\n",
    "analyser = cs.PolicyMeasures(jhu_data, population_data, oxcgrt_data, tau=360)\n",
    "# The number of registerd countries\n",
    "len(analyser.countries)"
   ]
  },
  {
   "cell_type": "code",
   "execution_count": 6,
   "metadata": {
    "execution": {
     "iopub.execute_input": "2021-02-02T15:04:08.209183Z",
     "iopub.status.busy": "2021-02-02T15:04:08.208631Z",
     "iopub.status.idle": "2021-02-02T15:04:08.211232Z",
     "shell.execute_reply": "2021-02-02T15:04:08.211604Z"
    }
   },
   "outputs": [
    {
     "data": {
      "text/plain": [
       "covsirphy.analysis.scenario.Scenario"
      ]
     },
     "execution_count": 1,
     "metadata": {},
     "output_type": "execute_result"
    }
   ],
   "source": [
    "# We can get Scenario instance for detailed scenario analysis\n",
    "type(analyser.scenario(\"Japan\"))"
   ]
  },
  {
   "cell_type": "markdown",
   "metadata": {},
   "source": [
    "## Set phases with S-R trend analysis\n",
    "We will perform S-R trend analysis to set phases in all countries. Countries which do not have **19th phases** will be un-registered for the next analysis. This number will be adjusted for your analysis."
   ]
  },
  {
   "cell_type": "code",
   "execution_count": 7,
   "metadata": {
    "execution": {
     "iopub.execute_input": "2021-02-02T15:04:08.222094Z",
     "iopub.status.busy": "2021-02-02T15:04:08.221580Z",
     "iopub.status.idle": "2021-02-02T15:04:48.178604Z",
     "shell.execute_reply": "2021-02-02T15:04:48.178104Z"
    }
   },
   "outputs": [
    {
     "name": "stdout",
     "output_type": "stream",
     "text": [
      "{2: ['Holy See', 'Timor-Leste'],\n",
      " 3: ['Tanzania', 'Saint Kitts and Nevis'],\n",
      " 4: ['Laos', 'Dominica', 'Fiji'],\n",
      " 5: ['Grenada'],\n",
      " 6: ['Equatorial Guinea'],\n",
      " 7: ['Saint Vincent and the Grenadines', 'Northern Mariana Islands', 'Brunei'],\n",
      " 8: ['Kyrgyzstan', 'Liechtenstein', 'Cambodia'],\n",
      " 9: ['Belize', 'Antigua and Barbuda', 'Uzbekistan', 'Trinidad and Tobago',\n",
      "     'Bahamas', 'Mauritius', 'Saint Lucia', 'Nepal', 'Guam', 'Seychelles'],\n",
      " 10: ['Nicaragua', 'Papua New Guinea', 'Kenya', 'Monaco', 'Angola', 'Libya',\n",
      "      'Bhutan', 'Ethiopia', 'Myanmar', 'Oman', 'Republic of the Congo',\n",
      "      'Virgin Islands, U.S.', 'Australia', 'Guyana', 'Iceland', 'Iraq',\n",
      "      'Venezuela', 'India', 'Maldives', 'Philippines', 'Costa Rica'],\n",
      " 11: ['Bahrain', 'Paraguay', 'Cape Verde', 'Brazil', 'Peru', 'Morocco',\n",
      "      'Algeria', 'Argentina', 'Syria', 'Bermuda', 'Djibouti', 'San Marino',\n",
      "      'Namibia', 'South Sudan', 'Vietnam', 'Jamaica', 'Israel', 'Kuwait',\n",
      "      'Bangladesh', 'Pakistan', 'Uganda', 'Saudi Arabia', 'Guatemala',\n",
      "      'South Africa', 'Bolivia', 'Madagascar', 'Colombia', 'Kazakhstan',\n",
      "      'Zambia', 'Botswana', 'Malawi', 'Sudan', 'Suriname'],\n",
      " 12: ['Ghana', 'New Zealand', 'El Salvador', 'Mongolia', 'Liberia', 'Yemen',\n",
      "      'Barbados', 'Dominican Republic', 'Montenegro', 'Egypt', 'Somalia',\n",
      "      'Benin', 'Puerto Rico', 'Malta', 'Singapore', 'Ecuador', 'Gambia',\n",
      "      'Moldova', 'Andorra', 'Zimbabwe', 'Chile', 'Comoros',\n",
      "      'Sao Tome and Principe', 'Rwanda', 'Senegal', 'Honduras', 'Lesotho',\n",
      "      'Palestine', 'Armenia', 'Mozambique'],\n",
      " 13: ['Tajikistan', 'Eritrea', 'Kosovo', 'Afghanistan', 'Guinea', 'Gabon',\n",
      "      \"Cote d'Ivoire\", 'Democratic Republic of the Congo', 'Mauritania',\n",
      "      'Panama', 'Mali', 'Burundi', 'Central African Republic', 'Mexico',\n",
      "      'Swaziland', 'Tunisia', 'Cameroon', 'Taiwan'],\n",
      " 14: ['Poland', 'Cuba', 'Ireland', 'Sierra Leone', 'Nigeria', 'Niger', 'Togo',\n",
      "      'Iran', 'Indonesia', 'Qatar', 'Lithuania', 'Czech Republic', 'Belgium',\n",
      "      'Guinea-Bissau', 'United Arab Emirates', 'Luxembourg',\n",
      "      'Bosnia and Herzegovina', 'Chad', 'Ukraine', 'Azerbaijan', 'Russia'],\n",
      " 15: ['Belarus', 'China', 'Japan', 'Croatia', 'Haiti', 'Georgia', 'Jordan',\n",
      "      'France', 'Bulgaria', 'North Macedonia', 'Albania', 'United States',\n",
      "      'Netherlands', 'Slovakia', 'Lebanon'],\n",
      " 16: ['Burkina Faso', 'Thailand', 'Cyprus', 'Austria', 'Uruguay', 'Latvia',\n",
      "      'Hungary', 'Spain', 'Romania', 'Greece'],\n",
      " 17: ['South Korea', 'Denmark', 'United Kingdom', 'Sri Lanka', 'Turkey',\n",
      "      'Malaysia', 'Norway', 'Estonia'],\n",
      " 18: ['Switzerland', 'Canada', 'Slovenia', 'Finland', 'Serbia'],\n",
      " 19: ['Italy', 'Sweden', 'Portugal'],\n",
      " 22: ['Germany']}\n"
     ]
    }
   ],
   "source": [
    "# Show the number of phases of all countries\n",
    "analyser.trend()\n",
    "pprint(analyser.phase_len(), compact=True)"
   ]
  },
  {
   "cell_type": "code",
   "execution_count": 8,
   "metadata": {
    "execution": {
     "iopub.execute_input": "2021-02-02T15:04:48.188172Z",
     "iopub.status.busy": "2021-02-02T15:04:48.187604Z",
     "iopub.status.idle": "2021-02-02T15:05:27.264749Z",
     "shell.execute_reply": "2021-02-02T15:05:27.265094Z"
    }
   },
   "outputs": [
    {
     "data": {
      "text/plain": [
       "4"
      ]
     },
     "execution_count": 1,
     "metadata": {},
     "output_type": "execute_result"
    }
   ],
   "source": [
    "# Set phases with S-R trend analysis\n",
    "analyser.trend(min_len=19)\n",
    "# The number of countries\n",
    "len(analyser.countries)"
   ]
  },
  {
   "cell_type": "code",
   "execution_count": 9,
   "metadata": {
    "execution": {
     "iopub.execute_input": "2021-02-02T15:05:27.268600Z",
     "iopub.status.busy": "2021-02-02T15:05:27.268123Z",
     "iopub.status.idle": "2021-02-02T15:05:27.270186Z",
     "shell.execute_reply": "2021-02-02T15:05:27.270526Z"
    },
    "tags": []
   },
   "outputs": [
    {
     "name": "stdout",
     "output_type": "stream",
     "text": [
      "{19: ['Italy', 'Sweden', 'Portugal'], 22: ['Germany']}\n"
     ]
    }
   ],
   "source": [
    "phase_len_dict = analyser.phase_len()\n",
    "pprint(phase_len_dict, compact=True)"
   ]
  },
  {
   "cell_type": "code",
   "execution_count": 10,
   "metadata": {
    "execution": {
     "iopub.execute_input": "2021-02-02T15:05:27.285700Z",
     "iopub.status.busy": "2021-02-02T15:05:27.279837Z",
     "iopub.status.idle": "2021-02-02T15:05:27.293561Z",
     "shell.execute_reply": "2021-02-02T15:05:27.293961Z"
    },
    "tags": []
   },
   "outputs": [
    {
     "data": {
      "text/html": [
       "<div>\n",
       "<style scoped>\n",
       "    .dataframe tbody tr th:only-of-type {\n",
       "        vertical-align: middle;\n",
       "    }\n",
       "\n",
       "    .dataframe tbody tr th {\n",
       "        vertical-align: top;\n",
       "    }\n",
       "\n",
       "    .dataframe thead th {\n",
       "        text-align: right;\n",
       "    }\n",
       "</style>\n",
       "<table border=\"1\" class=\"dataframe\">\n",
       "  <thead>\n",
       "    <tr style=\"text-align: right;\">\n",
       "      <th></th>\n",
       "      <th></th>\n",
       "      <th>Type</th>\n",
       "      <th>Start</th>\n",
       "      <th>End</th>\n",
       "      <th>Population</th>\n",
       "    </tr>\n",
       "    <tr>\n",
       "      <th>Country</th>\n",
       "      <th>Phase</th>\n",
       "      <th></th>\n",
       "      <th></th>\n",
       "      <th></th>\n",
       "      <th></th>\n",
       "    </tr>\n",
       "  </thead>\n",
       "  <tbody>\n",
       "    <tr>\n",
       "      <th rowspan=\"22\" valign=\"top\">Germany</th>\n",
       "      <th>0th</th>\n",
       "      <td>Past</td>\n",
       "      <td>18Jan2020</td>\n",
       "      <td>23Mar2020</td>\n",
       "      <td>82905782</td>\n",
       "    </tr>\n",
       "    <tr>\n",
       "      <th>1st</th>\n",
       "      <td>Past</td>\n",
       "      <td>24Mar2020</td>\n",
       "      <td>06Apr2020</td>\n",
       "      <td>82905782</td>\n",
       "    </tr>\n",
       "    <tr>\n",
       "      <th>2nd</th>\n",
       "      <td>Past</td>\n",
       "      <td>07Apr2020</td>\n",
       "      <td>05May2020</td>\n",
       "      <td>82905782</td>\n",
       "    </tr>\n",
       "    <tr>\n",
       "      <th>3rd</th>\n",
       "      <td>Past</td>\n",
       "      <td>06May2020</td>\n",
       "      <td>05Aug2020</td>\n",
       "      <td>82905782</td>\n",
       "    </tr>\n",
       "    <tr>\n",
       "      <th>4th</th>\n",
       "      <td>Past</td>\n",
       "      <td>06Aug2020</td>\n",
       "      <td>13Sep2020</td>\n",
       "      <td>82905782</td>\n",
       "    </tr>\n",
       "    <tr>\n",
       "      <th>5th</th>\n",
       "      <td>Past</td>\n",
       "      <td>14Sep2020</td>\n",
       "      <td>08Oct2020</td>\n",
       "      <td>82905782</td>\n",
       "    </tr>\n",
       "    <tr>\n",
       "      <th>6th</th>\n",
       "      <td>Past</td>\n",
       "      <td>09Oct2020</td>\n",
       "      <td>20Oct2020</td>\n",
       "      <td>82905782</td>\n",
       "    </tr>\n",
       "    <tr>\n",
       "      <th>7th</th>\n",
       "      <td>Past</td>\n",
       "      <td>21Oct2020</td>\n",
       "      <td>27Oct2020</td>\n",
       "      <td>82905782</td>\n",
       "    </tr>\n",
       "    <tr>\n",
       "      <th>8th</th>\n",
       "      <td>Past</td>\n",
       "      <td>28Oct2020</td>\n",
       "      <td>03Nov2020</td>\n",
       "      <td>82905782</td>\n",
       "    </tr>\n",
       "    <tr>\n",
       "      <th>9th</th>\n",
       "      <td>Past</td>\n",
       "      <td>04Nov2020</td>\n",
       "      <td>10Nov2020</td>\n",
       "      <td>82905782</td>\n",
       "    </tr>\n",
       "    <tr>\n",
       "      <th>10th</th>\n",
       "      <td>Past</td>\n",
       "      <td>11Nov2020</td>\n",
       "      <td>17Nov2020</td>\n",
       "      <td>82905782</td>\n",
       "    </tr>\n",
       "    <tr>\n",
       "      <th>11th</th>\n",
       "      <td>Past</td>\n",
       "      <td>18Nov2020</td>\n",
       "      <td>24Nov2020</td>\n",
       "      <td>82905782</td>\n",
       "    </tr>\n",
       "    <tr>\n",
       "      <th>12th</th>\n",
       "      <td>Past</td>\n",
       "      <td>25Nov2020</td>\n",
       "      <td>01Dec2020</td>\n",
       "      <td>82905782</td>\n",
       "    </tr>\n",
       "    <tr>\n",
       "      <th>13th</th>\n",
       "      <td>Past</td>\n",
       "      <td>02Dec2020</td>\n",
       "      <td>08Dec2020</td>\n",
       "      <td>82905782</td>\n",
       "    </tr>\n",
       "    <tr>\n",
       "      <th>14th</th>\n",
       "      <td>Past</td>\n",
       "      <td>09Dec2020</td>\n",
       "      <td>15Dec2020</td>\n",
       "      <td>82905782</td>\n",
       "    </tr>\n",
       "    <tr>\n",
       "      <th>15th</th>\n",
       "      <td>Past</td>\n",
       "      <td>16Dec2020</td>\n",
       "      <td>21Dec2020</td>\n",
       "      <td>82905782</td>\n",
       "    </tr>\n",
       "    <tr>\n",
       "      <th>16th</th>\n",
       "      <td>Past</td>\n",
       "      <td>22Dec2020</td>\n",
       "      <td>28Dec2020</td>\n",
       "      <td>82905782</td>\n",
       "    </tr>\n",
       "    <tr>\n",
       "      <th>17th</th>\n",
       "      <td>Past</td>\n",
       "      <td>29Dec2020</td>\n",
       "      <td>04Jan2021</td>\n",
       "      <td>82905782</td>\n",
       "    </tr>\n",
       "    <tr>\n",
       "      <th>18th</th>\n",
       "      <td>Past</td>\n",
       "      <td>05Jan2021</td>\n",
       "      <td>11Jan2021</td>\n",
       "      <td>82905782</td>\n",
       "    </tr>\n",
       "    <tr>\n",
       "      <th>19th</th>\n",
       "      <td>Past</td>\n",
       "      <td>12Jan2021</td>\n",
       "      <td>18Jan2021</td>\n",
       "      <td>82905782</td>\n",
       "    </tr>\n",
       "    <tr>\n",
       "      <th>20th</th>\n",
       "      <td>Past</td>\n",
       "      <td>19Jan2021</td>\n",
       "      <td>25Jan2021</td>\n",
       "      <td>82905782</td>\n",
       "    </tr>\n",
       "    <tr>\n",
       "      <th>21st</th>\n",
       "      <td>Past</td>\n",
       "      <td>26Jan2021</td>\n",
       "      <td>02Feb2021</td>\n",
       "      <td>82905782</td>\n",
       "    </tr>\n",
       "  </tbody>\n",
       "</table>\n",
       "</div>"
      ],
      "text/plain": [
       "               Type      Start        End  Population\n",
       "Country Phase                                        \n",
       "Germany 0th    Past  18Jan2020  23Mar2020    82905782\n",
       "        1st    Past  24Mar2020  06Apr2020    82905782\n",
       "        2nd    Past  07Apr2020  05May2020    82905782\n",
       "        3rd    Past  06May2020  05Aug2020    82905782\n",
       "        4th    Past  06Aug2020  13Sep2020    82905782\n",
       "        5th    Past  14Sep2020  08Oct2020    82905782\n",
       "        6th    Past  09Oct2020  20Oct2020    82905782\n",
       "        7th    Past  21Oct2020  27Oct2020    82905782\n",
       "        8th    Past  28Oct2020  03Nov2020    82905782\n",
       "        9th    Past  04Nov2020  10Nov2020    82905782\n",
       "        10th   Past  11Nov2020  17Nov2020    82905782\n",
       "        11th   Past  18Nov2020  24Nov2020    82905782\n",
       "        12th   Past  25Nov2020  01Dec2020    82905782\n",
       "        13th   Past  02Dec2020  08Dec2020    82905782\n",
       "        14th   Past  09Dec2020  15Dec2020    82905782\n",
       "        15th   Past  16Dec2020  21Dec2020    82905782\n",
       "        16th   Past  22Dec2020  28Dec2020    82905782\n",
       "        17th   Past  29Dec2020  04Jan2021    82905782\n",
       "        18th   Past  05Jan2021  11Jan2021    82905782\n",
       "        19th   Past  12Jan2021  18Jan2021    82905782\n",
       "        20th   Past  19Jan2021  25Jan2021    82905782\n",
       "        21st   Past  26Jan2021  02Feb2021    82905782"
      ]
     },
     "execution_count": 1,
     "metadata": {},
     "output_type": "execute_result"
    }
   ],
   "source": [
    "# Here, only show the countries which have the most phases\n",
    "countries_show = max(phase_len_dict.items(), key=lambda x: x[0])[1]\n",
    "# Show summary\n",
    "analyser.summary(countries=countries_show)"
   ]
  },
  {
   "cell_type": "markdown",
   "metadata": {},
   "source": [
    "## Parameter estimation\n",
    "we will estimate the parameter values with SIR-derived ODE models in each country."
   ]
  },
  {
   "cell_type": "code",
   "execution_count": 11,
   "metadata": {
    "execution": {
     "iopub.execute_input": "2021-02-02T15:05:27.297163Z",
     "iopub.status.busy": "2021-02-02T15:05:27.296662Z",
     "iopub.status.idle": "2021-02-02T15:05:27.299028Z",
     "shell.execute_reply": "2021-02-02T15:05:27.298506Z"
    },
    "tags": []
   },
   "outputs": [],
   "source": [
    "# Parameter estimation with SIR-F model\n",
    "# Caution! This takes too much time.\n",
    "# analyser.estimate(cs.SIRF, timeout=60)"
   ]
  },
  {
   "cell_type": "code",
   "execution_count": 12,
   "metadata": {
    "execution": {
     "iopub.execute_input": "2021-02-02T15:05:27.301861Z",
     "iopub.status.busy": "2021-02-02T15:05:27.301373Z",
     "iopub.status.idle": "2021-02-02T15:05:27.303972Z",
     "shell.execute_reply": "2021-02-02T15:05:27.303363Z"
    }
   },
   "outputs": [],
   "source": [
    "# Show summary\n",
    "# analyser.summary(countries=countries_show)"
   ]
  },
  {
   "cell_type": "markdown",
   "metadata": {},
   "source": [
    "## Compare the history of parameters\n",
    "Here, compare the history of parameter values if countries."
   ]
  },
  {
   "cell_type": "code",
   "execution_count": 13,
   "metadata": {
    "execution": {
     "iopub.execute_input": "2021-02-02T15:05:27.307199Z",
     "iopub.status.busy": "2021-02-02T15:05:27.306728Z",
     "iopub.status.idle": "2021-02-02T15:05:27.310644Z",
     "shell.execute_reply": "2021-02-02T15:05:27.310114Z"
    }
   },
   "outputs": [],
   "source": [
    "# All parameter/day parameter/Rt/OxCGRT\n",
    "# analyser.track().head()"
   ]
  },
  {
   "cell_type": "markdown",
   "metadata": {},
   "source": [
    "### $Rt$: Reprodcution number $\\mathrm{[-]}$"
   ]
  },
  {
   "cell_type": "code",
   "execution_count": 14,
   "metadata": {
    "execution": {
     "iopub.execute_input": "2021-02-02T15:05:27.313844Z",
     "iopub.status.busy": "2021-02-02T15:05:27.313389Z",
     "iopub.status.idle": "2021-02-02T15:05:27.316976Z",
     "shell.execute_reply": "2021-02-02T15:05:27.317347Z"
    }
   },
   "outputs": [],
   "source": [
    "# analyser.history(\"Rt\", roll_window=None).tail()"
   ]
  },
  {
   "cell_type": "markdown",
   "metadata": {},
   "source": [
    "### $\\rho$: Effective contact rate $\\mathrm{[-]}$"
   ]
  },
  {
   "cell_type": "code",
   "execution_count": 15,
   "metadata": {
    "execution": {
     "iopub.execute_input": "2021-02-02T15:05:27.320749Z",
     "iopub.status.busy": "2021-02-02T15:05:27.320259Z",
     "iopub.status.idle": "2021-02-02T15:05:27.322294Z",
     "shell.execute_reply": "2021-02-02T15:05:27.322639Z"
    }
   },
   "outputs": [],
   "source": [
    "# analyser.history(\"rho\", roll_window=None).tail()"
   ]
  },
  {
   "cell_type": "markdown",
   "metadata": {},
   "source": [
    "### $\\sigma$: Recovery rate $\\mathrm{[-]}$"
   ]
  },
  {
   "cell_type": "code",
   "execution_count": 16,
   "metadata": {
    "execution": {
     "iopub.execute_input": "2021-02-02T15:05:27.325700Z",
     "iopub.status.busy": "2021-02-02T15:05:27.325205Z",
     "iopub.status.idle": "2021-02-02T15:05:27.327647Z",
     "shell.execute_reply": "2021-02-02T15:05:27.327222Z"
    }
   },
   "outputs": [],
   "source": [
    "# analyser.history(\"sigma\", roll_window=None).tail()"
   ]
  },
  {
   "cell_type": "markdown",
   "metadata": {},
   "source": [
    "### $\\kappa$: Mortality rate of infected cases $\\mathrm{[-]}$"
   ]
  },
  {
   "cell_type": "code",
   "execution_count": 17,
   "metadata": {
    "execution": {
     "iopub.execute_input": "2021-02-02T15:05:27.330711Z",
     "iopub.status.busy": "2021-02-02T15:05:27.330250Z",
     "iopub.status.idle": "2021-02-02T15:05:27.331944Z",
     "shell.execute_reply": "2021-02-02T15:05:27.332416Z"
    }
   },
   "outputs": [],
   "source": [
    "# analyser.history(\"kappa\", roll_window=None).tail()"
   ]
  },
  {
   "cell_type": "markdown",
   "metadata": {},
   "source": [
    "### $\\theta$: Mortality rate of S$^\\ast$ cases $\\mathrm{[-]}$"
   ]
  },
  {
   "cell_type": "code",
   "execution_count": 18,
   "metadata": {
    "execution": {
     "iopub.execute_input": "2021-02-02T15:05:27.335436Z",
     "iopub.status.busy": "2021-02-02T15:05:27.334960Z",
     "iopub.status.idle": "2021-02-02T15:05:27.337135Z",
     "shell.execute_reply": "2021-02-02T15:05:27.337548Z"
    }
   },
   "outputs": [],
   "source": [
    "# analyser.history(\"theta\", roll_window=None).tail()"
   ]
  },
  {
   "cell_type": "markdown",
   "metadata": {},
   "source": [
    "## (Experimental): Relationship of OxCGRT index and parameter values\n",
    "Government responses will impact on parameter values of ODE models about 14 days later. Here, we will investigate on the relationship of [stringency index (from OxCGRT)](https://github.com/OxCGRT/covid-policy-tracker/blob/master/documentation/index_methodology.md) and reproduction number/model parameters.\n"
   ]
  },
  {
   "cell_type": "code",
   "execution_count": 19,
   "metadata": {
    "execution": {
     "iopub.execute_input": "2021-02-02T15:05:27.344200Z",
     "iopub.status.busy": "2021-02-02T15:05:27.343691Z",
     "iopub.status.idle": "2021-02-02T15:05:27.345590Z",
     "shell.execute_reply": "2021-02-02T15:05:27.345980Z"
    }
   },
   "outputs": [],
   "source": [
    "%matplotlib inline\n",
    "from matplotlib import pyplot as plt\n",
    "import seaborn as sns\n",
    "import pandas as pd"
   ]
  },
  {
   "cell_type": "code",
   "execution_count": 20,
   "metadata": {
    "execution": {
     "iopub.execute_input": "2021-02-02T15:05:27.349598Z",
     "iopub.status.busy": "2021-02-02T15:05:27.348936Z",
     "iopub.status.idle": "2021-02-02T15:05:27.351053Z",
     "shell.execute_reply": "2021-02-02T15:05:27.351397Z"
    }
   },
   "outputs": [],
   "source": [
    "\"\"\"\n",
    "df = analyser.track()\n",
    "param_cols = [\"Rt\", *cs.SIRF.PARAMETERS]\n",
    "oxcgrt_cols = oxcgrt_data.OXCGRT_VARS[:]\n",
    "cols = param_cols + oxcgrt_cols\n",
    "delay = 14\n",
    "\n",
    "for col in param_cols:\n",
    "    df[col] = pd.to_numeric(df[col], errors=\"coerce\")\n",
    "    df[col] = df.groupby(\"Country\")[col].shift(0 - delay)\n",
    "\n",
    "df = df.dropna(how=\"any\")\n",
    "df = df.loc[:, [\"Date\", \"Country\", *cols]]\n",
    "track_df = df.copy()\n",
    "track_df.info()\n",
    "\"\"\"\n",
    "None"
   ]
  },
  {
   "cell_type": "code",
   "execution_count": 21,
   "metadata": {
    "execution": {
     "iopub.execute_input": "2021-02-02T15:05:27.354327Z",
     "iopub.status.busy": "2021-02-02T15:05:27.353827Z",
     "iopub.status.idle": "2021-02-02T15:05:27.355651Z",
     "shell.execute_reply": "2021-02-02T15:05:27.356015Z"
    }
   },
   "outputs": [],
   "source": [
    "# Correlation\n",
    "# df = track_df.copy()\n",
    "# df.corr().style.background_gradient(axis=None)"
   ]
  },
  {
   "cell_type": "code",
   "execution_count": 22,
   "metadata": {
    "execution": {
     "iopub.execute_input": "2021-02-02T15:05:27.359494Z",
     "iopub.status.busy": "2021-02-02T15:05:27.358717Z",
     "iopub.status.idle": "2021-02-02T15:05:27.360709Z",
     "shell.execute_reply": "2021-02-02T15:05:27.361112Z"
    }
   },
   "outputs": [],
   "source": [
    "\"\"\"\n",
    "# Scatter plot of Stringency index and Rt\n",
    "df = track_df.copy()\n",
    "sns.scatterplot(data=df, x=\"Stringency_index\", y=\"Rt\", hue=\"Country\", legend=\"brief\", marker=\"+\")\n",
    "bbox_to_anchor=(1.02, 0)\n",
    "bbox_loc=\"lower left\"\n",
    "plt.legend(bbox_to_anchor=bbox_to_anchor, loc=bbox_loc, borderaxespad=0)\n",
    "plt.title(\"Relationship of Stringency index and reproduction number\")\n",
    "plt.ylabel(\"Reproduction number\")\n",
    "plt.xlabel(\"Stringency index\")\n",
    "plt.show()\n",
    "\"\"\"\n",
    "None"
   ]
  }
 ],
 "metadata": {
  "kernelspec": {
   "display_name": "Python 3.9.1 64-bit ('.venv')",
   "metadata": {
    "interpreter": {
     "hash": "aa53c8c6e6798222a2084c11cc25017700a8d3ad495b587e3a634f357767115f"
    }
   },
   "name": "python3"
  },
  "language_info": {
   "codemirror_mode": {
    "name": "ipython",
    "version": 3
   },
   "file_extension": ".py",
   "mimetype": "text/x-python",
   "name": "python",
   "nbconvert_exporter": "python",
   "pygments_lexer": "ipython3",
   "version": "3.9.1"
  }
 },
 "nbformat": 4,
 "nbformat_minor": 2
}
