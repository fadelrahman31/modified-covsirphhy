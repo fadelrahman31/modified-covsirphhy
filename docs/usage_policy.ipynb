{
 "cells": [
  {
   "cell_type": "markdown",
   "metadata": {},
   "source": [
    "# Usage: policy measures\n",
    "Here, we will analyse the relationship of policy measures and parameter values of SIR-derived ODE models. Policy measures are tracked by [Oxford Covid-19 Government Response Tracker (OxCGRT)](https://github.com/OxCGRT/covid-policy-tracker)."
   ]
  },
  {
   "cell_type": "markdown",
   "metadata": {},
   "source": [
    "## Preparation"
   ]
  },
  {
   "cell_type": "code",
   "execution_count": 1,
   "metadata": {
    "execution": {
     "iopub.execute_input": "2021-02-26T15:45:28.648934Z",
     "iopub.status.busy": "2021-02-26T15:45:28.648505Z",
     "iopub.status.idle": "2021-02-26T15:45:28.652702Z",
     "shell.execute_reply": "2021-02-26T15:45:28.653056Z"
    }
   },
   "outputs": [],
   "source": [
    "# !pip install covsirphy"
   ]
  },
  {
   "cell_type": "code",
   "execution_count": 2,
   "metadata": {
    "execution": {
     "iopub.execute_input": "2021-02-26T15:45:28.658930Z",
     "iopub.status.busy": "2021-02-26T15:45:28.658473Z",
     "iopub.status.idle": "2021-02-26T15:45:28.660785Z",
     "shell.execute_reply": "2021-02-26T15:45:28.661764Z"
    }
   },
   "outputs": [],
   "source": [
    "from pprint import pprint"
   ]
  },
  {
   "cell_type": "code",
   "execution_count": 3,
   "metadata": {
    "execution": {
     "iopub.execute_input": "2021-02-26T15:45:28.665531Z",
     "iopub.status.busy": "2021-02-26T15:45:28.665061Z",
     "iopub.status.idle": "2021-02-26T15:45:31.258039Z",
     "shell.execute_reply": "2021-02-26T15:45:31.258505Z"
    }
   },
   "outputs": [
    {
     "data": {
      "text/plain": [
       "'2.16.2-eta'"
      ]
     },
     "execution_count": 1,
     "metadata": {},
     "output_type": "execute_result"
    }
   ],
   "source": [
    "import covsirphy as cs\n",
    "cs.__version__"
   ]
  },
  {
   "cell_type": "code",
   "execution_count": 4,
   "metadata": {
    "execution": {
     "iopub.execute_input": "2021-02-26T15:45:31.264222Z",
     "iopub.status.busy": "2021-02-26T15:45:31.263573Z",
     "iopub.status.idle": "2021-02-26T15:45:39.032835Z",
     "shell.execute_reply": "2021-02-26T15:45:39.033191Z"
    },
    "tags": []
   },
   "outputs": [
    {
     "name": "stdout",
     "output_type": "stream",
     "text": [
      "(Secondary source) Guidotti, E., Ardia, D., (2020), \"COVID-19 Data Hub\", Journal of Open Source Software 5(51):2376, doi: 10.21105/joss.02376.\n"
     ]
    }
   ],
   "source": [
    "# Standard users and developers\n",
    "data_loader = cs.DataLoader(\"../input\")\n",
    "# The number of cases (JHU style)\n",
    "jhu_data = data_loader.jhu(verbose=False)\n",
    "# Population in each country\n",
    "population_data = data_loader.population(verbose=False)\n",
    "# Government Response Tracker (OxCGRT)\n",
    "oxcgrt_data = data_loader.oxcgrt(verbose=False)\n",
    "# Description/citation\n",
    "print(oxcgrt_data.citation)"
   ]
  },
  {
   "cell_type": "markdown",
   "metadata": {},
   "source": [
    "## Class for policy measure analysis\n",
    "We will `PolicyMeasures` class to find relationship of policy measures and parameter values of SIR-derived ODE models."
   ]
  },
  {
   "cell_type": "code",
   "execution_count": 5,
   "metadata": {
    "execution": {
     "iopub.execute_input": "2021-02-26T15:45:39.040312Z",
     "iopub.status.busy": "2021-02-26T15:45:39.039786Z",
     "iopub.status.idle": "2021-02-26T16:02:12.260164Z",
     "shell.execute_reply": "2021-02-26T16:02:12.260530Z"
    },
    "tags": []
   },
   "outputs": [
    {
     "data": {
      "text/plain": [
       "194"
      ]
     },
     "execution_count": 1,
     "metadata": {},
     "output_type": "execute_result"
    }
   ],
   "source": [
    "# Create analyser with tau value 360 [min] (can be changed)\n",
    "analyser = cs.PolicyMeasures(jhu_data, population_data, oxcgrt_data, tau=360)\n",
    "# The number of registerd countries\n",
    "len(analyser.countries)"
   ]
  },
  {
   "cell_type": "code",
   "execution_count": 6,
   "metadata": {
    "execution": {
     "iopub.execute_input": "2021-02-26T16:02:12.263913Z",
     "iopub.status.busy": "2021-02-26T16:02:12.263440Z",
     "iopub.status.idle": "2021-02-26T16:02:12.267131Z",
     "shell.execute_reply": "2021-02-26T16:02:12.267542Z"
    }
   },
   "outputs": [
    {
     "data": {
      "text/plain": [
       "covsirphy.analysis.scenario.Scenario"
      ]
     },
     "execution_count": 1,
     "metadata": {},
     "output_type": "execute_result"
    }
   ],
   "source": [
    "# We can get Scenario instance for detailed scenario analysis\n",
    "type(analyser.scenario(\"Japan\"))"
   ]
  },
  {
   "cell_type": "markdown",
   "metadata": {},
   "source": [
    "## Set phases with S-R trend analysis\n",
    "We will perform S-R trend analysis to set phases in all countries. Countries which do not have **19th phases** will be un-registered for the next analysis. This number will be adjusted for your analysis."
   ]
  },
  {
   "cell_type": "code",
   "execution_count": 7,
   "metadata": {
    "execution": {
     "iopub.execute_input": "2021-02-26T16:02:12.277630Z",
     "iopub.status.busy": "2021-02-26T16:02:12.277143Z",
     "iopub.status.idle": "2021-02-26T16:07:11.520204Z",
     "shell.execute_reply": "2021-02-26T16:07:11.520559Z"
    }
   },
   "outputs": [
    {
     "name": "stdout",
     "output_type": "stream",
     "text": [
      "{2: ['Laos'],\n",
      " 3: ['Tanzania', 'Saint Kitts and Nevis', 'Fiji'],\n",
      " 4: ['Timor-Leste'],\n",
      " 6: ['Dominica', 'Saint Vincent and the Grenadines', 'Grenada'],\n",
      " 7: ['Liechtenstein', 'Brunei'],\n",
      " 8: ['Northern Mariana Islands', 'Kyrgyzstan', 'Cambodia'],\n",
      " 9: ['Belize', 'Bahamas', 'Nepal', 'Angola', 'Mauritius', 'Antigua and Barbuda',\n",
      "     'Saint Lucia', 'Guam', 'Seychelles', 'Uzbekistan', 'Myanmar'],\n",
      " 10: ['Guyana', 'Republic of the Congo', 'Vietnam', 'Australia', 'Kenya',\n",
      "      'Belgium', 'Oman', 'South Africa', 'Ethiopia', 'Philippines', 'Venezuela',\n",
      "      'Iraq', 'Bhutan', 'India', 'Iceland', 'Trinidad and Tobago'],\n",
      " 11: ['Botswana', 'Cape Verde', 'Puerto Rico', 'Monaco', 'Jamaica',\n",
      "      'Kazakhstan', 'Syria', 'Egypt', 'Argentina', 'Andorra', 'Swaziland',\n",
      "      'Costa Rica', 'Pakistan', 'Madagascar', 'Colombia', 'El Salvador',\n",
      "      'Bermuda', 'Virgin Islands, U.S.', 'Equatorial Guinea', 'Mauritania',\n",
      "      'Bangladesh', 'Suriname', 'Sudan', 'Morocco', 'Uganda', 'Barbados',\n",
      "      'Libya', 'Paraguay', 'Nicaragua', 'Netherlands', 'Algeria'],\n",
      " 12: ['Singapore', 'Bolivia', 'Tunisia', 'Armenia', 'Afghanistan', 'Mexico',\n",
      "      'Peru', 'New Zealand', 'Papua New Guinea', 'Djibouti', 'Palestine',\n",
      "      'Panama', 'Maldives', 'Czech Republic', 'Malta', 'Sao Tome and Principe',\n",
      "      'Namibia', 'Moldova', 'Bosnia and Herzegovina', 'Israel', 'Saudi Arabia',\n",
      "      'Liberia', 'Chile', 'Dominican Republic', 'Brazil', 'Montenegro',\n",
      "      'Democratic Republic of the Congo', 'Kuwait', 'Bahrain', 'Honduras',\n",
      "      'San Marino', 'Guatemala'],\n",
      " 13: ['Nigeria', 'Guinea', 'Switzerland', 'Ecuador', 'Comoros', \"Cote d'Ivoire\",\n",
      "      'Malawi', 'North Macedonia', 'Mongolia', 'Benin', 'Bulgaria', 'Taiwan',\n",
      "      'Yemen', 'Kosovo', 'Gambia', 'Eritrea', 'Lesotho', 'Senegal', 'Poland',\n",
      "      'Zimbabwe', 'Tajikistan', 'South Sudan', 'Ghana', 'Luxembourg', 'Rwanda',\n",
      "      'Mozambique', 'Cameroon', 'Ukraine', 'Mali'],\n",
      " 14: ['Indonesia', 'Ireland', 'France', 'Croatia', 'Spain', 'Hungary', 'Russia',\n",
      "      'Romania', 'Slovakia', 'Somalia', 'Azerbaijan', 'Slovenia', 'Georgia',\n",
      "      'Togo', 'Lebanon', 'Sierra Leone', 'Jordan', 'Zambia'],\n",
      " 15: ['Greece', 'United States', 'Qatar', 'Central African Republic',\n",
      "      'Guinea-Bissau', 'United Kingdom', 'Albania', 'Niger', 'Iran',\n",
      "      'United Arab Emirates', 'China', 'Cyprus', 'Gabon', 'Belarus', 'Chad',\n",
      "      'Lithuania'],\n",
      " 16: ['Japan', 'Austria', 'Burundi', 'Sri Lanka', 'Cuba', 'Haiti',\n",
      "      'Burkina Faso', 'Thailand'],\n",
      " 17: ['Norway', 'Denmark', 'Uruguay', 'Canada', 'Turkey', 'Malaysia', 'Italy',\n",
      "      'Finland', 'Portugal', 'South Korea'],\n",
      " 18: ['Latvia', 'Germany', 'Serbia'],\n",
      " 19: ['Sweden', 'Estonia']}\n"
     ]
    }
   ],
   "source": [
    "# Show the number of phases of all countries\n",
    "analyser.trend()\n",
    "pprint(analyser.phase_len(), compact=True)"
   ]
  },
  {
   "cell_type": "code",
   "execution_count": 8,
   "metadata": {
    "execution": {
     "iopub.execute_input": "2021-02-26T16:07:11.529462Z",
     "iopub.status.busy": "2021-02-26T16:07:11.527113Z",
     "iopub.status.idle": "2021-02-26T16:11:47.879024Z",
     "shell.execute_reply": "2021-02-26T16:11:47.879381Z"
    }
   },
   "outputs": [
    {
     "data": {
      "text/plain": [
       "2"
      ]
     },
     "execution_count": 1,
     "metadata": {},
     "output_type": "execute_result"
    }
   ],
   "source": [
    "# Set phases with S-R trend analysis\n",
    "analyser.trend(min_len=19)\n",
    "# The number of countries\n",
    "len(analyser.countries)"
   ]
  },
  {
   "cell_type": "code",
   "execution_count": 9,
   "metadata": {
    "execution": {
     "iopub.execute_input": "2021-02-26T16:11:47.884425Z",
     "iopub.status.busy": "2021-02-26T16:11:47.883943Z",
     "iopub.status.idle": "2021-02-26T16:11:47.887295Z",
     "shell.execute_reply": "2021-02-26T16:11:47.886801Z"
    },
    "tags": []
   },
   "outputs": [
    {
     "name": "stdout",
     "output_type": "stream",
     "text": [
      "{19: ['Sweden', 'Estonia']}\n"
     ]
    }
   ],
   "source": [
    "phase_len_dict = analyser.phase_len()\n",
    "pprint(phase_len_dict, compact=True)"
   ]
  },
  {
   "cell_type": "code",
   "execution_count": 10,
   "metadata": {
    "execution": {
     "iopub.execute_input": "2021-02-26T16:11:47.892954Z",
     "iopub.status.busy": "2021-02-26T16:11:47.892501Z",
     "iopub.status.idle": "2021-02-26T16:11:47.929808Z",
     "shell.execute_reply": "2021-02-26T16:11:47.930163Z"
    },
    "tags": []
   },
   "outputs": [
    {
     "data": {
      "text/html": [
       "<div>\n",
       "<style scoped>\n",
       "    .dataframe tbody tr th:only-of-type {\n",
       "        vertical-align: middle;\n",
       "    }\n",
       "\n",
       "    .dataframe tbody tr th {\n",
       "        vertical-align: top;\n",
       "    }\n",
       "\n",
       "    .dataframe thead th {\n",
       "        text-align: right;\n",
       "    }\n",
       "</style>\n",
       "<table border=\"1\" class=\"dataframe\">\n",
       "  <thead>\n",
       "    <tr style=\"text-align: right;\">\n",
       "      <th></th>\n",
       "      <th></th>\n",
       "      <th>Type</th>\n",
       "      <th>Start</th>\n",
       "      <th>End</th>\n",
       "      <th>Population</th>\n",
       "    </tr>\n",
       "    <tr>\n",
       "      <th>Country</th>\n",
       "      <th>Phase</th>\n",
       "      <th></th>\n",
       "      <th></th>\n",
       "      <th></th>\n",
       "      <th></th>\n",
       "    </tr>\n",
       "  </thead>\n",
       "  <tbody>\n",
       "    <tr>\n",
       "      <th rowspan=\"19\" valign=\"top\">Sweden</th>\n",
       "      <th>0th</th>\n",
       "      <td>Past</td>\n",
       "      <td>07Mar2020</td>\n",
       "      <td>02May2020</td>\n",
       "      <td>10175214</td>\n",
       "    </tr>\n",
       "    <tr>\n",
       "      <th>1st</th>\n",
       "      <td>Past</td>\n",
       "      <td>03May2020</td>\n",
       "      <td>08Jun2020</td>\n",
       "      <td>10175214</td>\n",
       "    </tr>\n",
       "    <tr>\n",
       "      <th>2nd</th>\n",
       "      <td>Past</td>\n",
       "      <td>09Jun2020</td>\n",
       "      <td>02Jul2020</td>\n",
       "      <td>10175214</td>\n",
       "    </tr>\n",
       "    <tr>\n",
       "      <th>3rd</th>\n",
       "      <td>Past</td>\n",
       "      <td>03Jul2020</td>\n",
       "      <td>27Sep2020</td>\n",
       "      <td>10175214</td>\n",
       "    </tr>\n",
       "    <tr>\n",
       "      <th>4th</th>\n",
       "      <td>Past</td>\n",
       "      <td>28Sep2020</td>\n",
       "      <td>27Oct2020</td>\n",
       "      <td>10175214</td>\n",
       "    </tr>\n",
       "    <tr>\n",
       "      <th>5th</th>\n",
       "      <td>Past</td>\n",
       "      <td>28Oct2020</td>\n",
       "      <td>08Nov2020</td>\n",
       "      <td>10175214</td>\n",
       "    </tr>\n",
       "    <tr>\n",
       "      <th>6th</th>\n",
       "      <td>Past</td>\n",
       "      <td>09Nov2020</td>\n",
       "      <td>17Nov2020</td>\n",
       "      <td>10175214</td>\n",
       "    </tr>\n",
       "    <tr>\n",
       "      <th>7th</th>\n",
       "      <td>Past</td>\n",
       "      <td>18Nov2020</td>\n",
       "      <td>24Nov2020</td>\n",
       "      <td>10175214</td>\n",
       "    </tr>\n",
       "    <tr>\n",
       "      <th>8th</th>\n",
       "      <td>Past</td>\n",
       "      <td>25Nov2020</td>\n",
       "      <td>01Dec2020</td>\n",
       "      <td>10175214</td>\n",
       "    </tr>\n",
       "    <tr>\n",
       "      <th>9th</th>\n",
       "      <td>Past</td>\n",
       "      <td>02Dec2020</td>\n",
       "      <td>08Dec2020</td>\n",
       "      <td>10175214</td>\n",
       "    </tr>\n",
       "    <tr>\n",
       "      <th>10th</th>\n",
       "      <td>Past</td>\n",
       "      <td>09Dec2020</td>\n",
       "      <td>15Dec2020</td>\n",
       "      <td>10175214</td>\n",
       "    </tr>\n",
       "    <tr>\n",
       "      <th>11th</th>\n",
       "      <td>Past</td>\n",
       "      <td>16Dec2020</td>\n",
       "      <td>21Dec2020</td>\n",
       "      <td>10175214</td>\n",
       "    </tr>\n",
       "    <tr>\n",
       "      <th>12th</th>\n",
       "      <td>Past</td>\n",
       "      <td>22Dec2020</td>\n",
       "      <td>28Dec2020</td>\n",
       "      <td>10175214</td>\n",
       "    </tr>\n",
       "    <tr>\n",
       "      <th>13th</th>\n",
       "      <td>Past</td>\n",
       "      <td>29Dec2020</td>\n",
       "      <td>04Jan2021</td>\n",
       "      <td>10175214</td>\n",
       "    </tr>\n",
       "    <tr>\n",
       "      <th>14th</th>\n",
       "      <td>Past</td>\n",
       "      <td>05Jan2021</td>\n",
       "      <td>11Jan2021</td>\n",
       "      <td>10175214</td>\n",
       "    </tr>\n",
       "    <tr>\n",
       "      <th>15th</th>\n",
       "      <td>Past</td>\n",
       "      <td>12Jan2021</td>\n",
       "      <td>20Jan2021</td>\n",
       "      <td>10175214</td>\n",
       "    </tr>\n",
       "    <tr>\n",
       "      <th>16th</th>\n",
       "      <td>Past</td>\n",
       "      <td>21Jan2021</td>\n",
       "      <td>01Feb2021</td>\n",
       "      <td>10175214</td>\n",
       "    </tr>\n",
       "    <tr>\n",
       "      <th>17th</th>\n",
       "      <td>Past</td>\n",
       "      <td>02Feb2021</td>\n",
       "      <td>14Feb2021</td>\n",
       "      <td>10175214</td>\n",
       "    </tr>\n",
       "    <tr>\n",
       "      <th>18th</th>\n",
       "      <td>Past</td>\n",
       "      <td>15Feb2021</td>\n",
       "      <td>24Feb2021</td>\n",
       "      <td>10175214</td>\n",
       "    </tr>\n",
       "    <tr>\n",
       "      <th rowspan=\"19\" valign=\"top\">Estonia</th>\n",
       "      <th>0th</th>\n",
       "      <td>Past</td>\n",
       "      <td>15Mar2020</td>\n",
       "      <td>12Apr2020</td>\n",
       "      <td>1321977</td>\n",
       "    </tr>\n",
       "    <tr>\n",
       "      <th>1st</th>\n",
       "      <td>Past</td>\n",
       "      <td>13Apr2020</td>\n",
       "      <td>31Aug2020</td>\n",
       "      <td>1321977</td>\n",
       "    </tr>\n",
       "    <tr>\n",
       "      <th>2nd</th>\n",
       "      <td>Past</td>\n",
       "      <td>01Sep2020</td>\n",
       "      <td>29Sep2020</td>\n",
       "      <td>1321977</td>\n",
       "    </tr>\n",
       "    <tr>\n",
       "      <th>3rd</th>\n",
       "      <td>Past</td>\n",
       "      <td>30Sep2020</td>\n",
       "      <td>29Oct2020</td>\n",
       "      <td>1321977</td>\n",
       "    </tr>\n",
       "    <tr>\n",
       "      <th>4th</th>\n",
       "      <td>Past</td>\n",
       "      <td>30Oct2020</td>\n",
       "      <td>10Nov2020</td>\n",
       "      <td>1321977</td>\n",
       "    </tr>\n",
       "    <tr>\n",
       "      <th>5th</th>\n",
       "      <td>Past</td>\n",
       "      <td>11Nov2020</td>\n",
       "      <td>18Nov2020</td>\n",
       "      <td>1321977</td>\n",
       "    </tr>\n",
       "    <tr>\n",
       "      <th>6th</th>\n",
       "      <td>Past</td>\n",
       "      <td>19Nov2020</td>\n",
       "      <td>26Nov2020</td>\n",
       "      <td>1321977</td>\n",
       "    </tr>\n",
       "    <tr>\n",
       "      <th>7th</th>\n",
       "      <td>Past</td>\n",
       "      <td>27Nov2020</td>\n",
       "      <td>03Dec2020</td>\n",
       "      <td>1321977</td>\n",
       "    </tr>\n",
       "    <tr>\n",
       "      <th>8th</th>\n",
       "      <td>Past</td>\n",
       "      <td>04Dec2020</td>\n",
       "      <td>10Dec2020</td>\n",
       "      <td>1321977</td>\n",
       "    </tr>\n",
       "    <tr>\n",
       "      <th>9th</th>\n",
       "      <td>Past</td>\n",
       "      <td>11Dec2020</td>\n",
       "      <td>16Dec2020</td>\n",
       "      <td>1321977</td>\n",
       "    </tr>\n",
       "    <tr>\n",
       "      <th>10th</th>\n",
       "      <td>Past</td>\n",
       "      <td>17Dec2020</td>\n",
       "      <td>22Dec2020</td>\n",
       "      <td>1321977</td>\n",
       "    </tr>\n",
       "    <tr>\n",
       "      <th>11th</th>\n",
       "      <td>Past</td>\n",
       "      <td>23Dec2020</td>\n",
       "      <td>28Dec2020</td>\n",
       "      <td>1321977</td>\n",
       "    </tr>\n",
       "    <tr>\n",
       "      <th>12th</th>\n",
       "      <td>Past</td>\n",
       "      <td>29Dec2020</td>\n",
       "      <td>05Jan2021</td>\n",
       "      <td>1321977</td>\n",
       "    </tr>\n",
       "    <tr>\n",
       "      <th>13th</th>\n",
       "      <td>Past</td>\n",
       "      <td>06Jan2021</td>\n",
       "      <td>11Jan2021</td>\n",
       "      <td>1321977</td>\n",
       "    </tr>\n",
       "    <tr>\n",
       "      <th>14th</th>\n",
       "      <td>Past</td>\n",
       "      <td>12Jan2021</td>\n",
       "      <td>17Jan2021</td>\n",
       "      <td>1321977</td>\n",
       "    </tr>\n",
       "    <tr>\n",
       "      <th>15th</th>\n",
       "      <td>Past</td>\n",
       "      <td>18Jan2021</td>\n",
       "      <td>27Jan2021</td>\n",
       "      <td>1321977</td>\n",
       "    </tr>\n",
       "    <tr>\n",
       "      <th>16th</th>\n",
       "      <td>Past</td>\n",
       "      <td>28Jan2021</td>\n",
       "      <td>02Feb2021</td>\n",
       "      <td>1321977</td>\n",
       "    </tr>\n",
       "    <tr>\n",
       "      <th>17th</th>\n",
       "      <td>Past</td>\n",
       "      <td>03Feb2021</td>\n",
       "      <td>12Feb2021</td>\n",
       "      <td>1321977</td>\n",
       "    </tr>\n",
       "    <tr>\n",
       "      <th>18th</th>\n",
       "      <td>Past</td>\n",
       "      <td>13Feb2021</td>\n",
       "      <td>24Feb2021</td>\n",
       "      <td>1321977</td>\n",
       "    </tr>\n",
       "  </tbody>\n",
       "</table>\n",
       "</div>"
      ],
      "text/plain": [
       "               Type      Start        End  Population\n",
       "Country Phase                                        \n",
       "Sweden  0th    Past  07Mar2020  02May2020    10175214\n",
       "        1st    Past  03May2020  08Jun2020    10175214\n",
       "        2nd    Past  09Jun2020  02Jul2020    10175214\n",
       "        3rd    Past  03Jul2020  27Sep2020    10175214\n",
       "        4th    Past  28Sep2020  27Oct2020    10175214\n",
       "        5th    Past  28Oct2020  08Nov2020    10175214\n",
       "        6th    Past  09Nov2020  17Nov2020    10175214\n",
       "        7th    Past  18Nov2020  24Nov2020    10175214\n",
       "        8th    Past  25Nov2020  01Dec2020    10175214\n",
       "        9th    Past  02Dec2020  08Dec2020    10175214\n",
       "        10th   Past  09Dec2020  15Dec2020    10175214\n",
       "        11th   Past  16Dec2020  21Dec2020    10175214\n",
       "        12th   Past  22Dec2020  28Dec2020    10175214\n",
       "        13th   Past  29Dec2020  04Jan2021    10175214\n",
       "        14th   Past  05Jan2021  11Jan2021    10175214\n",
       "        15th   Past  12Jan2021  20Jan2021    10175214\n",
       "        16th   Past  21Jan2021  01Feb2021    10175214\n",
       "        17th   Past  02Feb2021  14Feb2021    10175214\n",
       "        18th   Past  15Feb2021  24Feb2021    10175214\n",
       "Estonia 0th    Past  15Mar2020  12Apr2020     1321977\n",
       "        1st    Past  13Apr2020  31Aug2020     1321977\n",
       "        2nd    Past  01Sep2020  29Sep2020     1321977\n",
       "        3rd    Past  30Sep2020  29Oct2020     1321977\n",
       "        4th    Past  30Oct2020  10Nov2020     1321977\n",
       "        5th    Past  11Nov2020  18Nov2020     1321977\n",
       "        6th    Past  19Nov2020  26Nov2020     1321977\n",
       "        7th    Past  27Nov2020  03Dec2020     1321977\n",
       "        8th    Past  04Dec2020  10Dec2020     1321977\n",
       "        9th    Past  11Dec2020  16Dec2020     1321977\n",
       "        10th   Past  17Dec2020  22Dec2020     1321977\n",
       "        11th   Past  23Dec2020  28Dec2020     1321977\n",
       "        12th   Past  29Dec2020  05Jan2021     1321977\n",
       "        13th   Past  06Jan2021  11Jan2021     1321977\n",
       "        14th   Past  12Jan2021  17Jan2021     1321977\n",
       "        15th   Past  18Jan2021  27Jan2021     1321977\n",
       "        16th   Past  28Jan2021  02Feb2021     1321977\n",
       "        17th   Past  03Feb2021  12Feb2021     1321977\n",
       "        18th   Past  13Feb2021  24Feb2021     1321977"
      ]
     },
     "execution_count": 1,
     "metadata": {},
     "output_type": "execute_result"
    }
   ],
   "source": [
    "# Here, only show the countries which have the most phases\n",
    "countries_show = max(phase_len_dict.items(), key=lambda x: x[0])[1]\n",
    "# Show summary\n",
    "analyser.summary(countries=countries_show)"
   ]
  },
  {
   "cell_type": "markdown",
   "metadata": {},
   "source": [
    "## Parameter estimation\n",
    "we will estimate the parameter values with SIR-derived ODE models in each country."
   ]
  },
  {
   "cell_type": "code",
   "execution_count": 11,
   "metadata": {
    "execution": {
     "iopub.execute_input": "2021-02-26T16:11:47.933221Z",
     "iopub.status.busy": "2021-02-26T16:11:47.932759Z",
     "iopub.status.idle": "2021-02-26T16:11:47.934882Z",
     "shell.execute_reply": "2021-02-26T16:11:47.935229Z"
    },
    "tags": []
   },
   "outputs": [],
   "source": [
    "# Parameter estimation with SIR-F model\n",
    "# Caution! This takes too much time.\n",
    "# analyser.estimate(cs.SIRF, timeout=60)"
   ]
  },
  {
   "cell_type": "code",
   "execution_count": 12,
   "metadata": {
    "execution": {
     "iopub.execute_input": "2021-02-26T16:11:47.938063Z",
     "iopub.status.busy": "2021-02-26T16:11:47.937567Z",
     "iopub.status.idle": "2021-02-26T16:11:47.939662Z",
     "shell.execute_reply": "2021-02-26T16:11:47.940028Z"
    }
   },
   "outputs": [],
   "source": [
    "# Show summary\n",
    "# analyser.summary(countries=countries_show)"
   ]
  },
  {
   "cell_type": "markdown",
   "metadata": {},
   "source": [
    "## Compare the history of parameters\n",
    "Here, compare the history of parameter values if countries."
   ]
  },
  {
   "cell_type": "code",
   "execution_count": 13,
   "metadata": {
    "execution": {
     "iopub.execute_input": "2021-02-26T16:11:47.943135Z",
     "iopub.status.busy": "2021-02-26T16:11:47.942544Z",
     "iopub.status.idle": "2021-02-26T16:11:47.945070Z",
     "shell.execute_reply": "2021-02-26T16:11:47.944603Z"
    }
   },
   "outputs": [],
   "source": [
    "# All parameter/day parameter/Rt/OxCGRT\n",
    "# analyser.track().head()"
   ]
  },
  {
   "cell_type": "markdown",
   "metadata": {},
   "source": [
    "### $Rt$: Reprodcution number"
   ]
  },
  {
   "cell_type": "code",
   "execution_count": 14,
   "metadata": {
    "execution": {
     "iopub.execute_input": "2021-02-26T16:11:47.948217Z",
     "iopub.status.busy": "2021-02-26T16:11:47.947742Z",
     "iopub.status.idle": "2021-02-26T16:11:47.950005Z",
     "shell.execute_reply": "2021-02-26T16:11:47.949641Z"
    }
   },
   "outputs": [],
   "source": [
    "# analyser.history(\"Rt\", roll_window=None).tail()"
   ]
  },
  {
   "cell_type": "markdown",
   "metadata": {},
   "source": [
    "### $\\rho$: Effective contact rate"
   ]
  },
  {
   "cell_type": "code",
   "execution_count": 15,
   "metadata": {
    "execution": {
     "iopub.execute_input": "2021-02-26T16:11:47.952909Z",
     "iopub.status.busy": "2021-02-26T16:11:47.952433Z",
     "iopub.status.idle": "2021-02-26T16:11:47.954421Z",
     "shell.execute_reply": "2021-02-26T16:11:47.954765Z"
    }
   },
   "outputs": [],
   "source": [
    "# analyser.history(\"rho\", roll_window=None).tail()"
   ]
  },
  {
   "cell_type": "markdown",
   "metadata": {},
   "source": [
    "### $\\sigma$: Recovery rate"
   ]
  },
  {
   "cell_type": "code",
   "execution_count": 16,
   "metadata": {
    "execution": {
     "iopub.execute_input": "2021-02-26T16:11:47.958107Z",
     "iopub.status.busy": "2021-02-26T16:11:47.957407Z",
     "iopub.status.idle": "2021-02-26T16:11:47.959508Z",
     "shell.execute_reply": "2021-02-26T16:11:47.959862Z"
    }
   },
   "outputs": [],
   "source": [
    "# analyser.history(\"sigma\", roll_window=None).tail()"
   ]
  },
  {
   "cell_type": "markdown",
   "metadata": {},
   "source": [
    "### $\\kappa$: Mortality rate of infected cases"
   ]
  },
  {
   "cell_type": "code",
   "execution_count": 17,
   "metadata": {
    "execution": {
     "iopub.execute_input": "2021-02-26T16:11:47.962789Z",
     "iopub.status.busy": "2021-02-26T16:11:47.962327Z",
     "iopub.status.idle": "2021-02-26T16:11:47.964262Z",
     "shell.execute_reply": "2021-02-26T16:11:47.964583Z"
    }
   },
   "outputs": [],
   "source": [
    "# analyser.history(\"kappa\", roll_window=None).tail()"
   ]
  },
  {
   "cell_type": "markdown",
   "metadata": {},
   "source": [
    "### $\\theta$: Mortality rate of S$^\\ast$ cases"
   ]
  },
  {
   "cell_type": "code",
   "execution_count": 18,
   "metadata": {
    "execution": {
     "iopub.execute_input": "2021-02-26T16:11:47.967455Z",
     "iopub.status.busy": "2021-02-26T16:11:47.967011Z",
     "iopub.status.idle": "2021-02-26T16:11:47.968979Z",
     "shell.execute_reply": "2021-02-26T16:11:47.969324Z"
    }
   },
   "outputs": [],
   "source": [
    "# analyser.history(\"theta\", roll_window=None).tail()"
   ]
  }
 ],
 "metadata": {
  "kernelspec": {
   "display_name": "Python 3.9.1 64-bit ('.venv')",
   "metadata": {
    "interpreter": {
     "hash": "aa53c8c6e6798222a2084c11cc25017700a8d3ad495b587e3a634f357767115f"
    }
   },
   "name": "python3"
  },
  "language_info": {
   "codemirror_mode": {
    "name": "ipython",
    "version": 3
   },
   "file_extension": ".py",
   "mimetype": "text/x-python",
   "name": "python",
   "nbconvert_exporter": "python",
   "pygments_lexer": "ipython3",
   "version": "3.9.1"
  }
 },
 "nbformat": 4,
 "nbformat_minor": 2
}
