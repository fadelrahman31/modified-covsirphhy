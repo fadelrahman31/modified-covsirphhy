{
 "cells": [
  {
   "cell_type": "markdown",
   "id": "stretch-commercial",
   "metadata": {},
   "source": [
    "# Usage: datasets\n",
    "Here, we will review the raw/cleaned datasets. `Scenario` class performs data cleaning internally using `JHUData` class and so on, but it is important to review the features and data types before analysing them."
   ]
  },
  {
   "cell_type": "markdown",
   "id": "overhead-recipient",
   "metadata": {},
   "source": [
    "### Preparation\n",
    "Prepare the packages."
   ]
  },
  {
   "cell_type": "code",
   "execution_count": 1,
   "id": "protective-classic",
   "metadata": {
    "collapsed": false,
    "execution": {
     "iopub.execute_input": "2021-02-02T15:00:59.698349Z",
     "iopub.status.busy": "2021-02-02T15:00:59.697641Z",
     "iopub.status.idle": "2021-02-02T15:00:59.700430Z",
     "shell.execute_reply": "2021-02-02T15:00:59.701198Z"
    }
   },
   "outputs": [],
   "source": [
    "# Standard users\n",
    "# !pip install covsirphy"
   ]
  },
  {
   "cell_type": "code",
   "execution_count": 2,
   "id": "danish-sport",
   "metadata": {
    "collapsed": false,
    "execution": {
     "iopub.execute_input": "2021-02-02T15:00:59.718534Z",
     "iopub.status.busy": "2021-02-02T15:00:59.717820Z",
     "iopub.status.idle": "2021-02-02T15:00:59.721057Z",
     "shell.execute_reply": "2021-02-02T15:00:59.720242Z"
    }
   },
   "outputs": [],
   "source": [
    "# Developers (Note: this notebook is in example directory)\n",
    "import os\n",
    "os.chdir(\"../\")"
   ]
  },
  {
   "cell_type": "code",
   "execution_count": 3,
   "id": "stopped-contrast",
   "metadata": {
    "collapsed": false,
    "execution": {
     "iopub.execute_input": "2021-02-02T15:00:59.728183Z",
     "iopub.status.busy": "2021-02-02T15:00:59.725937Z",
     "iopub.status.idle": "2021-02-02T15:00:59.731349Z",
     "shell.execute_reply": "2021-02-02T15:00:59.730204Z"
    }
   },
   "outputs": [],
   "source": [
    "from pprint import pprint"
   ]
  },
  {
   "cell_type": "code",
   "execution_count": 4,
   "id": "amber-refrigerator",
   "metadata": {
    "collapsed": false,
    "execution": {
     "iopub.execute_input": "2021-02-02T15:00:59.739287Z",
     "iopub.status.busy": "2021-02-02T15:00:59.738119Z",
     "iopub.status.idle": "2021-02-02T15:01:03.141751Z",
     "shell.execute_reply": "2021-02-02T15:01:03.142389Z"
    },
    "tags": []
   },
   "outputs": [
    {
     "data": {
      "text/plain": [
       "'2.15.0-kappa'"
      ]
     },
     "execution_count": 1,
     "metadata": {},
     "output_type": "execute_result"
    }
   ],
   "source": [
    "import covsirphy as cs\n",
    "cs.__version__"
   ]
  },
  {
   "cell_type": "markdown",
   "id": "applied-standard",
   "metadata": {},
   "source": [
    "### Dataset preparation\n",
    "Download the datasets to \"input\" directory and load them.\n",
    "\n",
    "If \"input\" directory has the datasets, `DataLoader` instance will load the local files. If the datasets were updated in remote servers, `DataLoader` will update the local files automatically and download the datasets to \"input\" directory and load them."
   ]
  },
  {
   "cell_type": "code",
   "execution_count": 5,
   "id": "yellow-roads",
   "metadata": {
    "collapsed": false,
    "execution": {
     "iopub.execute_input": "2021-02-02T15:01:03.148123Z",
     "iopub.status.busy": "2021-02-02T15:01:03.147463Z",
     "iopub.status.idle": "2021-02-02T15:01:03.150365Z",
     "shell.execute_reply": "2021-02-02T15:01:03.150867Z"
    }
   },
   "outputs": [],
   "source": [
    "# Create DataLoader instance\n",
    "data_loader = cs.DataLoader(\"input\")"
   ]
  },
  {
   "cell_type": "code",
   "execution_count": 6,
   "id": "handled-thomas",
   "metadata": {
    "collapsed": false,
    "execution": {
     "iopub.execute_input": "2021-02-02T15:01:03.156548Z",
     "iopub.status.busy": "2021-02-02T15:01:03.155931Z",
     "iopub.status.idle": "2021-02-02T15:02:28.368337Z",
     "shell.execute_reply": "2021-02-02T15:02:28.368671Z"
    },
    "tags": []
   },
   "outputs": [
    {
     "name": "stdout",
     "output_type": "stream",
     "text": [
      "Retrieving linelist from Open COVID-19 Data Working Group repository: https://github.com/beoutbreakprepared/nCoV2019\n"
     ]
    },
    {
     "name": "stdout",
     "output_type": "stream",
     "text": [
      "Retrieving COVID-19 vaccination dataset from https://covid.ourworldindata.org/data/\n"
     ]
    }
   ],
   "source": [
    "# (Main) The number of cases (JHU style)\n",
    "jhu_data = data_loader.jhu()\n",
    "# (Main) Population in each country\n",
    "population_data = data_loader.population()\n",
    "# (Main) Government Response Tracker (OxCGRT)\n",
    "oxcgrt_data = data_loader.oxcgrt()\n",
    "# Linelist of case reports\n",
    "linelist = data_loader.linelist()\n",
    "# The number of tests\n",
    "pcr_data = data_loader.pcr()\n",
    "# The number of vaccinations\n",
    "vaccine_data = data_loader.vaccine()\n",
    "# Population pyramid\n",
    "pyramid_data = data_loader.pyramid()\n",
    "# Japan-specific dataset\n",
    "japan_data = data_loader.japan()"
   ]
  },
  {
   "cell_type": "markdown",
   "id": "moving-accident",
   "metadata": {},
   "source": [
    "### The number of cases (JHU style)\n",
    "The main dataset is that of the number of cases and was saved as `jhu_data`, an instance of `JHUData` class. This includes \"Confirmed\", \"Infected\", \"Recovered\" and \"Fatal\". \"Infected\" was calculated as \"Confirmed - Recovered - Fatal\"."
   ]
  },
  {
   "cell_type": "code",
   "execution_count": 7,
   "id": "behavioral-bibliography",
   "metadata": {
    "collapsed": false,
    "execution": {
     "iopub.execute_input": "2021-02-02T15:02:28.376858Z",
     "iopub.status.busy": "2021-02-02T15:02:28.376263Z",
     "iopub.status.idle": "2021-02-02T15:02:28.379383Z",
     "shell.execute_reply": "2021-02-02T15:02:28.378931Z"
    }
   },
   "outputs": [
    {
     "data": {
      "text/plain": [
       "covsirphy.cleaning.jhu_data.JHUData"
      ]
     },
     "execution_count": 1,
     "metadata": {},
     "output_type": "execute_result"
    }
   ],
   "source": [
    "type(jhu_data)"
   ]
  },
  {
   "cell_type": "markdown",
   "id": "universal-chuck",
   "metadata": {},
   "source": [
    "The dataset will be retrieved from [COVID-19 Data Hub](https://covid19datahub.io/) and [Data folder of CovsirPhy project](https://github.com/lisphilar/covid19-sir/tree/master/data). Description of these projects will be shown as follows."
   ]
  },
  {
   "cell_type": "code",
   "execution_count": 8,
   "id": "executive-interest",
   "metadata": {
    "collapsed": false,
    "execution": {
     "iopub.execute_input": "2021-02-02T15:02:28.382707Z",
     "iopub.status.busy": "2021-02-02T15:02:28.382293Z",
     "iopub.status.idle": "2021-02-02T15:02:28.384558Z",
     "shell.execute_reply": "2021-02-02T15:02:28.385017Z"
    },
    "tags": []
   },
   "outputs": [
    {
     "name": "stdout",
     "output_type": "stream",
     "text": [
      "(Secondary source) Guidotti, E., Ardia, D., (2020), \"COVID-19 Data Hub\", Journal of Open Source Software 5(51):2376, doi: 10.21105/joss.02376.\n",
      "Lisphilar (2020), COVID-19 dataset in Japan, GitHub repository, https://github.com/lisphilar/covid19-sir/data/japan\n"
     ]
    }
   ],
   "source": [
    "# Description/citation\n",
    "print(jhu_data.citation)"
   ]
  },
  {
   "cell_type": "code",
   "execution_count": 9,
   "id": "royal-priest",
   "metadata": {
    "collapsed": false,
    "execution": {
     "iopub.execute_input": "2021-02-02T15:02:28.387841Z",
     "iopub.status.busy": "2021-02-02T15:02:28.387435Z",
     "iopub.status.idle": "2021-02-02T15:02:28.389829Z",
     "shell.execute_reply": "2021-02-02T15:02:28.389413Z"
    },
    "tags": []
   },
   "outputs": [],
   "source": [
    "# Detailed citation list of COVID-19 Data Hub\n",
    "# print(data_loader.covid19dh_citation)"
   ]
  },
  {
   "cell_type": "code",
   "execution_count": 10,
   "id": "floral-radical",
   "metadata": {
    "collapsed": false,
    "execution": {
     "iopub.execute_input": "2021-02-02T15:02:28.401620Z",
     "iopub.status.busy": "2021-02-02T15:02:28.398828Z",
     "iopub.status.idle": "2021-02-02T15:02:28.426375Z",
     "shell.execute_reply": "2021-02-02T15:02:28.426729Z"
    }
   },
   "outputs": [
    {
     "data": {
      "text/html": [
       "<div>\n",
       "<style scoped>\n",
       "    .dataframe tbody tr th:only-of-type {\n",
       "        vertical-align: middle;\n",
       "    }\n",
       "\n",
       "    .dataframe tbody tr th {\n",
       "        vertical-align: top;\n",
       "    }\n",
       "\n",
       "    .dataframe thead th {\n",
       "        text-align: right;\n",
       "    }\n",
       "</style>\n",
       "<table border=\"1\" class=\"dataframe\">\n",
       "  <thead>\n",
       "    <tr style=\"text-align: right;\">\n",
       "      <th></th>\n",
       "      <th>ObservationDate</th>\n",
       "      <th>Tests</th>\n",
       "      <th>Confirmed</th>\n",
       "      <th>Recovered</th>\n",
       "      <th>Deaths</th>\n",
       "      <th>Population</th>\n",
       "      <th>ISO3</th>\n",
       "      <th>Province/State</th>\n",
       "      <th>Country/Region</th>\n",
       "      <th>school_closing</th>\n",
       "      <th>...</th>\n",
       "      <th>cancel_events</th>\n",
       "      <th>gatherings_restrictions</th>\n",
       "      <th>transport_closing</th>\n",
       "      <th>stay_home_restrictions</th>\n",
       "      <th>internal_movement_restrictions</th>\n",
       "      <th>international_movement_restrictions</th>\n",
       "      <th>information_campaigns</th>\n",
       "      <th>testing_policy</th>\n",
       "      <th>contact_tracing</th>\n",
       "      <th>stringency_index</th>\n",
       "    </tr>\n",
       "  </thead>\n",
       "  <tbody>\n",
       "    <tr>\n",
       "      <th>10047</th>\n",
       "      <td>2021-01-29</td>\n",
       "      <td>5197</td>\n",
       "      <td>1219.0</td>\n",
       "      <td>1183</td>\n",
       "      <td>21</td>\n",
       "      <td>107808.0</td>\n",
       "      <td>COL</td>\n",
       "      <td>Vichada</td>\n",
       "      <td>Colombia</td>\n",
       "      <td>3</td>\n",
       "      <td>...</td>\n",
       "      <td>1</td>\n",
       "      <td>3</td>\n",
       "      <td>1</td>\n",
       "      <td>1</td>\n",
       "      <td>1</td>\n",
       "      <td>4</td>\n",
       "      <td>2</td>\n",
       "      <td>2</td>\n",
       "      <td>2</td>\n",
       "      <td>81.02</td>\n",
       "    </tr>\n",
       "    <tr>\n",
       "      <th>10048</th>\n",
       "      <td>2021-01-30</td>\n",
       "      <td>5276</td>\n",
       "      <td>1227.0</td>\n",
       "      <td>1187</td>\n",
       "      <td>21</td>\n",
       "      <td>107808.0</td>\n",
       "      <td>COL</td>\n",
       "      <td>Vichada</td>\n",
       "      <td>Colombia</td>\n",
       "      <td>3</td>\n",
       "      <td>...</td>\n",
       "      <td>1</td>\n",
       "      <td>3</td>\n",
       "      <td>1</td>\n",
       "      <td>1</td>\n",
       "      <td>1</td>\n",
       "      <td>4</td>\n",
       "      <td>2</td>\n",
       "      <td>2</td>\n",
       "      <td>2</td>\n",
       "      <td>81.02</td>\n",
       "    </tr>\n",
       "    <tr>\n",
       "      <th>10049</th>\n",
       "      <td>2021-01-31</td>\n",
       "      <td>5278</td>\n",
       "      <td>1227.0</td>\n",
       "      <td>1194</td>\n",
       "      <td>21</td>\n",
       "      <td>107808.0</td>\n",
       "      <td>COL</td>\n",
       "      <td>Vichada</td>\n",
       "      <td>Colombia</td>\n",
       "      <td>3</td>\n",
       "      <td>...</td>\n",
       "      <td>1</td>\n",
       "      <td>3</td>\n",
       "      <td>1</td>\n",
       "      <td>1</td>\n",
       "      <td>1</td>\n",
       "      <td>4</td>\n",
       "      <td>2</td>\n",
       "      <td>2</td>\n",
       "      <td>2</td>\n",
       "      <td>81.02</td>\n",
       "    </tr>\n",
       "    <tr>\n",
       "      <th>10050</th>\n",
       "      <td>2021-02-01</td>\n",
       "      <td>5371</td>\n",
       "      <td>1227.0</td>\n",
       "      <td>1196</td>\n",
       "      <td>21</td>\n",
       "      <td>107808.0</td>\n",
       "      <td>COL</td>\n",
       "      <td>Vichada</td>\n",
       "      <td>Colombia</td>\n",
       "      <td>3</td>\n",
       "      <td>...</td>\n",
       "      <td>1</td>\n",
       "      <td>3</td>\n",
       "      <td>1</td>\n",
       "      <td>1</td>\n",
       "      <td>1</td>\n",
       "      <td>4</td>\n",
       "      <td>2</td>\n",
       "      <td>2</td>\n",
       "      <td>2</td>\n",
       "      <td>81.02</td>\n",
       "    </tr>\n",
       "    <tr>\n",
       "      <th>10051</th>\n",
       "      <td>2021-02-02</td>\n",
       "      <td>5371</td>\n",
       "      <td>1227.0</td>\n",
       "      <td>1196</td>\n",
       "      <td>21</td>\n",
       "      <td>107808.0</td>\n",
       "      <td>COL</td>\n",
       "      <td>Vichada</td>\n",
       "      <td>Colombia</td>\n",
       "      <td>3</td>\n",
       "      <td>...</td>\n",
       "      <td>1</td>\n",
       "      <td>3</td>\n",
       "      <td>1</td>\n",
       "      <td>1</td>\n",
       "      <td>1</td>\n",
       "      <td>4</td>\n",
       "      <td>2</td>\n",
       "      <td>2</td>\n",
       "      <td>2</td>\n",
       "      <td>81.02</td>\n",
       "    </tr>\n",
       "  </tbody>\n",
       "</table>\n",
       "<p>5 rows × 21 columns</p>\n",
       "</div>"
      ],
      "text/plain": [
       "      ObservationDate  Tests  Confirmed  Recovered  Deaths  Population ISO3  \\\n",
       "10047      2021-01-29   5197     1219.0       1183      21    107808.0  COL   \n",
       "10048      2021-01-30   5276     1227.0       1187      21    107808.0  COL   \n",
       "10049      2021-01-31   5278     1227.0       1194      21    107808.0  COL   \n",
       "10050      2021-02-01   5371     1227.0       1196      21    107808.0  COL   \n",
       "10051      2021-02-02   5371     1227.0       1196      21    107808.0  COL   \n",
       "\n",
       "      Province/State Country/Region  school_closing  ...  cancel_events  \\\n",
       "10047        Vichada       Colombia               3  ...              1   \n",
       "10048        Vichada       Colombia               3  ...              1   \n",
       "10049        Vichada       Colombia               3  ...              1   \n",
       "10050        Vichada       Colombia               3  ...              1   \n",
       "10051        Vichada       Colombia               3  ...              1   \n",
       "\n",
       "       gatherings_restrictions  transport_closing  stay_home_restrictions  \\\n",
       "10047                        3                  1                       1   \n",
       "10048                        3                  1                       1   \n",
       "10049                        3                  1                       1   \n",
       "10050                        3                  1                       1   \n",
       "10051                        3                  1                       1   \n",
       "\n",
       "       internal_movement_restrictions  international_movement_restrictions  \\\n",
       "10047                               1                                    4   \n",
       "10048                               1                                    4   \n",
       "10049                               1                                    4   \n",
       "10050                               1                                    4   \n",
       "10051                               1                                    4   \n",
       "\n",
       "       information_campaigns  testing_policy  contact_tracing  \\\n",
       "10047                      2               2                2   \n",
       "10048                      2               2                2   \n",
       "10049                      2               2                2   \n",
       "10050                      2               2                2   \n",
       "10051                      2               2                2   \n",
       "\n",
       "       stringency_index  \n",
       "10047             81.02  \n",
       "10048             81.02  \n",
       "10049             81.02  \n",
       "10050             81.02  \n",
       "10051             81.02  \n",
       "\n",
       "[5 rows x 21 columns]"
      ]
     },
     "execution_count": 1,
     "metadata": {},
     "output_type": "execute_result"
    }
   ],
   "source": [
    "# Raw data\n",
    "jhu_data.raw.tail()"
   ]
  },
  {
   "cell_type": "code",
   "execution_count": 11,
   "id": "jewish-sponsorship",
   "metadata": {
    "collapsed": false,
    "execution": {
     "iopub.execute_input": "2021-02-02T15:02:28.439460Z",
     "iopub.status.busy": "2021-02-02T15:02:28.438724Z",
     "iopub.status.idle": "2021-02-02T15:02:28.442233Z",
     "shell.execute_reply": "2021-02-02T15:02:28.441852Z"
    }
   },
   "outputs": [
    {
     "data": {
      "text/html": [
       "<div>\n",
       "<style scoped>\n",
       "    .dataframe tbody tr th:only-of-type {\n",
       "        vertical-align: middle;\n",
       "    }\n",
       "\n",
       "    .dataframe tbody tr th {\n",
       "        vertical-align: top;\n",
       "    }\n",
       "\n",
       "    .dataframe thead th {\n",
       "        text-align: right;\n",
       "    }\n",
       "</style>\n",
       "<table border=\"1\" class=\"dataframe\">\n",
       "  <thead>\n",
       "    <tr style=\"text-align: right;\">\n",
       "      <th></th>\n",
       "      <th>Date</th>\n",
       "      <th>Country</th>\n",
       "      <th>Province</th>\n",
       "      <th>Confirmed</th>\n",
       "      <th>Infected</th>\n",
       "      <th>Fatal</th>\n",
       "      <th>Recovered</th>\n",
       "    </tr>\n",
       "  </thead>\n",
       "  <tbody>\n",
       "    <tr>\n",
       "      <th>15759</th>\n",
       "      <td>2021-01-28</td>\n",
       "      <td>Japan</td>\n",
       "      <td>-</td>\n",
       "      <td>375607</td>\n",
       "      <td>55812</td>\n",
       "      <td>5361</td>\n",
       "      <td>314434</td>\n",
       "    </tr>\n",
       "    <tr>\n",
       "      <th>15760</th>\n",
       "      <td>2021-01-29</td>\n",
       "      <td>Japan</td>\n",
       "      <td>-</td>\n",
       "      <td>379516</td>\n",
       "      <td>53816</td>\n",
       "      <td>5452</td>\n",
       "      <td>320248</td>\n",
       "    </tr>\n",
       "    <tr>\n",
       "      <th>15761</th>\n",
       "      <td>2021-01-30</td>\n",
       "      <td>Japan</td>\n",
       "      <td>-</td>\n",
       "      <td>383083</td>\n",
       "      <td>51945</td>\n",
       "      <td>5546</td>\n",
       "      <td>325592</td>\n",
       "    </tr>\n",
       "    <tr>\n",
       "      <th>15762</th>\n",
       "      <td>2021-01-31</td>\n",
       "      <td>Japan</td>\n",
       "      <td>-</td>\n",
       "      <td>386742</td>\n",
       "      <td>50623</td>\n",
       "      <td>5654</td>\n",
       "      <td>330465</td>\n",
       "    </tr>\n",
       "    <tr>\n",
       "      <th>15763</th>\n",
       "      <td>2021-02-01</td>\n",
       "      <td>Japan</td>\n",
       "      <td>-</td>\n",
       "      <td>389518</td>\n",
       "      <td>49671</td>\n",
       "      <td>5722</td>\n",
       "      <td>334125</td>\n",
       "    </tr>\n",
       "  </tbody>\n",
       "</table>\n",
       "</div>"
      ],
      "text/plain": [
       "            Date Country Province  Confirmed  Infected  Fatal  Recovered\n",
       "15759 2021-01-28   Japan        -     375607     55812   5361     314434\n",
       "15760 2021-01-29   Japan        -     379516     53816   5452     320248\n",
       "15761 2021-01-30   Japan        -     383083     51945   5546     325592\n",
       "15762 2021-01-31   Japan        -     386742     50623   5654     330465\n",
       "15763 2021-02-01   Japan        -     389518     49671   5722     334125"
      ]
     },
     "execution_count": 1,
     "metadata": {},
     "output_type": "execute_result"
    }
   ],
   "source": [
    "# Cleaned data\n",
    "jhu_data.cleaned().tail()"
   ]
  },
  {
   "cell_type": "code",
   "execution_count": 12,
   "id": "interim-jersey",
   "metadata": {
    "collapsed": false,
    "execution": {
     "iopub.execute_input": "2021-02-02T15:02:28.449497Z",
     "iopub.status.busy": "2021-02-02T15:02:28.449015Z",
     "iopub.status.idle": "2021-02-02T15:02:28.461678Z",
     "shell.execute_reply": "2021-02-02T15:02:28.462077Z"
    }
   },
   "outputs": [
    {
     "name": "stdout",
     "output_type": "stream",
     "text": [
      "<class 'pandas.core.frame.DataFrame'>\n",
      "Int64Index: 390026 entries, 0 to 15763\n",
      "Data columns (total 7 columns):\n",
      " #   Column     Non-Null Count   Dtype         \n",
      "---  ------     --------------   -----         \n",
      " 0   Date       390026 non-null  datetime64[ns]\n",
      " 1   Country    390026 non-null  category      \n",
      " 2   Province   390026 non-null  category      \n",
      " 3   Confirmed  390026 non-null  int64         \n",
      " 4   Infected   390026 non-null  int64         \n",
      " 5   Fatal      390026 non-null  int64         \n",
      " 6   Recovered  390026 non-null  int64         \n",
      "dtypes: category(2), datetime64[ns](1), int64(4)\n",
      "memory usage: 19.4 MB\n"
     ]
    }
   ],
   "source": [
    "jhu_data.cleaned().info()"
   ]
  },
  {
   "cell_type": "markdown",
   "id": "single-immigration",
   "metadata": {},
   "source": [
    "Total number of cases in all countries with `JHUData.total()` method."
   ]
  },
  {
   "cell_type": "code",
   "execution_count": 13,
   "id": "fuzzy-welsh",
   "metadata": {
    "collapsed": false,
    "execution": {
     "iopub.execute_input": "2021-02-02T15:02:28.465494Z",
     "iopub.status.busy": "2021-02-02T15:02:28.465049Z",
     "iopub.status.idle": "2021-02-02T15:02:28.705499Z",
     "shell.execute_reply": "2021-02-02T15:02:28.705852Z"
    }
   },
   "outputs": [
    {
     "data": {
      "text/html": [
       "<div>\n",
       "<style scoped>\n",
       "    .dataframe tbody tr th:only-of-type {\n",
       "        vertical-align: middle;\n",
       "    }\n",
       "\n",
       "    .dataframe tbody tr th {\n",
       "        vertical-align: top;\n",
       "    }\n",
       "\n",
       "    .dataframe thead th {\n",
       "        text-align: right;\n",
       "    }\n",
       "</style>\n",
       "<table border=\"1\" class=\"dataframe\">\n",
       "  <thead>\n",
       "    <tr style=\"text-align: right;\">\n",
       "      <th></th>\n",
       "      <th>Confirmed</th>\n",
       "      <th>Infected</th>\n",
       "      <th>Fatal</th>\n",
       "      <th>Recovered</th>\n",
       "      <th>Fatal per Confirmed</th>\n",
       "      <th>Recovered per Confirmed</th>\n",
       "      <th>Fatal per (Fatal or Recovered)</th>\n",
       "    </tr>\n",
       "    <tr>\n",
       "      <th>Date</th>\n",
       "      <th></th>\n",
       "      <th></th>\n",
       "      <th></th>\n",
       "      <th></th>\n",
       "      <th></th>\n",
       "      <th></th>\n",
       "      <th></th>\n",
       "    </tr>\n",
       "  </thead>\n",
       "  <tbody>\n",
       "    <tr>\n",
       "      <th>2021-01-29</th>\n",
       "      <td>102135855</td>\n",
       "      <td>37176746</td>\n",
       "      <td>2209007</td>\n",
       "      <td>62750102</td>\n",
       "      <td>0.021628</td>\n",
       "      <td>0.614379</td>\n",
       "      <td>0.034006</td>\n",
       "    </tr>\n",
       "    <tr>\n",
       "      <th>2021-01-30</th>\n",
       "      <td>102632852</td>\n",
       "      <td>37328139</td>\n",
       "      <td>2221384</td>\n",
       "      <td>63083329</td>\n",
       "      <td>0.021644</td>\n",
       "      <td>0.614650</td>\n",
       "      <td>0.034016</td>\n",
       "    </tr>\n",
       "    <tr>\n",
       "      <th>2021-01-31</th>\n",
       "      <td>103016968</td>\n",
       "      <td>37420304</td>\n",
       "      <td>2229218</td>\n",
       "      <td>63367446</td>\n",
       "      <td>0.021639</td>\n",
       "      <td>0.615117</td>\n",
       "      <td>0.033984</td>\n",
       "    </tr>\n",
       "    <tr>\n",
       "      <th>2021-02-01</th>\n",
       "      <td>103464368</td>\n",
       "      <td>37616555</td>\n",
       "      <td>2238263</td>\n",
       "      <td>63609550</td>\n",
       "      <td>0.021633</td>\n",
       "      <td>0.614797</td>\n",
       "      <td>0.033991</td>\n",
       "    </tr>\n",
       "    <tr>\n",
       "      <th>2021-02-02</th>\n",
       "      <td>103076471</td>\n",
       "      <td>37567773</td>\n",
       "      <td>2232561</td>\n",
       "      <td>63276137</td>\n",
       "      <td>0.021659</td>\n",
       "      <td>0.613876</td>\n",
       "      <td>0.034080</td>\n",
       "    </tr>\n",
       "  </tbody>\n",
       "</table>\n",
       "</div>"
      ],
      "text/plain": [
       "            Confirmed  Infected    Fatal  Recovered  Fatal per Confirmed  \\\n",
       "Date                                                                       \n",
       "2021-01-29  102135855  37176746  2209007   62750102             0.021628   \n",
       "2021-01-30  102632852  37328139  2221384   63083329             0.021644   \n",
       "2021-01-31  103016968  37420304  2229218   63367446             0.021639   \n",
       "2021-02-01  103464368  37616555  2238263   63609550             0.021633   \n",
       "2021-02-02  103076471  37567773  2232561   63276137             0.021659   \n",
       "\n",
       "            Recovered per Confirmed  Fatal per (Fatal or Recovered)  \n",
       "Date                                                                 \n",
       "2021-01-29                 0.614379                        0.034006  \n",
       "2021-01-30                 0.614650                        0.034016  \n",
       "2021-01-31                 0.615117                        0.033984  \n",
       "2021-02-01                 0.614797                        0.033991  \n",
       "2021-02-02                 0.613876                        0.034080  "
      ]
     },
     "execution_count": 1,
     "metadata": {},
     "output_type": "execute_result"
    }
   ],
   "source": [
    "# Calculate total values\n",
    "total_df = jhu_data.total()\n",
    "total_df.tail()"
   ]
  },
  {
   "cell_type": "code",
   "execution_count": 14,
   "id": "exclusive-physiology",
   "metadata": {
    "collapsed": false,
    "execution": {
     "iopub.execute_input": "2021-02-02T15:02:28.709767Z",
     "iopub.status.busy": "2021-02-02T15:02:28.709351Z",
     "iopub.status.idle": "2021-02-02T15:02:29.493014Z",
     "shell.execute_reply": "2021-02-02T15:02:29.492583Z"
    }
   },
   "outputs": [
    {
     "data": {
      "image/png": "[encoded data removed]",
      "text/plain": [
       "<Figure size 648x432 with 1 Axes>"
      ]
     },
     "metadata": {
      "needs_background": "light"
     },
     "output_type": "display_data"
    }
   ],
   "source": [
    "# Plot the total values\n",
    "cs.line_plot(total_df[[\"Infected\", \"Fatal\", \"Recovered\"]], \"Total number of cases over time\")"
   ]
  },
  {
   "cell_type": "code",
   "execution_count": 15,
   "id": "professional-unemployment",
   "metadata": {
    "collapsed": false,
    "execution": {
     "iopub.execute_input": "2021-02-02T15:02:29.499130Z",
     "iopub.status.busy": "2021-02-02T15:02:29.497357Z",
     "iopub.status.idle": "2021-02-02T15:02:29.512372Z",
     "shell.execute_reply": "2021-02-02T15:02:29.512689Z"
    }
   },
   "outputs": [
    {
     "data": {
      "text/html": [
       "<div>\n",
       "<style scoped>\n",
       "    .dataframe tbody tr th:only-of-type {\n",
       "        vertical-align: middle;\n",
       "    }\n",
       "\n",
       "    .dataframe tbody tr th {\n",
       "        vertical-align: top;\n",
       "    }\n",
       "\n",
       "    .dataframe thead th {\n",
       "        text-align: right;\n",
       "    }\n",
       "</style>\n",
       "<table border=\"1\" class=\"dataframe\">\n",
       "  <thead>\n",
       "    <tr style=\"text-align: right;\">\n",
       "      <th></th>\n",
       "      <th>count</th>\n",
       "      <th>mean</th>\n",
       "      <th>std</th>\n",
       "      <th>min</th>\n",
       "      <th>25%</th>\n",
       "      <th>50%</th>\n",
       "      <th>75%</th>\n",
       "      <th>max</th>\n",
       "    </tr>\n",
       "  </thead>\n",
       "  <tbody>\n",
       "    <tr>\n",
       "      <th>Fatal per Confirmed</th>\n",
       "      <td>398.0</td>\n",
       "      <td>0.036959</td>\n",
       "      <td>0.017199</td>\n",
       "      <td>0.000000</td>\n",
       "      <td>0.023585</td>\n",
       "      <td>0.032382</td>\n",
       "      <td>0.046486</td>\n",
       "      <td>0.074095</td>\n",
       "    </tr>\n",
       "    <tr>\n",
       "      <th>Recovered per Confirmed</th>\n",
       "      <td>398.0</td>\n",
       "      <td>0.532786</td>\n",
       "      <td>0.204256</td>\n",
       "      <td>0.026389</td>\n",
       "      <td>0.400208</td>\n",
       "      <td>0.608289</td>\n",
       "      <td>0.654995</td>\n",
       "      <td>1.000000</td>\n",
       "    </tr>\n",
       "    <tr>\n",
       "      <th>Fatal per (Fatal or Recovered)</th>\n",
       "      <td>398.0</td>\n",
       "      <td>0.088320</td>\n",
       "      <td>0.077358</td>\n",
       "      <td>0.000000</td>\n",
       "      <td>0.036239</td>\n",
       "      <td>0.056860</td>\n",
       "      <td>0.119185</td>\n",
       "      <td>0.442748</td>\n",
       "    </tr>\n",
       "  </tbody>\n",
       "</table>\n",
       "</div>"
      ],
      "text/plain": [
       "                                count      mean       std       min       25%  \\\n",
       "Fatal per Confirmed             398.0  0.036959  0.017199  0.000000  0.023585   \n",
       "Recovered per Confirmed         398.0  0.532786  0.204256  0.026389  0.400208   \n",
       "Fatal per (Fatal or Recovered)  398.0  0.088320  0.077358  0.000000  0.036239   \n",
       "\n",
       "                                     50%       75%       max  \n",
       "Fatal per Confirmed             0.032382  0.046486  0.074095  \n",
       "Recovered per Confirmed         0.608289  0.654995  1.000000  \n",
       "Fatal per (Fatal or Recovered)  0.056860  0.119185  0.442748  "
      ]
     },
     "execution_count": 1,
     "metadata": {},
     "output_type": "execute_result"
    }
   ],
   "source": [
    "# Statistics of rate values in all countries\n",
    "total_df.loc[:, total_df.columns.str.contains(\"per\")].describe().T"
   ]
  },
  {
   "cell_type": "markdown",
   "id": "characteristic-cradle",
   "metadata": {},
   "source": [
    "We can create a subset for a country using `JHUData.subset()` method."
   ]
  },
  {
   "cell_type": "code",
   "execution_count": 16,
   "id": "automated-occasion",
   "metadata": {
    "collapsed": false,
    "execution": {
     "iopub.execute_input": "2021-02-02T15:02:29.516103Z",
     "iopub.status.busy": "2021-02-02T15:02:29.515676Z",
     "iopub.status.idle": "2021-02-02T15:02:32.512261Z",
     "shell.execute_reply": "2021-02-02T15:02:32.512582Z"
    }
   },
   "outputs": [
    {
     "data": {
      "text/html": [
       "<div>\n",
       "<style scoped>\n",
       "    .dataframe tbody tr th:only-of-type {\n",
       "        vertical-align: middle;\n",
       "    }\n",
       "\n",
       "    .dataframe tbody tr th {\n",
       "        vertical-align: top;\n",
       "    }\n",
       "\n",
       "    .dataframe thead th {\n",
       "        text-align: right;\n",
       "    }\n",
       "</style>\n",
       "<table border=\"1\" class=\"dataframe\">\n",
       "  <thead>\n",
       "    <tr style=\"text-align: right;\">\n",
       "      <th></th>\n",
       "      <th>Date</th>\n",
       "      <th>Confirmed</th>\n",
       "      <th>Infected</th>\n",
       "      <th>Fatal</th>\n",
       "      <th>Recovered</th>\n",
       "    </tr>\n",
       "  </thead>\n",
       "  <tbody>\n",
       "    <tr>\n",
       "      <th>357</th>\n",
       "      <td>2021-01-28</td>\n",
       "      <td>375607</td>\n",
       "      <td>55812</td>\n",
       "      <td>5361</td>\n",
       "      <td>314434</td>\n",
       "    </tr>\n",
       "    <tr>\n",
       "      <th>358</th>\n",
       "      <td>2021-01-29</td>\n",
       "      <td>379516</td>\n",
       "      <td>53816</td>\n",
       "      <td>5452</td>\n",
       "      <td>320248</td>\n",
       "    </tr>\n",
       "    <tr>\n",
       "      <th>359</th>\n",
       "      <td>2021-01-30</td>\n",
       "      <td>383083</td>\n",
       "      <td>51945</td>\n",
       "      <td>5546</td>\n",
       "      <td>325592</td>\n",
       "    </tr>\n",
       "    <tr>\n",
       "      <th>360</th>\n",
       "      <td>2021-01-31</td>\n",
       "      <td>386742</td>\n",
       "      <td>50623</td>\n",
       "      <td>5654</td>\n",
       "      <td>330465</td>\n",
       "    </tr>\n",
       "    <tr>\n",
       "      <th>361</th>\n",
       "      <td>2021-02-01</td>\n",
       "      <td>389518</td>\n",
       "      <td>49671</td>\n",
       "      <td>5722</td>\n",
       "      <td>334125</td>\n",
       "    </tr>\n",
       "  </tbody>\n",
       "</table>\n",
       "</div>"
      ],
      "text/plain": [
       "          Date  Confirmed  Infected  Fatal  Recovered\n",
       "357 2021-01-28     375607     55812   5361     314434\n",
       "358 2021-01-29     379516     53816   5452     320248\n",
       "359 2021-01-30     383083     51945   5546     325592\n",
       "360 2021-01-31     386742     50623   5654     330465\n",
       "361 2021-02-01     389518     49671   5722     334125"
      ]
     },
     "execution_count": 1,
     "metadata": {},
     "output_type": "execute_result"
    }
   ],
   "source": [
    "# Subset for a country\n",
    "df, _ = jhu_data.records(\"Japan\")\n",
    "df.tail()\n",
    "# We can use ISO3 code etc.\n",
    "# df, _ = jhu_data.records(\"JPN\")\n",
    "# df.tail()"
   ]
  },
  {
   "cell_type": "markdown",
   "id": "patient-question",
   "metadata": {},
   "source": [
    "Province (\"prefecture\" for Japan) name can be specified."
   ]
  },
  {
   "cell_type": "code",
   "execution_count": 17,
   "id": "extreme-disabled",
   "metadata": {
    "collapsed": false,
    "execution": {
     "iopub.execute_input": "2021-02-02T15:02:32.516037Z",
     "iopub.status.busy": "2021-02-02T15:02:32.515402Z",
     "iopub.status.idle": "2021-02-02T15:02:32.593489Z",
     "shell.execute_reply": "2021-02-02T15:02:32.593810Z"
    }
   },
   "outputs": [
    {
     "data": {
      "text/html": [
       "<div>\n",
       "<style scoped>\n",
       "    .dataframe tbody tr th:only-of-type {\n",
       "        vertical-align: middle;\n",
       "    }\n",
       "\n",
       "    .dataframe tbody tr th {\n",
       "        vertical-align: top;\n",
       "    }\n",
       "\n",
       "    .dataframe thead th {\n",
       "        text-align: right;\n",
       "    }\n",
       "</style>\n",
       "<table border=\"1\" class=\"dataframe\">\n",
       "  <thead>\n",
       "    <tr style=\"text-align: right;\">\n",
       "      <th></th>\n",
       "      <th>Date</th>\n",
       "      <th>Confirmed</th>\n",
       "      <th>Infected</th>\n",
       "      <th>Fatal</th>\n",
       "      <th>Recovered</th>\n",
       "    </tr>\n",
       "  </thead>\n",
       "  <tbody>\n",
       "    <tr>\n",
       "      <th>315</th>\n",
       "      <td>2021-01-27</td>\n",
       "      <td>96507</td>\n",
       "      <td>16120</td>\n",
       "      <td>827</td>\n",
       "      <td>79560</td>\n",
       "    </tr>\n",
       "    <tr>\n",
       "      <th>316</th>\n",
       "      <td>2021-01-28</td>\n",
       "      <td>97571</td>\n",
       "      <td>14957</td>\n",
       "      <td>847</td>\n",
       "      <td>81767</td>\n",
       "    </tr>\n",
       "    <tr>\n",
       "      <th>317</th>\n",
       "      <td>2021-01-29</td>\n",
       "      <td>98439</td>\n",
       "      <td>13807</td>\n",
       "      <td>864</td>\n",
       "      <td>83768</td>\n",
       "    </tr>\n",
       "    <tr>\n",
       "      <th>318</th>\n",
       "      <td>2021-01-30</td>\n",
       "      <td>99208</td>\n",
       "      <td>13383</td>\n",
       "      <td>883</td>\n",
       "      <td>84942</td>\n",
       "    </tr>\n",
       "    <tr>\n",
       "      <th>319</th>\n",
       "      <td>2021-01-31</td>\n",
       "      <td>99841</td>\n",
       "      <td>13257</td>\n",
       "      <td>886</td>\n",
       "      <td>85698</td>\n",
       "    </tr>\n",
       "  </tbody>\n",
       "</table>\n",
       "</div>"
      ],
      "text/plain": [
       "          Date  Confirmed  Infected  Fatal  Recovered\n",
       "315 2021-01-27      96507     16120    827      79560\n",
       "316 2021-01-28      97571     14957    847      81767\n",
       "317 2021-01-29      98439     13807    864      83768\n",
       "318 2021-01-30      99208     13383    883      84942\n",
       "319 2021-01-31      99841     13257    886      85698"
      ]
     },
     "execution_count": 1,
     "metadata": {},
     "output_type": "execute_result"
    }
   ],
   "source": [
    "df, _ = jhu_data.records(\"Japan\", province=\"Tokyo\")\n",
    "df.tail()"
   ]
  },
  {
   "cell_type": "code",
   "execution_count": 18,
   "id": "appreciated-tractor",
   "metadata": {
    "collapsed": false,
    "execution": {
     "iopub.execute_input": "2021-02-02T15:02:32.596904Z",
     "iopub.status.busy": "2021-02-02T15:02:32.596487Z",
     "iopub.status.idle": "2021-02-02T15:02:32.878933Z",
     "shell.execute_reply": "2021-02-02T15:02:32.878502Z"
    }
   },
   "outputs": [
    {
     "name": "stdout",
     "output_type": "stream",
     "text": [
      "['Afghanistan', 'Albania', 'Algeria', 'Andorra', 'Angola',\n",
      " 'Antigua and Barbuda', 'Argentina', 'Armenia', 'Australia', 'Austria',\n",
      " 'Azerbaijan', 'Bahamas', 'Bahrain', 'Bangladesh', 'Barbados', 'Belarus',\n",
      " 'Belgium', 'Belize', 'Benin', 'Bermuda', 'Bhutan', 'Bolivia',\n",
      " 'Bosnia and Herzegovina', 'Botswana', 'Brazil', 'Brunei', 'Bulgaria',\n",
      " 'Burkina Faso', 'Burundi', 'Cambodia', 'Cameroon', 'Canada', 'Cape Verde',\n",
      " 'Central African Republic', 'Chad', 'Chile', 'China', 'Colombia', 'Comoros',\n",
      " 'Costa Atlantica', 'Costa Rica', \"Cote d'Ivoire\", 'Croatia', 'Cuba', 'Cyprus',\n",
      " 'Czech Republic', 'Democratic Republic of the Congo', 'Denmark', 'Djibouti',\n",
      " 'Dominica', 'Dominican Republic', 'Ecuador', 'Egypt', 'El Salvador',\n",
      " 'Equatorial Guinea', 'Eritrea', 'Estonia', 'Ethiopia', 'Fiji', 'Finland',\n",
      " 'France', 'Gabon', 'Gambia', 'Georgia', 'Germany', 'Ghana', 'Grand Princess',\n",
      " 'Greece', 'Grenada', 'Guam', 'Guatemala', 'Guinea', 'Guinea-Bissau', 'Guyana',\n",
      " 'Haiti', 'Holy See', 'Honduras', 'Hungary', 'Iceland', 'India', 'Indonesia',\n",
      " 'Iran', 'Iraq', 'Ireland', 'Israel', 'Italy', 'Jamaica', 'Japan', 'Jordan',\n",
      " 'Kazakhstan', 'Kenya', 'Kosovo', 'Kuwait', 'Kyrgyzstan', 'Laos', 'Latvia',\n",
      " 'Lebanon', 'Lesotho', 'Liberia', 'Libya', 'Liechtenstein', 'Lithuania',\n",
      " 'Luxembourg', 'MS Zaandam', 'Madagascar', 'Malawi', 'Malaysia', 'Maldives',\n",
      " 'Mali', 'Malta', 'Marshall Islands', 'Mauritania', 'Mauritius', 'Mexico',\n",
      " 'Moldova', 'Monaco', 'Mongolia', 'Montenegro', 'Morocco', 'Mozambique',\n",
      " 'Myanmar', 'Namibia', 'Nepal', 'Netherlands', 'New Zealand', 'Nicaragua',\n",
      " 'Niger', 'Nigeria', 'North Macedonia', 'Northern Mariana Islands', 'Norway',\n",
      " 'Oman', 'Pakistan', 'Palestine', 'Panama', 'Papua New Guinea', 'Paraguay',\n",
      " 'Peru', 'Philippines', 'Poland', 'Portugal', 'Puerto Rico', 'Qatar',\n",
      " 'Republic of the Congo', 'Romania', 'Russia', 'Rwanda',\n",
      " 'Saint Kitts and Nevis', 'Saint Lucia', 'Saint Vincent and the Grenadines',\n",
      " 'Samoa', 'San Marino', 'Sao Tome and Principe', 'Saudi Arabia', 'Senegal',\n",
      " 'Serbia', 'Seychelles', 'Sierra Leone', 'Singapore', 'Slovakia', 'Slovenia',\n",
      " 'Solomon Islands', 'Somalia', 'South Africa', 'South Korea', 'South Sudan',\n",
      " 'Spain', 'Sri Lanka', 'Sudan', 'Suriname', 'Swaziland', 'Sweden',\n",
      " 'Switzerland', 'Syria', 'Taiwan', 'Tajikistan', 'Tanzania', 'Thailand',\n",
      " 'Timor-Leste', 'Togo', 'Trinidad and Tobago', 'Tunisia', 'Turkey', 'Uganda',\n",
      " 'Ukraine', 'United Arab Emirates', 'United Kingdom', 'United States',\n",
      " 'Uruguay', 'Uzbekistan', 'Vanuatu', 'Venezuela', 'Vietnam',\n",
      " 'Virgin Islands, U.S.', 'Yemen', 'Zambia', 'Zimbabwe']\n"
     ]
    }
   ],
   "source": [
    "# Countries we can select\n",
    "pprint(jhu_data.countries(), compact=True)"
   ]
  },
  {
   "cell_type": "markdown",
   "id": "willing-immigration",
   "metadata": {},
   "source": [
    "`JHUData.records()` automatically complement the records, if necesssary and `auto_complement=True` (default). Each country can have either none or one or multiple complements, depending on the records and their preprocessing analysis."
   ]
  },
  {
   "cell_type": "markdown",
   "id": "fresh-course",
   "metadata": {},
   "source": [
    "We can show the specific kind of complements that were applied to the records of each country with `JHUData.show_complement()` method. The possible kinds of complement for each country are the following:  \n",
    "\n",
    "1. \"Monotonic_confirmed/fatal/recovered\" (monotonic increasing complement)  \n",
    "Force the variable show monotonic increasing.\n",
    "\n",
    "2. \"Full_recovered\" (full complement of recovered data)  \n",
    "Estimate the number of recovered cases using the value of estimated average recovery period.\n",
    "\n",
    "3. \"Partial_recovered\" (partial complement of recovered data)  \n",
    "When recovered values are not updated for some days, extrapolate the values."
   ]
  },
  {
   "cell_type": "code",
   "execution_count": 19,
   "id": "timely-spencer",
   "metadata": {
    "execution": {
     "iopub.execute_input": "2021-02-02T15:02:32.882374Z",
     "iopub.status.busy": "2021-02-02T15:02:32.881891Z",
     "iopub.status.idle": "2021-02-02T15:02:41.158915Z",
     "shell.execute_reply": "2021-02-02T15:02:41.159311Z"
    }
   },
   "outputs": [
    {
     "data": {
      "text/html": [
       "<div>\n",
       "<style scoped>\n",
       "    .dataframe tbody tr th:only-of-type {\n",
       "        vertical-align: middle;\n",
       "    }\n",
       "\n",
       "    .dataframe tbody tr th {\n",
       "        vertical-align: top;\n",
       "    }\n",
       "\n",
       "    .dataframe thead th {\n",
       "        text-align: right;\n",
       "    }\n",
       "</style>\n",
       "<table border=\"1\" class=\"dataframe\">\n",
       "  <thead>\n",
       "    <tr style=\"text-align: right;\">\n",
       "      <th></th>\n",
       "      <th>Country</th>\n",
       "      <th>Province</th>\n",
       "      <th>Monotonic_confirmed</th>\n",
       "      <th>Monotonic_fatal</th>\n",
       "      <th>Monotonic_recovered</th>\n",
       "      <th>Full_recovered</th>\n",
       "      <th>Partial_recovered</th>\n",
       "    </tr>\n",
       "  </thead>\n",
       "  <tbody>\n",
       "    <tr>\n",
       "      <th>193</th>\n",
       "      <td>South Africa</td>\n",
       "      <td>-</td>\n",
       "      <td>False</td>\n",
       "      <td>False</td>\n",
       "      <td>False</td>\n",
       "      <td>False</td>\n",
       "      <td>True</td>\n",
       "    </tr>\n",
       "    <tr>\n",
       "      <th>194</th>\n",
       "      <td>Zambia</td>\n",
       "      <td>-</td>\n",
       "      <td>False</td>\n",
       "      <td>False</td>\n",
       "      <td>False</td>\n",
       "      <td>False</td>\n",
       "      <td>True</td>\n",
       "    </tr>\n",
       "    <tr>\n",
       "      <th>195</th>\n",
       "      <td>Zimbabwe</td>\n",
       "      <td>-</td>\n",
       "      <td>True</td>\n",
       "      <td>False</td>\n",
       "      <td>False</td>\n",
       "      <td>False</td>\n",
       "      <td>True</td>\n",
       "    </tr>\n",
       "    <tr>\n",
       "      <th>196</th>\n",
       "      <td>China</td>\n",
       "      <td>-</td>\n",
       "      <td>True</td>\n",
       "      <td>False</td>\n",
       "      <td>True</td>\n",
       "      <td>False</td>\n",
       "      <td>True</td>\n",
       "    </tr>\n",
       "    <tr>\n",
       "      <th>197</th>\n",
       "      <td>Japan</td>\n",
       "      <td>-</td>\n",
       "      <td>False</td>\n",
       "      <td>False</td>\n",
       "      <td>True</td>\n",
       "      <td>False</td>\n",
       "      <td>True</td>\n",
       "    </tr>\n",
       "  </tbody>\n",
       "</table>\n",
       "</div>"
      ],
      "text/plain": [
       "          Country Province Monotonic_confirmed Monotonic_fatal  \\\n",
       "193  South Africa        -               False           False   \n",
       "194        Zambia        -               False           False   \n",
       "195      Zimbabwe        -                True           False   \n",
       "196         China        -                True           False   \n",
       "197         Japan        -               False           False   \n",
       "\n",
       "    Monotonic_recovered Full_recovered Partial_recovered  \n",
       "193               False          False              True  \n",
       "194               False          False              True  \n",
       "195               False          False              True  \n",
       "196                True          False              True  \n",
       "197                True          False              True  "
      ]
     },
     "execution_count": 1,
     "metadata": {},
     "output_type": "execute_result"
    }
   ],
   "source": [
    "# Show the details of complement for all countries\n",
    "jhu_data.show_complement().tail()"
   ]
  },
  {
   "cell_type": "code",
   "execution_count": 20,
   "id": "central-margin",
   "metadata": {
    "execution": {
     "iopub.execute_input": "2021-02-02T15:02:41.162328Z",
     "iopub.status.busy": "2021-02-02T15:02:41.161904Z",
     "iopub.status.idle": "2021-02-02T15:02:41.163913Z",
     "shell.execute_reply": "2021-02-02T15:02:41.164230Z"
    }
   },
   "outputs": [],
   "source": [
    "# For selected country\n",
    "# jhu_data.show_complement(country=\"Japan\")\n",
    "# For selected province\n",
    "# jhu_data.show_complement(country=\"Japan\", province=\"Tokyo\")\n",
    "# For selected countries\n",
    "# jhu_data.show_complement(country=[\"Greece\", \"Japan\"])"
   ]
  },
  {
   "cell_type": "markdown",
   "id": "synthetic-class",
   "metadata": {},
   "source": [
    "Note for recovery period:  \n",
    "With the global cases records, we estimate the average recovery period using `JHUData.calculate_recovery_period()`.  \n",
    "\n",
    "What we currently do is to calculate the difference between confirmed cases and fatal cases and try to match it to some recovered cases value in the future. We apply this method for every country that has valid recovery data and average the partial recovery periods in order to obtain a single (average) recovery period. During the calculations, we ignore time intervals that lead to very short (<7 days) or very long (>90 days) partial recovery periods, if these exist with high frequency (>50%) in the records. We have to assume temporarily invariable compartments for this analysis to extract an approximation of the average recovery period.\n",
    "\n",
    "Alternatively, we had tried to use linelist data to get precise value of recovery period (average of recovery date minus confirmation date for cases), but the number of records was too small."
   ]
  },
  {
   "cell_type": "code",
   "execution_count": 21,
   "id": "elementary-hazard",
   "metadata": {
    "execution": {
     "iopub.execute_input": "2021-02-02T15:02:41.167543Z",
     "iopub.status.busy": "2021-02-02T15:02:41.166951Z",
     "iopub.status.idle": "2021-02-02T15:02:44.114288Z",
     "shell.execute_reply": "2021-02-02T15:02:44.114609Z"
    }
   },
   "outputs": [
    {
     "name": "stdout",
     "output_type": "stream",
     "text": [
      "Average recovery period: 16 [days]\n"
     ]
    }
   ],
   "source": [
    "recovery_period = jhu_data.calculate_recovery_period()\n",
    "print(f\"Average recovery period: {recovery_period} [days]\")"
   ]
  },
  {
   "cell_type": "markdown",
   "id": "express-tennessee",
   "metadata": {},
   "source": [
    "### Linelist of case reports\n",
    "The number of cases is important, but linelist of case reports will helpful to understand the situation deeply. Linelist data was saved as `linelist`, an instance of `LinelistData` class. This dataset is from [Open COVID-19 Data Working Group](https://github.com/beoutbreakprepared/nCoV2019)."
   ]
  },
  {
   "cell_type": "code",
   "execution_count": 22,
   "id": "similar-disposition",
   "metadata": {
    "collapsed": false,
    "execution": {
     "iopub.execute_input": "2021-02-02T15:02:44.118398Z",
     "iopub.status.busy": "2021-02-02T15:02:44.117749Z",
     "iopub.status.idle": "2021-02-02T15:02:44.122189Z",
     "shell.execute_reply": "2021-02-02T15:02:44.122515Z"
    }
   },
   "outputs": [
    {
     "data": {
      "text/plain": [
       "covsirphy.cleaning.linelist.LinelistData"
      ]
     },
     "execution_count": 1,
     "metadata": {},
     "output_type": "execute_result"
    }
   ],
   "source": [
    "type(linelist)"
   ]
  },
  {
   "cell_type": "code",
   "execution_count": 23,
   "id": "everyday-least",
   "metadata": {
    "collapsed": false,
    "execution": {
     "iopub.execute_input": "2021-02-02T15:02:44.125779Z",
     "iopub.status.busy": "2021-02-02T15:02:44.125364Z",
     "iopub.status.idle": "2021-02-02T15:02:44.127888Z",
     "shell.execute_reply": "2021-02-02T15:02:44.128414Z"
    }
   },
   "outputs": [
    {
     "name": "stdout",
     "output_type": "stream",
     "text": [
      "Xu, B., Gutierrez, B., Mekaru, S. et al. Epidemiological data from the COVID-19 outbreak, real-time case information. Sci Data 7, 106 (2020). https://doi.org/10.1038/s41597-020-0448-0\n"
     ]
    }
   ],
   "source": [
    "# Citation\n",
    "print(linelist.citation)"
   ]
  },
  {
   "cell_type": "code",
   "execution_count": 24,
   "id": "serious-helena",
   "metadata": {
    "collapsed": false,
    "execution": {
     "iopub.execute_input": "2021-02-02T15:02:44.131767Z",
     "iopub.status.busy": "2021-02-02T15:02:44.131298Z",
     "iopub.status.idle": "2021-02-02T15:02:46.774641Z",
     "shell.execute_reply": "2021-02-02T15:02:46.774996Z"
    }
   },
   "outputs": [
    {
     "data": {
      "text/html": [
       "<div>\n",
       "<style scoped>\n",
       "    .dataframe tbody tr th:only-of-type {\n",
       "        vertical-align: middle;\n",
       "    }\n",
       "\n",
       "    .dataframe tbody tr th {\n",
       "        vertical-align: top;\n",
       "    }\n",
       "\n",
       "    .dataframe thead th {\n",
       "        text-align: right;\n",
       "    }\n",
       "</style>\n",
       "<table border=\"1\" class=\"dataframe\">\n",
       "  <thead>\n",
       "    <tr style=\"text-align: right;\">\n",
       "      <th></th>\n",
       "      <th>age</th>\n",
       "      <th>sex</th>\n",
       "      <th>province</th>\n",
       "      <th>country</th>\n",
       "      <th>date_admission_hospital</th>\n",
       "      <th>date_confirmation</th>\n",
       "      <th>symptoms</th>\n",
       "      <th>chronic_disease</th>\n",
       "      <th>outcome</th>\n",
       "      <th>date_death_or_discharge</th>\n",
       "    </tr>\n",
       "  </thead>\n",
       "  <tbody>\n",
       "    <tr>\n",
       "      <th>2676307</th>\n",
       "      <td>52</td>\n",
       "      <td>female</td>\n",
       "      <td>Lima</td>\n",
       "      <td>Peru</td>\n",
       "      <td>NaN</td>\n",
       "      <td>17.05.2020</td>\n",
       "      <td>NaN</td>\n",
       "      <td>NaN</td>\n",
       "      <td>NaN</td>\n",
       "      <td>NaN</td>\n",
       "    </tr>\n",
       "    <tr>\n",
       "      <th>2676308</th>\n",
       "      <td>52</td>\n",
       "      <td>female</td>\n",
       "      <td>Lima</td>\n",
       "      <td>Peru</td>\n",
       "      <td>NaN</td>\n",
       "      <td>17.05.2020</td>\n",
       "      <td>NaN</td>\n",
       "      <td>NaN</td>\n",
       "      <td>NaN</td>\n",
       "      <td>NaN</td>\n",
       "    </tr>\n",
       "    <tr>\n",
       "      <th>2676309</th>\n",
       "      <td>52</td>\n",
       "      <td>male</td>\n",
       "      <td>Callao</td>\n",
       "      <td>Peru</td>\n",
       "      <td>NaN</td>\n",
       "      <td>17.05.2020</td>\n",
       "      <td>NaN</td>\n",
       "      <td>NaN</td>\n",
       "      <td>NaN</td>\n",
       "      <td>NaN</td>\n",
       "    </tr>\n",
       "    <tr>\n",
       "      <th>2676310</th>\n",
       "      <td>52</td>\n",
       "      <td>male</td>\n",
       "      <td>Lima</td>\n",
       "      <td>Peru</td>\n",
       "      <td>NaN</td>\n",
       "      <td>17.05.2020</td>\n",
       "      <td>NaN</td>\n",
       "      <td>NaN</td>\n",
       "      <td>NaN</td>\n",
       "      <td>NaN</td>\n",
       "    </tr>\n",
       "    <tr>\n",
       "      <th>2676311</th>\n",
       "      <td>NaN</td>\n",
       "      <td>NaN</td>\n",
       "      <td>NaN</td>\n",
       "      <td>NaN</td>\n",
       "      <td>NaN</td>\n",
       "      <td>NaN</td>\n",
       "      <td>NaN</td>\n",
       "      <td>NaN</td>\n",
       "      <td>NaN</td>\n",
       "      <td>NaN</td>\n",
       "    </tr>\n",
       "  </tbody>\n",
       "</table>\n",
       "</div>"
      ],
      "text/plain": [
       "         age     sex province country date_admission_hospital  \\\n",
       "2676307   52  female     Lima    Peru                     NaN   \n",
       "2676308   52  female     Lima    Peru                     NaN   \n",
       "2676309   52    male   Callao    Peru                     NaN   \n",
       "2676310   52    male     Lima    Peru                     NaN   \n",
       "2676311  NaN     NaN      NaN     NaN                     NaN   \n",
       "\n",
       "        date_confirmation symptoms chronic_disease outcome  \\\n",
       "2676307        17.05.2020      NaN             NaN     NaN   \n",
       "2676308        17.05.2020      NaN             NaN     NaN   \n",
       "2676309        17.05.2020      NaN             NaN     NaN   \n",
       "2676310        17.05.2020      NaN             NaN     NaN   \n",
       "2676311               NaN      NaN             NaN     NaN   \n",
       "\n",
       "        date_death_or_discharge  \n",
       "2676307                     NaN  \n",
       "2676308                     NaN  \n",
       "2676309                     NaN  \n",
       "2676310                     NaN  \n",
       "2676311                     NaN  "
      ]
     },
     "execution_count": 1,
     "metadata": {},
     "output_type": "execute_result"
    }
   ],
   "source": [
    "# Raw dataset\n",
    "linelist.raw.tail()"
   ]
  },
  {
   "cell_type": "code",
   "execution_count": 25,
   "id": "outstanding-dietary",
   "metadata": {
    "collapsed": false,
    "execution": {
     "iopub.execute_input": "2021-02-02T15:02:46.788189Z",
     "iopub.status.busy": "2021-02-02T15:02:46.787672Z",
     "iopub.status.idle": "2021-02-02T15:02:46.790893Z",
     "shell.execute_reply": "2021-02-02T15:02:46.790458Z"
    }
   },
   "outputs": [
    {
     "data": {
      "text/html": [
       "<div>\n",
       "<style scoped>\n",
       "    .dataframe tbody tr th:only-of-type {\n",
       "        vertical-align: middle;\n",
       "    }\n",
       "\n",
       "    .dataframe tbody tr th {\n",
       "        vertical-align: top;\n",
       "    }\n",
       "\n",
       "    .dataframe thead th {\n",
       "        text-align: right;\n",
       "    }\n",
       "</style>\n",
       "<table border=\"1\" class=\"dataframe\">\n",
       "  <thead>\n",
       "    <tr style=\"text-align: right;\">\n",
       "      <th></th>\n",
       "      <th>Country</th>\n",
       "      <th>Province</th>\n",
       "      <th>Hospitalized_date</th>\n",
       "      <th>Confirmation_date</th>\n",
       "      <th>Outcome_date</th>\n",
       "      <th>Confirmed</th>\n",
       "      <th>Infected</th>\n",
       "      <th>Recovered</th>\n",
       "      <th>Fatal</th>\n",
       "      <th>Symptoms</th>\n",
       "      <th>Chronic_disease</th>\n",
       "      <th>Age</th>\n",
       "      <th>Sex</th>\n",
       "    </tr>\n",
       "  </thead>\n",
       "  <tbody>\n",
       "    <tr>\n",
       "      <th>2676306</th>\n",
       "      <td>Peru</td>\n",
       "      <td>Coronel Portillo</td>\n",
       "      <td>NaT</td>\n",
       "      <td>2020-05-17</td>\n",
       "      <td>NaT</td>\n",
       "      <td>True</td>\n",
       "      <td>False</td>\n",
       "      <td>False</td>\n",
       "      <td>False</td>\n",
       "      <td>NaN</td>\n",
       "      <td>NaN</td>\n",
       "      <td>52.0</td>\n",
       "      <td>female</td>\n",
       "    </tr>\n",
       "    <tr>\n",
       "      <th>2676307</th>\n",
       "      <td>Peru</td>\n",
       "      <td>Lima</td>\n",
       "      <td>NaT</td>\n",
       "      <td>2020-05-17</td>\n",
       "      <td>NaT</td>\n",
       "      <td>True</td>\n",
       "      <td>False</td>\n",
       "      <td>False</td>\n",
       "      <td>False</td>\n",
       "      <td>NaN</td>\n",
       "      <td>NaN</td>\n",
       "      <td>52.0</td>\n",
       "      <td>female</td>\n",
       "    </tr>\n",
       "    <tr>\n",
       "      <th>2676308</th>\n",
       "      <td>Peru</td>\n",
       "      <td>Lima</td>\n",
       "      <td>NaT</td>\n",
       "      <td>2020-05-17</td>\n",
       "      <td>NaT</td>\n",
       "      <td>True</td>\n",
       "      <td>False</td>\n",
       "      <td>False</td>\n",
       "      <td>False</td>\n",
       "      <td>NaN</td>\n",
       "      <td>NaN</td>\n",
       "      <td>52.0</td>\n",
       "      <td>female</td>\n",
       "    </tr>\n",
       "    <tr>\n",
       "      <th>2676309</th>\n",
       "      <td>Peru</td>\n",
       "      <td>Callao</td>\n",
       "      <td>NaT</td>\n",
       "      <td>2020-05-17</td>\n",
       "      <td>NaT</td>\n",
       "      <td>True</td>\n",
       "      <td>False</td>\n",
       "      <td>False</td>\n",
       "      <td>False</td>\n",
       "      <td>NaN</td>\n",
       "      <td>NaN</td>\n",
       "      <td>52.0</td>\n",
       "      <td>male</td>\n",
       "    </tr>\n",
       "    <tr>\n",
       "      <th>2676310</th>\n",
       "      <td>Peru</td>\n",
       "      <td>Lima</td>\n",
       "      <td>NaT</td>\n",
       "      <td>2020-05-17</td>\n",
       "      <td>NaT</td>\n",
       "      <td>True</td>\n",
       "      <td>False</td>\n",
       "      <td>False</td>\n",
       "      <td>False</td>\n",
       "      <td>NaN</td>\n",
       "      <td>NaN</td>\n",
       "      <td>52.0</td>\n",
       "      <td>male</td>\n",
       "    </tr>\n",
       "  </tbody>\n",
       "</table>\n",
       "</div>"
      ],
      "text/plain": [
       "        Country          Province Hospitalized_date Confirmation_date  \\\n",
       "2676306    Peru  Coronel Portillo               NaT        2020-05-17   \n",
       "2676307    Peru              Lima               NaT        2020-05-17   \n",
       "2676308    Peru              Lima               NaT        2020-05-17   \n",
       "2676309    Peru            Callao               NaT        2020-05-17   \n",
       "2676310    Peru              Lima               NaT        2020-05-17   \n",
       "\n",
       "        Outcome_date  Confirmed  Infected  Recovered  Fatal Symptoms  \\\n",
       "2676306          NaT       True     False      False  False      NaN   \n",
       "2676307          NaT       True     False      False  False      NaN   \n",
       "2676308          NaT       True     False      False  False      NaN   \n",
       "2676309          NaT       True     False      False  False      NaN   \n",
       "2676310          NaT       True     False      False  False      NaN   \n",
       "\n",
       "        Chronic_disease   Age     Sex  \n",
       "2676306             NaN  52.0  female  \n",
       "2676307             NaN  52.0  female  \n",
       "2676308             NaN  52.0  female  \n",
       "2676309             NaN  52.0    male  \n",
       "2676310             NaN  52.0    male  "
      ]
     },
     "execution_count": 1,
     "metadata": {},
     "output_type": "execute_result"
    }
   ],
   "source": [
    "# Cleaned dataset\n",
    "linelist.cleaned().tail()"
   ]
  },
  {
   "cell_type": "code",
   "execution_count": 26,
   "id": "finished-package",
   "metadata": {
    "collapsed": false,
    "execution": {
     "iopub.execute_input": "2021-02-02T15:02:46.794244Z",
     "iopub.status.busy": "2021-02-02T15:02:46.793643Z",
     "iopub.status.idle": "2021-02-02T15:02:47.040189Z",
     "shell.execute_reply": "2021-02-02T15:02:47.040543Z"
    }
   },
   "outputs": [
    {
     "data": {
      "text/html": [
       "<div>\n",
       "<style scoped>\n",
       "    .dataframe tbody tr th:only-of-type {\n",
       "        vertical-align: middle;\n",
       "    }\n",
       "\n",
       "    .dataframe tbody tr th {\n",
       "        vertical-align: top;\n",
       "    }\n",
       "\n",
       "    .dataframe thead th {\n",
       "        text-align: right;\n",
       "    }\n",
       "</style>\n",
       "<table border=\"1\" class=\"dataframe\">\n",
       "  <thead>\n",
       "    <tr style=\"text-align: right;\">\n",
       "      <th></th>\n",
       "      <th>Hospitalized_date</th>\n",
       "      <th>Confirmation_date</th>\n",
       "      <th>Outcome_date</th>\n",
       "      <th>Confirmed</th>\n",
       "      <th>Infected</th>\n",
       "      <th>Recovered</th>\n",
       "      <th>Fatal</th>\n",
       "      <th>Symptoms</th>\n",
       "      <th>Chronic_disease</th>\n",
       "      <th>Age</th>\n",
       "      <th>Sex</th>\n",
       "    </tr>\n",
       "  </thead>\n",
       "  <tbody>\n",
       "    <tr>\n",
       "      <th>107</th>\n",
       "      <td>NaT</td>\n",
       "      <td>2020-01-30</td>\n",
       "      <td>NaT</td>\n",
       "      <td>True</td>\n",
       "      <td>False</td>\n",
       "      <td>False</td>\n",
       "      <td>False</td>\n",
       "      <td>NaN</td>\n",
       "      <td>NaN</td>\n",
       "      <td>NaN</td>\n",
       "      <td>female</td>\n",
       "    </tr>\n",
       "    <tr>\n",
       "      <th>108</th>\n",
       "      <td>NaT</td>\n",
       "      <td>2020-01-24</td>\n",
       "      <td>NaT</td>\n",
       "      <td>True</td>\n",
       "      <td>False</td>\n",
       "      <td>True</td>\n",
       "      <td>False</td>\n",
       "      <td>fever:pneumonia:sore throat</td>\n",
       "      <td>NaN</td>\n",
       "      <td>40.0</td>\n",
       "      <td>male</td>\n",
       "    </tr>\n",
       "    <tr>\n",
       "      <th>109</th>\n",
       "      <td>2020-10-01</td>\n",
       "      <td>2020-01-15</td>\n",
       "      <td>2020-01-15</td>\n",
       "      <td>True</td>\n",
       "      <td>False</td>\n",
       "      <td>True</td>\n",
       "      <td>False</td>\n",
       "      <td>cough:fever:sore throat</td>\n",
       "      <td>NaN</td>\n",
       "      <td>30.0</td>\n",
       "      <td>male</td>\n",
       "    </tr>\n",
       "    <tr>\n",
       "      <th>110</th>\n",
       "      <td>NaT</td>\n",
       "      <td>2020-01-25</td>\n",
       "      <td>NaT</td>\n",
       "      <td>True</td>\n",
       "      <td>False</td>\n",
       "      <td>False</td>\n",
       "      <td>False</td>\n",
       "      <td>cough:fever</td>\n",
       "      <td>NaN</td>\n",
       "      <td>NaN</td>\n",
       "      <td>female</td>\n",
       "    </tr>\n",
       "    <tr>\n",
       "      <th>111</th>\n",
       "      <td>NaT</td>\n",
       "      <td>2020-01-26</td>\n",
       "      <td>NaT</td>\n",
       "      <td>True</td>\n",
       "      <td>False</td>\n",
       "      <td>False</td>\n",
       "      <td>False</td>\n",
       "      <td>fever:joint pain:pneumonia</td>\n",
       "      <td>NaN</td>\n",
       "      <td>40.0</td>\n",
       "      <td>male</td>\n",
       "    </tr>\n",
       "  </tbody>\n",
       "</table>\n",
       "</div>"
      ],
      "text/plain": [
       "    Hospitalized_date Confirmation_date Outcome_date  Confirmed  Infected  \\\n",
       "107               NaT        2020-01-30          NaT       True     False   \n",
       "108               NaT        2020-01-24          NaT       True     False   \n",
       "109        2020-10-01        2020-01-15   2020-01-15       True     False   \n",
       "110               NaT        2020-01-25          NaT       True     False   \n",
       "111               NaT        2020-01-26          NaT       True     False   \n",
       "\n",
       "     Recovered  Fatal                     Symptoms Chronic_disease   Age  \\\n",
       "107      False  False                          NaN             NaN   NaN   \n",
       "108       True  False  fever:pneumonia:sore throat             NaN  40.0   \n",
       "109       True  False      cough:fever:sore throat             NaN  30.0   \n",
       "110      False  False                  cough:fever             NaN   NaN   \n",
       "111      False  False   fever:joint pain:pneumonia             NaN  40.0   \n",
       "\n",
       "        Sex  \n",
       "107  female  \n",
       "108    male  \n",
       "109    male  \n",
       "110  female  \n",
       "111    male  "
      ]
     },
     "execution_count": 1,
     "metadata": {},
     "output_type": "execute_result"
    }
   ],
   "source": [
    "# Subset for specified area\n",
    "linelist.subset(\"Japan\", province=\"Tokyo\").tail()"
   ]
  },
  {
   "cell_type": "code",
   "execution_count": 27,
   "id": "fuzzy-topic",
   "metadata": {
    "collapsed": false,
    "execution": {
     "iopub.execute_input": "2021-02-02T15:02:47.043495Z",
     "iopub.status.busy": "2021-02-02T15:02:47.043059Z",
     "iopub.status.idle": "2021-02-02T15:02:47.180976Z",
     "shell.execute_reply": "2021-02-02T15:02:47.181328Z"
    }
   },
   "outputs": [
    {
     "data": {
      "text/html": [
       "<div>\n",
       "<style scoped>\n",
       "    .dataframe tbody tr th:only-of-type {\n",
       "        vertical-align: middle;\n",
       "    }\n",
       "\n",
       "    .dataframe tbody tr th {\n",
       "        vertical-align: top;\n",
       "    }\n",
       "\n",
       "    .dataframe thead th {\n",
       "        text-align: right;\n",
       "    }\n",
       "</style>\n",
       "<table border=\"1\" class=\"dataframe\">\n",
       "  <thead>\n",
       "    <tr style=\"text-align: right;\">\n",
       "      <th></th>\n",
       "      <th>Country</th>\n",
       "      <th>Province</th>\n",
       "      <th>Hospitalized_date</th>\n",
       "      <th>Confirmation_date</th>\n",
       "      <th>Recovered_date</th>\n",
       "      <th>Symptoms</th>\n",
       "      <th>Chronic_disease</th>\n",
       "      <th>Age</th>\n",
       "      <th>Sex</th>\n",
       "    </tr>\n",
       "  </thead>\n",
       "  <tbody>\n",
       "    <tr>\n",
       "      <th>272</th>\n",
       "      <td>Singapore</td>\n",
       "      <td>-</td>\n",
       "      <td>2020-02-02</td>\n",
       "      <td>2020-02-06</td>\n",
       "      <td>2020-02-17</td>\n",
       "      <td>NaN</td>\n",
       "      <td>NaN</td>\n",
       "      <td>39.0</td>\n",
       "      <td>female</td>\n",
       "    </tr>\n",
       "    <tr>\n",
       "      <th>273</th>\n",
       "      <td>Malaysia</td>\n",
       "      <td>Johor</td>\n",
       "      <td>NaT</td>\n",
       "      <td>2020-01-25</td>\n",
       "      <td>2020-02-08</td>\n",
       "      <td>cough:fever</td>\n",
       "      <td>NaN</td>\n",
       "      <td>40.0</td>\n",
       "      <td>male</td>\n",
       "    </tr>\n",
       "    <tr>\n",
       "      <th>274</th>\n",
       "      <td>China</td>\n",
       "      <td>Gansu</td>\n",
       "      <td>2020-07-02</td>\n",
       "      <td>2020-02-08</td>\n",
       "      <td>2020-02-17</td>\n",
       "      <td>diarrhea</td>\n",
       "      <td>NaN</td>\n",
       "      <td>1.0</td>\n",
       "      <td>female</td>\n",
       "    </tr>\n",
       "    <tr>\n",
       "      <th>275</th>\n",
       "      <td>Canada</td>\n",
       "      <td>Ontario</td>\n",
       "      <td>NaT</td>\n",
       "      <td>2020-01-25</td>\n",
       "      <td>2020-01-31</td>\n",
       "      <td>NaN</td>\n",
       "      <td>hypertension</td>\n",
       "      <td>NaN</td>\n",
       "      <td>male</td>\n",
       "    </tr>\n",
       "    <tr>\n",
       "      <th>276</th>\n",
       "      <td>Canada</td>\n",
       "      <td>Ontario</td>\n",
       "      <td>NaT</td>\n",
       "      <td>2020-01-31</td>\n",
       "      <td>2020-02-19</td>\n",
       "      <td>NaN</td>\n",
       "      <td>NaN</td>\n",
       "      <td>NaN</td>\n",
       "      <td>female</td>\n",
       "    </tr>\n",
       "  </tbody>\n",
       "</table>\n",
       "</div>"
      ],
      "text/plain": [
       "       Country Province Hospitalized_date Confirmation_date Recovered_date  \\\n",
       "272  Singapore        -        2020-02-02        2020-02-06     2020-02-17   \n",
       "273   Malaysia    Johor               NaT        2020-01-25     2020-02-08   \n",
       "274      China    Gansu        2020-07-02        2020-02-08     2020-02-17   \n",
       "275     Canada  Ontario               NaT        2020-01-25     2020-01-31   \n",
       "276     Canada  Ontario               NaT        2020-01-31     2020-02-19   \n",
       "\n",
       "        Symptoms Chronic_disease   Age     Sex  \n",
       "272          NaN             NaN  39.0  female  \n",
       "273  cough:fever             NaN  40.0    male  \n",
       "274     diarrhea             NaN   1.0  female  \n",
       "275          NaN    hypertension   NaN    male  \n",
       "276          NaN             NaN   NaN  female  "
      ]
     },
     "execution_count": 1,
     "metadata": {},
     "output_type": "execute_result"
    }
   ],
   "source": [
    "# Subset for outcome (\"Recovered\" or \"Fatal\")\n",
    "linelist.closed(outcome=\"Recovered\").tail()"
   ]
  },
  {
   "cell_type": "markdown",
   "id": "ignored-deployment",
   "metadata": {},
   "source": [
    "As the median value of the period from confirmation to recovery, we can calculate recovery period."
   ]
  },
  {
   "cell_type": "code",
   "execution_count": 28,
   "id": "broken-publicity",
   "metadata": {
    "collapsed": false,
    "execution": {
     "iopub.execute_input": "2021-02-02T15:02:47.184393Z",
     "iopub.status.busy": "2021-02-02T15:02:47.183959Z",
     "iopub.status.idle": "2021-02-02T15:02:47.259887Z",
     "shell.execute_reply": "2021-02-02T15:02:47.260237Z"
    }
   },
   "outputs": [
    {
     "data": {
      "text/plain": [
       "12"
      ]
     },
     "execution_count": 1,
     "metadata": {},
     "output_type": "execute_result"
    }
   ],
   "source": [
    "# Recovery period (integer) [days]\n",
    "linelist.recovery_period()"
   ]
  },
  {
   "cell_type": "markdown",
   "id": "flush-mauritius",
   "metadata": {},
   "source": [
    "### Population in each country\n",
    "Population values are necessary to calculate the number of susceptible people. Susceptible is a variable of SIR-derived models. This dataset was saved as `population_data`, an instance of `PopulationData` class."
   ]
  },
  {
   "cell_type": "code",
   "execution_count": 29,
   "id": "scenic-fellow",
   "metadata": {
    "collapsed": false,
    "execution": {
     "iopub.execute_input": "2021-02-02T15:02:47.264040Z",
     "iopub.status.busy": "2021-02-02T15:02:47.263440Z",
     "iopub.status.idle": "2021-02-02T15:02:47.266626Z",
     "shell.execute_reply": "2021-02-02T15:02:47.266197Z"
    }
   },
   "outputs": [
    {
     "data": {
      "text/plain": [
       "covsirphy.cleaning.population.PopulationData"
      ]
     },
     "execution_count": 1,
     "metadata": {},
     "output_type": "execute_result"
    }
   ],
   "source": [
    "type(population_data)"
   ]
  },
  {
   "cell_type": "code",
   "execution_count": 30,
   "id": "romance-hungary",
   "metadata": {
    "collapsed": false,
    "execution": {
     "iopub.execute_input": "2021-02-02T15:02:47.269912Z",
     "iopub.status.busy": "2021-02-02T15:02:47.269424Z",
     "iopub.status.idle": "2021-02-02T15:02:47.271938Z",
     "shell.execute_reply": "2021-02-02T15:02:47.272254Z"
    },
    "tags": []
   },
   "outputs": [
    {
     "name": "stdout",
     "output_type": "stream",
     "text": [
      "(Secondary source) Guidotti, E., Ardia, D., (2020), \"COVID-19 Data Hub\", Journal of Open Source Software 5(51):2376, doi: 10.21105/joss.02376.\n"
     ]
    }
   ],
   "source": [
    "# Description/citation\n",
    "print(population_data.citation)"
   ]
  },
  {
   "cell_type": "code",
   "execution_count": 31,
   "id": "streaming-egyptian",
   "metadata": {
    "collapsed": false,
    "execution": {
     "iopub.execute_input": "2021-02-02T15:02:47.275031Z",
     "iopub.status.busy": "2021-02-02T15:02:47.274607Z",
     "iopub.status.idle": "2021-02-02T15:02:47.277378Z",
     "shell.execute_reply": "2021-02-02T15:02:47.276795Z"
    }
   },
   "outputs": [],
   "source": [
    "# Raw data (the same as jhu_data)\n",
    "# population_data.raw.tail()"
   ]
  },
  {
   "cell_type": "code",
   "execution_count": 32,
   "id": "verbal-intellectual",
   "metadata": {
    "collapsed": false,
    "execution": {
     "iopub.execute_input": "2021-02-02T15:02:47.286202Z",
     "iopub.status.busy": "2021-02-02T15:02:47.285554Z",
     "iopub.status.idle": "2021-02-02T15:02:47.288877Z",
     "shell.execute_reply": "2021-02-02T15:02:47.288455Z"
    }
   },
   "outputs": [
    {
     "data": {
      "text/html": [
       "<div>\n",
       "<style scoped>\n",
       "    .dataframe tbody tr th:only-of-type {\n",
       "        vertical-align: middle;\n",
       "    }\n",
       "\n",
       "    .dataframe tbody tr th {\n",
       "        vertical-align: top;\n",
       "    }\n",
       "\n",
       "    .dataframe thead th {\n",
       "        text-align: right;\n",
       "    }\n",
       "</style>\n",
       "<table border=\"1\" class=\"dataframe\">\n",
       "  <thead>\n",
       "    <tr style=\"text-align: right;\">\n",
       "      <th></th>\n",
       "      <th>ISO3</th>\n",
       "      <th>Country</th>\n",
       "      <th>Province</th>\n",
       "      <th>Date</th>\n",
       "      <th>Population</th>\n",
       "    </tr>\n",
       "  </thead>\n",
       "  <tbody>\n",
       "    <tr>\n",
       "      <th>342736</th>\n",
       "      <td>COL</td>\n",
       "      <td>Colombia</td>\n",
       "      <td>Vichada</td>\n",
       "      <td>2021-01-29</td>\n",
       "      <td>107808</td>\n",
       "    </tr>\n",
       "    <tr>\n",
       "      <th>342737</th>\n",
       "      <td>COL</td>\n",
       "      <td>Colombia</td>\n",
       "      <td>Vichada</td>\n",
       "      <td>2021-01-30</td>\n",
       "      <td>107808</td>\n",
       "    </tr>\n",
       "    <tr>\n",
       "      <th>342738</th>\n",
       "      <td>COL</td>\n",
       "      <td>Colombia</td>\n",
       "      <td>Vichada</td>\n",
       "      <td>2021-01-31</td>\n",
       "      <td>107808</td>\n",
       "    </tr>\n",
       "    <tr>\n",
       "      <th>342739</th>\n",
       "      <td>COL</td>\n",
       "      <td>Colombia</td>\n",
       "      <td>Vichada</td>\n",
       "      <td>2021-02-01</td>\n",
       "      <td>107808</td>\n",
       "    </tr>\n",
       "    <tr>\n",
       "      <th>342740</th>\n",
       "      <td>COL</td>\n",
       "      <td>Colombia</td>\n",
       "      <td>Vichada</td>\n",
       "      <td>2021-02-02</td>\n",
       "      <td>107808</td>\n",
       "    </tr>\n",
       "  </tbody>\n",
       "</table>\n",
       "</div>"
      ],
      "text/plain": [
       "       ISO3   Country Province       Date  Population\n",
       "342736  COL  Colombia  Vichada 2021-01-29      107808\n",
       "342737  COL  Colombia  Vichada 2021-01-30      107808\n",
       "342738  COL  Colombia  Vichada 2021-01-31      107808\n",
       "342739  COL  Colombia  Vichada 2021-02-01      107808\n",
       "342740  COL  Colombia  Vichada 2021-02-02      107808"
      ]
     },
     "execution_count": 1,
     "metadata": {},
     "output_type": "execute_result"
    }
   ],
   "source": [
    "# Cleaned data\n",
    "population_data.cleaned().tail()"
   ]
  },
  {
   "cell_type": "markdown",
   "id": "private-chosen",
   "metadata": {},
   "source": [
    "We will get the population values with `PopulationData.value()`."
   ]
  },
  {
   "cell_type": "code",
   "execution_count": 33,
   "id": "optional-ceremony",
   "metadata": {
    "collapsed": false,
    "execution": {
     "iopub.execute_input": "2021-02-02T15:02:47.292509Z",
     "iopub.status.busy": "2021-02-02T15:02:47.291972Z",
     "iopub.status.idle": "2021-02-02T15:02:47.308277Z",
     "shell.execute_reply": "2021-02-02T15:02:47.308632Z"
    }
   },
   "outputs": [
    {
     "data": {
      "text/plain": [
       "126529100"
      ]
     },
     "execution_count": 1,
     "metadata": {},
     "output_type": "execute_result"
    }
   ],
   "source": [
    "# In a country\n",
    "population_data.value(\"Japan\", province=None)\n",
    "# In a country with ISO3 code\n",
    "# population_data.value(\"JPN\", province=None)\n",
    "# In a province (prefecture)\n",
    "# population_data.value(\"Japan\", province=\"Tokyo\")"
   ]
  },
  {
   "cell_type": "markdown",
   "id": "accepted-austria",
   "metadata": {},
   "source": [
    "We can update the population values."
   ]
  },
  {
   "cell_type": "code",
   "execution_count": 34,
   "id": "coordinate-phrase",
   "metadata": {
    "collapsed": false,
    "execution": {
     "iopub.execute_input": "2021-02-02T15:02:47.312654Z",
     "iopub.status.busy": "2021-02-02T15:02:47.312177Z",
     "iopub.status.idle": "2021-02-02T15:02:47.429136Z",
     "shell.execute_reply": "2021-02-02T15:02:47.428474Z"
    }
   },
   "outputs": [
    {
     "name": "stdout",
     "output_type": "stream",
     "text": [
      "Before: 13942856\n",
      " After: 14002973\n"
     ]
    }
   ],
   "source": [
    "# Before\n",
    "population_before = population_data.value(\"Japan\", province=\"Tokyo\")\n",
    "print(f\"Before: {population_before}\")\n",
    "# Register population value of Tokyo in Japan\n",
    "# https://www.metro.tokyo.lg.jp/tosei/hodohappyo/press/2020/06/11/07.html\n",
    "population_data.update(14_002_973, \"Japan\", province=\"Tokyo\")\n",
    "population_after = population_data.value(\"Japan\", province=\"Tokyo\")\n",
    "print(f\" After: {population_after}\")"
   ]
  },
  {
   "cell_type": "markdown",
   "id": "limiting-brazil",
   "metadata": {},
   "source": [
    "### Government Response Tracker (OxCGRT)\n",
    "Government responses are tracked with [Oxford Covid-19 Government Response Tracker (OxCGRT)](https://github.com/OxCGRT/covid-policy-tracker). Because government responses and activities of persons change the parameter values of SIR-derived models, this dataset is significant when we try to forcast the number of cases.  \n",
    "With `DataLoader` class, the dataset was retrieved via [COVID-19 Data Hub](https://covid19datahub.io/) and saved as `oxcgrt_data`, an instance of `OxCGRTData` class."
   ]
  },
  {
   "cell_type": "code",
   "execution_count": 35,
   "id": "parliamentary-circus",
   "metadata": {
    "collapsed": false,
    "execution": {
     "iopub.execute_input": "2021-02-02T15:02:47.433203Z",
     "iopub.status.busy": "2021-02-02T15:02:47.432516Z",
     "iopub.status.idle": "2021-02-02T15:02:47.435853Z",
     "shell.execute_reply": "2021-02-02T15:02:47.435408Z"
    }
   },
   "outputs": [
    {
     "data": {
      "text/plain": [
       "covsirphy.cleaning.oxcgrt.OxCGRTData"
      ]
     },
     "execution_count": 1,
     "metadata": {},
     "output_type": "execute_result"
    }
   ],
   "source": [
    "type(oxcgrt_data)"
   ]
  },
  {
   "cell_type": "code",
   "execution_count": 36,
   "id": "coral-visiting",
   "metadata": {
    "collapsed": false,
    "execution": {
     "iopub.execute_input": "2021-02-02T15:02:47.439030Z",
     "iopub.status.busy": "2021-02-02T15:02:47.438570Z",
     "iopub.status.idle": "2021-02-02T15:02:47.441123Z",
     "shell.execute_reply": "2021-02-02T15:02:47.440685Z"
    },
    "tags": []
   },
   "outputs": [
    {
     "name": "stdout",
     "output_type": "stream",
     "text": [
      "(Secondary source) Guidotti, E., Ardia, D., (2020), \"COVID-19 Data Hub\", Journal of Open Source Software 5(51):2376, doi: 10.21105/joss.02376.\n"
     ]
    }
   ],
   "source": [
    "# Description/citation\n",
    "print(oxcgrt_data.citation)"
   ]
  },
  {
   "cell_type": "code",
   "execution_count": 37,
   "id": "incomplete-algorithm",
   "metadata": {
    "collapsed": false,
    "execution": {
     "iopub.execute_input": "2021-02-02T15:02:47.444102Z",
     "iopub.status.busy": "2021-02-02T15:02:47.443601Z",
     "iopub.status.idle": "2021-02-02T15:02:47.446208Z",
     "shell.execute_reply": "2021-02-02T15:02:47.445783Z"
    }
   },
   "outputs": [],
   "source": [
    "# Raw data (the same as jhu_data)\n",
    "# oxcgrt_data.raw.tail()"
   ]
  },
  {
   "cell_type": "code",
   "execution_count": 38,
   "id": "floral-benchmark",
   "metadata": {
    "collapsed": false,
    "execution": {
     "iopub.execute_input": "2021-02-02T15:02:47.456896Z",
     "iopub.status.busy": "2021-02-02T15:02:47.456100Z",
     "iopub.status.idle": "2021-02-02T15:02:47.459320Z",
     "shell.execute_reply": "2021-02-02T15:02:47.459668Z"
    }
   },
   "outputs": [
    {
     "data": {
      "text/html": [
       "<div>\n",
       "<style scoped>\n",
       "    .dataframe tbody tr th:only-of-type {\n",
       "        vertical-align: middle;\n",
       "    }\n",
       "\n",
       "    .dataframe tbody tr th {\n",
       "        vertical-align: top;\n",
       "    }\n",
       "\n",
       "    .dataframe thead th {\n",
       "        text-align: right;\n",
       "    }\n",
       "</style>\n",
       "<table border=\"1\" class=\"dataframe\">\n",
       "  <thead>\n",
       "    <tr style=\"text-align: right;\">\n",
       "      <th></th>\n",
       "      <th>Date</th>\n",
       "      <th>Country</th>\n",
       "      <th>ISO3</th>\n",
       "      <th>School_closing</th>\n",
       "      <th>Workplace_closing</th>\n",
       "      <th>Cancel_events</th>\n",
       "      <th>Gatherings_restrictions</th>\n",
       "      <th>Transport_closing</th>\n",
       "      <th>Stay_home_restrictions</th>\n",
       "      <th>Internal_movement_restrictions</th>\n",
       "      <th>International_movement_restrictions</th>\n",
       "      <th>Information_campaigns</th>\n",
       "      <th>Testing_policy</th>\n",
       "      <th>Contact_tracing</th>\n",
       "      <th>Stringency_index</th>\n",
       "    </tr>\n",
       "  </thead>\n",
       "  <tbody>\n",
       "    <tr>\n",
       "      <th>10047</th>\n",
       "      <td>2021-01-29</td>\n",
       "      <td>Colombia</td>\n",
       "      <td>COL</td>\n",
       "      <td>3</td>\n",
       "      <td>1</td>\n",
       "      <td>1</td>\n",
       "      <td>3</td>\n",
       "      <td>1</td>\n",
       "      <td>1</td>\n",
       "      <td>1</td>\n",
       "      <td>4</td>\n",
       "      <td>2</td>\n",
       "      <td>2</td>\n",
       "      <td>2</td>\n",
       "      <td>81.02</td>\n",
       "    </tr>\n",
       "    <tr>\n",
       "      <th>10048</th>\n",
       "      <td>2021-01-30</td>\n",
       "      <td>Colombia</td>\n",
       "      <td>COL</td>\n",
       "      <td>3</td>\n",
       "      <td>1</td>\n",
       "      <td>1</td>\n",
       "      <td>3</td>\n",
       "      <td>1</td>\n",
       "      <td>1</td>\n",
       "      <td>1</td>\n",
       "      <td>4</td>\n",
       "      <td>2</td>\n",
       "      <td>2</td>\n",
       "      <td>2</td>\n",
       "      <td>81.02</td>\n",
       "    </tr>\n",
       "    <tr>\n",
       "      <th>10049</th>\n",
       "      <td>2021-01-31</td>\n",
       "      <td>Colombia</td>\n",
       "      <td>COL</td>\n",
       "      <td>3</td>\n",
       "      <td>1</td>\n",
       "      <td>1</td>\n",
       "      <td>3</td>\n",
       "      <td>1</td>\n",
       "      <td>1</td>\n",
       "      <td>1</td>\n",
       "      <td>4</td>\n",
       "      <td>2</td>\n",
       "      <td>2</td>\n",
       "      <td>2</td>\n",
       "      <td>81.02</td>\n",
       "    </tr>\n",
       "    <tr>\n",
       "      <th>10050</th>\n",
       "      <td>2021-02-01</td>\n",
       "      <td>Colombia</td>\n",
       "      <td>COL</td>\n",
       "      <td>3</td>\n",
       "      <td>1</td>\n",
       "      <td>1</td>\n",
       "      <td>3</td>\n",
       "      <td>1</td>\n",
       "      <td>1</td>\n",
       "      <td>1</td>\n",
       "      <td>4</td>\n",
       "      <td>2</td>\n",
       "      <td>2</td>\n",
       "      <td>2</td>\n",
       "      <td>81.02</td>\n",
       "    </tr>\n",
       "    <tr>\n",
       "      <th>10051</th>\n",
       "      <td>2021-02-02</td>\n",
       "      <td>Colombia</td>\n",
       "      <td>COL</td>\n",
       "      <td>3</td>\n",
       "      <td>1</td>\n",
       "      <td>1</td>\n",
       "      <td>3</td>\n",
       "      <td>1</td>\n",
       "      <td>1</td>\n",
       "      <td>1</td>\n",
       "      <td>4</td>\n",
       "      <td>2</td>\n",
       "      <td>2</td>\n",
       "      <td>2</td>\n",
       "      <td>81.02</td>\n",
       "    </tr>\n",
       "  </tbody>\n",
       "</table>\n",
       "</div>"
      ],
      "text/plain": [
       "            Date   Country ISO3  School_closing  Workplace_closing  \\\n",
       "10047 2021-01-29  Colombia  COL               3                  1   \n",
       "10048 2021-01-30  Colombia  COL               3                  1   \n",
       "10049 2021-01-31  Colombia  COL               3                  1   \n",
       "10050 2021-02-01  Colombia  COL               3                  1   \n",
       "10051 2021-02-02  Colombia  COL               3                  1   \n",
       "\n",
       "       Cancel_events  Gatherings_restrictions  Transport_closing  \\\n",
       "10047              1                        3                  1   \n",
       "10048              1                        3                  1   \n",
       "10049              1                        3                  1   \n",
       "10050              1                        3                  1   \n",
       "10051              1                        3                  1   \n",
       "\n",
       "       Stay_home_restrictions  Internal_movement_restrictions  \\\n",
       "10047                       1                               1   \n",
       "10048                       1                               1   \n",
       "10049                       1                               1   \n",
       "10050                       1                               1   \n",
       "10051                       1                               1   \n",
       "\n",
       "       International_movement_restrictions  Information_campaigns  \\\n",
       "10047                                    4                      2   \n",
       "10048                                    4                      2   \n",
       "10049                                    4                      2   \n",
       "10050                                    4                      2   \n",
       "10051                                    4                      2   \n",
       "\n",
       "       Testing_policy  Contact_tracing  Stringency_index  \n",
       "10047               2                2             81.02  \n",
       "10048               2                2             81.02  \n",
       "10049               2                2             81.02  \n",
       "10050               2                2             81.02  \n",
       "10051               2                2             81.02  "
      ]
     },
     "execution_count": 1,
     "metadata": {},
     "output_type": "execute_result"
    }
   ],
   "source": [
    "# Cleaned data\n",
    "oxcgrt_data.cleaned().tail()"
   ]
  },
  {
   "cell_type": "code",
   "execution_count": 39,
   "id": "lonely-certification",
   "metadata": {
    "collapsed": false,
    "execution": {
     "iopub.execute_input": "2021-02-02T15:02:47.463002Z",
     "iopub.status.busy": "2021-02-02T15:02:47.462544Z",
     "iopub.status.idle": "2021-02-02T15:02:47.637367Z",
     "shell.execute_reply": "2021-02-02T15:02:47.636938Z"
    }
   },
   "outputs": [
    {
     "data": {
      "text/html": [
       "<div>\n",
       "<style scoped>\n",
       "    .dataframe tbody tr th:only-of-type {\n",
       "        vertical-align: middle;\n",
       "    }\n",
       "\n",
       "    .dataframe tbody tr th {\n",
       "        vertical-align: top;\n",
       "    }\n",
       "\n",
       "    .dataframe thead th {\n",
       "        text-align: right;\n",
       "    }\n",
       "</style>\n",
       "<table border=\"1\" class=\"dataframe\">\n",
       "  <thead>\n",
       "    <tr style=\"text-align: right;\">\n",
       "      <th></th>\n",
       "      <th>Date</th>\n",
       "      <th>School_closing</th>\n",
       "      <th>Workplace_closing</th>\n",
       "      <th>Cancel_events</th>\n",
       "      <th>Gatherings_restrictions</th>\n",
       "      <th>Transport_closing</th>\n",
       "      <th>Stay_home_restrictions</th>\n",
       "      <th>Internal_movement_restrictions</th>\n",
       "      <th>International_movement_restrictions</th>\n",
       "      <th>Information_campaigns</th>\n",
       "      <th>Testing_policy</th>\n",
       "      <th>Contact_tracing</th>\n",
       "      <th>Stringency_index</th>\n",
       "    </tr>\n",
       "  </thead>\n",
       "  <tbody>\n",
       "    <tr>\n",
       "      <th>394</th>\n",
       "      <td>2021-01-29</td>\n",
       "      <td>1</td>\n",
       "      <td>1</td>\n",
       "      <td>1</td>\n",
       "      <td>0</td>\n",
       "      <td>1</td>\n",
       "      <td>1</td>\n",
       "      <td>1</td>\n",
       "      <td>4</td>\n",
       "      <td>2</td>\n",
       "      <td>2</td>\n",
       "      <td>1</td>\n",
       "      <td>53.24</td>\n",
       "    </tr>\n",
       "    <tr>\n",
       "      <th>395</th>\n",
       "      <td>2021-01-30</td>\n",
       "      <td>1</td>\n",
       "      <td>1</td>\n",
       "      <td>1</td>\n",
       "      <td>0</td>\n",
       "      <td>1</td>\n",
       "      <td>1</td>\n",
       "      <td>1</td>\n",
       "      <td>4</td>\n",
       "      <td>2</td>\n",
       "      <td>2</td>\n",
       "      <td>1</td>\n",
       "      <td>53.24</td>\n",
       "    </tr>\n",
       "    <tr>\n",
       "      <th>396</th>\n",
       "      <td>2021-01-31</td>\n",
       "      <td>1</td>\n",
       "      <td>1</td>\n",
       "      <td>1</td>\n",
       "      <td>0</td>\n",
       "      <td>1</td>\n",
       "      <td>1</td>\n",
       "      <td>1</td>\n",
       "      <td>4</td>\n",
       "      <td>2</td>\n",
       "      <td>2</td>\n",
       "      <td>1</td>\n",
       "      <td>53.24</td>\n",
       "    </tr>\n",
       "    <tr>\n",
       "      <th>397</th>\n",
       "      <td>2021-02-01</td>\n",
       "      <td>1</td>\n",
       "      <td>1</td>\n",
       "      <td>1</td>\n",
       "      <td>0</td>\n",
       "      <td>1</td>\n",
       "      <td>1</td>\n",
       "      <td>1</td>\n",
       "      <td>4</td>\n",
       "      <td>2</td>\n",
       "      <td>2</td>\n",
       "      <td>1</td>\n",
       "      <td>53.24</td>\n",
       "    </tr>\n",
       "    <tr>\n",
       "      <th>398</th>\n",
       "      <td>2021-02-02</td>\n",
       "      <td>1</td>\n",
       "      <td>1</td>\n",
       "      <td>1</td>\n",
       "      <td>0</td>\n",
       "      <td>1</td>\n",
       "      <td>1</td>\n",
       "      <td>1</td>\n",
       "      <td>4</td>\n",
       "      <td>2</td>\n",
       "      <td>2</td>\n",
       "      <td>1</td>\n",
       "      <td>53.24</td>\n",
       "    </tr>\n",
       "  </tbody>\n",
       "</table>\n",
       "</div>"
      ],
      "text/plain": [
       "          Date  School_closing  Workplace_closing  Cancel_events  \\\n",
       "394 2021-01-29               1                  1              1   \n",
       "395 2021-01-30               1                  1              1   \n",
       "396 2021-01-31               1                  1              1   \n",
       "397 2021-02-01               1                  1              1   \n",
       "398 2021-02-02               1                  1              1   \n",
       "\n",
       "     Gatherings_restrictions  Transport_closing  Stay_home_restrictions  \\\n",
       "394                        0                  1                       1   \n",
       "395                        0                  1                       1   \n",
       "396                        0                  1                       1   \n",
       "397                        0                  1                       1   \n",
       "398                        0                  1                       1   \n",
       "\n",
       "     Internal_movement_restrictions  International_movement_restrictions  \\\n",
       "394                               1                                    4   \n",
       "395                               1                                    4   \n",
       "396                               1                                    4   \n",
       "397                               1                                    4   \n",
       "398                               1                                    4   \n",
       "\n",
       "     Information_campaigns  Testing_policy  Contact_tracing  Stringency_index  \n",
       "394                      2               2                1             53.24  \n",
       "395                      2               2                1             53.24  \n",
       "396                      2               2                1             53.24  \n",
       "397                      2               2                1             53.24  \n",
       "398                      2               2                1             53.24  "
      ]
     },
     "execution_count": 1,
     "metadata": {},
     "output_type": "execute_result"
    }
   ],
   "source": [
    "# Subset for a country\n",
    "oxcgrt_data.subset(\"Japan\").tail()\n",
    "# We can use ISO3 codes\n",
    "# oxcgrt_data.subset(\"JPN\").tail()"
   ]
  },
  {
   "cell_type": "markdown",
   "id": "vertical-formula",
   "metadata": {},
   "source": [
    "### The number of tests\n",
    "The number of tests is also key information to understand the situation.\n",
    "This dataset was saved as `pcr_data`, an instance of `PCRData` class."
   ]
  },
  {
   "cell_type": "code",
   "execution_count": 40,
   "id": "controversial-subscription",
   "metadata": {
    "collapsed": false,
    "execution": {
     "iopub.execute_input": "2021-02-02T15:02:47.641464Z",
     "iopub.status.busy": "2021-02-02T15:02:47.640810Z",
     "iopub.status.idle": "2021-02-02T15:02:47.643678Z",
     "shell.execute_reply": "2021-02-02T15:02:47.644049Z"
    }
   },
   "outputs": [
    {
     "data": {
      "text/plain": [
       "covsirphy.cleaning.pcr_data.PCRData"
      ]
     },
     "execution_count": 1,
     "metadata": {},
     "output_type": "execute_result"
    }
   ],
   "source": [
    "type(pcr_data)"
   ]
  },
  {
   "cell_type": "code",
   "execution_count": 41,
   "id": "breathing-diesel",
   "metadata": {
    "collapsed": false,
    "execution": {
     "iopub.execute_input": "2021-02-02T15:02:47.647239Z",
     "iopub.status.busy": "2021-02-02T15:02:47.646838Z",
     "iopub.status.idle": "2021-02-02T15:02:47.649471Z",
     "shell.execute_reply": "2021-02-02T15:02:47.649053Z"
    }
   },
   "outputs": [
    {
     "name": "stdout",
     "output_type": "stream",
     "text": [
      "(Secondary source) Guidotti, E., Ardia, D., (2020), \"COVID-19 Data Hub\", Journal of Open Source Software 5(51):2376, doi: 10.21105/joss.02376.\n",
      "Hasell, J., Mathieu, E., Beltekian, D. et al. A cross-country database of COVID-19 testing. Sci Data 7, 345 (2020). https://doi.org/10.1038/s41597-020-00688-8\n",
      "Lisphilar (2020), COVID-19 dataset in Japan, GitHub repository, https://github.com/lisphilar/covid19-sir/data/japan\n"
     ]
    }
   ],
   "source": [
    "# Description/citation\n",
    "print(pcr_data.citation)"
   ]
  },
  {
   "cell_type": "code",
   "execution_count": 42,
   "id": "confirmed-sweden",
   "metadata": {
    "collapsed": false,
    "execution": {
     "iopub.execute_input": "2021-02-02T15:02:47.652414Z",
     "iopub.status.busy": "2021-02-02T15:02:47.651811Z",
     "iopub.status.idle": "2021-02-02T15:02:47.654175Z",
     "shell.execute_reply": "2021-02-02T15:02:47.654472Z"
    }
   },
   "outputs": [],
   "source": [
    "# Raw data (the same as jhu_data)\n",
    "# pcr_data.raw.tail()"
   ]
  },
  {
   "cell_type": "code",
   "execution_count": 43,
   "id": "acceptable-barbados",
   "metadata": {
    "collapsed": false,
    "execution": {
     "iopub.execute_input": "2021-02-02T15:02:47.664811Z",
     "iopub.status.busy": "2021-02-02T15:02:47.664138Z",
     "iopub.status.idle": "2021-02-02T15:02:47.667001Z",
     "shell.execute_reply": "2021-02-02T15:02:47.667361Z"
    }
   },
   "outputs": [
    {
     "data": {
      "text/html": [
       "<div>\n",
       "<style scoped>\n",
       "    .dataframe tbody tr th:only-of-type {\n",
       "        vertical-align: middle;\n",
       "    }\n",
       "\n",
       "    .dataframe tbody tr th {\n",
       "        vertical-align: top;\n",
       "    }\n",
       "\n",
       "    .dataframe thead th {\n",
       "        text-align: right;\n",
       "    }\n",
       "</style>\n",
       "<table border=\"1\" class=\"dataframe\">\n",
       "  <thead>\n",
       "    <tr style=\"text-align: right;\">\n",
       "      <th></th>\n",
       "      <th>Date</th>\n",
       "      <th>Country</th>\n",
       "      <th>Province</th>\n",
       "      <th>Tests</th>\n",
       "      <th>Confirmed</th>\n",
       "    </tr>\n",
       "  </thead>\n",
       "  <tbody>\n",
       "    <tr>\n",
       "      <th>15759</th>\n",
       "      <td>2021-01-28</td>\n",
       "      <td>Japan</td>\n",
       "      <td>-</td>\n",
       "      <td>6640966</td>\n",
       "      <td>375607</td>\n",
       "    </tr>\n",
       "    <tr>\n",
       "      <th>15760</th>\n",
       "      <td>2021-01-29</td>\n",
       "      <td>Japan</td>\n",
       "      <td>-</td>\n",
       "      <td>6706393</td>\n",
       "      <td>379516</td>\n",
       "    </tr>\n",
       "    <tr>\n",
       "      <th>15761</th>\n",
       "      <td>2021-01-30</td>\n",
       "      <td>Japan</td>\n",
       "      <td>-</td>\n",
       "      <td>6789931</td>\n",
       "      <td>383083</td>\n",
       "    </tr>\n",
       "    <tr>\n",
       "      <th>15762</th>\n",
       "      <td>2021-01-31</td>\n",
       "      <td>Japan</td>\n",
       "      <td>-</td>\n",
       "      <td>6832147</td>\n",
       "      <td>386742</td>\n",
       "    </tr>\n",
       "    <tr>\n",
       "      <th>15763</th>\n",
       "      <td>2021-02-01</td>\n",
       "      <td>Japan</td>\n",
       "      <td>-</td>\n",
       "      <td>6851430</td>\n",
       "      <td>389518</td>\n",
       "    </tr>\n",
       "  </tbody>\n",
       "</table>\n",
       "</div>"
      ],
      "text/plain": [
       "            Date Country Province    Tests  Confirmed\n",
       "15759 2021-01-28   Japan        -  6640966     375607\n",
       "15760 2021-01-29   Japan        -  6706393     379516\n",
       "15761 2021-01-30   Japan        -  6789931     383083\n",
       "15762 2021-01-31   Japan        -  6832147     386742\n",
       "15763 2021-02-01   Japan        -  6851430     389518"
      ]
     },
     "execution_count": 1,
     "metadata": {},
     "output_type": "execute_result"
    }
   ],
   "source": [
    "# Cleaned data\n",
    "pcr_data.cleaned().tail()"
   ]
  },
  {
   "cell_type": "code",
   "execution_count": 44,
   "id": "differential-humanity",
   "metadata": {
    "collapsed": false,
    "execution": {
     "iopub.execute_input": "2021-02-02T15:02:47.670837Z",
     "iopub.status.busy": "2021-02-02T15:02:47.670376Z",
     "iopub.status.idle": "2021-02-02T15:02:47.681393Z",
     "shell.execute_reply": "2021-02-02T15:02:47.681715Z"
    }
   },
   "outputs": [
    {
     "data": {
      "text/html": [
       "<div>\n",
       "<style scoped>\n",
       "    .dataframe tbody tr th:only-of-type {\n",
       "        vertical-align: middle;\n",
       "    }\n",
       "\n",
       "    .dataframe tbody tr th {\n",
       "        vertical-align: top;\n",
       "    }\n",
       "\n",
       "    .dataframe thead th {\n",
       "        text-align: right;\n",
       "    }\n",
       "</style>\n",
       "<table border=\"1\" class=\"dataframe\">\n",
       "  <thead>\n",
       "    <tr style=\"text-align: right;\">\n",
       "      <th></th>\n",
       "      <th>Date</th>\n",
       "      <th>Tests</th>\n",
       "      <th>Confirmed</th>\n",
       "    </tr>\n",
       "  </thead>\n",
       "  <tbody>\n",
       "  </tbody>\n",
       "</table>\n",
       "</div>"
      ],
      "text/plain": [
       "Empty DataFrame\n",
       "Columns: [Date, Tests, Confirmed]\n",
       "Index: []"
      ]
     },
     "execution_count": 1,
     "metadata": {},
     "output_type": "execute_result"
    }
   ],
   "source": [
    "# Subset for a country\n",
    "pcr_data.subset(\"Japan\").tail()\n",
    "# We can use ISO3 codes\n",
    "# pcr_data.subset(\"JPN\").tail()"
   ]
  },
  {
   "cell_type": "markdown",
   "id": "restricted-solution",
   "metadata": {},
   "source": [
    "Under the assumption that all tests were PCR test, we can calculate the positive rate of PCR tests as \"the number of confirmed cases per the number of tests\"."
   ]
  },
  {
   "cell_type": "code",
   "execution_count": 45,
   "id": "nominated-egypt",
   "metadata": {
    "collapsed": false,
    "execution": {
     "iopub.execute_input": "2021-02-02T15:02:47.685276Z",
     "iopub.status.busy": "2021-02-02T15:02:47.684624Z",
     "iopub.status.idle": "2021-02-02T15:02:48.082874Z",
     "shell.execute_reply": "2021-02-02T15:02:48.082408Z"
    }
   },
   "outputs": [
    {
     "data": {
      "image/png": "[encoded data removed]",
      "text/plain": [
       "<Figure size 648x432 with 1 Axes>"
      ]
     },
     "metadata": {
      "needs_background": "light"
     },
     "output_type": "display_data"
    }
   ],
   "source": [
    "# Positive rate in Japan\n",
    "_ = pcr_data.positive_rate(\"Japan\")"
   ]
  },
  {
   "cell_type": "markdown",
   "id": "thorough-worst",
   "metadata": {},
   "source": [
    "### The number of vaccinations\n",
    "The number of vaccinations is a key factor to end the outbreak as soon as possible. This dataset was saved as `vaccine_data`, an instance of `VaccineData` class."
   ]
  },
  {
   "cell_type": "code",
   "execution_count": 46,
   "id": "champion-debut",
   "metadata": {
    "collapsed": false,
    "execution": {
     "iopub.execute_input": "2021-02-02T15:02:48.086416Z",
     "iopub.status.busy": "2021-02-02T15:02:48.085808Z",
     "iopub.status.idle": "2021-02-02T15:02:48.089163Z",
     "shell.execute_reply": "2021-02-02T15:02:48.088742Z"
    }
   },
   "outputs": [
    {
     "data": {
      "text/plain": [
       "covsirphy.cleaning.vaccine_data.VaccineData"
      ]
     },
     "execution_count": 1,
     "metadata": {},
     "output_type": "execute_result"
    }
   ],
   "source": [
    "# The number of vaccinations\n",
    "type(vaccine_data)"
   ]
  },
  {
   "cell_type": "code",
   "execution_count": 47,
   "id": "afraid-potter",
   "metadata": {
    "collapsed": false,
    "execution": {
     "iopub.execute_input": "2021-02-02T15:02:48.092061Z",
     "iopub.status.busy": "2021-02-02T15:02:48.091630Z",
     "iopub.status.idle": "2021-02-02T15:02:48.093805Z",
     "shell.execute_reply": "2021-02-02T15:02:48.094203Z"
    }
   },
   "outputs": [
    {
     "name": "stdout",
     "output_type": "stream",
     "text": [
      "Hasell, J., Mathieu, E., Beltekian, D. et al. A cross-country database of COVID-19 testing. Sci Data 7, 345 (2020). https://doi.org/10.1038/s41597-020-00688-8\n"
     ]
    }
   ],
   "source": [
    "# Description/citation\n",
    "print(vaccine_data.citation)"
   ]
  },
  {
   "cell_type": "code",
   "execution_count": 48,
   "id": "devoted-purse",
   "metadata": {
    "collapsed": false,
    "execution": {
     "iopub.execute_input": "2021-02-02T15:02:48.096901Z",
     "iopub.status.busy": "2021-02-02T15:02:48.096465Z",
     "iopub.status.idle": "2021-02-02T15:02:48.098404Z",
     "shell.execute_reply": "2021-02-02T15:02:48.098744Z"
    }
   },
   "outputs": [],
   "source": [
    "# Raw data\n",
    "# vaccine_data.raw.tail()"
   ]
  },
  {
   "cell_type": "code",
   "execution_count": 49,
   "id": "finite-level",
   "metadata": {
    "collapsed": false,
    "execution": {
     "iopub.execute_input": "2021-02-02T15:02:48.102451Z",
     "iopub.status.busy": "2021-02-02T15:02:48.102008Z",
     "iopub.status.idle": "2021-02-02T15:02:48.109118Z",
     "shell.execute_reply": "2021-02-02T15:02:48.109486Z"
    }
   },
   "outputs": [
    {
     "data": {
      "text/html": [
       "<div>\n",
       "<style scoped>\n",
       "    .dataframe tbody tr th:only-of-type {\n",
       "        vertical-align: middle;\n",
       "    }\n",
       "\n",
       "    .dataframe tbody tr th {\n",
       "        vertical-align: top;\n",
       "    }\n",
       "\n",
       "    .dataframe thead th {\n",
       "        text-align: right;\n",
       "    }\n",
       "</style>\n",
       "<table border=\"1\" class=\"dataframe\">\n",
       "  <thead>\n",
       "    <tr style=\"text-align: right;\">\n",
       "      <th></th>\n",
       "      <th>Date</th>\n",
       "      <th>Country</th>\n",
       "      <th>Product</th>\n",
       "      <th>Vaccinations</th>\n",
       "    </tr>\n",
       "  </thead>\n",
       "  <tbody>\n",
       "    <tr>\n",
       "      <th>1961</th>\n",
       "      <td>2021-01-27</td>\n",
       "      <td>Wales</td>\n",
       "      <td>Oxford/AstraZeneca, Pfizer/BioNTech</td>\n",
       "      <td>336745</td>\n",
       "    </tr>\n",
       "    <tr>\n",
       "      <th>1962</th>\n",
       "      <td>2021-01-28</td>\n",
       "      <td>Wales</td>\n",
       "      <td>Oxford/AstraZeneca, Pfizer/BioNTech</td>\n",
       "      <td>362970</td>\n",
       "    </tr>\n",
       "    <tr>\n",
       "      <th>1963</th>\n",
       "      <td>2021-01-29</td>\n",
       "      <td>Wales</td>\n",
       "      <td>Oxford/AstraZeneca, Pfizer/BioNTech</td>\n",
       "      <td>378950</td>\n",
       "    </tr>\n",
       "    <tr>\n",
       "      <th>1964</th>\n",
       "      <td>2021-01-30</td>\n",
       "      <td>Wales</td>\n",
       "      <td>Oxford/AstraZeneca, Pfizer/BioNTech</td>\n",
       "      <td>404249</td>\n",
       "    </tr>\n",
       "    <tr>\n",
       "      <th>1965</th>\n",
       "      <td>2021-01-31</td>\n",
       "      <td>Wales</td>\n",
       "      <td>Oxford/AstraZeneca, Pfizer/BioNTech</td>\n",
       "      <td>417147</td>\n",
       "    </tr>\n",
       "  </tbody>\n",
       "</table>\n",
       "</div>"
      ],
      "text/plain": [
       "           Date Country                              Product  Vaccinations\n",
       "1961 2021-01-27   Wales  Oxford/AstraZeneca, Pfizer/BioNTech        336745\n",
       "1962 2021-01-28   Wales  Oxford/AstraZeneca, Pfizer/BioNTech        362970\n",
       "1963 2021-01-29   Wales  Oxford/AstraZeneca, Pfizer/BioNTech        378950\n",
       "1964 2021-01-30   Wales  Oxford/AstraZeneca, Pfizer/BioNTech        404249\n",
       "1965 2021-01-31   Wales  Oxford/AstraZeneca, Pfizer/BioNTech        417147"
      ]
     },
     "execution_count": 1,
     "metadata": {},
     "output_type": "execute_result"
    }
   ],
   "source": [
    "# Cleaned data\n",
    "vaccine_data.cleaned().tail()"
   ]
  },
  {
   "cell_type": "code",
   "execution_count": 50,
   "id": "selected-seating",
   "metadata": {
    "collapsed": false,
    "execution": {
     "iopub.execute_input": "2021-02-02T15:02:48.114040Z",
     "iopub.status.busy": "2021-02-02T15:02:48.112577Z",
     "iopub.status.idle": "2021-02-02T15:02:48.117172Z",
     "shell.execute_reply": "2021-02-02T15:02:48.116697Z"
    }
   },
   "outputs": [
    {
     "data": {
      "text/plain": [
       "['Algeria',\n",
       " 'Argentina',\n",
       " 'Austria',\n",
       " 'Bahrain',\n",
       " 'Belgium',\n",
       " 'Bermuda',\n",
       " 'Brazil',\n",
       " 'Bulgaria',\n",
       " 'Canada',\n",
       " 'Chile',\n",
       " 'China',\n",
       " 'Costa Rica',\n",
       " 'Croatia',\n",
       " 'Cyprus',\n",
       " 'Czechia',\n",
       " 'Denmark',\n",
       " 'Ecuador',\n",
       " 'England',\n",
       " 'Estonia',\n",
       " 'European Union',\n",
       " 'Finland',\n",
       " 'France',\n",
       " 'Germany',\n",
       " 'Gibraltar',\n",
       " 'Greece',\n",
       " 'Hungary',\n",
       " 'Iceland',\n",
       " 'India',\n",
       " 'Indonesia',\n",
       " 'Ireland',\n",
       " 'Isle of Man',\n",
       " 'Israel',\n",
       " 'Italy',\n",
       " 'Kuwait',\n",
       " 'Latvia',\n",
       " 'Lithuania',\n",
       " 'Luxembourg',\n",
       " 'Malta',\n",
       " 'Mexico',\n",
       " 'Morocco',\n",
       " 'Myanmar',\n",
       " 'Netherlands',\n",
       " 'Northern Cyprus',\n",
       " 'Northern Ireland',\n",
       " 'Norway',\n",
       " 'Oman',\n",
       " 'Panama',\n",
       " 'Poland',\n",
       " 'Portugal',\n",
       " 'Romania',\n",
       " 'Russia',\n",
       " 'Saudi Arabia',\n",
       " 'Scotland',\n",
       " 'Serbia',\n",
       " 'Seychelles',\n",
       " 'Singapore',\n",
       " 'Slovakia',\n",
       " 'Slovenia',\n",
       " 'Spain',\n",
       " 'Sri Lanka',\n",
       " 'Sweden',\n",
       " 'Switzerland',\n",
       " 'Turkey',\n",
       " 'United Arab Emirates',\n",
       " 'United Kingdom',\n",
       " 'United States',\n",
       " 'Wales']"
      ]
     },
     "execution_count": 1,
     "metadata": {},
     "output_type": "execute_result"
    }
   ],
   "source": [
    "# Registered countries\n",
    "vaccine_data.countries()"
   ]
  },
  {
   "cell_type": "code",
   "execution_count": 51,
   "id": "subtle-forge",
   "metadata": {
    "collapsed": false,
    "execution": {
     "iopub.execute_input": "2021-02-02T15:02:48.126860Z",
     "iopub.status.busy": "2021-02-02T15:02:48.120142Z",
     "iopub.status.idle": "2021-02-02T15:02:48.129455Z",
     "shell.execute_reply": "2021-02-02T15:02:48.129799Z"
    }
   },
   "outputs": [
    {
     "data": {
      "text/html": [
       "<div>\n",
       "<style scoped>\n",
       "    .dataframe tbody tr th:only-of-type {\n",
       "        vertical-align: middle;\n",
       "    }\n",
       "\n",
       "    .dataframe tbody tr th {\n",
       "        vertical-align: top;\n",
       "    }\n",
       "\n",
       "    .dataframe thead th {\n",
       "        text-align: right;\n",
       "    }\n",
       "</style>\n",
       "<table border=\"1\" class=\"dataframe\">\n",
       "  <thead>\n",
       "    <tr style=\"text-align: right;\">\n",
       "      <th></th>\n",
       "      <th>Date</th>\n",
       "      <th>Vaccinations</th>\n",
       "    </tr>\n",
       "  </thead>\n",
       "  <tbody>\n",
       "    <tr>\n",
       "      <th>38</th>\n",
       "      <td>2021-01-27</td>\n",
       "      <td>7953250</td>\n",
       "    </tr>\n",
       "    <tr>\n",
       "      <th>39</th>\n",
       "      <td>2021-01-28</td>\n",
       "      <td>8369438</td>\n",
       "    </tr>\n",
       "    <tr>\n",
       "      <th>40</th>\n",
       "      <td>2021-01-29</td>\n",
       "      <td>8859372</td>\n",
       "    </tr>\n",
       "    <tr>\n",
       "      <th>41</th>\n",
       "      <td>2021-01-30</td>\n",
       "      <td>9468382</td>\n",
       "    </tr>\n",
       "    <tr>\n",
       "      <th>42</th>\n",
       "      <td>2021-01-31</td>\n",
       "      <td>9790576</td>\n",
       "    </tr>\n",
       "  </tbody>\n",
       "</table>\n",
       "</div>"
      ],
      "text/plain": [
       "         Date  Vaccinations\n",
       "38 2021-01-27       7953250\n",
       "39 2021-01-28       8369438\n",
       "40 2021-01-29       8859372\n",
       "41 2021-01-30       9468382\n",
       "42 2021-01-31       9790576"
      ]
     },
     "execution_count": 1,
     "metadata": {},
     "output_type": "execute_result"
    }
   ],
   "source": [
    "# Subset for a country\n",
    "vaccine_data.subset(\"United Kingdom\").tail()\n",
    "# We can use ISO3 codes\n",
    "# pcr_data.subset(\"GBR\").tail()"
   ]
  },
  {
   "cell_type": "markdown",
   "id": "private-shade",
   "metadata": {},
   "source": [
    "### Population pyramid\n",
    "With population pyramid, we can divide the population to sub-groups. This will be useful when we analyse the meaning of parameters. For example, how many days go out is different between the sub-groups.\n",
    "This dataset was saved as `pyramid_data`, an instance of `PopulationPyramidData` class."
   ]
  },
  {
   "cell_type": "code",
   "execution_count": 52,
   "id": "hourly-truck",
   "metadata": {
    "collapsed": false,
    "execution": {
     "iopub.execute_input": "2021-02-02T15:02:48.132980Z",
     "iopub.status.busy": "2021-02-02T15:02:48.132518Z",
     "iopub.status.idle": "2021-02-02T15:02:48.135381Z",
     "shell.execute_reply": "2021-02-02T15:02:48.135753Z"
    }
   },
   "outputs": [
    {
     "data": {
      "text/plain": [
       "covsirphy.cleaning.pyramid.PopulationPyramidData"
      ]
     },
     "execution_count": 1,
     "metadata": {},
     "output_type": "execute_result"
    }
   ],
   "source": [
    "# Population pyramid\n",
    "type(pyramid_data)"
   ]
  },
  {
   "cell_type": "code",
   "execution_count": 53,
   "id": "internal-detection",
   "metadata": {
    "collapsed": false,
    "execution": {
     "iopub.execute_input": "2021-02-02T15:02:48.139033Z",
     "iopub.status.busy": "2021-02-02T15:02:48.138551Z",
     "iopub.status.idle": "2021-02-02T15:02:48.140938Z",
     "shell.execute_reply": "2021-02-02T15:02:48.141284Z"
    }
   },
   "outputs": [
    {
     "name": "stdout",
     "output_type": "stream",
     "text": [
      "World Bank Group (2020), World Bank Open Data, https://data.worldbank.org/\n"
     ]
    }
   ],
   "source": [
    "# Description/citation\n",
    "print(pyramid_data.citation)"
   ]
  },
  {
   "cell_type": "code",
   "execution_count": 54,
   "id": "unauthorized-immigration",
   "metadata": {
    "collapsed": false,
    "execution": {
     "iopub.execute_input": "2021-02-02T15:02:48.144200Z",
     "iopub.status.busy": "2021-02-02T15:02:48.143688Z",
     "iopub.status.idle": "2021-02-02T15:03:24.724626Z",
     "shell.execute_reply": "2021-02-02T15:03:24.724198Z"
    }
   },
   "outputs": [
    {
     "name": "stdout",
     "output_type": "stream",
     "text": [
      "Retrieving population pyramid dataset (Japan) from https://data.worldbank.org/\n"
     ]
    },
    {
     "data": {
      "text/html": [
       "<div>\n",
       "<style scoped>\n",
       "    .dataframe tbody tr th:only-of-type {\n",
       "        vertical-align: middle;\n",
       "    }\n",
       "\n",
       "    .dataframe tbody tr th {\n",
       "        vertical-align: top;\n",
       "    }\n",
       "\n",
       "    .dataframe thead th {\n",
       "        text-align: right;\n",
       "    }\n",
       "</style>\n",
       "<table border=\"1\" class=\"dataframe\">\n",
       "  <thead>\n",
       "    <tr style=\"text-align: right;\">\n",
       "      <th></th>\n",
       "      <th>Age</th>\n",
       "      <th>Population</th>\n",
       "      <th>Per_total</th>\n",
       "    </tr>\n",
       "  </thead>\n",
       "  <tbody>\n",
       "    <tr>\n",
       "      <th>113</th>\n",
       "      <td>118</td>\n",
       "      <td>255035</td>\n",
       "      <td>0.002174</td>\n",
       "    </tr>\n",
       "    <tr>\n",
       "      <th>114</th>\n",
       "      <td>119</td>\n",
       "      <td>255035</td>\n",
       "      <td>0.002174</td>\n",
       "    </tr>\n",
       "    <tr>\n",
       "      <th>115</th>\n",
       "      <td>120</td>\n",
       "      <td>255035</td>\n",
       "      <td>0.002174</td>\n",
       "    </tr>\n",
       "    <tr>\n",
       "      <th>116</th>\n",
       "      <td>121</td>\n",
       "      <td>255035</td>\n",
       "      <td>0.002174</td>\n",
       "    </tr>\n",
       "    <tr>\n",
       "      <th>117</th>\n",
       "      <td>122</td>\n",
       "      <td>255035</td>\n",
       "      <td>0.002174</td>\n",
       "    </tr>\n",
       "  </tbody>\n",
       "</table>\n",
       "</div>"
      ],
      "text/plain": [
       "     Age  Population  Per_total\n",
       "113  118      255035   0.002174\n",
       "114  119      255035   0.002174\n",
       "115  120      255035   0.002174\n",
       "116  121      255035   0.002174\n",
       "117  122      255035   0.002174"
      ]
     },
     "execution_count": 1,
     "metadata": {},
     "output_type": "execute_result"
    }
   ],
   "source": [
    "# Subset will retrieved from the server when set\n",
    "pyramid_data.subset(\"Japan\").tail()"
   ]
  },
  {
   "cell_type": "markdown",
   "id": "indoor-sperm",
   "metadata": {},
   "source": [
    "### Japan-specific dataset\n",
    "This includes the number of confirmed/infected/fatal/recovered/tests/moderate/severe cases at country/prefecture level and metadata of each prefecture.\n",
    "This dataset was saved as `japan_data`, an instance of `JapanData` class."
   ]
  },
  {
   "cell_type": "code",
   "execution_count": 55,
   "id": "horizontal-yahoo",
   "metadata": {
    "collapsed": false,
    "execution": {
     "iopub.execute_input": "2021-02-02T15:03:24.728280Z",
     "iopub.status.busy": "2021-02-02T15:03:24.727650Z",
     "iopub.status.idle": "2021-02-02T15:03:24.730710Z",
     "shell.execute_reply": "2021-02-02T15:03:24.731025Z"
    }
   },
   "outputs": [
    {
     "data": {
      "text/plain": [
       "covsirphy.cleaning.japan_data.JapanData"
      ]
     },
     "execution_count": 1,
     "metadata": {},
     "output_type": "execute_result"
    }
   ],
   "source": [
    "# Japan-specific dataset\n",
    "type(japan_data)"
   ]
  },
  {
   "cell_type": "code",
   "execution_count": 56,
   "id": "genuine-biotechnology",
   "metadata": {
    "collapsed": false,
    "execution": {
     "iopub.execute_input": "2021-02-02T15:03:24.734375Z",
     "iopub.status.busy": "2021-02-02T15:03:24.733953Z",
     "iopub.status.idle": "2021-02-02T15:03:24.736640Z",
     "shell.execute_reply": "2021-02-02T15:03:24.736222Z"
    }
   },
   "outputs": [
    {
     "name": "stdout",
     "output_type": "stream",
     "text": [
      "Lisphilar (2020), COVID-19 dataset in Japan, GitHub repository, https://github.com/lisphilar/covid19-sir/data/japan\n"
     ]
    }
   ],
   "source": [
    "# Description/citation\n",
    "print(japan_data.citation)"
   ]
  },
  {
   "cell_type": "code",
   "execution_count": 57,
   "id": "previous-signature",
   "metadata": {
    "collapsed": false,
    "execution": {
     "iopub.execute_input": "2021-02-02T15:03:24.745459Z",
     "iopub.status.busy": "2021-02-02T15:03:24.744828Z",
     "iopub.status.idle": "2021-02-02T15:03:24.747889Z",
     "shell.execute_reply": "2021-02-02T15:03:24.748359Z"
    }
   },
   "outputs": [
    {
     "data": {
      "text/html": [
       "<div>\n",
       "<style scoped>\n",
       "    .dataframe tbody tr th:only-of-type {\n",
       "        vertical-align: middle;\n",
       "    }\n",
       "\n",
       "    .dataframe tbody tr th {\n",
       "        vertical-align: top;\n",
       "    }\n",
       "\n",
       "    .dataframe thead th {\n",
       "        text-align: right;\n",
       "    }\n",
       "</style>\n",
       "<table border=\"1\" class=\"dataframe\">\n",
       "  <thead>\n",
       "    <tr style=\"text-align: right;\">\n",
       "      <th></th>\n",
       "      <th>Date</th>\n",
       "      <th>Country</th>\n",
       "      <th>Province</th>\n",
       "      <th>Confirmed</th>\n",
       "      <th>Infected</th>\n",
       "      <th>Fatal</th>\n",
       "      <th>Recovered</th>\n",
       "      <th>Tests</th>\n",
       "      <th>Moderate</th>\n",
       "      <th>Severe</th>\n",
       "    </tr>\n",
       "  </thead>\n",
       "  <tbody>\n",
       "    <tr>\n",
       "      <th>15759</th>\n",
       "      <td>2021-01-28</td>\n",
       "      <td>Japan</td>\n",
       "      <td>-</td>\n",
       "      <td>375607</td>\n",
       "      <td>55812</td>\n",
       "      <td>5361</td>\n",
       "      <td>314434</td>\n",
       "      <td>6640966</td>\n",
       "      <td>54580</td>\n",
       "      <td>1032</td>\n",
       "    </tr>\n",
       "    <tr>\n",
       "      <th>15760</th>\n",
       "      <td>2021-01-29</td>\n",
       "      <td>Japan</td>\n",
       "      <td>-</td>\n",
       "      <td>379516</td>\n",
       "      <td>53816</td>\n",
       "      <td>5452</td>\n",
       "      <td>320248</td>\n",
       "      <td>6706393</td>\n",
       "      <td>52610</td>\n",
       "      <td>1014</td>\n",
       "    </tr>\n",
       "    <tr>\n",
       "      <th>15761</th>\n",
       "      <td>2021-01-30</td>\n",
       "      <td>Japan</td>\n",
       "      <td>-</td>\n",
       "      <td>383083</td>\n",
       "      <td>51945</td>\n",
       "      <td>5546</td>\n",
       "      <td>325592</td>\n",
       "      <td>6789931</td>\n",
       "      <td>50870</td>\n",
       "      <td>974</td>\n",
       "    </tr>\n",
       "    <tr>\n",
       "      <th>15762</th>\n",
       "      <td>2021-01-31</td>\n",
       "      <td>Japan</td>\n",
       "      <td>-</td>\n",
       "      <td>386742</td>\n",
       "      <td>50623</td>\n",
       "      <td>5654</td>\n",
       "      <td>330465</td>\n",
       "      <td>6832147</td>\n",
       "      <td>49533</td>\n",
       "      <td>973</td>\n",
       "    </tr>\n",
       "    <tr>\n",
       "      <th>15763</th>\n",
       "      <td>2021-02-01</td>\n",
       "      <td>Japan</td>\n",
       "      <td>-</td>\n",
       "      <td>389518</td>\n",
       "      <td>49671</td>\n",
       "      <td>5722</td>\n",
       "      <td>334125</td>\n",
       "      <td>6851430</td>\n",
       "      <td>48537</td>\n",
       "      <td>975</td>\n",
       "    </tr>\n",
       "  </tbody>\n",
       "</table>\n",
       "</div>"
      ],
      "text/plain": [
       "            Date Country Province  Confirmed  Infected  Fatal  Recovered  \\\n",
       "15759 2021-01-28   Japan        -     375607     55812   5361     314434   \n",
       "15760 2021-01-29   Japan        -     379516     53816   5452     320248   \n",
       "15761 2021-01-30   Japan        -     383083     51945   5546     325592   \n",
       "15762 2021-01-31   Japan        -     386742     50623   5654     330465   \n",
       "15763 2021-02-01   Japan        -     389518     49671   5722     334125   \n",
       "\n",
       "         Tests  Moderate  Severe  \n",
       "15759  6640966     54580    1032  \n",
       "15760  6706393     52610    1014  \n",
       "15761  6789931     50870     974  \n",
       "15762  6832147     49533     973  \n",
       "15763  6851430     48537     975  "
      ]
     },
     "execution_count": 1,
     "metadata": {},
     "output_type": "execute_result"
    }
   ],
   "source": [
    "# Cleaned dataset\n",
    "japan_data.cleaned().tail()"
   ]
  },
  {
   "cell_type": "code",
   "execution_count": 58,
   "id": "rental-black",
   "metadata": {
    "collapsed": false,
    "execution": {
     "iopub.execute_input": "2021-02-02T15:03:24.752133Z",
     "iopub.status.busy": "2021-02-02T15:03:24.751565Z",
     "iopub.status.idle": "2021-02-02T15:03:25.670948Z",
     "shell.execute_reply": "2021-02-02T15:03:25.671266Z"
    }
   },
   "outputs": [
    {
     "name": "stdout",
     "output_type": "stream",
     "text": [
      "Retrieving Metadata of Japan dataset from https://github.com/lisphilar/covid19-sir/data/japan\n"
     ]
    },
    {
     "data": {
      "text/html": [
       "<div>\n",
       "<style scoped>\n",
       "    .dataframe tbody tr th:only-of-type {\n",
       "        vertical-align: middle;\n",
       "    }\n",
       "\n",
       "    .dataframe tbody tr th {\n",
       "        vertical-align: top;\n",
       "    }\n",
       "\n",
       "    .dataframe thead th {\n",
       "        text-align: right;\n",
       "    }\n",
       "</style>\n",
       "<table border=\"1\" class=\"dataframe\">\n",
       "  <thead>\n",
       "    <tr style=\"text-align: right;\">\n",
       "      <th></th>\n",
       "      <th>Prefecture</th>\n",
       "      <th>Admin_Capital</th>\n",
       "      <th>Admin_Region</th>\n",
       "      <th>Admin_Num</th>\n",
       "      <th>Area_Habitable</th>\n",
       "      <th>Area_Total</th>\n",
       "      <th>Clinic_bed_Care</th>\n",
       "      <th>Clinic_bed_Total</th>\n",
       "      <th>Hospital_bed_Care</th>\n",
       "      <th>Hospital_bed_Specific</th>\n",
       "      <th>Hospital_bed_Total</th>\n",
       "      <th>Hospital_bed_Tuberculosis</th>\n",
       "      <th>Hospital_bed_Type-I</th>\n",
       "      <th>Hospital_bed_Type-II</th>\n",
       "      <th>Population_Female</th>\n",
       "      <th>Population_Male</th>\n",
       "      <th>Population_Total</th>\n",
       "      <th>Location_Latitude</th>\n",
       "      <th>Location_Longitude</th>\n",
       "    </tr>\n",
       "  </thead>\n",
       "  <tbody>\n",
       "    <tr>\n",
       "      <th>42</th>\n",
       "      <td>Kumamoto</td>\n",
       "      <td>Kumamoto</td>\n",
       "      <td>Kyushu</td>\n",
       "      <td>43</td>\n",
       "      <td>2796</td>\n",
       "      <td>7409</td>\n",
       "      <td>497</td>\n",
       "      <td>4628</td>\n",
       "      <td>8340</td>\n",
       "      <td>0</td>\n",
       "      <td>33710</td>\n",
       "      <td>95</td>\n",
       "      <td>2</td>\n",
       "      <td>46</td>\n",
       "      <td>933</td>\n",
       "      <td>833</td>\n",
       "      <td>1765</td>\n",
       "      <td>32.790513</td>\n",
       "      <td>130.742388</td>\n",
       "    </tr>\n",
       "    <tr>\n",
       "      <th>43</th>\n",
       "      <td>Oita</td>\n",
       "      <td>Oita</td>\n",
       "      <td>Kyushu</td>\n",
       "      <td>44</td>\n",
       "      <td>1799</td>\n",
       "      <td>6341</td>\n",
       "      <td>269</td>\n",
       "      <td>3561</td>\n",
       "      <td>2618</td>\n",
       "      <td>0</td>\n",
       "      <td>19834</td>\n",
       "      <td>50</td>\n",
       "      <td>2</td>\n",
       "      <td>38</td>\n",
       "      <td>607</td>\n",
       "      <td>546</td>\n",
       "      <td>1152</td>\n",
       "      <td>33.238391</td>\n",
       "      <td>131.612658</td>\n",
       "    </tr>\n",
       "    <tr>\n",
       "      <th>44</th>\n",
       "      <td>Miyazaki</td>\n",
       "      <td>Miyazaki</td>\n",
       "      <td>Kyushu</td>\n",
       "      <td>45</td>\n",
       "      <td>1850</td>\n",
       "      <td>7735</td>\n",
       "      <td>206</td>\n",
       "      <td>2357</td>\n",
       "      <td>3682</td>\n",
       "      <td>0</td>\n",
       "      <td>18769</td>\n",
       "      <td>33</td>\n",
       "      <td>1</td>\n",
       "      <td>30</td>\n",
       "      <td>577</td>\n",
       "      <td>512</td>\n",
       "      <td>1089</td>\n",
       "      <td>31.911188</td>\n",
       "      <td>131.423873</td>\n",
       "    </tr>\n",
       "    <tr>\n",
       "      <th>45</th>\n",
       "      <td>Kagoshima</td>\n",
       "      <td>Kagoshima</td>\n",
       "      <td>Kyushu</td>\n",
       "      <td>46</td>\n",
       "      <td>3313</td>\n",
       "      <td>9187</td>\n",
       "      <td>652</td>\n",
       "      <td>4827</td>\n",
       "      <td>7750</td>\n",
       "      <td>0</td>\n",
       "      <td>32651</td>\n",
       "      <td>98</td>\n",
       "      <td>1</td>\n",
       "      <td>44</td>\n",
       "      <td>863</td>\n",
       "      <td>763</td>\n",
       "      <td>1626</td>\n",
       "      <td>31.560052</td>\n",
       "      <td>130.557745</td>\n",
       "    </tr>\n",
       "    <tr>\n",
       "      <th>46</th>\n",
       "      <td>Okinawa</td>\n",
       "      <td>Naha</td>\n",
       "      <td>Okinawa</td>\n",
       "      <td>47</td>\n",
       "      <td>1169</td>\n",
       "      <td>2281</td>\n",
       "      <td>83</td>\n",
       "      <td>914</td>\n",
       "      <td>3804</td>\n",
       "      <td>0</td>\n",
       "      <td>18710</td>\n",
       "      <td>47</td>\n",
       "      <td>4</td>\n",
       "      <td>20</td>\n",
       "      <td>734</td>\n",
       "      <td>709</td>\n",
       "      <td>1443</td>\n",
       "      <td>26.211761</td>\n",
       "      <td>127.681119</td>\n",
       "    </tr>\n",
       "  </tbody>\n",
       "</table>\n",
       "</div>"
      ],
      "text/plain": [
       "   Prefecture Admin_Capital Admin_Region  Admin_Num  Area_Habitable  \\\n",
       "42   Kumamoto      Kumamoto       Kyushu         43            2796   \n",
       "43       Oita          Oita       Kyushu         44            1799   \n",
       "44   Miyazaki      Miyazaki       Kyushu         45            1850   \n",
       "45  Kagoshima     Kagoshima       Kyushu         46            3313   \n",
       "46    Okinawa          Naha      Okinawa         47            1169   \n",
       "\n",
       "    Area_Total  Clinic_bed_Care  Clinic_bed_Total  Hospital_bed_Care  \\\n",
       "42        7409              497              4628               8340   \n",
       "43        6341              269              3561               2618   \n",
       "44        7735              206              2357               3682   \n",
       "45        9187              652              4827               7750   \n",
       "46        2281               83               914               3804   \n",
       "\n",
       "    Hospital_bed_Specific  Hospital_bed_Total  Hospital_bed_Tuberculosis  \\\n",
       "42                      0               33710                         95   \n",
       "43                      0               19834                         50   \n",
       "44                      0               18769                         33   \n",
       "45                      0               32651                         98   \n",
       "46                      0               18710                         47   \n",
       "\n",
       "    Hospital_bed_Type-I  Hospital_bed_Type-II  Population_Female  \\\n",
       "42                    2                    46                933   \n",
       "43                    2                    38                607   \n",
       "44                    1                    30                577   \n",
       "45                    1                    44                863   \n",
       "46                    4                    20                734   \n",
       "\n",
       "    Population_Male  Population_Total  Location_Latitude  Location_Longitude  \n",
       "42              833              1765          32.790513          130.742388  \n",
       "43              546              1152          33.238391          131.612658  \n",
       "44              512              1089          31.911188          131.423873  \n",
       "45              763              1626          31.560052          130.557745  \n",
       "46              709              1443          26.211761          127.681119  "
      ]
     },
     "execution_count": 1,
     "metadata": {},
     "output_type": "execute_result"
    }
   ],
   "source": [
    "# Metadata\n",
    "japan_data.meta().tail()"
   ]
  }
 ],
 "metadata": {
  "kernelspec": {
   "display_name": "Python 3.9.1 64-bit ('.venv')",
   "metadata": {
    "interpreter": {
     "hash": "aa53c8c6e6798222a2084c11cc25017700a8d3ad495b587e3a634f357767115f"
    }
   },
   "name": "python3"
  },
  "language_info": {
   "codemirror_mode": {
    "name": "ipython",
    "version": 3
   },
   "file_extension": ".py",
   "mimetype": "text/x-python",
   "name": "python",
   "nbconvert_exporter": "python",
   "pygments_lexer": "ipython3",
   "version": "3.9.1"
  }
 },
 "nbformat": 4,
 "nbformat_minor": 5
}
