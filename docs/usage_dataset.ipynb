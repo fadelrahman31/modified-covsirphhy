{
 "cells": [
  {
   "cell_type": "markdown",
   "id": "stretch-commercial",
   "metadata": {},
   "source": [
    "# Usage: datasets\n",
    "Here, we will review the raw/cleaned datasets. `Scenario` class performs data cleaning internally using `JHUData` class and so on, but it is important to review the features and data types before analysing them."
   ]
  },
  {
   "cell_type": "markdown",
   "id": "overhead-recipient",
   "metadata": {},
   "source": [
    "### Preparation\n",
    "Prepare the packages."
   ]
  },
  {
   "cell_type": "code",
   "execution_count": 1,
   "id": "protective-classic",
   "metadata": {
    "collapsed": false,
    "execution": {
     "iopub.execute_input": "2021-02-07T16:16:10.833423Z",
     "iopub.status.busy": "2021-02-07T16:16:10.832436Z",
     "iopub.status.idle": "2021-02-07T16:16:10.837230Z",
     "shell.execute_reply": "2021-02-07T16:16:10.836007Z"
    }
   },
   "outputs": [],
   "source": [
    "# Standard users\n",
    "# !pip install covsirphy"
   ]
  },
  {
   "cell_type": "code",
   "execution_count": 2,
   "id": "danish-sport",
   "metadata": {
    "collapsed": false,
    "execution": {
     "iopub.execute_input": "2021-02-07T16:16:10.860420Z",
     "iopub.status.busy": "2021-02-07T16:16:10.859281Z",
     "iopub.status.idle": "2021-02-07T16:16:10.862074Z",
     "shell.execute_reply": "2021-02-07T16:16:10.863031Z"
    }
   },
   "outputs": [],
   "source": [
    "# Developers (Note: this notebook is in example directory)\n",
    "import os\n",
    "os.chdir(\"../\")"
   ]
  },
  {
   "cell_type": "code",
   "execution_count": 3,
   "id": "stopped-contrast",
   "metadata": {
    "collapsed": false,
    "execution": {
     "iopub.execute_input": "2021-02-07T16:16:10.871634Z",
     "iopub.status.busy": "2021-02-07T16:16:10.870056Z",
     "iopub.status.idle": "2021-02-07T16:16:10.877866Z",
     "shell.execute_reply": "2021-02-07T16:16:10.879170Z"
    }
   },
   "outputs": [],
   "source": [
    "from pprint import pprint"
   ]
  },
  {
   "cell_type": "code",
   "execution_count": 4,
   "id": "amber-refrigerator",
   "metadata": {
    "collapsed": false,
    "execution": {
     "iopub.execute_input": "2021-02-07T16:16:10.886457Z",
     "iopub.status.busy": "2021-02-07T16:16:10.885493Z",
     "iopub.status.idle": "2021-02-07T16:16:15.382837Z",
     "shell.execute_reply": "2021-02-07T16:16:15.383398Z"
    },
    "tags": []
   },
   "outputs": [
    {
     "data": {
      "text/plain": [
       "'2.15.0-mu'"
      ]
     },
     "execution_count": 1,
     "metadata": {},
     "output_type": "execute_result"
    }
   ],
   "source": [
    "import covsirphy as cs\n",
    "cs.__version__"
   ]
  },
  {
   "cell_type": "markdown",
   "id": "applied-standard",
   "metadata": {},
   "source": [
    "### Dataset preparation\n",
    "Download the datasets to \"input\" directory and load them.\n",
    "\n",
    "If \"input\" directory has the datasets, `DataLoader` instance will load the local files. If the datasets were updated in remote servers, `DataLoader` will update the local files automatically and download the datasets to \"input\" directory and load them."
   ]
  },
  {
   "cell_type": "code",
   "execution_count": 5,
   "id": "yellow-roads",
   "metadata": {
    "collapsed": false,
    "execution": {
     "iopub.execute_input": "2021-02-07T16:16:15.388302Z",
     "iopub.status.busy": "2021-02-07T16:16:15.387703Z",
     "iopub.status.idle": "2021-02-07T16:16:15.390552Z",
     "shell.execute_reply": "2021-02-07T16:16:15.389961Z"
    }
   },
   "outputs": [],
   "source": [
    "# Create DataLoader instance\n",
    "data_loader = cs.DataLoader(\"input\")"
   ]
  },
  {
   "cell_type": "code",
   "execution_count": 6,
   "id": "handled-thomas",
   "metadata": {
    "collapsed": false,
    "execution": {
     "iopub.execute_input": "2021-02-07T16:16:15.398723Z",
     "iopub.status.busy": "2021-02-07T16:16:15.397535Z",
     "iopub.status.idle": "2021-02-07T16:17:12.439673Z",
     "shell.execute_reply": "2021-02-07T16:17:12.439092Z"
    },
    "tags": []
   },
   "outputs": [],
   "source": [
    "# (Main) The number of cases (JHU style)\n",
    "jhu_data = data_loader.jhu()\n",
    "# (Main) Population in each country\n",
    "population_data = data_loader.population()\n",
    "# (Main) Government Response Tracker (OxCGRT)\n",
    "oxcgrt_data = data_loader.oxcgrt()\n",
    "# Linelist of case reports\n",
    "linelist = data_loader.linelist()\n",
    "# The number of tests\n",
    "pcr_data = data_loader.pcr()\n",
    "# The number of vaccinations\n",
    "vaccine_data = data_loader.vaccine()\n",
    "# Population pyramid\n",
    "pyramid_data = data_loader.pyramid()\n",
    "# Japan-specific dataset\n",
    "japan_data = data_loader.japan()"
   ]
  },
  {
   "cell_type": "markdown",
   "id": "moving-accident",
   "metadata": {},
   "source": [
    "### The number of cases (JHU style)\n",
    "The main dataset is that of the number of cases and was saved as `jhu_data`, an instance of `JHUData` class. This includes \"Confirmed\", \"Infected\", \"Recovered\" and \"Fatal\". \"Infected\" was calculated as \"Confirmed - Recovered - Fatal\"."
   ]
  },
  {
   "cell_type": "code",
   "execution_count": 7,
   "id": "behavioral-bibliography",
   "metadata": {
    "collapsed": false,
    "execution": {
     "iopub.execute_input": "2021-02-07T16:17:12.446657Z",
     "iopub.status.busy": "2021-02-07T16:17:12.446156Z",
     "iopub.status.idle": "2021-02-07T16:17:12.449464Z",
     "shell.execute_reply": "2021-02-07T16:17:12.448924Z"
    }
   },
   "outputs": [
    {
     "data": {
      "text/plain": [
       "covsirphy.cleaning.jhu_data.JHUData"
      ]
     },
     "execution_count": 1,
     "metadata": {},
     "output_type": "execute_result"
    }
   ],
   "source": [
    "type(jhu_data)"
   ]
  },
  {
   "cell_type": "markdown",
   "id": "universal-chuck",
   "metadata": {},
   "source": [
    "The dataset will be retrieved from [COVID-19 Data Hub](https://covid19datahub.io/) and [Data folder of CovsirPhy project](https://github.com/lisphilar/covid19-sir/tree/master/data). Description of these projects will be shown as follows."
   ]
  },
  {
   "cell_type": "code",
   "execution_count": 8,
   "id": "executive-interest",
   "metadata": {
    "collapsed": false,
    "execution": {
     "iopub.execute_input": "2021-02-07T16:17:12.453046Z",
     "iopub.status.busy": "2021-02-07T16:17:12.452544Z",
     "iopub.status.idle": "2021-02-07T16:17:12.455829Z",
     "shell.execute_reply": "2021-02-07T16:17:12.455411Z"
    },
    "tags": []
   },
   "outputs": [
    {
     "name": "stdout",
     "output_type": "stream",
     "text": [
      "(Secondary source) Guidotti, E., Ardia, D., (2020), \"COVID-19 Data Hub\", Journal of Open Source Software 5(51):2376, doi: 10.21105/joss.02376.\n",
      "Lisphilar (2020), COVID-19 dataset in Japan, GitHub repository, https://github.com/lisphilar/covid19-sir/data/japan\n"
     ]
    }
   ],
   "source": [
    "# Description/citation\n",
    "print(jhu_data.citation)"
   ]
  },
  {
   "cell_type": "code",
   "execution_count": 9,
   "id": "royal-priest",
   "metadata": {
    "collapsed": false,
    "execution": {
     "iopub.execute_input": "2021-02-07T16:17:12.458806Z",
     "iopub.status.busy": "2021-02-07T16:17:12.458314Z",
     "iopub.status.idle": "2021-02-07T16:17:12.460875Z",
     "shell.execute_reply": "2021-02-07T16:17:12.460362Z"
    },
    "tags": []
   },
   "outputs": [],
   "source": [
    "# Detailed citation list of COVID-19 Data Hub\n",
    "# print(data_loader.covid19dh_citation)"
   ]
  },
  {
   "cell_type": "code",
   "execution_count": 10,
   "id": "floral-radical",
   "metadata": {
    "collapsed": false,
    "execution": {
     "iopub.execute_input": "2021-02-07T16:17:12.465432Z",
     "iopub.status.busy": "2021-02-07T16:17:12.464911Z",
     "iopub.status.idle": "2021-02-07T16:17:12.484320Z",
     "shell.execute_reply": "2021-02-07T16:17:12.484761Z"
    }
   },
   "outputs": [
    {
     "data": {
      "text/html": [
       "<div>\n",
       "<style scoped>\n",
       "    .dataframe tbody tr th:only-of-type {\n",
       "        vertical-align: middle;\n",
       "    }\n",
       "\n",
       "    .dataframe tbody tr th {\n",
       "        vertical-align: top;\n",
       "    }\n",
       "\n",
       "    .dataframe thead th {\n",
       "        text-align: right;\n",
       "    }\n",
       "</style>\n",
       "<table border=\"1\" class=\"dataframe\">\n",
       "  <thead>\n",
       "    <tr style=\"text-align: right;\">\n",
       "      <th></th>\n",
       "      <th>ObservationDate</th>\n",
       "      <th>Tests</th>\n",
       "      <th>Confirmed</th>\n",
       "      <th>Recovered</th>\n",
       "      <th>Deaths</th>\n",
       "      <th>Population</th>\n",
       "      <th>ISO3</th>\n",
       "      <th>Province/State</th>\n",
       "      <th>Country/Region</th>\n",
       "      <th>school_closing</th>\n",
       "      <th>...</th>\n",
       "      <th>cancel_events</th>\n",
       "      <th>gatherings_restrictions</th>\n",
       "      <th>transport_closing</th>\n",
       "      <th>stay_home_restrictions</th>\n",
       "      <th>internal_movement_restrictions</th>\n",
       "      <th>international_movement_restrictions</th>\n",
       "      <th>information_campaigns</th>\n",
       "      <th>testing_policy</th>\n",
       "      <th>contact_tracing</th>\n",
       "      <th>stringency_index</th>\n",
       "    </tr>\n",
       "  </thead>\n",
       "  <tbody>\n",
       "    <tr>\n",
       "      <th>16042</th>\n",
       "      <td>2021-02-03</td>\n",
       "      <td>5371</td>\n",
       "      <td>1291.0</td>\n",
       "      <td>1231</td>\n",
       "      <td>21</td>\n",
       "      <td>107808.0</td>\n",
       "      <td>COL</td>\n",
       "      <td>Vichada</td>\n",
       "      <td>Colombia</td>\n",
       "      <td>3</td>\n",
       "      <td>...</td>\n",
       "      <td>1</td>\n",
       "      <td>3</td>\n",
       "      <td>1</td>\n",
       "      <td>1</td>\n",
       "      <td>1</td>\n",
       "      <td>4</td>\n",
       "      <td>2</td>\n",
       "      <td>2</td>\n",
       "      <td>2</td>\n",
       "      <td>81.02</td>\n",
       "    </tr>\n",
       "    <tr>\n",
       "      <th>16043</th>\n",
       "      <td>2021-02-04</td>\n",
       "      <td>5371</td>\n",
       "      <td>1291.0</td>\n",
       "      <td>1262</td>\n",
       "      <td>21</td>\n",
       "      <td>107808.0</td>\n",
       "      <td>COL</td>\n",
       "      <td>Vichada</td>\n",
       "      <td>Colombia</td>\n",
       "      <td>3</td>\n",
       "      <td>...</td>\n",
       "      <td>1</td>\n",
       "      <td>3</td>\n",
       "      <td>1</td>\n",
       "      <td>1</td>\n",
       "      <td>1</td>\n",
       "      <td>4</td>\n",
       "      <td>2</td>\n",
       "      <td>2</td>\n",
       "      <td>2</td>\n",
       "      <td>81.02</td>\n",
       "    </tr>\n",
       "    <tr>\n",
       "      <th>16044</th>\n",
       "      <td>2021-02-05</td>\n",
       "      <td>5371</td>\n",
       "      <td>1291.0</td>\n",
       "      <td>1263</td>\n",
       "      <td>21</td>\n",
       "      <td>107808.0</td>\n",
       "      <td>COL</td>\n",
       "      <td>Vichada</td>\n",
       "      <td>Colombia</td>\n",
       "      <td>3</td>\n",
       "      <td>...</td>\n",
       "      <td>1</td>\n",
       "      <td>3</td>\n",
       "      <td>1</td>\n",
       "      <td>1</td>\n",
       "      <td>1</td>\n",
       "      <td>4</td>\n",
       "      <td>2</td>\n",
       "      <td>2</td>\n",
       "      <td>2</td>\n",
       "      <td>81.02</td>\n",
       "    </tr>\n",
       "    <tr>\n",
       "      <th>16045</th>\n",
       "      <td>2021-02-06</td>\n",
       "      <td>5371</td>\n",
       "      <td>1293.0</td>\n",
       "      <td>1263</td>\n",
       "      <td>21</td>\n",
       "      <td>107808.0</td>\n",
       "      <td>COL</td>\n",
       "      <td>Vichada</td>\n",
       "      <td>Colombia</td>\n",
       "      <td>3</td>\n",
       "      <td>...</td>\n",
       "      <td>1</td>\n",
       "      <td>3</td>\n",
       "      <td>1</td>\n",
       "      <td>1</td>\n",
       "      <td>1</td>\n",
       "      <td>4</td>\n",
       "      <td>2</td>\n",
       "      <td>2</td>\n",
       "      <td>2</td>\n",
       "      <td>81.02</td>\n",
       "    </tr>\n",
       "    <tr>\n",
       "      <th>16046</th>\n",
       "      <td>2021-02-07</td>\n",
       "      <td>5371</td>\n",
       "      <td>1293.0</td>\n",
       "      <td>1263</td>\n",
       "      <td>21</td>\n",
       "      <td>107808.0</td>\n",
       "      <td>COL</td>\n",
       "      <td>Vichada</td>\n",
       "      <td>Colombia</td>\n",
       "      <td>3</td>\n",
       "      <td>...</td>\n",
       "      <td>1</td>\n",
       "      <td>3</td>\n",
       "      <td>1</td>\n",
       "      <td>1</td>\n",
       "      <td>1</td>\n",
       "      <td>4</td>\n",
       "      <td>2</td>\n",
       "      <td>2</td>\n",
       "      <td>2</td>\n",
       "      <td>81.02</td>\n",
       "    </tr>\n",
       "  </tbody>\n",
       "</table>\n",
       "<p>5 rows × 21 columns</p>\n",
       "</div>"
      ],
      "text/plain": [
       "      ObservationDate  Tests  Confirmed  Recovered  Deaths  Population ISO3  \\\n",
       "16042      2021-02-03   5371     1291.0       1231      21    107808.0  COL   \n",
       "16043      2021-02-04   5371     1291.0       1262      21    107808.0  COL   \n",
       "16044      2021-02-05   5371     1291.0       1263      21    107808.0  COL   \n",
       "16045      2021-02-06   5371     1293.0       1263      21    107808.0  COL   \n",
       "16046      2021-02-07   5371     1293.0       1263      21    107808.0  COL   \n",
       "\n",
       "      Province/State Country/Region  school_closing  ...  cancel_events  \\\n",
       "16042        Vichada       Colombia               3  ...              1   \n",
       "16043        Vichada       Colombia               3  ...              1   \n",
       "16044        Vichada       Colombia               3  ...              1   \n",
       "16045        Vichada       Colombia               3  ...              1   \n",
       "16046        Vichada       Colombia               3  ...              1   \n",
       "\n",
       "       gatherings_restrictions  transport_closing  stay_home_restrictions  \\\n",
       "16042                        3                  1                       1   \n",
       "16043                        3                  1                       1   \n",
       "16044                        3                  1                       1   \n",
       "16045                        3                  1                       1   \n",
       "16046                        3                  1                       1   \n",
       "\n",
       "       internal_movement_restrictions  international_movement_restrictions  \\\n",
       "16042                               1                                    4   \n",
       "16043                               1                                    4   \n",
       "16044                               1                                    4   \n",
       "16045                               1                                    4   \n",
       "16046                               1                                    4   \n",
       "\n",
       "       information_campaigns  testing_policy  contact_tracing  \\\n",
       "16042                      2               2                2   \n",
       "16043                      2               2                2   \n",
       "16044                      2               2                2   \n",
       "16045                      2               2                2   \n",
       "16046                      2               2                2   \n",
       "\n",
       "       stringency_index  \n",
       "16042             81.02  \n",
       "16043             81.02  \n",
       "16044             81.02  \n",
       "16045             81.02  \n",
       "16046             81.02  \n",
       "\n",
       "[5 rows x 21 columns]"
      ]
     },
     "execution_count": 1,
     "metadata": {},
     "output_type": "execute_result"
    }
   ],
   "source": [
    "# Raw data\n",
    "jhu_data.raw.tail()"
   ]
  },
  {
   "cell_type": "code",
   "execution_count": 11,
   "id": "jewish-sponsorship",
   "metadata": {
    "collapsed": false,
    "execution": {
     "iopub.execute_input": "2021-02-07T16:17:12.498276Z",
     "iopub.status.busy": "2021-02-07T16:17:12.492510Z",
     "iopub.status.idle": "2021-02-07T16:17:12.501414Z",
     "shell.execute_reply": "2021-02-07T16:17:12.500884Z"
    }
   },
   "outputs": [
    {
     "data": {
      "text/html": [
       "<div>\n",
       "<style scoped>\n",
       "    .dataframe tbody tr th:only-of-type {\n",
       "        vertical-align: middle;\n",
       "    }\n",
       "\n",
       "    .dataframe tbody tr th {\n",
       "        vertical-align: top;\n",
       "    }\n",
       "\n",
       "    .dataframe thead th {\n",
       "        text-align: right;\n",
       "    }\n",
       "</style>\n",
       "<table border=\"1\" class=\"dataframe\">\n",
       "  <thead>\n",
       "    <tr style=\"text-align: right;\">\n",
       "      <th></th>\n",
       "      <th>Date</th>\n",
       "      <th>Country</th>\n",
       "      <th>Province</th>\n",
       "      <th>Confirmed</th>\n",
       "      <th>Infected</th>\n",
       "      <th>Fatal</th>\n",
       "      <th>Recovered</th>\n",
       "    </tr>\n",
       "  </thead>\n",
       "  <tbody>\n",
       "    <tr>\n",
       "      <th>15955</th>\n",
       "      <td>2021-02-01</td>\n",
       "      <td>Japan</td>\n",
       "      <td>-</td>\n",
       "      <td>389518</td>\n",
       "      <td>49671</td>\n",
       "      <td>5722</td>\n",
       "      <td>334125</td>\n",
       "    </tr>\n",
       "    <tr>\n",
       "      <th>15956</th>\n",
       "      <td>2021-02-02</td>\n",
       "      <td>Japan</td>\n",
       "      <td>-</td>\n",
       "      <td>391626</td>\n",
       "      <td>46455</td>\n",
       "      <td>5794</td>\n",
       "      <td>339377</td>\n",
       "    </tr>\n",
       "    <tr>\n",
       "      <th>15957</th>\n",
       "      <td>2021-02-03</td>\n",
       "      <td>Japan</td>\n",
       "      <td>-</td>\n",
       "      <td>393836</td>\n",
       "      <td>43787</td>\n",
       "      <td>5912</td>\n",
       "      <td>344137</td>\n",
       "    </tr>\n",
       "    <tr>\n",
       "      <th>15958</th>\n",
       "      <td>2021-02-04</td>\n",
       "      <td>Japan</td>\n",
       "      <td>-</td>\n",
       "      <td>396429</td>\n",
       "      <td>41077</td>\n",
       "      <td>6020</td>\n",
       "      <td>349332</td>\n",
       "    </tr>\n",
       "    <tr>\n",
       "      <th>15959</th>\n",
       "      <td>2021-02-05</td>\n",
       "      <td>Japan</td>\n",
       "      <td>-</td>\n",
       "      <td>399048</td>\n",
       "      <td>38440</td>\n",
       "      <td>6135</td>\n",
       "      <td>354473</td>\n",
       "    </tr>\n",
       "  </tbody>\n",
       "</table>\n",
       "</div>"
      ],
      "text/plain": [
       "            Date Country Province  Confirmed  Infected  Fatal  Recovered\n",
       "15955 2021-02-01   Japan        -     389518     49671   5722     334125\n",
       "15956 2021-02-02   Japan        -     391626     46455   5794     339377\n",
       "15957 2021-02-03   Japan        -     393836     43787   5912     344137\n",
       "15958 2021-02-04   Japan        -     396429     41077   6020     349332\n",
       "15959 2021-02-05   Japan        -     399048     38440   6135     354473"
      ]
     },
     "execution_count": 1,
     "metadata": {},
     "output_type": "execute_result"
    }
   ],
   "source": [
    "# Cleaned data\n",
    "jhu_data.cleaned().tail()"
   ]
  },
  {
   "cell_type": "code",
   "execution_count": 12,
   "id": "interim-jersey",
   "metadata": {
    "collapsed": false,
    "execution": {
     "iopub.execute_input": "2021-02-07T16:17:12.508684Z",
     "iopub.status.busy": "2021-02-07T16:17:12.508187Z",
     "iopub.status.idle": "2021-02-07T16:17:12.522490Z",
     "shell.execute_reply": "2021-02-07T16:17:12.522863Z"
    }
   },
   "outputs": [
    {
     "name": "stdout",
     "output_type": "stream",
     "text": [
      "<class 'pandas.core.frame.DataFrame'>\n",
      "Int64Index: 408648 entries, 0 to 15959\n",
      "Data columns (total 7 columns):\n",
      " #   Column     Non-Null Count   Dtype         \n",
      "---  ------     --------------   -----         \n",
      " 0   Date       408648 non-null  datetime64[ns]\n",
      " 1   Country    408648 non-null  category      \n",
      " 2   Province   408648 non-null  category      \n",
      " 3   Confirmed  408648 non-null  int64         \n",
      " 4   Infected   408648 non-null  int64         \n",
      " 5   Fatal      408648 non-null  int64         \n",
      " 6   Recovered  408648 non-null  int64         \n",
      "dtypes: category(2), datetime64[ns](1), int64(4)\n",
      "memory usage: 20.3 MB\n"
     ]
    }
   ],
   "source": [
    "jhu_data.cleaned().info()"
   ]
  },
  {
   "cell_type": "markdown",
   "id": "single-immigration",
   "metadata": {},
   "source": [
    "Total number of cases in all countries with `JHUData.total()` method."
   ]
  },
  {
   "cell_type": "code",
   "execution_count": 13,
   "id": "fuzzy-welsh",
   "metadata": {
    "collapsed": false,
    "execution": {
     "iopub.execute_input": "2021-02-07T16:17:12.526577Z",
     "iopub.status.busy": "2021-02-07T16:17:12.526037Z",
     "iopub.status.idle": "2021-02-07T16:17:12.802824Z",
     "shell.execute_reply": "2021-02-07T16:17:12.803270Z"
    }
   },
   "outputs": [
    {
     "data": {
      "text/html": [
       "<div>\n",
       "<style scoped>\n",
       "    .dataframe tbody tr th:only-of-type {\n",
       "        vertical-align: middle;\n",
       "    }\n",
       "\n",
       "    .dataframe tbody tr th {\n",
       "        vertical-align: top;\n",
       "    }\n",
       "\n",
       "    .dataframe thead th {\n",
       "        text-align: right;\n",
       "    }\n",
       "</style>\n",
       "<table border=\"1\" class=\"dataframe\">\n",
       "  <thead>\n",
       "    <tr style=\"text-align: right;\">\n",
       "      <th></th>\n",
       "      <th>Confirmed</th>\n",
       "      <th>Infected</th>\n",
       "      <th>Fatal</th>\n",
       "      <th>Recovered</th>\n",
       "      <th>Fatal per Confirmed</th>\n",
       "      <th>Recovered per Confirmed</th>\n",
       "      <th>Fatal per (Fatal or Recovered)</th>\n",
       "    </tr>\n",
       "    <tr>\n",
       "      <th>Date</th>\n",
       "      <th></th>\n",
       "      <th></th>\n",
       "      <th></th>\n",
       "      <th></th>\n",
       "      <th></th>\n",
       "      <th></th>\n",
       "      <th></th>\n",
       "    </tr>\n",
       "  </thead>\n",
       "  <tbody>\n",
       "    <tr>\n",
       "      <th>2021-02-03</th>\n",
       "      <td>104462162</td>\n",
       "      <td>37861410</td>\n",
       "      <td>2271149</td>\n",
       "      <td>64329603</td>\n",
       "      <td>0.021741</td>\n",
       "      <td>0.615817</td>\n",
       "      <td>0.034101</td>\n",
       "    </tr>\n",
       "    <tr>\n",
       "      <th>2021-02-04</th>\n",
       "      <td>104953626</td>\n",
       "      <td>38052486</td>\n",
       "      <td>2284674</td>\n",
       "      <td>64616466</td>\n",
       "      <td>0.021768</td>\n",
       "      <td>0.615667</td>\n",
       "      <td>0.034150</td>\n",
       "    </tr>\n",
       "    <tr>\n",
       "      <th>2021-02-05</th>\n",
       "      <td>105458314</td>\n",
       "      <td>38266188</td>\n",
       "      <td>2299940</td>\n",
       "      <td>64892186</td>\n",
       "      <td>0.021809</td>\n",
       "      <td>0.615335</td>\n",
       "      <td>0.034229</td>\n",
       "    </tr>\n",
       "    <tr>\n",
       "      <th>2021-02-06</th>\n",
       "      <td>105410535</td>\n",
       "      <td>38296957</td>\n",
       "      <td>2303049</td>\n",
       "      <td>64810529</td>\n",
       "      <td>0.021848</td>\n",
       "      <td>0.614839</td>\n",
       "      <td>0.034316</td>\n",
       "    </tr>\n",
       "    <tr>\n",
       "      <th>2021-02-07</th>\n",
       "      <td>105410772</td>\n",
       "      <td>38296526</td>\n",
       "      <td>2303049</td>\n",
       "      <td>64811197</td>\n",
       "      <td>0.021848</td>\n",
       "      <td>0.614844</td>\n",
       "      <td>0.034315</td>\n",
       "    </tr>\n",
       "  </tbody>\n",
       "</table>\n",
       "</div>"
      ],
      "text/plain": [
       "            Confirmed  Infected    Fatal  Recovered  Fatal per Confirmed  \\\n",
       "Date                                                                       \n",
       "2021-02-03  104462162  37861410  2271149   64329603             0.021741   \n",
       "2021-02-04  104953626  38052486  2284674   64616466             0.021768   \n",
       "2021-02-05  105458314  38266188  2299940   64892186             0.021809   \n",
       "2021-02-06  105410535  38296957  2303049   64810529             0.021848   \n",
       "2021-02-07  105410772  38296526  2303049   64811197             0.021848   \n",
       "\n",
       "            Recovered per Confirmed  Fatal per (Fatal or Recovered)  \n",
       "Date                                                                 \n",
       "2021-02-03                 0.615817                        0.034101  \n",
       "2021-02-04                 0.615667                        0.034150  \n",
       "2021-02-05                 0.615335                        0.034229  \n",
       "2021-02-06                 0.614839                        0.034316  \n",
       "2021-02-07                 0.614844                        0.034315  "
      ]
     },
     "execution_count": 1,
     "metadata": {},
     "output_type": "execute_result"
    }
   ],
   "source": [
    "# Calculate total values\n",
    "total_df = jhu_data.total()\n",
    "total_df.tail()"
   ]
  },
  {
   "cell_type": "code",
   "execution_count": 14,
   "id": "exclusive-physiology",
   "metadata": {
    "collapsed": false,
    "execution": {
     "iopub.execute_input": "2021-02-07T16:17:12.807598Z",
     "iopub.status.busy": "2021-02-07T16:17:12.807089Z",
     "iopub.status.idle": "2021-02-07T16:17:13.751553Z",
     "shell.execute_reply": "2021-02-07T16:17:13.750978Z"
    }
   },
   "outputs": [
    {
     "data": {
      "image/png": "[encoded data removed]",
      "text/plain": [
       "<Figure size 648x432 with 1 Axes>"
      ]
     },
     "metadata": {
      "needs_background": "light"
     },
     "output_type": "display_data"
    }
   ],
   "source": [
    "# Plot the total values\n",
    "cs.line_plot(total_df[[\"Infected\", \"Fatal\", \"Recovered\"]], \"Total number of cases over time\")"
   ]
  },
  {
   "cell_type": "code",
   "execution_count": 15,
   "id": "professional-unemployment",
   "metadata": {
    "collapsed": false,
    "execution": {
     "iopub.execute_input": "2021-02-07T16:17:13.759131Z",
     "iopub.status.busy": "2021-02-07T16:17:13.758229Z",
     "iopub.status.idle": "2021-02-07T16:17:13.772672Z",
     "shell.execute_reply": "2021-02-07T16:17:13.773040Z"
    }
   },
   "outputs": [
    {
     "data": {
      "text/html": [
       "<div>\n",
       "<style scoped>\n",
       "    .dataframe tbody tr th:only-of-type {\n",
       "        vertical-align: middle;\n",
       "    }\n",
       "\n",
       "    .dataframe tbody tr th {\n",
       "        vertical-align: top;\n",
       "    }\n",
       "\n",
       "    .dataframe thead th {\n",
       "        text-align: right;\n",
       "    }\n",
       "</style>\n",
       "<table border=\"1\" class=\"dataframe\">\n",
       "  <thead>\n",
       "    <tr style=\"text-align: right;\">\n",
       "      <th></th>\n",
       "      <th>count</th>\n",
       "      <th>mean</th>\n",
       "      <th>std</th>\n",
       "      <th>min</th>\n",
       "      <th>25%</th>\n",
       "      <th>50%</th>\n",
       "      <th>75%</th>\n",
       "      <th>max</th>\n",
       "    </tr>\n",
       "  </thead>\n",
       "  <tbody>\n",
       "    <tr>\n",
       "      <th>Fatal per Confirmed</th>\n",
       "      <td>403.0</td>\n",
       "      <td>0.037631</td>\n",
       "      <td>0.016835</td>\n",
       "      <td>0.000000</td>\n",
       "      <td>0.023804</td>\n",
       "      <td>0.033455</td>\n",
       "      <td>0.047151</td>\n",
       "      <td>0.074095</td>\n",
       "    </tr>\n",
       "    <tr>\n",
       "      <th>Recovered per Confirmed</th>\n",
       "      <td>403.0</td>\n",
       "      <td>0.533019</td>\n",
       "      <td>0.201463</td>\n",
       "      <td>0.026389</td>\n",
       "      <td>0.402446</td>\n",
       "      <td>0.613028</td>\n",
       "      <td>0.654429</td>\n",
       "      <td>1.000000</td>\n",
       "    </tr>\n",
       "    <tr>\n",
       "      <th>Fatal per (Fatal or Recovered)</th>\n",
       "      <td>403.0</td>\n",
       "      <td>0.088549</td>\n",
       "      <td>0.076514</td>\n",
       "      <td>0.000000</td>\n",
       "      <td>0.036614</td>\n",
       "      <td>0.057090</td>\n",
       "      <td>0.118047</td>\n",
       "      <td>0.442748</td>\n",
       "    </tr>\n",
       "  </tbody>\n",
       "</table>\n",
       "</div>"
      ],
      "text/plain": [
       "                                count      mean       std       min       25%  \\\n",
       "Fatal per Confirmed             403.0  0.037631  0.016835  0.000000  0.023804   \n",
       "Recovered per Confirmed         403.0  0.533019  0.201463  0.026389  0.402446   \n",
       "Fatal per (Fatal or Recovered)  403.0  0.088549  0.076514  0.000000  0.036614   \n",
       "\n",
       "                                     50%       75%       max  \n",
       "Fatal per Confirmed             0.033455  0.047151  0.074095  \n",
       "Recovered per Confirmed         0.613028  0.654429  1.000000  \n",
       "Fatal per (Fatal or Recovered)  0.057090  0.118047  0.442748  "
      ]
     },
     "execution_count": 1,
     "metadata": {},
     "output_type": "execute_result"
    }
   ],
   "source": [
    "# Statistics of rate values in all countries\n",
    "total_df.loc[:, total_df.columns.str.contains(\"per\")].describe().T"
   ]
  },
  {
   "cell_type": "markdown",
   "id": "characteristic-cradle",
   "metadata": {},
   "source": [
    "We can create a subset for a country using `JHUData.subset()` method."
   ]
  },
  {
   "cell_type": "code",
   "execution_count": 16,
   "id": "automated-occasion",
   "metadata": {
    "collapsed": false,
    "execution": {
     "iopub.execute_input": "2021-02-07T16:17:13.776947Z",
     "iopub.status.busy": "2021-02-07T16:17:13.776418Z",
     "iopub.status.idle": "2021-02-07T16:17:17.189358Z",
     "shell.execute_reply": "2021-02-07T16:17:17.189701Z"
    }
   },
   "outputs": [
    {
     "data": {
      "text/html": [
       "<div>\n",
       "<style scoped>\n",
       "    .dataframe tbody tr th:only-of-type {\n",
       "        vertical-align: middle;\n",
       "    }\n",
       "\n",
       "    .dataframe tbody tr th {\n",
       "        vertical-align: top;\n",
       "    }\n",
       "\n",
       "    .dataframe thead th {\n",
       "        text-align: right;\n",
       "    }\n",
       "</style>\n",
       "<table border=\"1\" class=\"dataframe\">\n",
       "  <thead>\n",
       "    <tr style=\"text-align: right;\">\n",
       "      <th></th>\n",
       "      <th>Date</th>\n",
       "      <th>Confirmed</th>\n",
       "      <th>Infected</th>\n",
       "      <th>Fatal</th>\n",
       "      <th>Recovered</th>\n",
       "    </tr>\n",
       "  </thead>\n",
       "  <tbody>\n",
       "    <tr>\n",
       "      <th>361</th>\n",
       "      <td>2021-02-01</td>\n",
       "      <td>389518</td>\n",
       "      <td>49671</td>\n",
       "      <td>5722</td>\n",
       "      <td>334125</td>\n",
       "    </tr>\n",
       "    <tr>\n",
       "      <th>362</th>\n",
       "      <td>2021-02-02</td>\n",
       "      <td>391626</td>\n",
       "      <td>46455</td>\n",
       "      <td>5794</td>\n",
       "      <td>339377</td>\n",
       "    </tr>\n",
       "    <tr>\n",
       "      <th>363</th>\n",
       "      <td>2021-02-03</td>\n",
       "      <td>393836</td>\n",
       "      <td>43787</td>\n",
       "      <td>5912</td>\n",
       "      <td>344137</td>\n",
       "    </tr>\n",
       "    <tr>\n",
       "      <th>364</th>\n",
       "      <td>2021-02-04</td>\n",
       "      <td>396429</td>\n",
       "      <td>41077</td>\n",
       "      <td>6020</td>\n",
       "      <td>349332</td>\n",
       "    </tr>\n",
       "    <tr>\n",
       "      <th>365</th>\n",
       "      <td>2021-02-05</td>\n",
       "      <td>399048</td>\n",
       "      <td>38440</td>\n",
       "      <td>6135</td>\n",
       "      <td>354473</td>\n",
       "    </tr>\n",
       "  </tbody>\n",
       "</table>\n",
       "</div>"
      ],
      "text/plain": [
       "          Date  Confirmed  Infected  Fatal  Recovered\n",
       "361 2021-02-01     389518     49671   5722     334125\n",
       "362 2021-02-02     391626     46455   5794     339377\n",
       "363 2021-02-03     393836     43787   5912     344137\n",
       "364 2021-02-04     396429     41077   6020     349332\n",
       "365 2021-02-05     399048     38440   6135     354473"
      ]
     },
     "execution_count": 1,
     "metadata": {},
     "output_type": "execute_result"
    }
   ],
   "source": [
    "# Subset for a country\n",
    "df, _ = jhu_data.records(\"Japan\")\n",
    "df.tail()\n",
    "# We can use ISO3 code etc.\n",
    "# df, _ = jhu_data.records(\"JPN\")\n",
    "# df.tail()"
   ]
  },
  {
   "cell_type": "markdown",
   "id": "patient-question",
   "metadata": {},
   "source": [
    "Province (\"prefecture\" for Japan) name can be specified."
   ]
  },
  {
   "cell_type": "code",
   "execution_count": 17,
   "id": "extreme-disabled",
   "metadata": {
    "collapsed": false,
    "execution": {
     "iopub.execute_input": "2021-02-07T16:17:17.193504Z",
     "iopub.status.busy": "2021-02-07T16:17:17.192991Z",
     "iopub.status.idle": "2021-02-07T16:17:17.267553Z",
     "shell.execute_reply": "2021-02-07T16:17:17.267978Z"
    }
   },
   "outputs": [
    {
     "data": {
      "text/html": [
       "<div>\n",
       "<style scoped>\n",
       "    .dataframe tbody tr th:only-of-type {\n",
       "        vertical-align: middle;\n",
       "    }\n",
       "\n",
       "    .dataframe tbody tr th {\n",
       "        vertical-align: top;\n",
       "    }\n",
       "\n",
       "    .dataframe thead th {\n",
       "        text-align: right;\n",
       "    }\n",
       "</style>\n",
       "<table border=\"1\" class=\"dataframe\">\n",
       "  <thead>\n",
       "    <tr style=\"text-align: right;\">\n",
       "      <th></th>\n",
       "      <th>Date</th>\n",
       "      <th>Confirmed</th>\n",
       "      <th>Infected</th>\n",
       "      <th>Fatal</th>\n",
       "      <th>Recovered</th>\n",
       "    </tr>\n",
       "  </thead>\n",
       "  <tbody>\n",
       "    <tr>\n",
       "      <th>319</th>\n",
       "      <td>2021-01-31</td>\n",
       "      <td>99841</td>\n",
       "      <td>13257</td>\n",
       "      <td>886</td>\n",
       "      <td>85698</td>\n",
       "    </tr>\n",
       "    <tr>\n",
       "      <th>320</th>\n",
       "      <td>2021-02-01</td>\n",
       "      <td>100234</td>\n",
       "      <td>11719</td>\n",
       "      <td>894</td>\n",
       "      <td>87621</td>\n",
       "    </tr>\n",
       "    <tr>\n",
       "      <th>321</th>\n",
       "      <td>2021-02-02</td>\n",
       "      <td>100790</td>\n",
       "      <td>10765</td>\n",
       "      <td>917</td>\n",
       "      <td>89108</td>\n",
       "    </tr>\n",
       "    <tr>\n",
       "      <th>322</th>\n",
       "      <td>2021-02-03</td>\n",
       "      <td>101466</td>\n",
       "      <td>9854</td>\n",
       "      <td>949</td>\n",
       "      <td>90663</td>\n",
       "    </tr>\n",
       "    <tr>\n",
       "      <th>323</th>\n",
       "      <td>2021-02-04</td>\n",
       "      <td>101466</td>\n",
       "      <td>9854</td>\n",
       "      <td>949</td>\n",
       "      <td>90663</td>\n",
       "    </tr>\n",
       "  </tbody>\n",
       "</table>\n",
       "</div>"
      ],
      "text/plain": [
       "          Date  Confirmed  Infected  Fatal  Recovered\n",
       "319 2021-01-31      99841     13257    886      85698\n",
       "320 2021-02-01     100234     11719    894      87621\n",
       "321 2021-02-02     100790     10765    917      89108\n",
       "322 2021-02-03     101466      9854    949      90663\n",
       "323 2021-02-04     101466      9854    949      90663"
      ]
     },
     "execution_count": 1,
     "metadata": {},
     "output_type": "execute_result"
    }
   ],
   "source": [
    "df, _ = jhu_data.records(\"Japan\", province=\"Tokyo\")\n",
    "df.tail()"
   ]
  },
  {
   "cell_type": "code",
   "execution_count": 18,
   "id": "appreciated-tractor",
   "metadata": {
    "collapsed": false,
    "execution": {
     "iopub.execute_input": "2021-02-07T16:17:17.271376Z",
     "iopub.status.busy": "2021-02-07T16:17:17.270898Z",
     "iopub.status.idle": "2021-02-07T16:17:17.563721Z",
     "shell.execute_reply": "2021-02-07T16:17:17.563233Z"
    }
   },
   "outputs": [
    {
     "name": "stdout",
     "output_type": "stream",
     "text": [
      "['Afghanistan', 'Albania', 'Algeria', 'Andorra', 'Angola',\n",
      " 'Antigua and Barbuda', 'Argentina', 'Armenia', 'Australia', 'Austria',\n",
      " 'Azerbaijan', 'Bahamas', 'Bahrain', 'Bangladesh', 'Barbados', 'Belarus',\n",
      " 'Belgium', 'Belize', 'Benin', 'Bermuda', 'Bhutan', 'Bolivia',\n",
      " 'Bosnia and Herzegovina', 'Botswana', 'Brazil', 'Brunei', 'Bulgaria',\n",
      " 'Burkina Faso', 'Burundi', 'Cambodia', 'Cameroon', 'Canada', 'Cape Verde',\n",
      " 'Central African Republic', 'Chad', 'Chile', 'China', 'Colombia', 'Comoros',\n",
      " 'Costa Atlantica', 'Costa Rica', \"Cote d'Ivoire\", 'Croatia', 'Cuba', 'Cyprus',\n",
      " 'Czech Republic', 'Democratic Republic of the Congo', 'Denmark', 'Djibouti',\n",
      " 'Dominica', 'Dominican Republic', 'Ecuador', 'Egypt', 'El Salvador',\n",
      " 'Equatorial Guinea', 'Eritrea', 'Estonia', 'Ethiopia', 'Fiji', 'Finland',\n",
      " 'France', 'Gabon', 'Gambia', 'Georgia', 'Germany', 'Ghana', 'Grand Princess',\n",
      " 'Greece', 'Grenada', 'Guam', 'Guatemala', 'Guinea', 'Guinea-Bissau', 'Guyana',\n",
      " 'Haiti', 'Holy See', 'Honduras', 'Hungary', 'Iceland', 'India', 'Indonesia',\n",
      " 'Iran', 'Iraq', 'Ireland', 'Israel', 'Italy', 'Jamaica', 'Japan', 'Jordan',\n",
      " 'Kazakhstan', 'Kenya', 'Kosovo', 'Kuwait', 'Kyrgyzstan', 'Laos', 'Latvia',\n",
      " 'Lebanon', 'Lesotho', 'Liberia', 'Libya', 'Liechtenstein', 'Lithuania',\n",
      " 'Luxembourg', 'MS Zaandam', 'Madagascar', 'Malawi', 'Malaysia', 'Maldives',\n",
      " 'Mali', 'Malta', 'Marshall Islands', 'Mauritania', 'Mauritius', 'Mexico',\n",
      " 'Moldova', 'Monaco', 'Mongolia', 'Montenegro', 'Morocco', 'Mozambique',\n",
      " 'Myanmar', 'Namibia', 'Nepal', 'Netherlands', 'New Zealand', 'Nicaragua',\n",
      " 'Niger', 'Nigeria', 'North Macedonia', 'Northern Mariana Islands', 'Norway',\n",
      " 'Oman', 'Pakistan', 'Palestine', 'Panama', 'Papua New Guinea', 'Paraguay',\n",
      " 'Peru', 'Philippines', 'Poland', 'Portugal', 'Puerto Rico', 'Qatar',\n",
      " 'Republic of the Congo', 'Romania', 'Russia', 'Rwanda',\n",
      " 'Saint Kitts and Nevis', 'Saint Lucia', 'Saint Vincent and the Grenadines',\n",
      " 'Samoa', 'San Marino', 'Sao Tome and Principe', 'Saudi Arabia', 'Senegal',\n",
      " 'Serbia', 'Seychelles', 'Sierra Leone', 'Singapore', 'Slovakia', 'Slovenia',\n",
      " 'Solomon Islands', 'Somalia', 'South Africa', 'South Korea', 'South Sudan',\n",
      " 'Spain', 'Sri Lanka', 'Sudan', 'Suriname', 'Swaziland', 'Sweden',\n",
      " 'Switzerland', 'Syria', 'Taiwan', 'Tajikistan', 'Tanzania', 'Thailand',\n",
      " 'Timor-Leste', 'Togo', 'Trinidad and Tobago', 'Tunisia', 'Turkey', 'Uganda',\n",
      " 'Ukraine', 'United Arab Emirates', 'United Kingdom', 'United States',\n",
      " 'Uruguay', 'Uzbekistan', 'Vanuatu', 'Venezuela', 'Vietnam',\n",
      " 'Virgin Islands, U.S.', 'Yemen', 'Zambia', 'Zimbabwe']\n"
     ]
    }
   ],
   "source": [
    "# Countries we can select\n",
    "pprint(jhu_data.countries(), compact=True)"
   ]
  },
  {
   "cell_type": "markdown",
   "id": "informal-decimal",
   "metadata": {},
   "source": [
    "`JHUData.records()` automatically complement the records, if necesssary and `auto_complement=True` (default). Each country can have either none or one or multiple complements, depending on the records and their preprocessing analysis."
   ]
  },
  {
   "cell_type": "markdown",
   "id": "listed-atlanta",
   "metadata": {},
   "source": [
    "We can show the specific kind of complements that were applied to the records of each country with `JHUData.show_complement()` method. The possible kinds of complement for each country are the following:  \n",
    "\n",
    "1. \"Monotonic_confirmed/fatal/recovered\" (monotonic increasing complement)  \n",
    "Force the variable show monotonic increasing.\n",
    "\n",
    "2. \"Full_recovered\" (full complement of recovered data)  \n",
    "Estimate the number of recovered cases using the value of estimated average recovery period.\n",
    "\n",
    "3. \"Partial_recovered\" (partial complement of recovered data)  \n",
    "When recovered values are not updated for some days, extrapolate the values."
   ]
  },
  {
   "cell_type": "code",
   "execution_count": 19,
   "id": "marine-august",
   "metadata": {
    "execution": {
     "iopub.execute_input": "2021-02-07T16:17:17.567043Z",
     "iopub.status.busy": "2021-02-07T16:17:17.566604Z",
     "iopub.status.idle": "2021-02-07T16:17:26.806923Z",
     "shell.execute_reply": "2021-02-07T16:17:26.806471Z"
    }
   },
   "outputs": [
    {
     "data": {
      "text/html": [
       "<div>\n",
       "<style scoped>\n",
       "    .dataframe tbody tr th:only-of-type {\n",
       "        vertical-align: middle;\n",
       "    }\n",
       "\n",
       "    .dataframe tbody tr th {\n",
       "        vertical-align: top;\n",
       "    }\n",
       "\n",
       "    .dataframe thead th {\n",
       "        text-align: right;\n",
       "    }\n",
       "</style>\n",
       "<table border=\"1\" class=\"dataframe\">\n",
       "  <thead>\n",
       "    <tr style=\"text-align: right;\">\n",
       "      <th></th>\n",
       "      <th>Country</th>\n",
       "      <th>Province</th>\n",
       "      <th>Monotonic_confirmed</th>\n",
       "      <th>Monotonic_fatal</th>\n",
       "      <th>Monotonic_recovered</th>\n",
       "      <th>Full_recovered</th>\n",
       "      <th>Partial_recovered</th>\n",
       "    </tr>\n",
       "  </thead>\n",
       "  <tbody>\n",
       "    <tr>\n",
       "      <th>193</th>\n",
       "      <td>South Africa</td>\n",
       "      <td>-</td>\n",
       "      <td>False</td>\n",
       "      <td>False</td>\n",
       "      <td>False</td>\n",
       "      <td>False</td>\n",
       "      <td>True</td>\n",
       "    </tr>\n",
       "    <tr>\n",
       "      <th>194</th>\n",
       "      <td>Zambia</td>\n",
       "      <td>-</td>\n",
       "      <td>False</td>\n",
       "      <td>False</td>\n",
       "      <td>False</td>\n",
       "      <td>False</td>\n",
       "      <td>True</td>\n",
       "    </tr>\n",
       "    <tr>\n",
       "      <th>195</th>\n",
       "      <td>Zimbabwe</td>\n",
       "      <td>-</td>\n",
       "      <td>True</td>\n",
       "      <td>False</td>\n",
       "      <td>False</td>\n",
       "      <td>False</td>\n",
       "      <td>True</td>\n",
       "    </tr>\n",
       "    <tr>\n",
       "      <th>196</th>\n",
       "      <td>China</td>\n",
       "      <td>-</td>\n",
       "      <td>True</td>\n",
       "      <td>False</td>\n",
       "      <td>True</td>\n",
       "      <td>False</td>\n",
       "      <td>True</td>\n",
       "    </tr>\n",
       "    <tr>\n",
       "      <th>197</th>\n",
       "      <td>Japan</td>\n",
       "      <td>-</td>\n",
       "      <td>False</td>\n",
       "      <td>False</td>\n",
       "      <td>True</td>\n",
       "      <td>False</td>\n",
       "      <td>True</td>\n",
       "    </tr>\n",
       "  </tbody>\n",
       "</table>\n",
       "</div>"
      ],
      "text/plain": [
       "          Country Province Monotonic_confirmed Monotonic_fatal  \\\n",
       "193  South Africa        -               False           False   \n",
       "194        Zambia        -               False           False   \n",
       "195      Zimbabwe        -                True           False   \n",
       "196         China        -                True           False   \n",
       "197         Japan        -               False           False   \n",
       "\n",
       "    Monotonic_recovered Full_recovered Partial_recovered  \n",
       "193               False          False              True  \n",
       "194               False          False              True  \n",
       "195               False          False              True  \n",
       "196                True          False              True  \n",
       "197                True          False              True  "
      ]
     },
     "execution_count": 1,
     "metadata": {},
     "output_type": "execute_result"
    }
   ],
   "source": [
    "# Show the details of complement for all countries\n",
    "jhu_data.show_complement().tail()"
   ]
  },
  {
   "cell_type": "code",
   "execution_count": 20,
   "id": "coupled-florence",
   "metadata": {
    "execution": {
     "iopub.execute_input": "2021-02-07T16:17:26.809869Z",
     "iopub.status.busy": "2021-02-07T16:17:26.809381Z",
     "iopub.status.idle": "2021-02-07T16:17:26.811626Z",
     "shell.execute_reply": "2021-02-07T16:17:26.811988Z"
    }
   },
   "outputs": [],
   "source": [
    "# For selected country\n",
    "# jhu_data.show_complement(country=\"Japan\")\n",
    "# For selected province\n",
    "# jhu_data.show_complement(country=\"Japan\", province=\"Tokyo\")\n",
    "# For selected countries\n",
    "# jhu_data.show_complement(country=[\"Greece\", \"Japan\"])"
   ]
  },
  {
   "cell_type": "markdown",
   "id": "opened-anime",
   "metadata": {},
   "source": [
    "Note for recovery period:  \n",
    "With the global cases records, we estimate the average recovery period using `JHUData.calculate_recovery_period()`.  \n",
    "\n",
    "What we currently do is to calculate the difference between confirmed cases and fatal cases and try to match it to some recovered cases value in the future. We apply this method for every country that has valid recovery data and average the partial recovery periods in order to obtain a single (average) recovery period. During the calculations, we ignore time intervals that lead to very short (<7 days) or very long (>90 days) partial recovery periods, if these exist with high frequency (>50%) in the records. We have to assume temporarily invariable compartments for this analysis to extract an approximation of the average recovery period.\n",
    "\n",
    "Alternatively, we had tried to use linelist data to get precise value of recovery period (average of recovery date minus confirmation date for cases), but the number of records was too small."
   ]
  },
  {
   "cell_type": "code",
   "execution_count": 21,
   "id": "centered-battle",
   "metadata": {
    "execution": {
     "iopub.execute_input": "2021-02-07T16:17:26.816971Z",
     "iopub.status.busy": "2021-02-07T16:17:26.816354Z",
     "iopub.status.idle": "2021-02-07T16:17:30.113849Z",
     "shell.execute_reply": "2021-02-07T16:17:30.114486Z"
    }
   },
   "outputs": [
    {
     "name": "stdout",
     "output_type": "stream",
     "text": [
      "Average recovery period: 16 [days]\n"
     ]
    }
   ],
   "source": [
    "recovery_period = jhu_data.calculate_recovery_period()\n",
    "print(f\"Average recovery period: {recovery_period} [days]\")"
   ]
  },
  {
   "cell_type": "markdown",
   "id": "published-symphony",
   "metadata": {},
   "source": [
    "We can visualize the number of cases with `.map()` method. When `country` is `None`, global map will be shown."
   ]
  },
  {
   "cell_type": "markdown",
   "id": "authentic-cowboy",
   "metadata": {},
   "source": [
    "Global map with country level data:"
   ]
  },
  {
   "cell_type": "code",
   "execution_count": 22,
   "id": "macro-blond",
   "metadata": {
    "execution": {
     "iopub.execute_input": "2021-02-07T16:17:30.121948Z",
     "iopub.status.busy": "2021-02-07T16:17:30.121402Z",
     "iopub.status.idle": "2021-02-07T16:17:30.528456Z",
     "shell.execute_reply": "2021-02-07T16:17:30.528843Z"
    }
   },
   "outputs": [
    {
     "data": {
      "image/png": "[encoded data removed]",
      "text/plain": [
       "<Figure size 648x432 with 2 Axes>"
      ]
     },
     "metadata": {
      "needs_background": "light"
     },
     "output_type": "display_data"
    }
   ],
   "source": [
    "# Global map with country level data\n",
    "jhu_data.map(country=None, variable=\"Infected\")\n",
    "# To set included/exclude some countries\n",
    "# jhu_data.map(country=None, variable=\"Infected\", included=[\"Japan\"])\n",
    "# jhu_data.map(country=None, variable=\"Infected\", excluded=[\"Japan\"])\n",
    "# To change the date\n",
    "# jhu_data.map(country=None, variable=\"Infected\", date=\"01Oct2021\")"
   ]
  },
  {
   "cell_type": "markdown",
   "id": "hundred-peoples",
   "metadata": {},
   "source": [
    "Country map with province level data:"
   ]
  },
  {
   "cell_type": "code",
   "execution_count": 23,
   "id": "fundamental-process",
   "metadata": {
    "execution": {
     "iopub.execute_input": "2021-02-07T16:17:30.536883Z",
     "iopub.status.busy": "2021-02-07T16:17:30.536326Z",
     "iopub.status.idle": "2021-02-07T16:17:32.138452Z",
     "shell.execute_reply": "2021-02-07T16:17:32.138838Z"
    }
   },
   "outputs": [
    {
     "data": {
      "image/png": "[encoded data removed]",
      "text/plain": [
       "<Figure size 648x432 with 2 Axes>"
      ]
     },
     "metadata": {
      "needs_background": "light"
     },
     "output_type": "display_data"
    }
   ],
   "source": [
    "# Country map with province level data\n",
    "jhu_data.map(country=\"Japan\", variable=\"Infected\")\n",
    "# To set included/exclude some countries\n",
    "# jhu_data.map(country=\"Japan\", variable=\"Infected\", included=[\"Tokyo\"])\n",
    "# jhu_data.map(country=\"Japan\", variable=\"Infected\", excluded=[\"Tokyo\"])\n",
    "# To change the date\n",
    "# jhu_data.map(country=\"Japan\", variable=\"Infected\", date=\"01Oct2021\")"
   ]
  },
  {
   "cell_type": "markdown",
   "id": "express-tennessee",
   "metadata": {},
   "source": [
    "### Linelist of case reports\n",
    "The number of cases is important, but linelist of case reports will helpful to understand the situation deeply. Linelist data was saved as `linelist`, an instance of `LinelistData` class. This dataset is from [Open COVID-19 Data Working Group](https://github.com/beoutbreakprepared/nCoV2019)."
   ]
  },
  {
   "cell_type": "code",
   "execution_count": 24,
   "id": "similar-disposition",
   "metadata": {
    "collapsed": false,
    "execution": {
     "iopub.execute_input": "2021-02-07T16:17:32.142660Z",
     "iopub.status.busy": "2021-02-07T16:17:32.142145Z",
     "iopub.status.idle": "2021-02-07T16:17:32.144925Z",
     "shell.execute_reply": "2021-02-07T16:17:32.145372Z"
    }
   },
   "outputs": [
    {
     "data": {
      "text/plain": [
       "covsirphy.cleaning.linelist.LinelistData"
      ]
     },
     "execution_count": 1,
     "metadata": {},
     "output_type": "execute_result"
    }
   ],
   "source": [
    "type(linelist)"
   ]
  },
  {
   "cell_type": "code",
   "execution_count": 25,
   "id": "everyday-least",
   "metadata": {
    "collapsed": false,
    "execution": {
     "iopub.execute_input": "2021-02-07T16:17:32.149554Z",
     "iopub.status.busy": "2021-02-07T16:17:32.148973Z",
     "iopub.status.idle": "2021-02-07T16:17:32.151763Z",
     "shell.execute_reply": "2021-02-07T16:17:32.152146Z"
    }
   },
   "outputs": [
    {
     "name": "stdout",
     "output_type": "stream",
     "text": [
      "Xu, B., Gutierrez, B., Mekaru, S. et al. Epidemiological data from the COVID-19 outbreak, real-time case information. Sci Data 7, 106 (2020). https://doi.org/10.1038/s41597-020-0448-0\n"
     ]
    }
   ],
   "source": [
    "# Citation\n",
    "print(linelist.citation)"
   ]
  },
  {
   "cell_type": "code",
   "execution_count": 26,
   "id": "serious-helena",
   "metadata": {
    "collapsed": false,
    "execution": {
     "iopub.execute_input": "2021-02-07T16:17:32.155681Z",
     "iopub.status.busy": "2021-02-07T16:17:32.155151Z",
     "iopub.status.idle": "2021-02-07T16:17:35.106460Z",
     "shell.execute_reply": "2021-02-07T16:17:35.106822Z"
    }
   },
   "outputs": [
    {
     "data": {
      "text/html": [
       "<div>\n",
       "<style scoped>\n",
       "    .dataframe tbody tr th:only-of-type {\n",
       "        vertical-align: middle;\n",
       "    }\n",
       "\n",
       "    .dataframe tbody tr th {\n",
       "        vertical-align: top;\n",
       "    }\n",
       "\n",
       "    .dataframe thead th {\n",
       "        text-align: right;\n",
       "    }\n",
       "</style>\n",
       "<table border=\"1\" class=\"dataframe\">\n",
       "  <thead>\n",
       "    <tr style=\"text-align: right;\">\n",
       "      <th></th>\n",
       "      <th>age</th>\n",
       "      <th>sex</th>\n",
       "      <th>province</th>\n",
       "      <th>country</th>\n",
       "      <th>date_admission_hospital</th>\n",
       "      <th>date_confirmation</th>\n",
       "      <th>symptoms</th>\n",
       "      <th>chronic_disease</th>\n",
       "      <th>outcome</th>\n",
       "      <th>date_death_or_discharge</th>\n",
       "    </tr>\n",
       "  </thead>\n",
       "  <tbody>\n",
       "    <tr>\n",
       "      <th>2676307</th>\n",
       "      <td>52</td>\n",
       "      <td>female</td>\n",
       "      <td>Lima</td>\n",
       "      <td>Peru</td>\n",
       "      <td>NaN</td>\n",
       "      <td>17.05.2020</td>\n",
       "      <td>NaN</td>\n",
       "      <td>NaN</td>\n",
       "      <td>NaN</td>\n",
       "      <td>NaN</td>\n",
       "    </tr>\n",
       "    <tr>\n",
       "      <th>2676308</th>\n",
       "      <td>52</td>\n",
       "      <td>female</td>\n",
       "      <td>Lima</td>\n",
       "      <td>Peru</td>\n",
       "      <td>NaN</td>\n",
       "      <td>17.05.2020</td>\n",
       "      <td>NaN</td>\n",
       "      <td>NaN</td>\n",
       "      <td>NaN</td>\n",
       "      <td>NaN</td>\n",
       "    </tr>\n",
       "    <tr>\n",
       "      <th>2676309</th>\n",
       "      <td>52</td>\n",
       "      <td>male</td>\n",
       "      <td>Callao</td>\n",
       "      <td>Peru</td>\n",
       "      <td>NaN</td>\n",
       "      <td>17.05.2020</td>\n",
       "      <td>NaN</td>\n",
       "      <td>NaN</td>\n",
       "      <td>NaN</td>\n",
       "      <td>NaN</td>\n",
       "    </tr>\n",
       "    <tr>\n",
       "      <th>2676310</th>\n",
       "      <td>52</td>\n",
       "      <td>male</td>\n",
       "      <td>Lima</td>\n",
       "      <td>Peru</td>\n",
       "      <td>NaN</td>\n",
       "      <td>17.05.2020</td>\n",
       "      <td>NaN</td>\n",
       "      <td>NaN</td>\n",
       "      <td>NaN</td>\n",
       "      <td>NaN</td>\n",
       "    </tr>\n",
       "    <tr>\n",
       "      <th>2676311</th>\n",
       "      <td>NaN</td>\n",
       "      <td>NaN</td>\n",
       "      <td>NaN</td>\n",
       "      <td>NaN</td>\n",
       "      <td>NaN</td>\n",
       "      <td>NaN</td>\n",
       "      <td>NaN</td>\n",
       "      <td>NaN</td>\n",
       "      <td>NaN</td>\n",
       "      <td>NaN</td>\n",
       "    </tr>\n",
       "  </tbody>\n",
       "</table>\n",
       "</div>"
      ],
      "text/plain": [
       "         age     sex province country date_admission_hospital  \\\n",
       "2676307   52  female     Lima    Peru                     NaN   \n",
       "2676308   52  female     Lima    Peru                     NaN   \n",
       "2676309   52    male   Callao    Peru                     NaN   \n",
       "2676310   52    male     Lima    Peru                     NaN   \n",
       "2676311  NaN     NaN      NaN     NaN                     NaN   \n",
       "\n",
       "        date_confirmation symptoms chronic_disease outcome  \\\n",
       "2676307        17.05.2020      NaN             NaN     NaN   \n",
       "2676308        17.05.2020      NaN             NaN     NaN   \n",
       "2676309        17.05.2020      NaN             NaN     NaN   \n",
       "2676310        17.05.2020      NaN             NaN     NaN   \n",
       "2676311               NaN      NaN             NaN     NaN   \n",
       "\n",
       "        date_death_or_discharge  \n",
       "2676307                     NaN  \n",
       "2676308                     NaN  \n",
       "2676309                     NaN  \n",
       "2676310                     NaN  \n",
       "2676311                     NaN  "
      ]
     },
     "execution_count": 1,
     "metadata": {},
     "output_type": "execute_result"
    }
   ],
   "source": [
    "# Raw dataset\n",
    "linelist.raw.tail()"
   ]
  },
  {
   "cell_type": "code",
   "execution_count": 27,
   "id": "outstanding-dietary",
   "metadata": {
    "collapsed": false,
    "execution": {
     "iopub.execute_input": "2021-02-07T16:17:35.110690Z",
     "iopub.status.busy": "2021-02-07T16:17:35.110213Z",
     "iopub.status.idle": "2021-02-07T16:17:35.123075Z",
     "shell.execute_reply": "2021-02-07T16:17:35.123406Z"
    }
   },
   "outputs": [
    {
     "data": {
      "text/html": [
       "<div>\n",
       "<style scoped>\n",
       "    .dataframe tbody tr th:only-of-type {\n",
       "        vertical-align: middle;\n",
       "    }\n",
       "\n",
       "    .dataframe tbody tr th {\n",
       "        vertical-align: top;\n",
       "    }\n",
       "\n",
       "    .dataframe thead th {\n",
       "        text-align: right;\n",
       "    }\n",
       "</style>\n",
       "<table border=\"1\" class=\"dataframe\">\n",
       "  <thead>\n",
       "    <tr style=\"text-align: right;\">\n",
       "      <th></th>\n",
       "      <th>Country</th>\n",
       "      <th>Province</th>\n",
       "      <th>Hospitalized_date</th>\n",
       "      <th>Confirmation_date</th>\n",
       "      <th>Outcome_date</th>\n",
       "      <th>Confirmed</th>\n",
       "      <th>Infected</th>\n",
       "      <th>Recovered</th>\n",
       "      <th>Fatal</th>\n",
       "      <th>Symptoms</th>\n",
       "      <th>Chronic_disease</th>\n",
       "      <th>Age</th>\n",
       "      <th>Sex</th>\n",
       "    </tr>\n",
       "  </thead>\n",
       "  <tbody>\n",
       "    <tr>\n",
       "      <th>2676306</th>\n",
       "      <td>Peru</td>\n",
       "      <td>Coronel Portillo</td>\n",
       "      <td>NaT</td>\n",
       "      <td>2020-05-17</td>\n",
       "      <td>NaT</td>\n",
       "      <td>True</td>\n",
       "      <td>False</td>\n",
       "      <td>False</td>\n",
       "      <td>False</td>\n",
       "      <td>NaN</td>\n",
       "      <td>NaN</td>\n",
       "      <td>52.0</td>\n",
       "      <td>female</td>\n",
       "    </tr>\n",
       "    <tr>\n",
       "      <th>2676307</th>\n",
       "      <td>Peru</td>\n",
       "      <td>Lima</td>\n",
       "      <td>NaT</td>\n",
       "      <td>2020-05-17</td>\n",
       "      <td>NaT</td>\n",
       "      <td>True</td>\n",
       "      <td>False</td>\n",
       "      <td>False</td>\n",
       "      <td>False</td>\n",
       "      <td>NaN</td>\n",
       "      <td>NaN</td>\n",
       "      <td>52.0</td>\n",
       "      <td>female</td>\n",
       "    </tr>\n",
       "    <tr>\n",
       "      <th>2676308</th>\n",
       "      <td>Peru</td>\n",
       "      <td>Lima</td>\n",
       "      <td>NaT</td>\n",
       "      <td>2020-05-17</td>\n",
       "      <td>NaT</td>\n",
       "      <td>True</td>\n",
       "      <td>False</td>\n",
       "      <td>False</td>\n",
       "      <td>False</td>\n",
       "      <td>NaN</td>\n",
       "      <td>NaN</td>\n",
       "      <td>52.0</td>\n",
       "      <td>female</td>\n",
       "    </tr>\n",
       "    <tr>\n",
       "      <th>2676309</th>\n",
       "      <td>Peru</td>\n",
       "      <td>Callao</td>\n",
       "      <td>NaT</td>\n",
       "      <td>2020-05-17</td>\n",
       "      <td>NaT</td>\n",
       "      <td>True</td>\n",
       "      <td>False</td>\n",
       "      <td>False</td>\n",
       "      <td>False</td>\n",
       "      <td>NaN</td>\n",
       "      <td>NaN</td>\n",
       "      <td>52.0</td>\n",
       "      <td>male</td>\n",
       "    </tr>\n",
       "    <tr>\n",
       "      <th>2676310</th>\n",
       "      <td>Peru</td>\n",
       "      <td>Lima</td>\n",
       "      <td>NaT</td>\n",
       "      <td>2020-05-17</td>\n",
       "      <td>NaT</td>\n",
       "      <td>True</td>\n",
       "      <td>False</td>\n",
       "      <td>False</td>\n",
       "      <td>False</td>\n",
       "      <td>NaN</td>\n",
       "      <td>NaN</td>\n",
       "      <td>52.0</td>\n",
       "      <td>male</td>\n",
       "    </tr>\n",
       "  </tbody>\n",
       "</table>\n",
       "</div>"
      ],
      "text/plain": [
       "        Country          Province Hospitalized_date Confirmation_date  \\\n",
       "2676306    Peru  Coronel Portillo               NaT        2020-05-17   \n",
       "2676307    Peru              Lima               NaT        2020-05-17   \n",
       "2676308    Peru              Lima               NaT        2020-05-17   \n",
       "2676309    Peru            Callao               NaT        2020-05-17   \n",
       "2676310    Peru              Lima               NaT        2020-05-17   \n",
       "\n",
       "        Outcome_date  Confirmed  Infected  Recovered  Fatal Symptoms  \\\n",
       "2676306          NaT       True     False      False  False      NaN   \n",
       "2676307          NaT       True     False      False  False      NaN   \n",
       "2676308          NaT       True     False      False  False      NaN   \n",
       "2676309          NaT       True     False      False  False      NaN   \n",
       "2676310          NaT       True     False      False  False      NaN   \n",
       "\n",
       "        Chronic_disease   Age     Sex  \n",
       "2676306             NaN  52.0  female  \n",
       "2676307             NaN  52.0  female  \n",
       "2676308             NaN  52.0  female  \n",
       "2676309             NaN  52.0    male  \n",
       "2676310             NaN  52.0    male  "
      ]
     },
     "execution_count": 1,
     "metadata": {},
     "output_type": "execute_result"
    }
   ],
   "source": [
    "# Cleaned dataset\n",
    "linelist.cleaned().tail()"
   ]
  },
  {
   "cell_type": "code",
   "execution_count": 28,
   "id": "finished-package",
   "metadata": {
    "collapsed": false,
    "execution": {
     "iopub.execute_input": "2021-02-07T16:17:35.126698Z",
     "iopub.status.busy": "2021-02-07T16:17:35.126184Z",
     "iopub.status.idle": "2021-02-07T16:17:35.395013Z",
     "shell.execute_reply": "2021-02-07T16:17:35.395375Z"
    }
   },
   "outputs": [
    {
     "data": {
      "text/html": [
       "<div>\n",
       "<style scoped>\n",
       "    .dataframe tbody tr th:only-of-type {\n",
       "        vertical-align: middle;\n",
       "    }\n",
       "\n",
       "    .dataframe tbody tr th {\n",
       "        vertical-align: top;\n",
       "    }\n",
       "\n",
       "    .dataframe thead th {\n",
       "        text-align: right;\n",
       "    }\n",
       "</style>\n",
       "<table border=\"1\" class=\"dataframe\">\n",
       "  <thead>\n",
       "    <tr style=\"text-align: right;\">\n",
       "      <th></th>\n",
       "      <th>Hospitalized_date</th>\n",
       "      <th>Confirmation_date</th>\n",
       "      <th>Outcome_date</th>\n",
       "      <th>Confirmed</th>\n",
       "      <th>Infected</th>\n",
       "      <th>Recovered</th>\n",
       "      <th>Fatal</th>\n",
       "      <th>Symptoms</th>\n",
       "      <th>Chronic_disease</th>\n",
       "      <th>Age</th>\n",
       "      <th>Sex</th>\n",
       "    </tr>\n",
       "  </thead>\n",
       "  <tbody>\n",
       "    <tr>\n",
       "      <th>107</th>\n",
       "      <td>NaT</td>\n",
       "      <td>2020-01-30</td>\n",
       "      <td>NaT</td>\n",
       "      <td>True</td>\n",
       "      <td>False</td>\n",
       "      <td>False</td>\n",
       "      <td>False</td>\n",
       "      <td>NaN</td>\n",
       "      <td>NaN</td>\n",
       "      <td>NaN</td>\n",
       "      <td>female</td>\n",
       "    </tr>\n",
       "    <tr>\n",
       "      <th>108</th>\n",
       "      <td>NaT</td>\n",
       "      <td>2020-01-24</td>\n",
       "      <td>NaT</td>\n",
       "      <td>True</td>\n",
       "      <td>False</td>\n",
       "      <td>True</td>\n",
       "      <td>False</td>\n",
       "      <td>fever:pneumonia:sore throat</td>\n",
       "      <td>NaN</td>\n",
       "      <td>40.0</td>\n",
       "      <td>male</td>\n",
       "    </tr>\n",
       "    <tr>\n",
       "      <th>109</th>\n",
       "      <td>2020-10-01</td>\n",
       "      <td>2020-01-15</td>\n",
       "      <td>2020-01-15</td>\n",
       "      <td>True</td>\n",
       "      <td>False</td>\n",
       "      <td>True</td>\n",
       "      <td>False</td>\n",
       "      <td>cough:fever:sore throat</td>\n",
       "      <td>NaN</td>\n",
       "      <td>30.0</td>\n",
       "      <td>male</td>\n",
       "    </tr>\n",
       "    <tr>\n",
       "      <th>110</th>\n",
       "      <td>NaT</td>\n",
       "      <td>2020-01-25</td>\n",
       "      <td>NaT</td>\n",
       "      <td>True</td>\n",
       "      <td>False</td>\n",
       "      <td>False</td>\n",
       "      <td>False</td>\n",
       "      <td>cough:fever</td>\n",
       "      <td>NaN</td>\n",
       "      <td>NaN</td>\n",
       "      <td>female</td>\n",
       "    </tr>\n",
       "    <tr>\n",
       "      <th>111</th>\n",
       "      <td>NaT</td>\n",
       "      <td>2020-01-26</td>\n",
       "      <td>NaT</td>\n",
       "      <td>True</td>\n",
       "      <td>False</td>\n",
       "      <td>False</td>\n",
       "      <td>False</td>\n",
       "      <td>fever:joint pain:pneumonia</td>\n",
       "      <td>NaN</td>\n",
       "      <td>40.0</td>\n",
       "      <td>male</td>\n",
       "    </tr>\n",
       "  </tbody>\n",
       "</table>\n",
       "</div>"
      ],
      "text/plain": [
       "    Hospitalized_date Confirmation_date Outcome_date  Confirmed  Infected  \\\n",
       "107               NaT        2020-01-30          NaT       True     False   \n",
       "108               NaT        2020-01-24          NaT       True     False   \n",
       "109        2020-10-01        2020-01-15   2020-01-15       True     False   \n",
       "110               NaT        2020-01-25          NaT       True     False   \n",
       "111               NaT        2020-01-26          NaT       True     False   \n",
       "\n",
       "     Recovered  Fatal                     Symptoms Chronic_disease   Age  \\\n",
       "107      False  False                          NaN             NaN   NaN   \n",
       "108       True  False  fever:pneumonia:sore throat             NaN  40.0   \n",
       "109       True  False      cough:fever:sore throat             NaN  30.0   \n",
       "110      False  False                  cough:fever             NaN   NaN   \n",
       "111      False  False   fever:joint pain:pneumonia             NaN  40.0   \n",
       "\n",
       "        Sex  \n",
       "107  female  \n",
       "108    male  \n",
       "109    male  \n",
       "110  female  \n",
       "111    male  "
      ]
     },
     "execution_count": 1,
     "metadata": {},
     "output_type": "execute_result"
    }
   ],
   "source": [
    "# Subset for specified area\n",
    "linelist.subset(\"Japan\", province=\"Tokyo\").tail()"
   ]
  },
  {
   "cell_type": "code",
   "execution_count": 29,
   "id": "fuzzy-topic",
   "metadata": {
    "collapsed": false,
    "execution": {
     "iopub.execute_input": "2021-02-07T16:17:35.400219Z",
     "iopub.status.busy": "2021-02-07T16:17:35.399254Z",
     "iopub.status.idle": "2021-02-07T16:17:35.546987Z",
     "shell.execute_reply": "2021-02-07T16:17:35.547404Z"
    }
   },
   "outputs": [
    {
     "data": {
      "text/html": [
       "<div>\n",
       "<style scoped>\n",
       "    .dataframe tbody tr th:only-of-type {\n",
       "        vertical-align: middle;\n",
       "    }\n",
       "\n",
       "    .dataframe tbody tr th {\n",
       "        vertical-align: top;\n",
       "    }\n",
       "\n",
       "    .dataframe thead th {\n",
       "        text-align: right;\n",
       "    }\n",
       "</style>\n",
       "<table border=\"1\" class=\"dataframe\">\n",
       "  <thead>\n",
       "    <tr style=\"text-align: right;\">\n",
       "      <th></th>\n",
       "      <th>Country</th>\n",
       "      <th>Province</th>\n",
       "      <th>Hospitalized_date</th>\n",
       "      <th>Confirmation_date</th>\n",
       "      <th>Recovered_date</th>\n",
       "      <th>Symptoms</th>\n",
       "      <th>Chronic_disease</th>\n",
       "      <th>Age</th>\n",
       "      <th>Sex</th>\n",
       "    </tr>\n",
       "  </thead>\n",
       "  <tbody>\n",
       "    <tr>\n",
       "      <th>272</th>\n",
       "      <td>Singapore</td>\n",
       "      <td>-</td>\n",
       "      <td>2020-02-02</td>\n",
       "      <td>2020-02-06</td>\n",
       "      <td>2020-02-17</td>\n",
       "      <td>NaN</td>\n",
       "      <td>NaN</td>\n",
       "      <td>39.0</td>\n",
       "      <td>female</td>\n",
       "    </tr>\n",
       "    <tr>\n",
       "      <th>273</th>\n",
       "      <td>Malaysia</td>\n",
       "      <td>Johor</td>\n",
       "      <td>NaT</td>\n",
       "      <td>2020-01-25</td>\n",
       "      <td>2020-02-08</td>\n",
       "      <td>cough:fever</td>\n",
       "      <td>NaN</td>\n",
       "      <td>40.0</td>\n",
       "      <td>male</td>\n",
       "    </tr>\n",
       "    <tr>\n",
       "      <th>274</th>\n",
       "      <td>China</td>\n",
       "      <td>Gansu</td>\n",
       "      <td>2020-07-02</td>\n",
       "      <td>2020-02-08</td>\n",
       "      <td>2020-02-17</td>\n",
       "      <td>diarrhea</td>\n",
       "      <td>NaN</td>\n",
       "      <td>1.0</td>\n",
       "      <td>female</td>\n",
       "    </tr>\n",
       "    <tr>\n",
       "      <th>275</th>\n",
       "      <td>Canada</td>\n",
       "      <td>Ontario</td>\n",
       "      <td>NaT</td>\n",
       "      <td>2020-01-25</td>\n",
       "      <td>2020-01-31</td>\n",
       "      <td>NaN</td>\n",
       "      <td>hypertension</td>\n",
       "      <td>NaN</td>\n",
       "      <td>male</td>\n",
       "    </tr>\n",
       "    <tr>\n",
       "      <th>276</th>\n",
       "      <td>Canada</td>\n",
       "      <td>Ontario</td>\n",
       "      <td>NaT</td>\n",
       "      <td>2020-01-31</td>\n",
       "      <td>2020-02-19</td>\n",
       "      <td>NaN</td>\n",
       "      <td>NaN</td>\n",
       "      <td>NaN</td>\n",
       "      <td>female</td>\n",
       "    </tr>\n",
       "  </tbody>\n",
       "</table>\n",
       "</div>"
      ],
      "text/plain": [
       "       Country Province Hospitalized_date Confirmation_date Recovered_date  \\\n",
       "272  Singapore        -        2020-02-02        2020-02-06     2020-02-17   \n",
       "273   Malaysia    Johor               NaT        2020-01-25     2020-02-08   \n",
       "274      China    Gansu        2020-07-02        2020-02-08     2020-02-17   \n",
       "275     Canada  Ontario               NaT        2020-01-25     2020-01-31   \n",
       "276     Canada  Ontario               NaT        2020-01-31     2020-02-19   \n",
       "\n",
       "        Symptoms Chronic_disease   Age     Sex  \n",
       "272          NaN             NaN  39.0  female  \n",
       "273  cough:fever             NaN  40.0    male  \n",
       "274     diarrhea             NaN   1.0  female  \n",
       "275          NaN    hypertension   NaN    male  \n",
       "276          NaN             NaN   NaN  female  "
      ]
     },
     "execution_count": 1,
     "metadata": {},
     "output_type": "execute_result"
    }
   ],
   "source": [
    "# Subset for outcome (\"Recovered\" or \"Fatal\")\n",
    "linelist.closed(outcome=\"Recovered\").tail()"
   ]
  },
  {
   "cell_type": "markdown",
   "id": "ignored-deployment",
   "metadata": {},
   "source": [
    "As the median value of the period from confirmation to recovery, we can calculate recovery period."
   ]
  },
  {
   "cell_type": "code",
   "execution_count": 30,
   "id": "broken-publicity",
   "metadata": {
    "collapsed": false,
    "execution": {
     "iopub.execute_input": "2021-02-07T16:17:35.551564Z",
     "iopub.status.busy": "2021-02-07T16:17:35.551039Z",
     "iopub.status.idle": "2021-02-07T16:17:35.632138Z",
     "shell.execute_reply": "2021-02-07T16:17:35.632666Z"
    }
   },
   "outputs": [
    {
     "data": {
      "text/plain": [
       "12"
      ]
     },
     "execution_count": 1,
     "metadata": {},
     "output_type": "execute_result"
    }
   ],
   "source": [
    "# Recovery period (integer) [days]\n",
    "linelist.recovery_period()"
   ]
  },
  {
   "cell_type": "markdown",
   "id": "flush-mauritius",
   "metadata": {},
   "source": [
    "### Population in each country\n",
    "Population values are necessary to calculate the number of susceptible people. Susceptible is a variable of SIR-derived models. This dataset was saved as `population_data`, an instance of `PopulationData` class."
   ]
  },
  {
   "cell_type": "code",
   "execution_count": 31,
   "id": "scenic-fellow",
   "metadata": {
    "collapsed": false,
    "execution": {
     "iopub.execute_input": "2021-02-07T16:17:35.636206Z",
     "iopub.status.busy": "2021-02-07T16:17:35.635733Z",
     "iopub.status.idle": "2021-02-07T16:17:35.638321Z",
     "shell.execute_reply": "2021-02-07T16:17:35.638681Z"
    }
   },
   "outputs": [
    {
     "data": {
      "text/plain": [
       "covsirphy.cleaning.population.PopulationData"
      ]
     },
     "execution_count": 1,
     "metadata": {},
     "output_type": "execute_result"
    }
   ],
   "source": [
    "type(population_data)"
   ]
  },
  {
   "cell_type": "code",
   "execution_count": 32,
   "id": "romance-hungary",
   "metadata": {
    "collapsed": false,
    "execution": {
     "iopub.execute_input": "2021-02-07T16:17:35.641809Z",
     "iopub.status.busy": "2021-02-07T16:17:35.641351Z",
     "iopub.status.idle": "2021-02-07T16:17:35.643810Z",
     "shell.execute_reply": "2021-02-07T16:17:35.644163Z"
    },
    "tags": []
   },
   "outputs": [
    {
     "name": "stdout",
     "output_type": "stream",
     "text": [
      "(Secondary source) Guidotti, E., Ardia, D., (2020), \"COVID-19 Data Hub\", Journal of Open Source Software 5(51):2376, doi: 10.21105/joss.02376.\n"
     ]
    }
   ],
   "source": [
    "# Description/citation\n",
    "print(population_data.citation)"
   ]
  },
  {
   "cell_type": "code",
   "execution_count": 33,
   "id": "streaming-egyptian",
   "metadata": {
    "collapsed": false,
    "execution": {
     "iopub.execute_input": "2021-02-07T16:17:35.646952Z",
     "iopub.status.busy": "2021-02-07T16:17:35.646492Z",
     "iopub.status.idle": "2021-02-07T16:17:35.648718Z",
     "shell.execute_reply": "2021-02-07T16:17:35.649166Z"
    }
   },
   "outputs": [],
   "source": [
    "# Raw data (the same as jhu_data)\n",
    "# population_data.raw.tail()"
   ]
  },
  {
   "cell_type": "code",
   "execution_count": 34,
   "id": "verbal-intellectual",
   "metadata": {
    "collapsed": false,
    "execution": {
     "iopub.execute_input": "2021-02-07T16:17:35.657739Z",
     "iopub.status.busy": "2021-02-07T16:17:35.657236Z",
     "iopub.status.idle": "2021-02-07T16:17:35.659825Z",
     "shell.execute_reply": "2021-02-07T16:17:35.660157Z"
    }
   },
   "outputs": [
    {
     "data": {
      "text/html": [
       "<div>\n",
       "<style scoped>\n",
       "    .dataframe tbody tr th:only-of-type {\n",
       "        vertical-align: middle;\n",
       "    }\n",
       "\n",
       "    .dataframe tbody tr th {\n",
       "        vertical-align: top;\n",
       "    }\n",
       "\n",
       "    .dataframe thead th {\n",
       "        text-align: right;\n",
       "    }\n",
       "</style>\n",
       "<table border=\"1\" class=\"dataframe\">\n",
       "  <thead>\n",
       "    <tr style=\"text-align: right;\">\n",
       "      <th></th>\n",
       "      <th>ISO3</th>\n",
       "      <th>Country</th>\n",
       "      <th>Province</th>\n",
       "      <th>Date</th>\n",
       "      <th>Population</th>\n",
       "    </tr>\n",
       "  </thead>\n",
       "  <tbody>\n",
       "    <tr>\n",
       "      <th>347435</th>\n",
       "      <td>COL</td>\n",
       "      <td>Colombia</td>\n",
       "      <td>Vichada</td>\n",
       "      <td>2021-02-03</td>\n",
       "      <td>107808</td>\n",
       "    </tr>\n",
       "    <tr>\n",
       "      <th>347436</th>\n",
       "      <td>COL</td>\n",
       "      <td>Colombia</td>\n",
       "      <td>Vichada</td>\n",
       "      <td>2021-02-04</td>\n",
       "      <td>107808</td>\n",
       "    </tr>\n",
       "    <tr>\n",
       "      <th>347437</th>\n",
       "      <td>COL</td>\n",
       "      <td>Colombia</td>\n",
       "      <td>Vichada</td>\n",
       "      <td>2021-02-05</td>\n",
       "      <td>107808</td>\n",
       "    </tr>\n",
       "    <tr>\n",
       "      <th>347438</th>\n",
       "      <td>COL</td>\n",
       "      <td>Colombia</td>\n",
       "      <td>Vichada</td>\n",
       "      <td>2021-02-06</td>\n",
       "      <td>107808</td>\n",
       "    </tr>\n",
       "    <tr>\n",
       "      <th>347439</th>\n",
       "      <td>COL</td>\n",
       "      <td>Colombia</td>\n",
       "      <td>Vichada</td>\n",
       "      <td>2021-02-07</td>\n",
       "      <td>107808</td>\n",
       "    </tr>\n",
       "  </tbody>\n",
       "</table>\n",
       "</div>"
      ],
      "text/plain": [
       "       ISO3   Country Province       Date  Population\n",
       "347435  COL  Colombia  Vichada 2021-02-03      107808\n",
       "347436  COL  Colombia  Vichada 2021-02-04      107808\n",
       "347437  COL  Colombia  Vichada 2021-02-05      107808\n",
       "347438  COL  Colombia  Vichada 2021-02-06      107808\n",
       "347439  COL  Colombia  Vichada 2021-02-07      107808"
      ]
     },
     "execution_count": 1,
     "metadata": {},
     "output_type": "execute_result"
    }
   ],
   "source": [
    "# Cleaned data\n",
    "population_data.cleaned().tail()"
   ]
  },
  {
   "cell_type": "markdown",
   "id": "private-chosen",
   "metadata": {},
   "source": [
    "We will get the population values with `PopulationData.value()`."
   ]
  },
  {
   "cell_type": "code",
   "execution_count": 35,
   "id": "optional-ceremony",
   "metadata": {
    "collapsed": false,
    "execution": {
     "iopub.execute_input": "2021-02-07T16:17:35.663519Z",
     "iopub.status.busy": "2021-02-07T16:17:35.663015Z",
     "iopub.status.idle": "2021-02-07T16:17:35.680695Z",
     "shell.execute_reply": "2021-02-07T16:17:35.681086Z"
    }
   },
   "outputs": [
    {
     "data": {
      "text/plain": [
       "126529100"
      ]
     },
     "execution_count": 1,
     "metadata": {},
     "output_type": "execute_result"
    }
   ],
   "source": [
    "# In a country\n",
    "population_data.value(\"Japan\", province=None)\n",
    "# In a country with ISO3 code\n",
    "# population_data.value(\"JPN\", province=None)\n",
    "# In a province (prefecture)\n",
    "# population_data.value(\"Japan\", province=\"Tokyo\")"
   ]
  },
  {
   "cell_type": "markdown",
   "id": "accepted-austria",
   "metadata": {},
   "source": [
    "We can update the population values."
   ]
  },
  {
   "cell_type": "code",
   "execution_count": 36,
   "id": "coordinate-phrase",
   "metadata": {
    "collapsed": false,
    "execution": {
     "iopub.execute_input": "2021-02-07T16:17:35.686484Z",
     "iopub.status.busy": "2021-02-07T16:17:35.685678Z",
     "iopub.status.idle": "2021-02-07T16:17:35.810718Z",
     "shell.execute_reply": "2021-02-07T16:17:35.811078Z"
    }
   },
   "outputs": [
    {
     "name": "stdout",
     "output_type": "stream",
     "text": [
      "Before: 13942856\n",
      " After: 14002973\n"
     ]
    }
   ],
   "source": [
    "# Before\n",
    "population_before = population_data.value(\"Japan\", province=\"Tokyo\")\n",
    "print(f\"Before: {population_before}\")\n",
    "# Register population value of Tokyo in Japan\n",
    "# https://www.metro.tokyo.lg.jp/tosei/hodohappyo/press/2020/06/11/07.html\n",
    "population_data.update(14_002_973, \"Japan\", province=\"Tokyo\")\n",
    "population_after = population_data.value(\"Japan\", province=\"Tokyo\")\n",
    "print(f\" After: {population_after}\")"
   ]
  },
  {
   "cell_type": "markdown",
   "id": "limiting-brazil",
   "metadata": {},
   "source": [
    "### Government Response Tracker (OxCGRT)\n",
    "Government responses are tracked with [Oxford Covid-19 Government Response Tracker (OxCGRT)](https://github.com/OxCGRT/covid-policy-tracker). Because government responses and activities of persons change the parameter values of SIR-derived models, this dataset is significant when we try to forcast the number of cases.  \n",
    "With `DataLoader` class, the dataset was retrieved via [COVID-19 Data Hub](https://covid19datahub.io/) and saved as `oxcgrt_data`, an instance of `OxCGRTData` class."
   ]
  },
  {
   "cell_type": "code",
   "execution_count": 37,
   "id": "parliamentary-circus",
   "metadata": {
    "collapsed": false,
    "execution": {
     "iopub.execute_input": "2021-02-07T16:17:35.814513Z",
     "iopub.status.busy": "2021-02-07T16:17:35.814041Z",
     "iopub.status.idle": "2021-02-07T16:17:35.817047Z",
     "shell.execute_reply": "2021-02-07T16:17:35.817406Z"
    }
   },
   "outputs": [
    {
     "data": {
      "text/plain": [
       "covsirphy.cleaning.oxcgrt.OxCGRTData"
      ]
     },
     "execution_count": 1,
     "metadata": {},
     "output_type": "execute_result"
    }
   ],
   "source": [
    "type(oxcgrt_data)"
   ]
  },
  {
   "cell_type": "code",
   "execution_count": 38,
   "id": "coral-visiting",
   "metadata": {
    "collapsed": false,
    "execution": {
     "iopub.execute_input": "2021-02-07T16:17:35.820845Z",
     "iopub.status.busy": "2021-02-07T16:17:35.820346Z",
     "iopub.status.idle": "2021-02-07T16:17:35.822486Z",
     "shell.execute_reply": "2021-02-07T16:17:35.822874Z"
    },
    "tags": []
   },
   "outputs": [
    {
     "name": "stdout",
     "output_type": "stream",
     "text": [
      "(Secondary source) Guidotti, E., Ardia, D., (2020), \"COVID-19 Data Hub\", Journal of Open Source Software 5(51):2376, doi: 10.21105/joss.02376.\n"
     ]
    }
   ],
   "source": [
    "# Description/citation\n",
    "print(oxcgrt_data.citation)"
   ]
  },
  {
   "cell_type": "code",
   "execution_count": 39,
   "id": "incomplete-algorithm",
   "metadata": {
    "collapsed": false,
    "execution": {
     "iopub.execute_input": "2021-02-07T16:17:35.825724Z",
     "iopub.status.busy": "2021-02-07T16:17:35.825252Z",
     "iopub.status.idle": "2021-02-07T16:17:35.827301Z",
     "shell.execute_reply": "2021-02-07T16:17:35.827660Z"
    }
   },
   "outputs": [],
   "source": [
    "# Raw data (the same as jhu_data)\n",
    "# oxcgrt_data.raw.tail()"
   ]
  },
  {
   "cell_type": "code",
   "execution_count": 40,
   "id": "floral-benchmark",
   "metadata": {
    "collapsed": false,
    "execution": {
     "iopub.execute_input": "2021-02-07T16:17:35.838928Z",
     "iopub.status.busy": "2021-02-07T16:17:35.834627Z",
     "iopub.status.idle": "2021-02-07T16:17:35.841753Z",
     "shell.execute_reply": "2021-02-07T16:17:35.842150Z"
    }
   },
   "outputs": [
    {
     "data": {
      "text/html": [
       "<div>\n",
       "<style scoped>\n",
       "    .dataframe tbody tr th:only-of-type {\n",
       "        vertical-align: middle;\n",
       "    }\n",
       "\n",
       "    .dataframe tbody tr th {\n",
       "        vertical-align: top;\n",
       "    }\n",
       "\n",
       "    .dataframe thead th {\n",
       "        text-align: right;\n",
       "    }\n",
       "</style>\n",
       "<table border=\"1\" class=\"dataframe\">\n",
       "  <thead>\n",
       "    <tr style=\"text-align: right;\">\n",
       "      <th></th>\n",
       "      <th>Date</th>\n",
       "      <th>Country</th>\n",
       "      <th>ISO3</th>\n",
       "      <th>School_closing</th>\n",
       "      <th>Workplace_closing</th>\n",
       "      <th>Cancel_events</th>\n",
       "      <th>Gatherings_restrictions</th>\n",
       "      <th>Transport_closing</th>\n",
       "      <th>Stay_home_restrictions</th>\n",
       "      <th>Internal_movement_restrictions</th>\n",
       "      <th>International_movement_restrictions</th>\n",
       "      <th>Information_campaigns</th>\n",
       "      <th>Testing_policy</th>\n",
       "      <th>Contact_tracing</th>\n",
       "      <th>Stringency_index</th>\n",
       "    </tr>\n",
       "  </thead>\n",
       "  <tbody>\n",
       "    <tr>\n",
       "      <th>16042</th>\n",
       "      <td>2021-02-03</td>\n",
       "      <td>Colombia</td>\n",
       "      <td>COL</td>\n",
       "      <td>3</td>\n",
       "      <td>1</td>\n",
       "      <td>1</td>\n",
       "      <td>3</td>\n",
       "      <td>1</td>\n",
       "      <td>1</td>\n",
       "      <td>1</td>\n",
       "      <td>4</td>\n",
       "      <td>2</td>\n",
       "      <td>2</td>\n",
       "      <td>2</td>\n",
       "      <td>81.02</td>\n",
       "    </tr>\n",
       "    <tr>\n",
       "      <th>16043</th>\n",
       "      <td>2021-02-04</td>\n",
       "      <td>Colombia</td>\n",
       "      <td>COL</td>\n",
       "      <td>3</td>\n",
       "      <td>1</td>\n",
       "      <td>1</td>\n",
       "      <td>3</td>\n",
       "      <td>1</td>\n",
       "      <td>1</td>\n",
       "      <td>1</td>\n",
       "      <td>4</td>\n",
       "      <td>2</td>\n",
       "      <td>2</td>\n",
       "      <td>2</td>\n",
       "      <td>81.02</td>\n",
       "    </tr>\n",
       "    <tr>\n",
       "      <th>16044</th>\n",
       "      <td>2021-02-05</td>\n",
       "      <td>Colombia</td>\n",
       "      <td>COL</td>\n",
       "      <td>3</td>\n",
       "      <td>1</td>\n",
       "      <td>1</td>\n",
       "      <td>3</td>\n",
       "      <td>1</td>\n",
       "      <td>1</td>\n",
       "      <td>1</td>\n",
       "      <td>4</td>\n",
       "      <td>2</td>\n",
       "      <td>2</td>\n",
       "      <td>2</td>\n",
       "      <td>81.02</td>\n",
       "    </tr>\n",
       "    <tr>\n",
       "      <th>16045</th>\n",
       "      <td>2021-02-06</td>\n",
       "      <td>Colombia</td>\n",
       "      <td>COL</td>\n",
       "      <td>3</td>\n",
       "      <td>1</td>\n",
       "      <td>1</td>\n",
       "      <td>3</td>\n",
       "      <td>1</td>\n",
       "      <td>1</td>\n",
       "      <td>1</td>\n",
       "      <td>4</td>\n",
       "      <td>2</td>\n",
       "      <td>2</td>\n",
       "      <td>2</td>\n",
       "      <td>81.02</td>\n",
       "    </tr>\n",
       "    <tr>\n",
       "      <th>16046</th>\n",
       "      <td>2021-02-07</td>\n",
       "      <td>Colombia</td>\n",
       "      <td>COL</td>\n",
       "      <td>3</td>\n",
       "      <td>1</td>\n",
       "      <td>1</td>\n",
       "      <td>3</td>\n",
       "      <td>1</td>\n",
       "      <td>1</td>\n",
       "      <td>1</td>\n",
       "      <td>4</td>\n",
       "      <td>2</td>\n",
       "      <td>2</td>\n",
       "      <td>2</td>\n",
       "      <td>81.02</td>\n",
       "    </tr>\n",
       "  </tbody>\n",
       "</table>\n",
       "</div>"
      ],
      "text/plain": [
       "            Date   Country ISO3  School_closing  Workplace_closing  \\\n",
       "16042 2021-02-03  Colombia  COL               3                  1   \n",
       "16043 2021-02-04  Colombia  COL               3                  1   \n",
       "16044 2021-02-05  Colombia  COL               3                  1   \n",
       "16045 2021-02-06  Colombia  COL               3                  1   \n",
       "16046 2021-02-07  Colombia  COL               3                  1   \n",
       "\n",
       "       Cancel_events  Gatherings_restrictions  Transport_closing  \\\n",
       "16042              1                        3                  1   \n",
       "16043              1                        3                  1   \n",
       "16044              1                        3                  1   \n",
       "16045              1                        3                  1   \n",
       "16046              1                        3                  1   \n",
       "\n",
       "       Stay_home_restrictions  Internal_movement_restrictions  \\\n",
       "16042                       1                               1   \n",
       "16043                       1                               1   \n",
       "16044                       1                               1   \n",
       "16045                       1                               1   \n",
       "16046                       1                               1   \n",
       "\n",
       "       International_movement_restrictions  Information_campaigns  \\\n",
       "16042                                    4                      2   \n",
       "16043                                    4                      2   \n",
       "16044                                    4                      2   \n",
       "16045                                    4                      2   \n",
       "16046                                    4                      2   \n",
       "\n",
       "       Testing_policy  Contact_tracing  Stringency_index  \n",
       "16042               2                2             81.02  \n",
       "16043               2                2             81.02  \n",
       "16044               2                2             81.02  \n",
       "16045               2                2             81.02  \n",
       "16046               2                2             81.02  "
      ]
     },
     "execution_count": 1,
     "metadata": {},
     "output_type": "execute_result"
    }
   ],
   "source": [
    "# Cleaned data\n",
    "oxcgrt_data.cleaned().tail()"
   ]
  },
  {
   "cell_type": "code",
   "execution_count": 41,
   "id": "lonely-certification",
   "metadata": {
    "collapsed": false,
    "execution": {
     "iopub.execute_input": "2021-02-07T16:17:35.845431Z",
     "iopub.status.busy": "2021-02-07T16:17:35.844946Z",
     "iopub.status.idle": "2021-02-07T16:17:36.032954Z",
     "shell.execute_reply": "2021-02-07T16:17:36.032451Z"
    }
   },
   "outputs": [
    {
     "data": {
      "text/html": [
       "<div>\n",
       "<style scoped>\n",
       "    .dataframe tbody tr th:only-of-type {\n",
       "        vertical-align: middle;\n",
       "    }\n",
       "\n",
       "    .dataframe tbody tr th {\n",
       "        vertical-align: top;\n",
       "    }\n",
       "\n",
       "    .dataframe thead th {\n",
       "        text-align: right;\n",
       "    }\n",
       "</style>\n",
       "<table border=\"1\" class=\"dataframe\">\n",
       "  <thead>\n",
       "    <tr style=\"text-align: right;\">\n",
       "      <th></th>\n",
       "      <th>Date</th>\n",
       "      <th>School_closing</th>\n",
       "      <th>Workplace_closing</th>\n",
       "      <th>Cancel_events</th>\n",
       "      <th>Gatherings_restrictions</th>\n",
       "      <th>Transport_closing</th>\n",
       "      <th>Stay_home_restrictions</th>\n",
       "      <th>Internal_movement_restrictions</th>\n",
       "      <th>International_movement_restrictions</th>\n",
       "      <th>Information_campaigns</th>\n",
       "      <th>Testing_policy</th>\n",
       "      <th>Contact_tracing</th>\n",
       "      <th>Stringency_index</th>\n",
       "    </tr>\n",
       "  </thead>\n",
       "  <tbody>\n",
       "    <tr>\n",
       "      <th>399</th>\n",
       "      <td>2021-02-03</td>\n",
       "      <td>1</td>\n",
       "      <td>1</td>\n",
       "      <td>1</td>\n",
       "      <td>0</td>\n",
       "      <td>1</td>\n",
       "      <td>1</td>\n",
       "      <td>1</td>\n",
       "      <td>4</td>\n",
       "      <td>2</td>\n",
       "      <td>2</td>\n",
       "      <td>1</td>\n",
       "      <td>53.24</td>\n",
       "    </tr>\n",
       "    <tr>\n",
       "      <th>400</th>\n",
       "      <td>2021-02-04</td>\n",
       "      <td>1</td>\n",
       "      <td>1</td>\n",
       "      <td>1</td>\n",
       "      <td>0</td>\n",
       "      <td>1</td>\n",
       "      <td>1</td>\n",
       "      <td>1</td>\n",
       "      <td>4</td>\n",
       "      <td>2</td>\n",
       "      <td>2</td>\n",
       "      <td>1</td>\n",
       "      <td>53.24</td>\n",
       "    </tr>\n",
       "    <tr>\n",
       "      <th>401</th>\n",
       "      <td>2021-02-05</td>\n",
       "      <td>1</td>\n",
       "      <td>1</td>\n",
       "      <td>1</td>\n",
       "      <td>0</td>\n",
       "      <td>1</td>\n",
       "      <td>1</td>\n",
       "      <td>1</td>\n",
       "      <td>4</td>\n",
       "      <td>2</td>\n",
       "      <td>2</td>\n",
       "      <td>1</td>\n",
       "      <td>53.24</td>\n",
       "    </tr>\n",
       "    <tr>\n",
       "      <th>402</th>\n",
       "      <td>2021-02-06</td>\n",
       "      <td>1</td>\n",
       "      <td>1</td>\n",
       "      <td>1</td>\n",
       "      <td>0</td>\n",
       "      <td>1</td>\n",
       "      <td>1</td>\n",
       "      <td>1</td>\n",
       "      <td>4</td>\n",
       "      <td>2</td>\n",
       "      <td>2</td>\n",
       "      <td>1</td>\n",
       "      <td>53.24</td>\n",
       "    </tr>\n",
       "    <tr>\n",
       "      <th>403</th>\n",
       "      <td>2021-02-07</td>\n",
       "      <td>1</td>\n",
       "      <td>1</td>\n",
       "      <td>1</td>\n",
       "      <td>0</td>\n",
       "      <td>1</td>\n",
       "      <td>1</td>\n",
       "      <td>1</td>\n",
       "      <td>4</td>\n",
       "      <td>2</td>\n",
       "      <td>2</td>\n",
       "      <td>1</td>\n",
       "      <td>53.24</td>\n",
       "    </tr>\n",
       "  </tbody>\n",
       "</table>\n",
       "</div>"
      ],
      "text/plain": [
       "          Date  School_closing  Workplace_closing  Cancel_events  \\\n",
       "399 2021-02-03               1                  1              1   \n",
       "400 2021-02-04               1                  1              1   \n",
       "401 2021-02-05               1                  1              1   \n",
       "402 2021-02-06               1                  1              1   \n",
       "403 2021-02-07               1                  1              1   \n",
       "\n",
       "     Gatherings_restrictions  Transport_closing  Stay_home_restrictions  \\\n",
       "399                        0                  1                       1   \n",
       "400                        0                  1                       1   \n",
       "401                        0                  1                       1   \n",
       "402                        0                  1                       1   \n",
       "403                        0                  1                       1   \n",
       "\n",
       "     Internal_movement_restrictions  International_movement_restrictions  \\\n",
       "399                               1                                    4   \n",
       "400                               1                                    4   \n",
       "401                               1                                    4   \n",
       "402                               1                                    4   \n",
       "403                               1                                    4   \n",
       "\n",
       "     Information_campaigns  Testing_policy  Contact_tracing  Stringency_index  \n",
       "399                      2               2                1             53.24  \n",
       "400                      2               2                1             53.24  \n",
       "401                      2               2                1             53.24  \n",
       "402                      2               2                1             53.24  \n",
       "403                      2               2                1             53.24  "
      ]
     },
     "execution_count": 1,
     "metadata": {},
     "output_type": "execute_result"
    }
   ],
   "source": [
    "# Subset for a country\n",
    "oxcgrt_data.subset(\"Japan\").tail()\n",
    "# We can use ISO3 codes\n",
    "# oxcgrt_data.subset(\"JPN\").tail()"
   ]
  },
  {
   "cell_type": "markdown",
   "id": "vertical-formula",
   "metadata": {},
   "source": [
    "### The number of tests\n",
    "The number of tests is also key information to understand the situation.\n",
    "This dataset was saved as `pcr_data`, an instance of `PCRData` class."
   ]
  },
  {
   "cell_type": "code",
   "execution_count": 42,
   "id": "controversial-subscription",
   "metadata": {
    "collapsed": false,
    "execution": {
     "iopub.execute_input": "2021-02-07T16:17:36.036523Z",
     "iopub.status.busy": "2021-02-07T16:17:36.036043Z",
     "iopub.status.idle": "2021-02-07T16:17:36.038976Z",
     "shell.execute_reply": "2021-02-07T16:17:36.039359Z"
    }
   },
   "outputs": [
    {
     "data": {
      "text/plain": [
       "covsirphy.cleaning.pcr_data.PCRData"
      ]
     },
     "execution_count": 1,
     "metadata": {},
     "output_type": "execute_result"
    }
   ],
   "source": [
    "type(pcr_data)"
   ]
  },
  {
   "cell_type": "code",
   "execution_count": 43,
   "id": "breathing-diesel",
   "metadata": {
    "collapsed": false,
    "execution": {
     "iopub.execute_input": "2021-02-07T16:17:36.042332Z",
     "iopub.status.busy": "2021-02-07T16:17:36.041885Z",
     "iopub.status.idle": "2021-02-07T16:17:36.044216Z",
     "shell.execute_reply": "2021-02-07T16:17:36.044644Z"
    }
   },
   "outputs": [
    {
     "name": "stdout",
     "output_type": "stream",
     "text": [
      "(Secondary source) Guidotti, E., Ardia, D., (2020), \"COVID-19 Data Hub\", Journal of Open Source Software 5(51):2376, doi: 10.21105/joss.02376.\n",
      "Hasell, J., Mathieu, E., Beltekian, D. et al. A cross-country database of COVID-19 testing. Sci Data 7, 345 (2020). https://doi.org/10.1038/s41597-020-00688-8\n",
      "Lisphilar (2020), COVID-19 dataset in Japan, GitHub repository, https://github.com/lisphilar/covid19-sir/data/japan\n"
     ]
    }
   ],
   "source": [
    "# Description/citation\n",
    "print(pcr_data.citation)"
   ]
  },
  {
   "cell_type": "code",
   "execution_count": 44,
   "id": "confirmed-sweden",
   "metadata": {
    "collapsed": false,
    "execution": {
     "iopub.execute_input": "2021-02-07T16:17:36.047477Z",
     "iopub.status.busy": "2021-02-07T16:17:36.046995Z",
     "iopub.status.idle": "2021-02-07T16:17:36.049757Z",
     "shell.execute_reply": "2021-02-07T16:17:36.049274Z"
    }
   },
   "outputs": [],
   "source": [
    "# Raw data (the same as jhu_data)\n",
    "# pcr_data.raw.tail()"
   ]
  },
  {
   "cell_type": "code",
   "execution_count": 45,
   "id": "acceptable-barbados",
   "metadata": {
    "collapsed": false,
    "execution": {
     "iopub.execute_input": "2021-02-07T16:17:36.056538Z",
     "iopub.status.busy": "2021-02-07T16:17:36.056057Z",
     "iopub.status.idle": "2021-02-07T16:17:36.062462Z",
     "shell.execute_reply": "2021-02-07T16:17:36.062880Z"
    }
   },
   "outputs": [
    {
     "data": {
      "text/html": [
       "<div>\n",
       "<style scoped>\n",
       "    .dataframe tbody tr th:only-of-type {\n",
       "        vertical-align: middle;\n",
       "    }\n",
       "\n",
       "    .dataframe tbody tr th {\n",
       "        vertical-align: top;\n",
       "    }\n",
       "\n",
       "    .dataframe thead th {\n",
       "        text-align: right;\n",
       "    }\n",
       "</style>\n",
       "<table border=\"1\" class=\"dataframe\">\n",
       "  <thead>\n",
       "    <tr style=\"text-align: right;\">\n",
       "      <th></th>\n",
       "      <th>Date</th>\n",
       "      <th>Country</th>\n",
       "      <th>Province</th>\n",
       "      <th>Tests</th>\n",
       "      <th>Confirmed</th>\n",
       "    </tr>\n",
       "  </thead>\n",
       "  <tbody>\n",
       "    <tr>\n",
       "      <th>15955</th>\n",
       "      <td>2021-02-01</td>\n",
       "      <td>Japan</td>\n",
       "      <td>-</td>\n",
       "      <td>6851430</td>\n",
       "      <td>389518</td>\n",
       "    </tr>\n",
       "    <tr>\n",
       "      <th>15956</th>\n",
       "      <td>2021-02-02</td>\n",
       "      <td>Japan</td>\n",
       "      <td>-</td>\n",
       "      <td>6921123</td>\n",
       "      <td>391626</td>\n",
       "    </tr>\n",
       "    <tr>\n",
       "      <th>15957</th>\n",
       "      <td>2021-02-03</td>\n",
       "      <td>Japan</td>\n",
       "      <td>-</td>\n",
       "      <td>6981269</td>\n",
       "      <td>393836</td>\n",
       "    </tr>\n",
       "    <tr>\n",
       "      <th>15958</th>\n",
       "      <td>2021-02-04</td>\n",
       "      <td>Japan</td>\n",
       "      <td>-</td>\n",
       "      <td>7051485</td>\n",
       "      <td>396429</td>\n",
       "    </tr>\n",
       "    <tr>\n",
       "      <th>15959</th>\n",
       "      <td>2021-02-05</td>\n",
       "      <td>Japan</td>\n",
       "      <td>-</td>\n",
       "      <td>7114521</td>\n",
       "      <td>399048</td>\n",
       "    </tr>\n",
       "  </tbody>\n",
       "</table>\n",
       "</div>"
      ],
      "text/plain": [
       "            Date Country Province    Tests  Confirmed\n",
       "15955 2021-02-01   Japan        -  6851430     389518\n",
       "15956 2021-02-02   Japan        -  6921123     391626\n",
       "15957 2021-02-03   Japan        -  6981269     393836\n",
       "15958 2021-02-04   Japan        -  7051485     396429\n",
       "15959 2021-02-05   Japan        -  7114521     399048"
      ]
     },
     "execution_count": 1,
     "metadata": {},
     "output_type": "execute_result"
    }
   ],
   "source": [
    "# Cleaned data\n",
    "pcr_data.cleaned().tail()"
   ]
  },
  {
   "cell_type": "code",
   "execution_count": 46,
   "id": "differential-humanity",
   "metadata": {
    "collapsed": false,
    "execution": {
     "iopub.execute_input": "2021-02-07T16:17:36.066674Z",
     "iopub.status.busy": "2021-02-07T16:17:36.066168Z",
     "iopub.status.idle": "2021-02-07T16:17:36.077611Z",
     "shell.execute_reply": "2021-02-07T16:17:36.077972Z"
    }
   },
   "outputs": [
    {
     "data": {
      "text/html": [
       "<div>\n",
       "<style scoped>\n",
       "    .dataframe tbody tr th:only-of-type {\n",
       "        vertical-align: middle;\n",
       "    }\n",
       "\n",
       "    .dataframe tbody tr th {\n",
       "        vertical-align: top;\n",
       "    }\n",
       "\n",
       "    .dataframe thead th {\n",
       "        text-align: right;\n",
       "    }\n",
       "</style>\n",
       "<table border=\"1\" class=\"dataframe\">\n",
       "  <thead>\n",
       "    <tr style=\"text-align: right;\">\n",
       "      <th></th>\n",
       "      <th>Date</th>\n",
       "      <th>Tests</th>\n",
       "      <th>Confirmed</th>\n",
       "    </tr>\n",
       "  </thead>\n",
       "  <tbody>\n",
       "  </tbody>\n",
       "</table>\n",
       "</div>"
      ],
      "text/plain": [
       "Empty DataFrame\n",
       "Columns: [Date, Tests, Confirmed]\n",
       "Index: []"
      ]
     },
     "execution_count": 1,
     "metadata": {},
     "output_type": "execute_result"
    }
   ],
   "source": [
    "# Subset for a country\n",
    "pcr_data.subset(\"Japan\").tail()\n",
    "# We can use ISO3 codes\n",
    "# pcr_data.subset(\"JPN\").tail()"
   ]
  },
  {
   "cell_type": "markdown",
   "id": "restricted-solution",
   "metadata": {},
   "source": [
    "Under the assumption that all tests were PCR test, we can calculate the positive rate of PCR tests as \"the number of confirmed cases per the number of tests\"."
   ]
  },
  {
   "cell_type": "code",
   "execution_count": 47,
   "id": "nominated-egypt",
   "metadata": {
    "collapsed": false,
    "execution": {
     "iopub.execute_input": "2021-02-07T16:17:36.081332Z",
     "iopub.status.busy": "2021-02-07T16:17:36.080841Z",
     "iopub.status.idle": "2021-02-07T16:17:36.510021Z",
     "shell.execute_reply": "2021-02-07T16:17:36.510416Z"
    }
   },
   "outputs": [
    {
     "data": {
      "image/png": "[encoded data removed]",
      "text/plain": [
       "<Figure size 648x432 with 1 Axes>"
      ]
     },
     "metadata": {
      "needs_background": "light"
     },
     "output_type": "display_data"
    }
   ],
   "source": [
    "# Positive rate in Japan\n",
    "_ = pcr_data.positive_rate(\"Japan\")"
   ]
  },
  {
   "cell_type": "markdown",
   "id": "thorough-worst",
   "metadata": {},
   "source": [
    "### The number of vaccinations\n",
    "The number of vaccinations is a key factor to end the outbreak as soon as possible. This dataset was saved as `vaccine_data`, an instance of `VaccineData` class."
   ]
  },
  {
   "cell_type": "code",
   "execution_count": 48,
   "id": "champion-debut",
   "metadata": {
    "collapsed": false,
    "execution": {
     "iopub.execute_input": "2021-02-07T16:17:36.513990Z",
     "iopub.status.busy": "2021-02-07T16:17:36.513473Z",
     "iopub.status.idle": "2021-02-07T16:17:36.516746Z",
     "shell.execute_reply": "2021-02-07T16:17:36.517241Z"
    }
   },
   "outputs": [
    {
     "data": {
      "text/plain": [
       "covsirphy.cleaning.vaccine_data.VaccineData"
      ]
     },
     "execution_count": 1,
     "metadata": {},
     "output_type": "execute_result"
    }
   ],
   "source": [
    "# The number of vaccinations\n",
    "type(vaccine_data)"
   ]
  },
  {
   "cell_type": "code",
   "execution_count": 49,
   "id": "afraid-potter",
   "metadata": {
    "collapsed": false,
    "execution": {
     "iopub.execute_input": "2021-02-07T16:17:36.520950Z",
     "iopub.status.busy": "2021-02-07T16:17:36.520433Z",
     "iopub.status.idle": "2021-02-07T16:17:36.522415Z",
     "shell.execute_reply": "2021-02-07T16:17:36.522796Z"
    }
   },
   "outputs": [
    {
     "name": "stdout",
     "output_type": "stream",
     "text": [
      "Hasell, J., Mathieu, E., Beltekian, D. et al. A cross-country database of COVID-19 testing. Sci Data 7, 345 (2020). https://doi.org/10.1038/s41597-020-00688-8\n"
     ]
    }
   ],
   "source": [
    "# Description/citation\n",
    "print(vaccine_data.citation)"
   ]
  },
  {
   "cell_type": "code",
   "execution_count": 50,
   "id": "devoted-purse",
   "metadata": {
    "collapsed": false,
    "execution": {
     "iopub.execute_input": "2021-02-07T16:17:36.525770Z",
     "iopub.status.busy": "2021-02-07T16:17:36.525289Z",
     "iopub.status.idle": "2021-02-07T16:17:36.527457Z",
     "shell.execute_reply": "2021-02-07T16:17:36.527839Z"
    }
   },
   "outputs": [],
   "source": [
    "# Raw data\n",
    "# vaccine_data.raw.tail()"
   ]
  },
  {
   "cell_type": "code",
   "execution_count": 51,
   "id": "finite-level",
   "metadata": {
    "collapsed": false,
    "execution": {
     "iopub.execute_input": "2021-02-07T16:17:36.536326Z",
     "iopub.status.busy": "2021-02-07T16:17:36.535782Z",
     "iopub.status.idle": "2021-02-07T16:17:36.538940Z",
     "shell.execute_reply": "2021-02-07T16:17:36.538375Z"
    }
   },
   "outputs": [
    {
     "data": {
      "text/html": [
       "<div>\n",
       "<style scoped>\n",
       "    .dataframe tbody tr th:only-of-type {\n",
       "        vertical-align: middle;\n",
       "    }\n",
       "\n",
       "    .dataframe tbody tr th {\n",
       "        vertical-align: top;\n",
       "    }\n",
       "\n",
       "    .dataframe thead th {\n",
       "        text-align: right;\n",
       "    }\n",
       "</style>\n",
       "<table border=\"1\" class=\"dataframe\">\n",
       "  <thead>\n",
       "    <tr style=\"text-align: right;\">\n",
       "      <th></th>\n",
       "      <th>Date</th>\n",
       "      <th>Country</th>\n",
       "      <th>Product</th>\n",
       "      <th>Vaccinations</th>\n",
       "    </tr>\n",
       "  </thead>\n",
       "  <tbody>\n",
       "    <tr>\n",
       "      <th>2455</th>\n",
       "      <td>2021-02-01</td>\n",
       "      <td>Wales</td>\n",
       "      <td>Oxford/AstraZeneca, Pfizer/BioNTech</td>\n",
       "      <td>440706</td>\n",
       "    </tr>\n",
       "    <tr>\n",
       "      <th>2456</th>\n",
       "      <td>2021-02-02</td>\n",
       "      <td>Wales</td>\n",
       "      <td>Oxford/AstraZeneca, Pfizer/BioNTech</td>\n",
       "      <td>463657</td>\n",
       "    </tr>\n",
       "    <tr>\n",
       "      <th>2457</th>\n",
       "      <td>2021-02-03</td>\n",
       "      <td>Wales</td>\n",
       "      <td>Oxford/AstraZeneca, Pfizer/BioNTech</td>\n",
       "      <td>491786</td>\n",
       "    </tr>\n",
       "    <tr>\n",
       "      <th>2458</th>\n",
       "      <td>2021-02-04</td>\n",
       "      <td>Wales</td>\n",
       "      <td>Oxford/AstraZeneca, Pfizer/BioNTech</td>\n",
       "      <td>524677</td>\n",
       "    </tr>\n",
       "    <tr>\n",
       "      <th>2459</th>\n",
       "      <td>2021-02-05</td>\n",
       "      <td>Wales</td>\n",
       "      <td>Oxford/AstraZeneca, Pfizer/BioNTech</td>\n",
       "      <td>559468</td>\n",
       "    </tr>\n",
       "  </tbody>\n",
       "</table>\n",
       "</div>"
      ],
      "text/plain": [
       "           Date Country                              Product  Vaccinations\n",
       "2455 2021-02-01   Wales  Oxford/AstraZeneca, Pfizer/BioNTech        440706\n",
       "2456 2021-02-02   Wales  Oxford/AstraZeneca, Pfizer/BioNTech        463657\n",
       "2457 2021-02-03   Wales  Oxford/AstraZeneca, Pfizer/BioNTech        491786\n",
       "2458 2021-02-04   Wales  Oxford/AstraZeneca, Pfizer/BioNTech        524677\n",
       "2459 2021-02-05   Wales  Oxford/AstraZeneca, Pfizer/BioNTech        559468"
      ]
     },
     "execution_count": 1,
     "metadata": {},
     "output_type": "execute_result"
    }
   ],
   "source": [
    "# Cleaned data\n",
    "vaccine_data.cleaned().tail()"
   ]
  },
  {
   "cell_type": "code",
   "execution_count": 52,
   "id": "selected-seating",
   "metadata": {
    "collapsed": false,
    "execution": {
     "iopub.execute_input": "2021-02-07T16:17:36.543744Z",
     "iopub.status.busy": "2021-02-07T16:17:36.542129Z",
     "iopub.status.idle": "2021-02-07T16:17:36.547028Z",
     "shell.execute_reply": "2021-02-07T16:17:36.546494Z"
    }
   },
   "outputs": [
    {
     "data": {
      "text/plain": [
       "['Algeria',\n",
       " 'Andorra',\n",
       " 'Argentina',\n",
       " 'Austria',\n",
       " 'Bahrain',\n",
       " 'Bangladesh',\n",
       " 'Belgium',\n",
       " 'Bermuda',\n",
       " 'Bolivia',\n",
       " 'Brazil',\n",
       " 'Bulgaria',\n",
       " 'Canada',\n",
       " 'Cayman Islands',\n",
       " 'Chile',\n",
       " 'China',\n",
       " 'Costa Rica',\n",
       " 'Croatia',\n",
       " 'Cyprus',\n",
       " 'Czechia',\n",
       " 'Denmark',\n",
       " 'Ecuador',\n",
       " 'Egypt',\n",
       " 'England',\n",
       " 'Estonia',\n",
       " 'European Union',\n",
       " 'Faeroe Islands',\n",
       " 'Finland',\n",
       " 'France',\n",
       " 'Germany',\n",
       " 'Gibraltar',\n",
       " 'Greece',\n",
       " 'Greenland',\n",
       " 'Guernsey',\n",
       " 'Hungary',\n",
       " 'Iceland',\n",
       " 'India',\n",
       " 'Indonesia',\n",
       " 'Ireland',\n",
       " 'Isle of Man',\n",
       " 'Israel',\n",
       " 'Italy',\n",
       " 'Jersey',\n",
       " 'Kuwait',\n",
       " 'Latvia',\n",
       " 'Liechtenstein',\n",
       " 'Lithuania',\n",
       " 'Luxembourg',\n",
       " 'Maldives',\n",
       " 'Malta',\n",
       " 'Mexico',\n",
       " 'Monaco',\n",
       " 'Morocco',\n",
       " 'Myanmar',\n",
       " 'Nepal',\n",
       " 'Netherlands',\n",
       " 'Northern Cyprus',\n",
       " 'Northern Ireland',\n",
       " 'Norway',\n",
       " 'Oman',\n",
       " 'Panama',\n",
       " 'Poland',\n",
       " 'Portugal',\n",
       " 'Romania',\n",
       " 'Russia',\n",
       " 'Saint Helena',\n",
       " 'Saudi Arabia',\n",
       " 'Scotland',\n",
       " 'Serbia',\n",
       " 'Seychelles',\n",
       " 'Singapore',\n",
       " 'Slovakia',\n",
       " 'Slovenia',\n",
       " 'Spain',\n",
       " 'Sri Lanka',\n",
       " 'Sweden',\n",
       " 'Switzerland',\n",
       " 'Turkey',\n",
       " 'United Arab Emirates',\n",
       " 'United Kingdom',\n",
       " 'United States',\n",
       " 'Wales']"
      ]
     },
     "execution_count": 1,
     "metadata": {},
     "output_type": "execute_result"
    }
   ],
   "source": [
    "# Registered countries\n",
    "vaccine_data.countries()"
   ]
  },
  {
   "cell_type": "code",
   "execution_count": 53,
   "id": "subtle-forge",
   "metadata": {
    "collapsed": false,
    "execution": {
     "iopub.execute_input": "2021-02-07T16:17:36.553194Z",
     "iopub.status.busy": "2021-02-07T16:17:36.551688Z",
     "iopub.status.idle": "2021-02-07T16:17:36.561327Z",
     "shell.execute_reply": "2021-02-07T16:17:36.561710Z"
    }
   },
   "outputs": [
    {
     "data": {
      "text/html": [
       "<div>\n",
       "<style scoped>\n",
       "    .dataframe tbody tr th:only-of-type {\n",
       "        vertical-align: middle;\n",
       "    }\n",
       "\n",
       "    .dataframe tbody tr th {\n",
       "        vertical-align: top;\n",
       "    }\n",
       "\n",
       "    .dataframe thead th {\n",
       "        text-align: right;\n",
       "    }\n",
       "</style>\n",
       "<table border=\"1\" class=\"dataframe\">\n",
       "  <thead>\n",
       "    <tr style=\"text-align: right;\">\n",
       "      <th></th>\n",
       "      <th>Date</th>\n",
       "      <th>Vaccinations</th>\n",
       "    </tr>\n",
       "  </thead>\n",
       "  <tbody>\n",
       "    <tr>\n",
       "      <th>50</th>\n",
       "      <td>2021-02-01</td>\n",
       "      <td>10143511</td>\n",
       "    </tr>\n",
       "    <tr>\n",
       "      <th>51</th>\n",
       "      <td>2021-02-02</td>\n",
       "      <td>10520433</td>\n",
       "    </tr>\n",
       "    <tr>\n",
       "      <th>52</th>\n",
       "      <td>2021-02-03</td>\n",
       "      <td>10992444</td>\n",
       "    </tr>\n",
       "    <tr>\n",
       "      <th>53</th>\n",
       "      <td>2021-02-04</td>\n",
       "      <td>11477040</td>\n",
       "    </tr>\n",
       "    <tr>\n",
       "      <th>54</th>\n",
       "      <td>2021-02-05</td>\n",
       "      <td>11975267</td>\n",
       "    </tr>\n",
       "  </tbody>\n",
       "</table>\n",
       "</div>"
      ],
      "text/plain": [
       "         Date  Vaccinations\n",
       "50 2021-02-01      10143511\n",
       "51 2021-02-02      10520433\n",
       "52 2021-02-03      10992444\n",
       "53 2021-02-04      11477040\n",
       "54 2021-02-05      11975267"
      ]
     },
     "execution_count": 1,
     "metadata": {},
     "output_type": "execute_result"
    }
   ],
   "source": [
    "# Subset for a country\n",
    "vaccine_data.subset(\"United Kingdom\").tail()\n",
    "# We can use ISO3 codes\n",
    "# pcr_data.subset(\"GBR\").tail()"
   ]
  },
  {
   "cell_type": "markdown",
   "id": "private-shade",
   "metadata": {},
   "source": [
    "### Population pyramid\n",
    "With population pyramid, we can divide the population to sub-groups. This will be useful when we analyse the meaning of parameters. For example, how many days go out is different between the sub-groups.\n",
    "This dataset was saved as `pyramid_data`, an instance of `PopulationPyramidData` class."
   ]
  },
  {
   "cell_type": "code",
   "execution_count": 54,
   "id": "hourly-truck",
   "metadata": {
    "collapsed": false,
    "execution": {
     "iopub.execute_input": "2021-02-07T16:17:36.565636Z",
     "iopub.status.busy": "2021-02-07T16:17:36.564926Z",
     "iopub.status.idle": "2021-02-07T16:17:36.568149Z",
     "shell.execute_reply": "2021-02-07T16:17:36.568533Z"
    }
   },
   "outputs": [
    {
     "data": {
      "text/plain": [
       "covsirphy.cleaning.pyramid.PopulationPyramidData"
      ]
     },
     "execution_count": 1,
     "metadata": {},
     "output_type": "execute_result"
    }
   ],
   "source": [
    "# Population pyramid\n",
    "type(pyramid_data)"
   ]
  },
  {
   "cell_type": "code",
   "execution_count": 55,
   "id": "internal-detection",
   "metadata": {
    "collapsed": false,
    "execution": {
     "iopub.execute_input": "2021-02-07T16:17:36.571998Z",
     "iopub.status.busy": "2021-02-07T16:17:36.571482Z",
     "iopub.status.idle": "2021-02-07T16:17:36.574156Z",
     "shell.execute_reply": "2021-02-07T16:17:36.574562Z"
    }
   },
   "outputs": [
    {
     "name": "stdout",
     "output_type": "stream",
     "text": [
      "World Bank Group (2020), World Bank Open Data, https://data.worldbank.org/\n"
     ]
    }
   ],
   "source": [
    "# Description/citation\n",
    "print(pyramid_data.citation)"
   ]
  },
  {
   "cell_type": "code",
   "execution_count": 56,
   "id": "unauthorized-immigration",
   "metadata": {
    "collapsed": false,
    "execution": {
     "iopub.execute_input": "2021-02-07T16:17:36.578492Z",
     "iopub.status.busy": "2021-02-07T16:17:36.577974Z",
     "iopub.status.idle": "2021-02-07T16:17:36.599247Z",
     "shell.execute_reply": "2021-02-07T16:17:36.599758Z"
    }
   },
   "outputs": [
    {
     "data": {
      "text/html": [
       "<div>\n",
       "<style scoped>\n",
       "    .dataframe tbody tr th:only-of-type {\n",
       "        vertical-align: middle;\n",
       "    }\n",
       "\n",
       "    .dataframe tbody tr th {\n",
       "        vertical-align: top;\n",
       "    }\n",
       "\n",
       "    .dataframe thead th {\n",
       "        text-align: right;\n",
       "    }\n",
       "</style>\n",
       "<table border=\"1\" class=\"dataframe\">\n",
       "  <thead>\n",
       "    <tr style=\"text-align: right;\">\n",
       "      <th></th>\n",
       "      <th>Age</th>\n",
       "      <th>Population</th>\n",
       "      <th>Per_total</th>\n",
       "    </tr>\n",
       "  </thead>\n",
       "  <tbody>\n",
       "    <tr>\n",
       "      <th>113</th>\n",
       "      <td>118</td>\n",
       "      <td>255035</td>\n",
       "      <td>0.002174</td>\n",
       "    </tr>\n",
       "    <tr>\n",
       "      <th>114</th>\n",
       "      <td>119</td>\n",
       "      <td>255035</td>\n",
       "      <td>0.002174</td>\n",
       "    </tr>\n",
       "    <tr>\n",
       "      <th>115</th>\n",
       "      <td>120</td>\n",
       "      <td>255035</td>\n",
       "      <td>0.002174</td>\n",
       "    </tr>\n",
       "    <tr>\n",
       "      <th>116</th>\n",
       "      <td>121</td>\n",
       "      <td>255035</td>\n",
       "      <td>0.002174</td>\n",
       "    </tr>\n",
       "    <tr>\n",
       "      <th>117</th>\n",
       "      <td>122</td>\n",
       "      <td>255035</td>\n",
       "      <td>0.002174</td>\n",
       "    </tr>\n",
       "  </tbody>\n",
       "</table>\n",
       "</div>"
      ],
      "text/plain": [
       "     Age  Population  Per_total\n",
       "113  118      255035   0.002174\n",
       "114  119      255035   0.002174\n",
       "115  120      255035   0.002174\n",
       "116  121      255035   0.002174\n",
       "117  122      255035   0.002174"
      ]
     },
     "execution_count": 1,
     "metadata": {},
     "output_type": "execute_result"
    }
   ],
   "source": [
    "# Subset will retrieved from the server when set\n",
    "pyramid_data.subset(\"Japan\").tail()"
   ]
  },
  {
   "cell_type": "markdown",
   "id": "indoor-sperm",
   "metadata": {},
   "source": [
    "### Japan-specific dataset\n",
    "This includes the number of confirmed/infected/fatal/recovered/tests/moderate/severe cases at country/prefecture level and metadata of each prefecture.\n",
    "This dataset was saved as `japan_data`, an instance of `JapanData` class."
   ]
  },
  {
   "cell_type": "code",
   "execution_count": 57,
   "id": "horizontal-yahoo",
   "metadata": {
    "collapsed": false,
    "execution": {
     "iopub.execute_input": "2021-02-07T16:17:36.603441Z",
     "iopub.status.busy": "2021-02-07T16:17:36.602935Z",
     "iopub.status.idle": "2021-02-07T16:17:36.605948Z",
     "shell.execute_reply": "2021-02-07T16:17:36.606353Z"
    }
   },
   "outputs": [
    {
     "data": {
      "text/plain": [
       "covsirphy.cleaning.japan_data.JapanData"
      ]
     },
     "execution_count": 1,
     "metadata": {},
     "output_type": "execute_result"
    }
   ],
   "source": [
    "# Japan-specific dataset\n",
    "type(japan_data)"
   ]
  },
  {
   "cell_type": "code",
   "execution_count": 58,
   "id": "genuine-biotechnology",
   "metadata": {
    "collapsed": false,
    "execution": {
     "iopub.execute_input": "2021-02-07T16:17:36.609680Z",
     "iopub.status.busy": "2021-02-07T16:17:36.609198Z",
     "iopub.status.idle": "2021-02-07T16:17:36.611468Z",
     "shell.execute_reply": "2021-02-07T16:17:36.611845Z"
    }
   },
   "outputs": [
    {
     "name": "stdout",
     "output_type": "stream",
     "text": [
      "Lisphilar (2020), COVID-19 dataset in Japan, GitHub repository, https://github.com/lisphilar/covid19-sir/data/japan\n"
     ]
    }
   ],
   "source": [
    "# Description/citation\n",
    "print(japan_data.citation)"
   ]
  },
  {
   "cell_type": "code",
   "execution_count": 59,
   "id": "previous-signature",
   "metadata": {
    "collapsed": false,
    "execution": {
     "iopub.execute_input": "2021-02-07T16:17:36.618796Z",
     "iopub.status.busy": "2021-02-07T16:17:36.618275Z",
     "iopub.status.idle": "2021-02-07T16:17:36.624746Z",
     "shell.execute_reply": "2021-02-07T16:17:36.625137Z"
    }
   },
   "outputs": [
    {
     "data": {
      "text/html": [
       "<div>\n",
       "<style scoped>\n",
       "    .dataframe tbody tr th:only-of-type {\n",
       "        vertical-align: middle;\n",
       "    }\n",
       "\n",
       "    .dataframe tbody tr th {\n",
       "        vertical-align: top;\n",
       "    }\n",
       "\n",
       "    .dataframe thead th {\n",
       "        text-align: right;\n",
       "    }\n",
       "</style>\n",
       "<table border=\"1\" class=\"dataframe\">\n",
       "  <thead>\n",
       "    <tr style=\"text-align: right;\">\n",
       "      <th></th>\n",
       "      <th>Date</th>\n",
       "      <th>Country</th>\n",
       "      <th>Province</th>\n",
       "      <th>Confirmed</th>\n",
       "      <th>Infected</th>\n",
       "      <th>Fatal</th>\n",
       "      <th>Recovered</th>\n",
       "      <th>Tests</th>\n",
       "      <th>Moderate</th>\n",
       "      <th>Severe</th>\n",
       "    </tr>\n",
       "  </thead>\n",
       "  <tbody>\n",
       "    <tr>\n",
       "      <th>15955</th>\n",
       "      <td>2021-02-01</td>\n",
       "      <td>Japan</td>\n",
       "      <td>-</td>\n",
       "      <td>389518</td>\n",
       "      <td>49671</td>\n",
       "      <td>5722</td>\n",
       "      <td>334125</td>\n",
       "      <td>6851430</td>\n",
       "      <td>48537</td>\n",
       "      <td>975</td>\n",
       "    </tr>\n",
       "    <tr>\n",
       "      <th>15956</th>\n",
       "      <td>2021-02-02</td>\n",
       "      <td>Japan</td>\n",
       "      <td>-</td>\n",
       "      <td>391626</td>\n",
       "      <td>46455</td>\n",
       "      <td>5794</td>\n",
       "      <td>339377</td>\n",
       "      <td>6921123</td>\n",
       "      <td>45467</td>\n",
       "      <td>937</td>\n",
       "    </tr>\n",
       "    <tr>\n",
       "      <th>15957</th>\n",
       "      <td>2021-02-03</td>\n",
       "      <td>Japan</td>\n",
       "      <td>-</td>\n",
       "      <td>393836</td>\n",
       "      <td>43787</td>\n",
       "      <td>5912</td>\n",
       "      <td>344137</td>\n",
       "      <td>6981269</td>\n",
       "      <td>42923</td>\n",
       "      <td>897</td>\n",
       "    </tr>\n",
       "    <tr>\n",
       "      <th>15958</th>\n",
       "      <td>2021-02-04</td>\n",
       "      <td>Japan</td>\n",
       "      <td>-</td>\n",
       "      <td>396429</td>\n",
       "      <td>41077</td>\n",
       "      <td>6020</td>\n",
       "      <td>349332</td>\n",
       "      <td>7051485</td>\n",
       "      <td>40210</td>\n",
       "      <td>892</td>\n",
       "    </tr>\n",
       "    <tr>\n",
       "      <th>15959</th>\n",
       "      <td>2021-02-05</td>\n",
       "      <td>Japan</td>\n",
       "      <td>-</td>\n",
       "      <td>399048</td>\n",
       "      <td>38440</td>\n",
       "      <td>6135</td>\n",
       "      <td>354473</td>\n",
       "      <td>7114521</td>\n",
       "      <td>37524</td>\n",
       "      <td>877</td>\n",
       "    </tr>\n",
       "  </tbody>\n",
       "</table>\n",
       "</div>"
      ],
      "text/plain": [
       "            Date Country Province  Confirmed  Infected  Fatal  Recovered  \\\n",
       "15955 2021-02-01   Japan        -     389518     49671   5722     334125   \n",
       "15956 2021-02-02   Japan        -     391626     46455   5794     339377   \n",
       "15957 2021-02-03   Japan        -     393836     43787   5912     344137   \n",
       "15958 2021-02-04   Japan        -     396429     41077   6020     349332   \n",
       "15959 2021-02-05   Japan        -     399048     38440   6135     354473   \n",
       "\n",
       "         Tests  Moderate  Severe  \n",
       "15955  6851430     48537     975  \n",
       "15956  6921123     45467     937  \n",
       "15957  6981269     42923     897  \n",
       "15958  7051485     40210     892  \n",
       "15959  7114521     37524     877  "
      ]
     },
     "execution_count": 1,
     "metadata": {},
     "output_type": "execute_result"
    }
   ],
   "source": [
    "# Cleaned dataset\n",
    "japan_data.cleaned().tail()"
   ]
  },
  {
   "cell_type": "code",
   "execution_count": 60,
   "id": "rental-black",
   "metadata": {
    "collapsed": false,
    "execution": {
     "iopub.execute_input": "2021-02-07T16:17:36.628679Z",
     "iopub.status.busy": "2021-02-07T16:17:36.628190Z",
     "iopub.status.idle": "2021-02-07T16:17:36.679800Z",
     "shell.execute_reply": "2021-02-07T16:17:36.680151Z"
    }
   },
   "outputs": [
    {
     "data": {
      "text/html": [
       "<div>\n",
       "<style scoped>\n",
       "    .dataframe tbody tr th:only-of-type {\n",
       "        vertical-align: middle;\n",
       "    }\n",
       "\n",
       "    .dataframe tbody tr th {\n",
       "        vertical-align: top;\n",
       "    }\n",
       "\n",
       "    .dataframe thead th {\n",
       "        text-align: right;\n",
       "    }\n",
       "</style>\n",
       "<table border=\"1\" class=\"dataframe\">\n",
       "  <thead>\n",
       "    <tr style=\"text-align: right;\">\n",
       "      <th></th>\n",
       "      <th>Prefecture</th>\n",
       "      <th>Admin_Capital</th>\n",
       "      <th>Admin_Region</th>\n",
       "      <th>Admin_Num</th>\n",
       "      <th>Area_Habitable</th>\n",
       "      <th>Area_Total</th>\n",
       "      <th>Clinic_bed_Care</th>\n",
       "      <th>Clinic_bed_Total</th>\n",
       "      <th>Hospital_bed_Care</th>\n",
       "      <th>Hospital_bed_Specific</th>\n",
       "      <th>Hospital_bed_Total</th>\n",
       "      <th>Hospital_bed_Tuberculosis</th>\n",
       "      <th>Hospital_bed_Type-I</th>\n",
       "      <th>Hospital_bed_Type-II</th>\n",
       "      <th>Population_Female</th>\n",
       "      <th>Population_Male</th>\n",
       "      <th>Population_Total</th>\n",
       "      <th>Location_Latitude</th>\n",
       "      <th>Location_Longitude</th>\n",
       "    </tr>\n",
       "  </thead>\n",
       "  <tbody>\n",
       "    <tr>\n",
       "      <th>42</th>\n",
       "      <td>Kumamoto</td>\n",
       "      <td>Kumamoto</td>\n",
       "      <td>Kyushu</td>\n",
       "      <td>43</td>\n",
       "      <td>2796</td>\n",
       "      <td>7409</td>\n",
       "      <td>497</td>\n",
       "      <td>4628</td>\n",
       "      <td>8340</td>\n",
       "      <td>0</td>\n",
       "      <td>33710</td>\n",
       "      <td>95</td>\n",
       "      <td>2</td>\n",
       "      <td>46</td>\n",
       "      <td>933</td>\n",
       "      <td>833</td>\n",
       "      <td>1765</td>\n",
       "      <td>32.790513</td>\n",
       "      <td>130.742388</td>\n",
       "    </tr>\n",
       "    <tr>\n",
       "      <th>43</th>\n",
       "      <td>Oita</td>\n",
       "      <td>Oita</td>\n",
       "      <td>Kyushu</td>\n",
       "      <td>44</td>\n",
       "      <td>1799</td>\n",
       "      <td>6341</td>\n",
       "      <td>269</td>\n",
       "      <td>3561</td>\n",
       "      <td>2618</td>\n",
       "      <td>0</td>\n",
       "      <td>19834</td>\n",
       "      <td>50</td>\n",
       "      <td>2</td>\n",
       "      <td>38</td>\n",
       "      <td>607</td>\n",
       "      <td>546</td>\n",
       "      <td>1152</td>\n",
       "      <td>33.238391</td>\n",
       "      <td>131.612658</td>\n",
       "    </tr>\n",
       "    <tr>\n",
       "      <th>44</th>\n",
       "      <td>Miyazaki</td>\n",
       "      <td>Miyazaki</td>\n",
       "      <td>Kyushu</td>\n",
       "      <td>45</td>\n",
       "      <td>1850</td>\n",
       "      <td>7735</td>\n",
       "      <td>206</td>\n",
       "      <td>2357</td>\n",
       "      <td>3682</td>\n",
       "      <td>0</td>\n",
       "      <td>18769</td>\n",
       "      <td>33</td>\n",
       "      <td>1</td>\n",
       "      <td>30</td>\n",
       "      <td>577</td>\n",
       "      <td>512</td>\n",
       "      <td>1089</td>\n",
       "      <td>31.911188</td>\n",
       "      <td>131.423873</td>\n",
       "    </tr>\n",
       "    <tr>\n",
       "      <th>45</th>\n",
       "      <td>Kagoshima</td>\n",
       "      <td>Kagoshima</td>\n",
       "      <td>Kyushu</td>\n",
       "      <td>46</td>\n",
       "      <td>3313</td>\n",
       "      <td>9187</td>\n",
       "      <td>652</td>\n",
       "      <td>4827</td>\n",
       "      <td>7750</td>\n",
       "      <td>0</td>\n",
       "      <td>32651</td>\n",
       "      <td>98</td>\n",
       "      <td>1</td>\n",
       "      <td>44</td>\n",
       "      <td>863</td>\n",
       "      <td>763</td>\n",
       "      <td>1626</td>\n",
       "      <td>31.560052</td>\n",
       "      <td>130.557745</td>\n",
       "    </tr>\n",
       "    <tr>\n",
       "      <th>46</th>\n",
       "      <td>Okinawa</td>\n",
       "      <td>Naha</td>\n",
       "      <td>Okinawa</td>\n",
       "      <td>47</td>\n",
       "      <td>1169</td>\n",
       "      <td>2281</td>\n",
       "      <td>83</td>\n",
       "      <td>914</td>\n",
       "      <td>3804</td>\n",
       "      <td>0</td>\n",
       "      <td>18710</td>\n",
       "      <td>47</td>\n",
       "      <td>4</td>\n",
       "      <td>20</td>\n",
       "      <td>734</td>\n",
       "      <td>709</td>\n",
       "      <td>1443</td>\n",
       "      <td>26.211761</td>\n",
       "      <td>127.681119</td>\n",
       "    </tr>\n",
       "  </tbody>\n",
       "</table>\n",
       "</div>"
      ],
      "text/plain": [
       "   Prefecture Admin_Capital Admin_Region  Admin_Num  Area_Habitable  \\\n",
       "42   Kumamoto      Kumamoto       Kyushu         43            2796   \n",
       "43       Oita          Oita       Kyushu         44            1799   \n",
       "44   Miyazaki      Miyazaki       Kyushu         45            1850   \n",
       "45  Kagoshima     Kagoshima       Kyushu         46            3313   \n",
       "46    Okinawa          Naha      Okinawa         47            1169   \n",
       "\n",
       "    Area_Total  Clinic_bed_Care  Clinic_bed_Total  Hospital_bed_Care  \\\n",
       "42        7409              497              4628               8340   \n",
       "43        6341              269              3561               2618   \n",
       "44        7735              206              2357               3682   \n",
       "45        9187              652              4827               7750   \n",
       "46        2281               83               914               3804   \n",
       "\n",
       "    Hospital_bed_Specific  Hospital_bed_Total  Hospital_bed_Tuberculosis  \\\n",
       "42                      0               33710                         95   \n",
       "43                      0               19834                         50   \n",
       "44                      0               18769                         33   \n",
       "45                      0               32651                         98   \n",
       "46                      0               18710                         47   \n",
       "\n",
       "    Hospital_bed_Type-I  Hospital_bed_Type-II  Population_Female  \\\n",
       "42                    2                    46                933   \n",
       "43                    2                    38                607   \n",
       "44                    1                    30                577   \n",
       "45                    1                    44                863   \n",
       "46                    4                    20                734   \n",
       "\n",
       "    Population_Male  Population_Total  Location_Latitude  Location_Longitude  \n",
       "42              833              1765          32.790513          130.742388  \n",
       "43              546              1152          33.238391          131.612658  \n",
       "44              512              1089          31.911188          131.423873  \n",
       "45              763              1626          31.560052          130.557745  \n",
       "46              709              1443          26.211761          127.681119  "
      ]
     },
     "execution_count": 1,
     "metadata": {},
     "output_type": "execute_result"
    }
   ],
   "source": [
    "# Metadata\n",
    "japan_data.meta().tail()"
   ]
  }
 ],
 "metadata": {
  "kernelspec": {
   "display_name": "Python 3.9.1 64-bit ('.venv')",
   "metadata": {
    "interpreter": {
     "hash": "aa53c8c6e6798222a2084c11cc25017700a8d3ad495b587e3a634f357767115f"
    }
   },
   "name": "python3"
  },
  "language_info": {
   "codemirror_mode": {
    "name": "ipython",
    "version": 3
   },
   "file_extension": ".py",
   "mimetype": "text/x-python",
   "name": "python",
   "nbconvert_exporter": "python",
   "pygments_lexer": "ipython3",
   "version": "3.9.1"
  }
 },
 "nbformat": 4,
 "nbformat_minor": 5
}
