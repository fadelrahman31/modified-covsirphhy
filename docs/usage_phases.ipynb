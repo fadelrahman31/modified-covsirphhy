{
 "cells": [
  {
   "cell_type": "markdown",
   "metadata": {},
   "source": [
    "# Usage: phases\n",
    "Here, how to set phases in scenario analysis will be explained. As an example, use the records in India."
   ]
  },
  {
   "cell_type": "markdown",
   "metadata": {},
   "source": [
    "## Preperation"
   ]
  },
  {
   "cell_type": "code",
   "execution_count": 1,
   "metadata": {
    "execution": {
     "iopub.execute_input": "2021-02-28T18:04:12.151063Z",
     "iopub.status.busy": "2021-02-28T18:04:12.150028Z",
     "iopub.status.idle": "2021-02-28T18:04:15.279882Z",
     "shell.execute_reply": "2021-02-28T18:04:15.280394Z"
    },
    "tags": []
   },
   "outputs": [
    {
     "data": {
      "text/plain": [
       "'2.17.0'"
      ]
     },
     "execution_count": 1,
     "metadata": {},
     "output_type": "execute_result"
    }
   ],
   "source": [
    "import covsirphy as cs\n",
    "cs.__version__"
   ]
  },
  {
   "cell_type": "code",
   "execution_count": 2,
   "metadata": {
    "execution": {
     "iopub.execute_input": "2021-02-28T18:04:15.287622Z",
     "iopub.status.busy": "2021-02-28T18:04:15.286424Z",
     "iopub.status.idle": "2021-02-28T18:04:20.336553Z",
     "shell.execute_reply": "2021-02-28T18:04:20.337045Z"
    },
    "tags": []
   },
   "outputs": [],
   "source": [
    "# Load datasets\n",
    "data_loader = cs.DataLoader(\"../input\")\n",
    "jhu_data = data_loader.jhu()\n",
    "population_data = data_loader.population()"
   ]
  },
  {
   "cell_type": "code",
   "execution_count": 3,
   "metadata": {
    "execution": {
     "iopub.execute_input": "2021-02-28T18:04:20.348135Z",
     "iopub.status.busy": "2021-02-28T18:04:20.347453Z",
     "iopub.status.idle": "2021-02-28T18:04:29.174818Z",
     "shell.execute_reply": "2021-02-28T18:04:29.174219Z"
    }
   },
   "outputs": [],
   "source": [
    "# Create instance of `Scenario` class\n",
    "snl = cs.Scenario(country=\"India\", province=None)\n",
    "snl.register(jhu_data, population_data)"
   ]
  },
  {
   "cell_type": "code",
   "execution_count": 4,
   "metadata": {
    "execution": {
     "iopub.execute_input": "2021-02-28T18:04:29.182634Z",
     "iopub.status.busy": "2021-02-28T18:04:29.182054Z",
     "iopub.status.idle": "2021-02-28T18:04:29.186969Z",
     "shell.execute_reply": "2021-02-28T18:04:29.187437Z"
    },
    "tags": []
   },
   "outputs": [
    {
     "data": {
      "text/html": [
       "<div>\n",
       "<style scoped>\n",
       "    .dataframe tbody tr th:only-of-type {\n",
       "        vertical-align: middle;\n",
       "    }\n",
       "\n",
       "    .dataframe tbody tr th {\n",
       "        vertical-align: top;\n",
       "    }\n",
       "\n",
       "    .dataframe thead th {\n",
       "        text-align: right;\n",
       "    }\n",
       "</style>\n",
       "<table border=\"1\" class=\"dataframe\">\n",
       "  <thead>\n",
       "    <tr style=\"text-align: right;\">\n",
       "      <th></th>\n",
       "    </tr>\n",
       "  </thead>\n",
       "  <tbody>\n",
       "  </tbody>\n",
       "</table>\n",
       "</div>"
      ],
      "text/plain": [
       "Empty DataFrame\n",
       "Columns: []\n",
       "Index: []"
      ]
     },
     "execution_count": 1,
     "metadata": {},
     "output_type": "execute_result"
    }
   ],
   "source": [
    "# Summarize main scenario\n",
    "snl.summary()"
   ]
  },
  {
   "cell_type": "markdown",
   "metadata": {},
   "source": [
    "Note:  \n",
    "This is empty because no phases are registered. Term \"phase\" means a sequential dates in which the parameters of SIR-derived models are fixed. The details will be explained later."
   ]
  },
  {
   "cell_type": "markdown",
   "metadata": {},
   "source": [
    "Just for demonstration, we will fix the first/end date of the records here. This is un-necessary for your analysis when you want to use all records.\n",
    "Today means the reference date to determine whether a phase is a past phase or a future phase."
   ]
  },
  {
   "cell_type": "code",
   "execution_count": 5,
   "metadata": {
    "execution": {
     "iopub.execute_input": "2021-02-28T18:04:29.192472Z",
     "iopub.status.busy": "2021-02-28T18:04:29.191860Z",
     "iopub.status.idle": "2021-02-28T18:04:32.386201Z",
     "shell.execute_reply": "2021-02-28T18:04:32.385583Z"
    },
    "tags": []
   },
   "outputs": [
    {
     "name": "stdout",
     "output_type": "stream",
     "text": [
      "01Mar2020\n",
      "16Jul2020\n",
      "16Jul2020\n"
     ]
    },
    {
     "data": {
      "text/html": [
       "<div>\n",
       "<style scoped>\n",
       "    .dataframe tbody tr th:only-of-type {\n",
       "        vertical-align: middle;\n",
       "    }\n",
       "\n",
       "    .dataframe tbody tr th {\n",
       "        vertical-align: top;\n",
       "    }\n",
       "\n",
       "    .dataframe thead th {\n",
       "        text-align: right;\n",
       "    }\n",
       "</style>\n",
       "<table border=\"1\" class=\"dataframe\">\n",
       "  <thead>\n",
       "    <tr style=\"text-align: right;\">\n",
       "      <th></th>\n",
       "    </tr>\n",
       "  </thead>\n",
       "  <tbody>\n",
       "  </tbody>\n",
       "</table>\n",
       "</div>"
      ],
      "text/plain": [
       "Empty DataFrame\n",
       "Columns: []\n",
       "Index: []"
      ]
     },
     "execution_count": 1,
     "metadata": {},
     "output_type": "execute_result"
    }
   ],
   "source": [
    "# Fix the first/last date of the records and today\n",
    "# today must be in the range of (first_date, last_date).\n",
    "# Default: None means automatically specified (min/max will be used)\n",
    "snl.timepoints(first_date=\"01Mar2020\", last_date=\"16Jul2020\", today=\"16Jul2020\")\n",
    "# Check dates\n",
    "print(snl.first_date)\n",
    "print(snl.last_date)\n",
    "print(snl.today)\n",
    "# Summarize (Empty because no phases are registered)\n",
    "snl.summary()"
   ]
  },
  {
   "cell_type": "markdown",
   "metadata": {},
   "source": [
    "## Set phases with S-R trend analysis\n",
    "How can we set phases?\n",
    "\n",
    "Here, we will use \"S-R trend analysis\" explained in [S-R trend analysis section in \"Kaggle: COVID-19 data with SIR model\"](https://www.kaggle.com/lisphilar/covid-19-data-with-sir-model#S-R-trend-analysis). $S$ (Susceptible) and $R$ (Recovered) show the following relationship in SIR-derived models. $S_{(R)}$ means $S$ as a function of $R$.\n",
    "\n",
    "$$S_{(R)} = N e^{-a R}$$\n",
    "\n",
    "where $N$ is total population and $a=\\cfrac{\\beta}{N \\gamma}$ is a constant.  \n",
    "This leads to\n",
    "$$\\log S_{(R)} = - a R + \\log N$$"
   ]
  },
  {
   "cell_type": "markdown",
   "metadata": {},
   "source": [
    "$\\log S$ decreases constantly with increase of $R$, when the records follow a SIR-derived model and the parameter values of the model are constant. With logarithmic y-axis scale, plot of $(x, y) = (R, S)$ shows a line. "
   ]
  },
  {
   "cell_type": "markdown",
   "metadata": {},
   "source": [
    "The slope of the line may change when the parameter values ($\\beta$ and $\\gamma$) are changed. To detect the dates when the parameter values were changed, we will find the change points of $\\log S$ as a function of $R$, using [ruptures: change point detection in Python](https://github.com/deepcharles/ruptures). We call the period from a change point to the next change point as a \"phase\" in this analysis."
   ]
  },
  {
   "cell_type": "code",
   "execution_count": 6,
   "metadata": {
    "execution": {
     "iopub.execute_input": "2021-02-28T18:04:32.394788Z",
     "iopub.status.busy": "2021-02-28T18:04:32.394192Z",
     "iopub.status.idle": "2021-02-28T18:04:34.953006Z",
     "shell.execute_reply": "2021-02-28T18:04:34.952405Z"
    },
    "tags": []
   },
   "outputs": [
    {
     "data": {
      "image/png": "[encoded data removed]",
      "text/plain": [
       "<Figure size 648x432 with 1 Axes>"
      ]
     },
     "metadata": {
      "needs_background": "light"
     },
     "output_type": "display_data"
    },
    {
     "data": {
      "text/html": [
       "<div>\n",
       "<style scoped>\n",
       "    .dataframe tbody tr th:only-of-type {\n",
       "        vertical-align: middle;\n",
       "    }\n",
       "\n",
       "    .dataframe tbody tr th {\n",
       "        vertical-align: top;\n",
       "    }\n",
       "\n",
       "    .dataframe thead th {\n",
       "        text-align: right;\n",
       "    }\n",
       "</style>\n",
       "<table border=\"1\" class=\"dataframe\">\n",
       "  <thead>\n",
       "    <tr style=\"text-align: right;\">\n",
       "      <th></th>\n",
       "      <th>Type</th>\n",
       "      <th>Start</th>\n",
       "      <th>End</th>\n",
       "      <th>Population</th>\n",
       "    </tr>\n",
       "  </thead>\n",
       "  <tbody>\n",
       "    <tr>\n",
       "      <th>0th</th>\n",
       "      <td>Past</td>\n",
       "      <td>01Mar2020</td>\n",
       "      <td>02May2020</td>\n",
       "      <td>1352617328</td>\n",
       "    </tr>\n",
       "    <tr>\n",
       "      <th>1st</th>\n",
       "      <td>Past</td>\n",
       "      <td>03May2020</td>\n",
       "      <td>19May2020</td>\n",
       "      <td>1352617328</td>\n",
       "    </tr>\n",
       "    <tr>\n",
       "      <th>2nd</th>\n",
       "      <td>Past</td>\n",
       "      <td>20May2020</td>\n",
       "      <td>31May2020</td>\n",
       "      <td>1352617328</td>\n",
       "    </tr>\n",
       "    <tr>\n",
       "      <th>3rd</th>\n",
       "      <td>Past</td>\n",
       "      <td>01Jun2020</td>\n",
       "      <td>09Jun2020</td>\n",
       "      <td>1352617328</td>\n",
       "    </tr>\n",
       "    <tr>\n",
       "      <th>4th</th>\n",
       "      <td>Past</td>\n",
       "      <td>10Jun2020</td>\n",
       "      <td>17Jun2020</td>\n",
       "      <td>1352617328</td>\n",
       "    </tr>\n",
       "    <tr>\n",
       "      <th>5th</th>\n",
       "      <td>Past</td>\n",
       "      <td>18Jun2020</td>\n",
       "      <td>24Jun2020</td>\n",
       "      <td>1352617328</td>\n",
       "    </tr>\n",
       "    <tr>\n",
       "      <th>6th</th>\n",
       "      <td>Past</td>\n",
       "      <td>25Jun2020</td>\n",
       "      <td>30Jun2020</td>\n",
       "      <td>1352617328</td>\n",
       "    </tr>\n",
       "    <tr>\n",
       "      <th>7th</th>\n",
       "      <td>Past</td>\n",
       "      <td>01Jul2020</td>\n",
       "      <td>16Jul2020</td>\n",
       "      <td>1352617328</td>\n",
       "    </tr>\n",
       "  </tbody>\n",
       "</table>\n",
       "</div>"
      ],
      "text/plain": [
       "     Type      Start        End  Population\n",
       "0th  Past  01Mar2020  02May2020  1352617328\n",
       "1st  Past  03May2020  19May2020  1352617328\n",
       "2nd  Past  20May2020  31May2020  1352617328\n",
       "3rd  Past  01Jun2020  09Jun2020  1352617328\n",
       "4th  Past  10Jun2020  17Jun2020  1352617328\n",
       "5th  Past  18Jun2020  24Jun2020  1352617328\n",
       "6th  Past  25Jun2020  30Jun2020  1352617328\n",
       "7th  Past  01Jul2020  16Jul2020  1352617328"
      ]
     },
     "execution_count": 1,
     "metadata": {},
     "output_type": "execute_result"
    }
   ],
   "source": [
    "# Set phase with S-R trend analysis\n",
    "snl.trend()\n",
    "snl.summary()\n",
    "# If necessary, initial (0th) phase can be disabled\n",
    "# scenario.disable(phases=[\"0th\"])"
   ]
  },
  {
   "cell_type": "markdown",
   "metadata": {},
   "source": [
    "## Remove un-necessary change points manually\n",
    "The slope of 4th phase seems to equal to that of 3rd phase. Here, we will combine 3rd phase and 4th phase here and reset phase names."
   ]
  },
  {
   "cell_type": "code",
   "execution_count": 7,
   "metadata": {
    "execution": {
     "iopub.execute_input": "2021-02-28T18:04:34.959047Z",
     "iopub.status.busy": "2021-02-28T18:04:34.958309Z",
     "iopub.status.idle": "2021-02-28T18:04:36.505247Z",
     "shell.execute_reply": "2021-02-28T18:04:36.503904Z"
    },
    "tags": []
   },
   "outputs": [
    {
     "data": {
      "text/html": [
       "<div>\n",
       "<style scoped>\n",
       "    .dataframe tbody tr th:only-of-type {\n",
       "        vertical-align: middle;\n",
       "    }\n",
       "\n",
       "    .dataframe tbody tr th {\n",
       "        vertical-align: top;\n",
       "    }\n",
       "\n",
       "    .dataframe thead th {\n",
       "        text-align: right;\n",
       "    }\n",
       "</style>\n",
       "<table border=\"1\" class=\"dataframe\">\n",
       "  <thead>\n",
       "    <tr style=\"text-align: right;\">\n",
       "      <th></th>\n",
       "      <th>Type</th>\n",
       "      <th>Start</th>\n",
       "      <th>End</th>\n",
       "      <th>Population</th>\n",
       "    </tr>\n",
       "  </thead>\n",
       "  <tbody>\n",
       "    <tr>\n",
       "      <th>0th</th>\n",
       "      <td>Past</td>\n",
       "      <td>01Mar2020</td>\n",
       "      <td>02May2020</td>\n",
       "      <td>1352617328</td>\n",
       "    </tr>\n",
       "    <tr>\n",
       "      <th>1st</th>\n",
       "      <td>Past</td>\n",
       "      <td>03May2020</td>\n",
       "      <td>19May2020</td>\n",
       "      <td>1352617328</td>\n",
       "    </tr>\n",
       "    <tr>\n",
       "      <th>2nd</th>\n",
       "      <td>Past</td>\n",
       "      <td>20May2020</td>\n",
       "      <td>31May2020</td>\n",
       "      <td>1352617328</td>\n",
       "    </tr>\n",
       "    <tr>\n",
       "      <th>3rd</th>\n",
       "      <td>Past</td>\n",
       "      <td>01Jun2020</td>\n",
       "      <td>17Jun2020</td>\n",
       "      <td>1352617328</td>\n",
       "    </tr>\n",
       "    <tr>\n",
       "      <th>4th</th>\n",
       "      <td>Past</td>\n",
       "      <td>18Jun2020</td>\n",
       "      <td>24Jun2020</td>\n",
       "      <td>1352617328</td>\n",
       "    </tr>\n",
       "    <tr>\n",
       "      <th>5th</th>\n",
       "      <td>Past</td>\n",
       "      <td>25Jun2020</td>\n",
       "      <td>30Jun2020</td>\n",
       "      <td>1352617328</td>\n",
       "    </tr>\n",
       "    <tr>\n",
       "      <th>6th</th>\n",
       "      <td>Past</td>\n",
       "      <td>01Jul2020</td>\n",
       "      <td>16Jul2020</td>\n",
       "      <td>1352617328</td>\n",
       "    </tr>\n",
       "  </tbody>\n",
       "</table>\n",
       "</div>"
      ],
      "text/plain": [
       "     Type      Start        End  Population\n",
       "0th  Past  01Mar2020  02May2020  1352617328\n",
       "1st  Past  03May2020  19May2020  1352617328\n",
       "2nd  Past  20May2020  31May2020  1352617328\n",
       "3rd  Past  01Jun2020  17Jun2020  1352617328\n",
       "4th  Past  18Jun2020  24Jun2020  1352617328\n",
       "5th  Past  25Jun2020  30Jun2020  1352617328\n",
       "6th  Past  01Jul2020  16Jul2020  1352617328"
      ]
     },
     "execution_count": 1,
     "metadata": {},
     "output_type": "execute_result"
    }
   ],
   "source": [
    "# Before: 3rd is 12Jun2020-19Jun2020, 4th is 20Jun2020-29Jun2020\n",
    "# After: 3rd is 12Jun2020-29Jun2020, 4th is the same as old 5th\n",
    "snl.combine(phases=[\"3rd\", \"4th\"])\n",
    "snl.summary()"
   ]
  },
  {
   "cell_type": "markdown",
   "metadata": {},
   "source": [
    "Show the trend with manually set change points."
   ]
  },
  {
   "cell_type": "code",
   "execution_count": 8,
   "metadata": {
    "execution": {
     "iopub.execute_input": "2021-02-28T18:04:36.558346Z",
     "iopub.status.busy": "2021-02-28T18:04:36.557740Z",
     "iopub.status.idle": "2021-02-28T18:04:38.759211Z",
     "shell.execute_reply": "2021-02-28T18:04:38.759648Z"
    },
    "tags": []
   },
   "outputs": [
    {
     "data": {
      "image/png": "[encoded data removed]",
      "text/plain": [
       "<Figure size 648x432 with 1 Axes>"
      ]
     },
     "metadata": {
      "needs_background": "light"
     },
     "output_type": "display_data"
    },
    {
     "data": {
      "text/plain": [
       "<covsirphy.analysis.scenario.Scenario at 0x7ff94c080760>"
      ]
     },
     "execution_count": 1,
     "metadata": {},
     "output_type": "execute_result"
    }
   ],
   "source": [
    "snl.trend(force=False)"
   ]
  },
  {
   "cell_type": "markdown",
   "metadata": {},
   "source": [
    "## Separate phases manually\n",
    "Because point of $(x, y) = (S, R)$ jumped on 29May2020, we will separete the 1st phase with this change point and reset phase names."
   ]
  },
  {
   "cell_type": "code",
   "execution_count": 9,
   "metadata": {
    "execution": {
     "iopub.execute_input": "2021-02-28T18:04:38.765967Z",
     "iopub.status.busy": "2021-02-28T18:04:38.765368Z",
     "iopub.status.idle": "2021-02-28T18:04:40.291314Z",
     "shell.execute_reply": "2021-02-28T18:04:40.292279Z"
    },
    "tags": []
   },
   "outputs": [
    {
     "data": {
      "text/html": [
       "<div>\n",
       "<style scoped>\n",
       "    .dataframe tbody tr th:only-of-type {\n",
       "        vertical-align: middle;\n",
       "    }\n",
       "\n",
       "    .dataframe tbody tr th {\n",
       "        vertical-align: top;\n",
       "    }\n",
       "\n",
       "    .dataframe thead th {\n",
       "        text-align: right;\n",
       "    }\n",
       "</style>\n",
       "<table border=\"1\" class=\"dataframe\">\n",
       "  <thead>\n",
       "    <tr style=\"text-align: right;\">\n",
       "      <th></th>\n",
       "      <th>Type</th>\n",
       "      <th>Start</th>\n",
       "      <th>End</th>\n",
       "      <th>Population</th>\n",
       "    </tr>\n",
       "  </thead>\n",
       "  <tbody>\n",
       "    <tr>\n",
       "      <th>0th</th>\n",
       "      <td>Past</td>\n",
       "      <td>01Mar2020</td>\n",
       "      <td>02May2020</td>\n",
       "      <td>1352617328</td>\n",
       "    </tr>\n",
       "    <tr>\n",
       "      <th>1st</th>\n",
       "      <td>Past</td>\n",
       "      <td>03May2020</td>\n",
       "      <td>19May2020</td>\n",
       "      <td>1352617328</td>\n",
       "    </tr>\n",
       "    <tr>\n",
       "      <th>2nd</th>\n",
       "      <td>Past</td>\n",
       "      <td>20May2020</td>\n",
       "      <td>28May2020</td>\n",
       "      <td>1352617328</td>\n",
       "    </tr>\n",
       "    <tr>\n",
       "      <th>3rd</th>\n",
       "      <td>Past</td>\n",
       "      <td>29May2020</td>\n",
       "      <td>31May2020</td>\n",
       "      <td>1352617328</td>\n",
       "    </tr>\n",
       "    <tr>\n",
       "      <th>4th</th>\n",
       "      <td>Past</td>\n",
       "      <td>01Jun2020</td>\n",
       "      <td>17Jun2020</td>\n",
       "      <td>1352617328</td>\n",
       "    </tr>\n",
       "    <tr>\n",
       "      <th>5th</th>\n",
       "      <td>Past</td>\n",
       "      <td>18Jun2020</td>\n",
       "      <td>24Jun2020</td>\n",
       "      <td>1352617328</td>\n",
       "    </tr>\n",
       "    <tr>\n",
       "      <th>6th</th>\n",
       "      <td>Past</td>\n",
       "      <td>25Jun2020</td>\n",
       "      <td>30Jun2020</td>\n",
       "      <td>1352617328</td>\n",
       "    </tr>\n",
       "    <tr>\n",
       "      <th>7th</th>\n",
       "      <td>Past</td>\n",
       "      <td>01Jul2020</td>\n",
       "      <td>16Jul2020</td>\n",
       "      <td>1352617328</td>\n",
       "    </tr>\n",
       "  </tbody>\n",
       "</table>\n",
       "</div>"
      ],
      "text/plain": [
       "     Type      Start        End  Population\n",
       "0th  Past  01Mar2020  02May2020  1352617328\n",
       "1st  Past  03May2020  19May2020  1352617328\n",
       "2nd  Past  20May2020  28May2020  1352617328\n",
       "3rd  Past  29May2020  31May2020  1352617328\n",
       "4th  Past  01Jun2020  17Jun2020  1352617328\n",
       "5th  Past  18Jun2020  24Jun2020  1352617328\n",
       "6th  Past  25Jun2020  30Jun2020  1352617328\n",
       "7th  Past  01Jul2020  16Jul2020  1352617328"
      ]
     },
     "execution_count": 1,
     "metadata": {},
     "output_type": "execute_result"
    }
   ],
   "source": [
    "# Before: 1st is 20May2020-02Jun2020\n",
    "# After: 1st is 20May2020-28May2020, 2nd is 29May2020-02Jun2020\n",
    "snl.separate(date=\"29May2020\", phase=\"1st\")\n",
    "snl.summary()"
   ]
  },
  {
   "cell_type": "code",
   "execution_count": 10,
   "metadata": {
    "execution": {
     "iopub.execute_input": "2021-02-28T18:04:40.343149Z",
     "iopub.status.busy": "2021-02-28T18:04:40.317923Z",
     "iopub.status.idle": "2021-02-28T18:04:42.575027Z",
     "shell.execute_reply": "2021-02-28T18:04:42.574404Z"
    },
    "tags": []
   },
   "outputs": [
    {
     "data": {
      "image/png": "[encoded data removed]",
      "text/plain": [
       "<Figure size 648x432 with 1 Axes>"
      ]
     },
     "metadata": {
      "needs_background": "light"
     },
     "output_type": "display_data"
    },
    {
     "data": {
      "text/plain": [
       "<covsirphy.analysis.scenario.Scenario at 0x7ff94c080760>"
      ]
     },
     "execution_count": 1,
     "metadata": {},
     "output_type": "execute_result"
    }
   ],
   "source": [
    "snl.trend(force=False)"
   ]
  },
  {
   "cell_type": "markdown",
   "metadata": {},
   "source": [
    "## Disable/enable phases manually\n",
    "Phases can be disable for parameter eatimation. Disabled phases can be enabled with `Scenario.enable()` method."
   ]
  },
  {
   "cell_type": "code",
   "execution_count": 11,
   "metadata": {
    "execution": {
     "iopub.execute_input": "2021-02-28T18:04:42.579090Z",
     "iopub.status.busy": "2021-02-28T18:04:42.578477Z",
     "iopub.status.idle": "2021-02-28T18:04:44.064691Z",
     "shell.execute_reply": "2021-02-28T18:04:44.064130Z"
    }
   },
   "outputs": [
    {
     "data": {
      "text/html": [
       "<div>\n",
       "<style scoped>\n",
       "    .dataframe tbody tr th:only-of-type {\n",
       "        vertical-align: middle;\n",
       "    }\n",
       "\n",
       "    .dataframe tbody tr th {\n",
       "        vertical-align: top;\n",
       "    }\n",
       "\n",
       "    .dataframe thead th {\n",
       "        text-align: right;\n",
       "    }\n",
       "</style>\n",
       "<table border=\"1\" class=\"dataframe\">\n",
       "  <thead>\n",
       "    <tr style=\"text-align: right;\">\n",
       "      <th></th>\n",
       "      <th>Type</th>\n",
       "      <th>Start</th>\n",
       "      <th>End</th>\n",
       "      <th>Population</th>\n",
       "    </tr>\n",
       "  </thead>\n",
       "  <tbody>\n",
       "    <tr>\n",
       "      <th>1st</th>\n",
       "      <td>Past</td>\n",
       "      <td>03May2020</td>\n",
       "      <td>19May2020</td>\n",
       "      <td>1352617328</td>\n",
       "    </tr>\n",
       "    <tr>\n",
       "      <th>2nd</th>\n",
       "      <td>Past</td>\n",
       "      <td>20May2020</td>\n",
       "      <td>28May2020</td>\n",
       "      <td>1352617328</td>\n",
       "    </tr>\n",
       "    <tr>\n",
       "      <th>3rd</th>\n",
       "      <td>Past</td>\n",
       "      <td>29May2020</td>\n",
       "      <td>31May2020</td>\n",
       "      <td>1352617328</td>\n",
       "    </tr>\n",
       "    <tr>\n",
       "      <th>4th</th>\n",
       "      <td>Past</td>\n",
       "      <td>01Jun2020</td>\n",
       "      <td>17Jun2020</td>\n",
       "      <td>1352617328</td>\n",
       "    </tr>\n",
       "    <tr>\n",
       "      <th>5th</th>\n",
       "      <td>Past</td>\n",
       "      <td>18Jun2020</td>\n",
       "      <td>24Jun2020</td>\n",
       "      <td>1352617328</td>\n",
       "    </tr>\n",
       "    <tr>\n",
       "      <th>6th</th>\n",
       "      <td>Past</td>\n",
       "      <td>25Jun2020</td>\n",
       "      <td>30Jun2020</td>\n",
       "      <td>1352617328</td>\n",
       "    </tr>\n",
       "    <tr>\n",
       "      <th>7th</th>\n",
       "      <td>Past</td>\n",
       "      <td>01Jul2020</td>\n",
       "      <td>16Jul2020</td>\n",
       "      <td>1352617328</td>\n",
       "    </tr>\n",
       "  </tbody>\n",
       "</table>\n",
       "</div>"
      ],
      "text/plain": [
       "     Type      Start        End  Population\n",
       "1st  Past  03May2020  19May2020  1352617328\n",
       "2nd  Past  20May2020  28May2020  1352617328\n",
       "3rd  Past  29May2020  31May2020  1352617328\n",
       "4th  Past  01Jun2020  17Jun2020  1352617328\n",
       "5th  Past  18Jun2020  24Jun2020  1352617328\n",
       "6th  Past  25Jun2020  30Jun2020  1352617328\n",
       "7th  Past  01Jul2020  16Jul2020  1352617328"
      ]
     },
     "execution_count": 1,
     "metadata": {},
     "output_type": "execute_result"
    }
   ],
   "source": [
    "# Disable 0th phase\n",
    "snl.disable(phases=[\"0th\"])\n",
    "snl.summary()"
   ]
  },
  {
   "cell_type": "code",
   "execution_count": 12,
   "metadata": {
    "execution": {
     "iopub.execute_input": "2021-02-28T18:04:44.104867Z",
     "iopub.status.busy": "2021-02-28T18:04:44.104324Z",
     "iopub.status.idle": "2021-02-28T18:04:46.316551Z",
     "shell.execute_reply": "2021-02-28T18:04:46.315969Z"
    }
   },
   "outputs": [
    {
     "data": {
      "image/png": "[encoded data removed]",
      "text/plain": [
       "<Figure size 648x432 with 1 Axes>"
      ]
     },
     "metadata": {
      "needs_background": "light"
     },
     "output_type": "display_data"
    },
    {
     "data": {
      "text/plain": [
       "<covsirphy.analysis.scenario.Scenario at 0x7ff94c080760>"
      ]
     },
     "execution_count": 1,
     "metadata": {},
     "output_type": "execute_result"
    }
   ],
   "source": [
    "snl.trend(force=False)"
   ]
  },
  {
   "cell_type": "code",
   "execution_count": 13,
   "metadata": {
    "execution": {
     "iopub.execute_input": "2021-02-28T18:04:46.320584Z",
     "iopub.status.busy": "2021-02-28T18:04:46.319993Z",
     "iopub.status.idle": "2021-02-28T18:04:47.846264Z",
     "shell.execute_reply": "2021-02-28T18:04:47.845695Z"
    }
   },
   "outputs": [
    {
     "data": {
      "text/html": [
       "<div>\n",
       "<style scoped>\n",
       "    .dataframe tbody tr th:only-of-type {\n",
       "        vertical-align: middle;\n",
       "    }\n",
       "\n",
       "    .dataframe tbody tr th {\n",
       "        vertical-align: top;\n",
       "    }\n",
       "\n",
       "    .dataframe thead th {\n",
       "        text-align: right;\n",
       "    }\n",
       "</style>\n",
       "<table border=\"1\" class=\"dataframe\">\n",
       "  <thead>\n",
       "    <tr style=\"text-align: right;\">\n",
       "      <th></th>\n",
       "      <th>Type</th>\n",
       "      <th>Start</th>\n",
       "      <th>End</th>\n",
       "      <th>Population</th>\n",
       "    </tr>\n",
       "  </thead>\n",
       "  <tbody>\n",
       "    <tr>\n",
       "      <th>0th</th>\n",
       "      <td>Past</td>\n",
       "      <td>01Mar2020</td>\n",
       "      <td>02May2020</td>\n",
       "      <td>1352617328</td>\n",
       "    </tr>\n",
       "    <tr>\n",
       "      <th>1st</th>\n",
       "      <td>Past</td>\n",
       "      <td>03May2020</td>\n",
       "      <td>19May2020</td>\n",
       "      <td>1352617328</td>\n",
       "    </tr>\n",
       "    <tr>\n",
       "      <th>2nd</th>\n",
       "      <td>Past</td>\n",
       "      <td>20May2020</td>\n",
       "      <td>28May2020</td>\n",
       "      <td>1352617328</td>\n",
       "    </tr>\n",
       "    <tr>\n",
       "      <th>3rd</th>\n",
       "      <td>Past</td>\n",
       "      <td>29May2020</td>\n",
       "      <td>31May2020</td>\n",
       "      <td>1352617328</td>\n",
       "    </tr>\n",
       "    <tr>\n",
       "      <th>4th</th>\n",
       "      <td>Past</td>\n",
       "      <td>01Jun2020</td>\n",
       "      <td>17Jun2020</td>\n",
       "      <td>1352617328</td>\n",
       "    </tr>\n",
       "    <tr>\n",
       "      <th>5th</th>\n",
       "      <td>Past</td>\n",
       "      <td>18Jun2020</td>\n",
       "      <td>24Jun2020</td>\n",
       "      <td>1352617328</td>\n",
       "    </tr>\n",
       "    <tr>\n",
       "      <th>6th</th>\n",
       "      <td>Past</td>\n",
       "      <td>25Jun2020</td>\n",
       "      <td>30Jun2020</td>\n",
       "      <td>1352617328</td>\n",
       "    </tr>\n",
       "    <tr>\n",
       "      <th>7th</th>\n",
       "      <td>Past</td>\n",
       "      <td>01Jul2020</td>\n",
       "      <td>16Jul2020</td>\n",
       "      <td>1352617328</td>\n",
       "    </tr>\n",
       "  </tbody>\n",
       "</table>\n",
       "</div>"
      ],
      "text/plain": [
       "     Type      Start        End  Population\n",
       "0th  Past  01Mar2020  02May2020  1352617328\n",
       "1st  Past  03May2020  19May2020  1352617328\n",
       "2nd  Past  20May2020  28May2020  1352617328\n",
       "3rd  Past  29May2020  31May2020  1352617328\n",
       "4th  Past  01Jun2020  17Jun2020  1352617328\n",
       "5th  Past  18Jun2020  24Jun2020  1352617328\n",
       "6th  Past  25Jun2020  30Jun2020  1352617328\n",
       "7th  Past  01Jul2020  16Jul2020  1352617328"
      ]
     },
     "execution_count": 1,
     "metadata": {},
     "output_type": "execute_result"
    }
   ],
   "source": [
    "# Enable 0th phase\n",
    "snl.enable(phases=[\"0th\"])\n",
    "snl.summary()"
   ]
  },
  {
   "cell_type": "markdown",
   "metadata": {},
   "source": [
    "## Add phases one by one\n",
    "In the previous sections, we started with S-R trend analysis. We can create phases without this analysis when you have a new idea to find change points."
   ]
  },
  {
   "cell_type": "code",
   "execution_count": 14,
   "metadata": {
    "execution": {
     "iopub.execute_input": "2021-02-28T18:04:47.850812Z",
     "iopub.status.busy": "2021-02-28T18:04:47.849729Z",
     "iopub.status.idle": "2021-02-28T18:04:49.306927Z",
     "shell.execute_reply": "2021-02-28T18:04:49.306088Z"
    }
   },
   "outputs": [
    {
     "data": {
      "text/html": [
       "<div>\n",
       "<style scoped>\n",
       "    .dataframe tbody tr th:only-of-type {\n",
       "        vertical-align: middle;\n",
       "    }\n",
       "\n",
       "    .dataframe tbody tr th {\n",
       "        vertical-align: top;\n",
       "    }\n",
       "\n",
       "    .dataframe thead th {\n",
       "        text-align: right;\n",
       "    }\n",
       "</style>\n",
       "<table border=\"1\" class=\"dataframe\">\n",
       "  <thead>\n",
       "    <tr style=\"text-align: right;\">\n",
       "      <th></th>\n",
       "    </tr>\n",
       "  </thead>\n",
       "  <tbody>\n",
       "  </tbody>\n",
       "</table>\n",
       "</div>"
      ],
      "text/plain": [
       "Empty DataFrame\n",
       "Columns: []\n",
       "Index: []"
      ]
     },
     "execution_count": 1,
     "metadata": {},
     "output_type": "execute_result"
    }
   ],
   "source": [
    "# Clear all phases\n",
    "snl.clear(include_past=True).summary()"
   ]
  },
  {
   "cell_type": "code",
   "execution_count": 15,
   "metadata": {
    "execution": {
     "iopub.execute_input": "2021-02-28T18:04:49.318488Z",
     "iopub.status.busy": "2021-02-28T18:04:49.317820Z",
     "iopub.status.idle": "2021-02-28T18:04:50.887805Z",
     "shell.execute_reply": "2021-02-28T18:04:50.887240Z"
    }
   },
   "outputs": [
    {
     "data": {
      "text/html": [
       "<div>\n",
       "<style scoped>\n",
       "    .dataframe tbody tr th:only-of-type {\n",
       "        vertical-align: middle;\n",
       "    }\n",
       "\n",
       "    .dataframe tbody tr th {\n",
       "        vertical-align: top;\n",
       "    }\n",
       "\n",
       "    .dataframe thead th {\n",
       "        text-align: right;\n",
       "    }\n",
       "</style>\n",
       "<table border=\"1\" class=\"dataframe\">\n",
       "  <thead>\n",
       "    <tr style=\"text-align: right;\">\n",
       "      <th></th>\n",
       "      <th>Type</th>\n",
       "      <th>Start</th>\n",
       "      <th>End</th>\n",
       "      <th>Population</th>\n",
       "    </tr>\n",
       "  </thead>\n",
       "  <tbody>\n",
       "    <tr>\n",
       "      <th>1st</th>\n",
       "      <td>Past</td>\n",
       "      <td>20May2020</td>\n",
       "      <td>28May2020</td>\n",
       "      <td>1352617328</td>\n",
       "    </tr>\n",
       "    <tr>\n",
       "      <th>2nd</th>\n",
       "      <td>Past</td>\n",
       "      <td>29May2020</td>\n",
       "      <td>02Jun2020</td>\n",
       "      <td>1352617328</td>\n",
       "    </tr>\n",
       "    <tr>\n",
       "      <th>3rd</th>\n",
       "      <td>Past</td>\n",
       "      <td>03Jun2020</td>\n",
       "      <td>11Jun2020</td>\n",
       "      <td>1352617328</td>\n",
       "    </tr>\n",
       "    <tr>\n",
       "      <th>4th</th>\n",
       "      <td>Past</td>\n",
       "      <td>12Jun2020</td>\n",
       "      <td>29Jun2020</td>\n",
       "      <td>1352617328</td>\n",
       "    </tr>\n",
       "    <tr>\n",
       "      <th>5th</th>\n",
       "      <td>Past</td>\n",
       "      <td>30Jun2020</td>\n",
       "      <td>16Jul2020</td>\n",
       "      <td>1352617328</td>\n",
       "    </tr>\n",
       "  </tbody>\n",
       "</table>\n",
       "</div>"
      ],
      "text/plain": [
       "     Type      Start        End  Population\n",
       "1st  Past  20May2020  28May2020  1352617328\n",
       "2nd  Past  29May2020  02Jun2020  1352617328\n",
       "3rd  Past  03Jun2020  11Jun2020  1352617328\n",
       "4th  Past  12Jun2020  29Jun2020  1352617328\n",
       "5th  Past  30Jun2020  16Jul2020  1352617328"
      ]
     },
     "execution_count": 1,
     "metadata": {},
     "output_type": "execute_result"
    }
   ],
   "source": [
    "# Set 0th phase to set the start date of 1st phase\n",
    "snl.add(end_date=\"19May2020\")\n",
    "# Add 1st phase and disable 0th phase\n",
    "snl.add(end_date=\"28May2020\").disable(phases=[\"0th\"])\n",
    "# Add 2nd phase\n",
    "snl.add(end_date=\"02Jun2020\")\n",
    "# Add 3rd phase\n",
    "snl.add(end_date=\"11Jun2020\")\n",
    "# Add 4th phase\n",
    "snl.add(end_date=\"29Jun2020\")\n",
    "# Add 5th phase to the last of the records\n",
    "snl.add().summary()"
   ]
  }
 ],
 "metadata": {
  "kernelspec": {
   "display_name": "Python 3.9.1 64-bit ('.venv')",
   "metadata": {
    "interpreter": {
     "hash": "aa53c8c6e6798222a2084c11cc25017700a8d3ad495b587e3a634f357767115f"
    }
   },
   "name": "python3"
  },
  "language_info": {
   "codemirror_mode": {
    "name": "ipython",
    "version": 3
   },
   "file_extension": ".py",
   "mimetype": "text/x-python",
   "name": "python",
   "nbconvert_exporter": "python",
   "pygments_lexer": "ipython3",
   "version": "3.9.1"
  }
 },
 "nbformat": 4,
 "nbformat_minor": 2
}
